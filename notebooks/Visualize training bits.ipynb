{
 "cells": [
  {
   "cell_type": "code",
   "execution_count": 1,
   "id": "0e5dcd72-30cd-4b1e-beb9-fafbac0cca4d",
   "metadata": {},
   "outputs": [],
   "source": [
    "from pathlib import Path\n",
    "import sys\n",
    "\n",
    "sys.path.append(str(Path('').absolute().parent))"
   ]
  },
  {
   "cell_type": "code",
   "execution_count": 2,
   "id": "4325efde-64ff-43af-a466-dfc9153f966c",
   "metadata": {},
   "outputs": [],
   "source": [
    "from pathlib import Path\n",
    "import numpy as np\n",
    "import pandas as pd\n",
    "from scripts.morgan_handler import get_morgan_fingerprints\n",
    "import json\n",
    "from sklearn.model_selection import train_test_split"
   ]
  },
  {
   "cell_type": "code",
   "execution_count": 3,
   "id": "b7b1bf07-7eb4-4dec-a9b1-9eb0238c0c10",
   "metadata": {},
   "outputs": [],
   "source": [
    "ROOT = Path('.').absolute().parent \n",
    "data_dir = ROOT / 'data'"
   ]
  },
  {
   "cell_type": "markdown",
   "id": "2e95012c-e16d-4ace-b8fa-a4299e27a14a",
   "metadata": {},
   "source": [
    "# Visualizar bits"
   ]
  },
  {
   "cell_type": "code",
   "execution_count": 4,
   "id": "4682e24e-7a45-4d01-850b-2a2cd8ba4fd0",
   "metadata": {},
   "outputs": [],
   "source": [
    "from rdkit import Chem\n",
    "from rdkit.Chem.Draw import IPythonConsole\n",
    "from rdkit.Chem import (Draw,\n",
    "                        Descriptors,\n",
    "                        AllChem)"
   ]
  },
  {
   "cell_type": "code",
   "execution_count": 5,
   "id": "18cc1a4f-31a7-4d3a-ae30-dfde76c4e031",
   "metadata": {},
   "outputs": [
    {
     "data": {
      "text/html": [
       "<div>\n",
       "<style scoped>\n",
       "    .dataframe tbody tr th:only-of-type {\n",
       "        vertical-align: middle;\n",
       "    }\n",
       "\n",
       "    .dataframe tbody tr th {\n",
       "        vertical-align: top;\n",
       "    }\n",
       "\n",
       "    .dataframe thead th {\n",
       "        text-align: right;\n",
       "    }\n",
       "</style>\n",
       "<table border=\"1\" class=\"dataframe\">\n",
       "  <thead>\n",
       "    <tr style=\"text-align: right;\">\n",
       "      <th></th>\n",
       "      <th>chembid</th>\n",
       "      <th>smiles_notation</th>\n",
       "    </tr>\n",
       "  </thead>\n",
       "  <tbody>\n",
       "    <tr>\n",
       "      <th>0</th>\n",
       "      <td>CHEMBL301018</td>\n",
       "      <td>COc1cc2ncnc(Nc3ccc(F)c(Cl)c3)c2cc1OC</td>\n",
       "    </tr>\n",
       "    <tr>\n",
       "      <th>1</th>\n",
       "      <td>CHEMBL281543</td>\n",
       "      <td>C=CC(=O)Nc1nc2c(Nc3ccc(F)c(Cl)c3)ncnc2cc1CCCCN...</td>\n",
       "    </tr>\n",
       "    <tr>\n",
       "      <th>2</th>\n",
       "      <td>CHEMBL401930</td>\n",
       "      <td>Cc1cc(N2CCOCC2)cc2[nH]c(-c3c(NC[C@@H](O)c4cccc...</td>\n",
       "    </tr>\n",
       "    <tr>\n",
       "      <th>3</th>\n",
       "      <td>CHEMBL274654</td>\n",
       "      <td>Cc1[nH]c(/C=C2\\C(=O)Nc3ccccc32)c(C)c1CCC(=O)O</td>\n",
       "    </tr>\n",
       "    <tr>\n",
       "      <th>4</th>\n",
       "      <td>CHEMBL382822</td>\n",
       "      <td>COc1cc2ncnc(Nc3cccc(Cl)c3F)c2cc1CN1CCC[C@@H]1C...</td>\n",
       "    </tr>\n",
       "  </tbody>\n",
       "</table>\n",
       "</div>"
      ],
      "text/plain": [
       "        chembid                                    smiles_notation\n",
       "0  CHEMBL301018               COc1cc2ncnc(Nc3ccc(F)c(Cl)c3)c2cc1OC\n",
       "1  CHEMBL281543  C=CC(=O)Nc1nc2c(Nc3ccc(F)c(Cl)c3)ncnc2cc1CCCCN...\n",
       "2  CHEMBL401930  Cc1cc(N2CCOCC2)cc2[nH]c(-c3c(NC[C@@H](O)c4cccc...\n",
       "3  CHEMBL274654      Cc1[nH]c(/C=C2\\C(=O)Nc3ccccc32)c(C)c1CCC(=O)O\n",
       "4  CHEMBL382822  COc1cc2ncnc(Nc3cccc(Cl)c3F)c2cc1CN1CCC[C@@H]1C..."
      ]
     },
     "execution_count": 5,
     "metadata": {},
     "output_type": "execute_result"
    }
   ],
   "source": [
    "df_smiles = pd.read_csv(data_dir / 'egfr_erbB1_smiles.csv', index_col=0)\n",
    "df_smiles.head()"
   ]
  },
  {
   "cell_type": "code",
   "execution_count": 6,
   "id": "2c253380-bbfb-4edf-a59f-7b168f77a54e",
   "metadata": {},
   "outputs": [],
   "source": [
    "with open(data_dir / 'bit_info.json', 'r') as file:\n",
    "    chembl_to_bitinfo = json.load(file)"
   ]
  },
  {
   "cell_type": "code",
   "execution_count": 7,
   "id": "84159cdc-af53-4620-b0fd-b42696da6230",
   "metadata": {},
   "outputs": [],
   "source": [
    "# funções de conveniência\n",
    "def get_mol(chembl, df_smiles):\n",
    "    smiles = df_smiles[df_smiles['chembid'] == chembl].iloc[0,1]\n",
    "    mol = Chem.MolFromSmiles(smiles)\n",
    "    return mol\n",
    "\n",
    "def plot_activated_bit(chembl, bit_index, df_smiles):\n",
    "    mol = get_mol(chembl, df_smiles)\n",
    "    bit_info = chembl_to_bitinfo[chembl]        \n",
    "    if not bit_info.get(str(bit_index), None):        \n",
    "        return None\n",
    "    \n",
    "    mgfp_bit = AllChem.GetMorganFingerprintAsBitVect(mol, radius=2,\n",
    "                                                      nBits=2048,\n",
    "                                                      bitInfo=bit_info)\n",
    "\n",
    "    svg = Draw.DrawMorganBit(mol, bit_index, bit_info, useSVG=True)\n",
    "    return svg"
   ]
  },
  {
   "cell_type": "code",
   "execution_count": 9,
   "id": "62f2d619-74b1-4ee9-ad64-e175caea0ddc",
   "metadata": {},
   "outputs": [
    {
     "name": "stdout",
     "output_type": "stream",
     "text": [
      "Bit 1367 ----------------------------------------------\n"
     ]
    },
    {
     "data": {
      "image/svg+xml": [
       "<svg baseProfile=\"full\" height=\"150px\" version=\"1.1\" viewBox=\"0 0 150 150\" width=\"150px\" xml:space=\"preserve\" xmlns=\"http://www.w3.org/2000/svg\" xmlns:rdkit=\"http://www.rdkit.org/xml\" xmlns:xlink=\"http://www.w3.org/1999/xlink\">\n",
       "<!-- END OF HEADER -->\n",
       "<rect height=\"150\" style=\"opacity:1.0;fill:#FFFFFF;stroke:none\" width=\"150\" x=\"0\" y=\"0\"> </rect>\n",
       "<ellipse cx=\"23.5225\" cy=\"123.804\" rx=\"8.06307\" ry=\"8.06307\" style=\"fill:#E5E533;fill-rule:evenodd;stroke:#E5E533;stroke-width:2px;stroke-linecap:butt;stroke-linejoin:miter;stroke-opacity:1\"/>\n",
       "<ellipse cx=\"63.2644\" cy=\"130.579\" rx=\"8.06307\" ry=\"8.06307\" style=\"fill:#E5E533;fill-rule:evenodd;stroke:#E5E533;stroke-width:2px;stroke-linecap:butt;stroke-linejoin:miter;stroke-opacity:1\"/>\n",
       "<ellipse cx=\"89.0032\" cy=\"99.5494\" rx=\"8.06307\" ry=\"8.06307\" style=\"fill:#9999E5;fill-rule:evenodd;stroke:#9999E5;stroke-width:2px;stroke-linecap:butt;stroke-linejoin:miter;stroke-opacity:1\"/>\n",
       "<ellipse cx=\"75\" cy=\"61.7441\" rx=\"8.06307\" ry=\"8.06307\" style=\"fill:#E5E533;fill-rule:evenodd;stroke:#E5E533;stroke-width:2px;stroke-linecap:butt;stroke-linejoin:miter;stroke-opacity:1\"/>\n",
       "<ellipse cx=\"35.2581\" cy=\"54.9685\" rx=\"8.06307\" ry=\"8.06307\" style=\"fill:#E5E533;fill-rule:evenodd;stroke:#E5E533;stroke-width:2px;stroke-linecap:butt;stroke-linejoin:miter;stroke-opacity:1\"/>\n",
       "<path class=\"bond-0\" d=\"M 9.6776,86.4256 L 21.0389,117.098\" style=\"fill:none;fill-rule:evenodd;stroke:#E5E5E5;stroke-width:2.2px;stroke-linecap:butt;stroke-linejoin:miter;stroke-opacity:1\"/>\n",
       "<path class=\"bond-0\" d=\"M 18.9429,88.2259 L 26.8957,109.697\" style=\"fill:none;fill-rule:evenodd;stroke:#E5E5E5;stroke-width:2.2px;stroke-linecap:butt;stroke-linejoin:miter;stroke-opacity:1\"/>\n",
       "<path class=\"bond-8\" d=\"M 13.2283,81.5268 L 35.2581,54.9685\" style=\"fill:none;fill-rule:evenodd;stroke:#E5E5E5;stroke-width:2.2px;stroke-linecap:butt;stroke-linejoin:miter;stroke-opacity:1\"/>\n",
       "<path class=\"bond-1\" d=\"M 28.8602,124.714 L 46.0623,127.646\" style=\"fill:none;fill-rule:evenodd;stroke:#0000FF;stroke-width:2.0px;stroke-linecap:butt;stroke-linejoin:miter;stroke-opacity:1\"/>\n",
       "<path class=\"bond-1\" d=\"M 46.0623,127.646 L 63.2644,130.579\" style=\"fill:none;fill-rule:evenodd;stroke:#000000;stroke-width:2.0px;stroke-linecap:butt;stroke-linejoin:miter;stroke-opacity:1\"/>\n",
       "<path class=\"bond-2\" d=\"M 63.2644,130.579 L 73.4649,118.282\" style=\"fill:none;fill-rule:evenodd;stroke:#000000;stroke-width:2.0px;stroke-linecap:butt;stroke-linejoin:miter;stroke-opacity:1\"/>\n",
       "<path class=\"bond-2\" d=\"M 73.4649,118.282 L 83.6654,105.984\" style=\"fill:none;fill-rule:evenodd;stroke:#0000FF;stroke-width:2.0px;stroke-linecap:butt;stroke-linejoin:miter;stroke-opacity:1\"/>\n",
       "<path class=\"bond-2\" d=\"M 60.1186,121.742 L 67.259,113.134\" style=\"fill:none;fill-rule:evenodd;stroke:#000000;stroke-width:2.0px;stroke-linecap:butt;stroke-linejoin:miter;stroke-opacity:1\"/>\n",
       "<path class=\"bond-2\" d=\"M 67.259,113.134 L 74.3993,104.526\" style=\"fill:none;fill-rule:evenodd;stroke:#0000FF;stroke-width:2.0px;stroke-linecap:butt;stroke-linejoin:miter;stroke-opacity:1\"/>\n",
       "<path class=\"bond-3\" d=\"M 86.5153,92.8328 L 80.7577,77.2884\" style=\"fill:none;fill-rule:evenodd;stroke:#0000FF;stroke-width:2.0px;stroke-linecap:butt;stroke-linejoin:miter;stroke-opacity:1\"/>\n",
       "<path class=\"bond-3\" d=\"M 80.7577,77.2884 L 75,61.7441\" style=\"fill:none;fill-rule:evenodd;stroke:#000000;stroke-width:2.0px;stroke-linecap:butt;stroke-linejoin:miter;stroke-opacity:1\"/>\n",
       "<path class=\"bond-4\" d=\"M 75,61.7441 L 85.0837,49.5875\" style=\"fill:none;fill-rule:evenodd;stroke:#000000;stroke-width:2.0px;stroke-linecap:butt;stroke-linejoin:miter;stroke-opacity:1\"/>\n",
       "<path class=\"bond-4\" d=\"M 85.0837,49.5875 L 95.1675,37.4309\" style=\"fill:none;fill-rule:evenodd;stroke:#0000FF;stroke-width:2.0px;stroke-linecap:butt;stroke-linejoin:miter;stroke-opacity:1\"/>\n",
       "<path class=\"bond-6\" d=\"M 75,61.7441 L 35.2581,54.9685\" style=\"fill:none;fill-rule:evenodd;stroke:#000000;stroke-width:2.0px;stroke-linecap:butt;stroke-linejoin:miter;stroke-opacity:1\"/>\n",
       "<path class=\"bond-6\" d=\"M 67.6836,68.6761 L 39.8643,63.9332\" style=\"fill:none;fill-rule:evenodd;stroke:#000000;stroke-width:2.0px;stroke-linecap:butt;stroke-linejoin:miter;stroke-opacity:1\"/>\n",
       "<path class=\"bond-5\" d=\"M 106.077,31.6243 L 136.907,36.8806\" style=\"fill:none;fill-rule:evenodd;stroke:#E5E5E5;stroke-width:2.2px;stroke-linecap:butt;stroke-linejoin:miter;stroke-opacity:1\"/>\n",
       "<path class=\"bond-7\" d=\"M 35.2581,54.9685 L 21.4132,17.5906\" style=\"fill:none;fill-rule:evenodd;stroke:#E5E5E5;stroke-width:2.2px;stroke-linecap:butt;stroke-linejoin:miter;stroke-opacity:1\"/>\n",
       "<path class=\"atom-0\" d=\"M 7.36647 84.7243 L 9.04359 83.0149 L 6.81818 82.5634 L 7.15683 81.4184 L 9.20485 82.4505 L 8.91458 80.209 L 10.124 80.1929 L 9.78539 82.4344 L 11.8657 81.4668 L 12.2204 82.5634 L 9.96278 82.9827 L 11.5754 84.7082 L 10.5917 85.4177 L 9.479 83.2891 L 8.35017 85.4177 L 7.36647 84.7243 \" fill=\"#191919\"/>\n",
       "<path class=\"atom-1\" d=\"M 20.9987 118.095 L 24.74 124.142 Q 25.1109 124.739, 25.7076 125.819 Q 26.3042 126.9, 26.3365 126.964 L 26.3365 118.095 L 27.8524 118.095 L 27.8524 129.512 L 26.2881 129.512 L 22.2727 122.901 Q 21.805 122.126, 21.3051 121.24 Q 20.8214 120.353, 20.6762 120.078 L 20.6762 129.512 L 19.1926 129.512 L 19.1926 118.095 L 20.9987 118.095 \" fill=\"#0000FF\"/>\n",
       "<path class=\"atom-3\" d=\"M 86.4794 93.8407 L 90.2207 99.888 Q 90.5916 100.485, 91.1883 101.565 Q 91.7849 102.646, 91.8172 102.71 L 91.8172 93.8407 L 93.333 93.8407 L 93.333 105.258 L 91.7688 105.258 L 87.7534 98.6463 Q 87.2857 97.8722, 86.7858 96.9853 Q 86.302 96.0984, 86.1569 95.8242 L 86.1569 105.258 L 84.6733 105.258 L 84.6733 93.8407 L 86.4794 93.8407 \" fill=\"#0000FF\"/>\n",
       "<path class=\"atom-5\" d=\"M 86.1365 25.0057 L 87.6846 25.0057 L 87.6846 29.8596 L 93.5223 29.8596 L 93.5223 25.0057 L 95.0704 25.0057 L 95.0704 36.423 L 93.5223 36.423 L 93.5223 31.1497 L 87.6846 31.1497 L 87.6846 36.423 L 86.1365 36.423 L 86.1365 25.0057 \" fill=\"#0000FF\"/>\n",
       "<path class=\"atom-5\" d=\"M 98.215 25.0057 L 101.956 31.053 Q 102.327 31.6496, 102.924 32.7301 Q 103.521 33.8105, 103.553 33.875 L 103.553 25.0057 L 105.069 25.0057 L 105.069 36.423 L 103.504 36.423 L 99.489 29.8113 Q 99.0213 29.0372, 98.5214 28.1503 Q 98.0376 27.2633, 97.8925 26.9892 L 97.8925 36.423 L 96.4089 36.423 L 96.4089 25.0057 L 98.215 25.0057 \" fill=\"#0000FF\"/>\n",
       "<path class=\"atom-6\" d=\"M 138.328 36.2159 L 140.005 34.5065 L 137.78 34.055 L 138.118 32.91 L 140.166 33.9421 L 139.876 31.7006 L 141.085 31.6844 L 140.747 33.926 L 142.827 32.9584 L 143.182 34.055 L 140.924 34.4743 L 142.537 36.1998 L 141.553 36.9093 L 140.44 34.7807 L 139.312 36.9093 L 138.328 36.2159 \" fill=\"#191919\"/>\n",
       "<path class=\"atom-8\" d=\"M 19.1021 15.8893 L 20.7792 14.1799 L 18.5538 13.7284 L 18.8924 12.5834 L 20.9404 13.6155 L 20.6502 11.3739 L 21.8596 11.3578 L 21.521 13.5994 L 23.6013 12.6318 L 23.956 13.7284 L 21.6984 14.1476 L 23.311 15.8731 L 22.3273 16.5827 L 21.2146 14.454 L 20.0858 16.5827 L 19.1021 15.8893 \" fill=\"#191919\"/>\n",
       "</svg>"
      ],
      "text/plain": [
       "<IPython.core.display.SVG object>"
      ]
     },
     "metadata": {},
     "output_type": "display_data"
    },
    {
     "name": "stdout",
     "output_type": "stream",
     "text": [
      "Bit 1226 ----------------------------------------------\n"
     ]
    },
    {
     "data": {
      "image/svg+xml": [
       "<svg baseProfile=\"full\" height=\"150px\" version=\"1.1\" viewBox=\"0 0 150 150\" width=\"150px\" xml:space=\"preserve\" xmlns=\"http://www.w3.org/2000/svg\" xmlns:rdkit=\"http://www.rdkit.org/xml\" xmlns:xlink=\"http://www.w3.org/1999/xlink\">\n",
       "<!-- END OF HEADER -->\n",
       "<rect height=\"150\" style=\"opacity:1.0;fill:#FFFFFF;stroke:none\" width=\"150\" x=\"0\" y=\"0\"> </rect>\n",
       "<ellipse cx=\"22.6374\" cy=\"78.999\" rx=\"7.63585\" ry=\"7.63585\" style=\"fill:#E5E533;fill-rule:evenodd;stroke:#E5E533;stroke-width:2px;stroke-linecap:butt;stroke-linejoin:miter;stroke-opacity:1\"/>\n",
       "<ellipse cx=\"60.2736\" cy=\"85.4155\" rx=\"7.63585\" ry=\"7.63585\" style=\"fill:#E5E533;fill-rule:evenodd;stroke:#E5E533;stroke-width:2px;stroke-linecap:butt;stroke-linejoin:miter;stroke-opacity:1\"/>\n",
       "<ellipse cx=\"73.5348\" cy=\"121.218\" rx=\"7.63585\" ry=\"7.63585\" style=\"fill:#9999E5;fill-rule:evenodd;stroke:#9999E5;stroke-width:2px;stroke-linecap:butt;stroke-linejoin:miter;stroke-opacity:1\"/>\n",
       "<ellipse cx=\"111.171\" cy=\"127.634\" rx=\"7.63585\" ry=\"7.63585\" style=\"fill:#E5E533;fill-rule:evenodd;stroke:#E5E533;stroke-width:2px;stroke-linecap:butt;stroke-linejoin:miter;stroke-opacity:1\"/>\n",
       "<ellipse cx=\"135.546\" cy=\"98.2486\" rx=\"7.63585\" ry=\"7.63585\" style=\"fill:#E5E533;fill-rule:evenodd;stroke:#E5E533;stroke-width:2px;stroke-linecap:butt;stroke-linejoin:miter;stroke-opacity:1\"/>\n",
       "<ellipse cx=\"84.6486\" cy=\"56.0299\" rx=\"7.63585\" ry=\"7.63585\" style=\"fill:#E5E533;fill-rule:evenodd;stroke:#E5E533;stroke-width:2px;stroke-linecap:butt;stroke-linejoin:miter;stroke-opacity:1\"/>\n",
       "<path class=\"bond-0\" d=\"M 5.94588,44.9276 L 19.0572,80.3251\" style=\"fill:none;fill-rule:evenodd;stroke:#E5E5E5;stroke-width:2.0px;stroke-linecap:butt;stroke-linejoin:miter;stroke-opacity:1\"/>\n",
       "<path class=\"bond-0\" d=\"M 13.1063,42.2754 L 26.2176,77.6729\" style=\"fill:none;fill-rule:evenodd;stroke:#E5E5E5;stroke-width:2.0px;stroke-linecap:butt;stroke-linejoin:miter;stroke-opacity:1;stroke-dasharray:6,6\"/>\n",
       "<path class=\"bond-1\" d=\"M 22.6374,78.999 L 60.2736,85.4155\" style=\"fill:none;fill-rule:evenodd;stroke:#000000;stroke-width:2.0px;stroke-linecap:butt;stroke-linejoin:miter;stroke-opacity:1\"/>\n",
       "<path class=\"bond-2\" d=\"M 60.2736,85.4155 L 65.7262,100.136\" style=\"fill:none;fill-rule:evenodd;stroke:#000000;stroke-width:2.0px;stroke-linecap:butt;stroke-linejoin:miter;stroke-opacity:1\"/>\n",
       "<path class=\"bond-2\" d=\"M 65.7262,100.136 L 71.1788,114.857\" style=\"fill:none;fill-rule:evenodd;stroke:#0000FF;stroke-width:2.0px;stroke-linecap:butt;stroke-linejoin:miter;stroke-opacity:1\"/>\n",
       "<path class=\"bond-2\" d=\"M 69.0698,87.1795 L 72.8866,97.484\" style=\"fill:none;fill-rule:evenodd;stroke:#000000;stroke-width:2.0px;stroke-linecap:butt;stroke-linejoin:miter;stroke-opacity:1\"/>\n",
       "<path class=\"bond-2\" d=\"M 72.8866,97.484 L 76.7034,107.789\" style=\"fill:none;fill-rule:evenodd;stroke:#0000FF;stroke-width:2.0px;stroke-linecap:butt;stroke-linejoin:miter;stroke-opacity:1\"/>\n",
       "<path class=\"bond-8\" d=\"M 60.2736,85.4155 L 84.6486,56.0299\" style=\"fill:none;fill-rule:evenodd;stroke:#000000;stroke-width:2.0px;stroke-linecap:butt;stroke-linejoin:miter;stroke-opacity:1\"/>\n",
       "<path class=\"bond-3\" d=\"M 78.5897,122.079 L 94.8804,124.857\" style=\"fill:none;fill-rule:evenodd;stroke:#0000FF;stroke-width:2.0px;stroke-linecap:butt;stroke-linejoin:miter;stroke-opacity:1\"/>\n",
       "<path class=\"bond-3\" d=\"M 94.8804,124.857 L 111.171,127.634\" style=\"fill:none;fill-rule:evenodd;stroke:#000000;stroke-width:2.0px;stroke-linecap:butt;stroke-linejoin:miter;stroke-opacity:1\"/>\n",
       "<path class=\"bond-4\" d=\"M 111.171,127.634 L 120.831,115.988\" style=\"fill:none;fill-rule:evenodd;stroke:#000000;stroke-width:2.0px;stroke-linecap:butt;stroke-linejoin:miter;stroke-opacity:1\"/>\n",
       "<path class=\"bond-4\" d=\"M 120.831,115.988 L 130.491,104.343\" style=\"fill:none;fill-rule:evenodd;stroke:#0000FF;stroke-width:2.0px;stroke-linecap:butt;stroke-linejoin:miter;stroke-opacity:1\"/>\n",
       "<path class=\"bond-4\" d=\"M 108.192,119.265 L 114.954,111.113\" style=\"fill:none;fill-rule:evenodd;stroke:#000000;stroke-width:2.0px;stroke-linecap:butt;stroke-linejoin:miter;stroke-opacity:1\"/>\n",
       "<path class=\"bond-4\" d=\"M 114.954,111.113 L 121.716,102.961\" style=\"fill:none;fill-rule:evenodd;stroke:#0000FF;stroke-width:2.0px;stroke-linecap:butt;stroke-linejoin:miter;stroke-opacity:1\"/>\n",
       "<path class=\"bond-5\" d=\"M 133.19,91.8879 L 122.372,62.6816\" style=\"fill:none;fill-rule:evenodd;stroke:#E5E5E5;stroke-width:2.0px;stroke-linecap:butt;stroke-linejoin:miter;stroke-opacity:1\"/>\n",
       "<path class=\"bond-6\" d=\"M 118.772,61.8476 L 84.6486,56.0299\" style=\"fill:none;fill-rule:evenodd;stroke:#E5E5E5;stroke-width:2.0px;stroke-linecap:butt;stroke-linejoin:miter;stroke-opacity:1\"/>\n",
       "<path class=\"bond-6\" d=\"M 112.37,68.5022 L 88.4838,64.4298\" style=\"fill:none;fill-rule:evenodd;stroke:#E5E5E5;stroke-width:2.0px;stroke-linecap:butt;stroke-linejoin:miter;stroke-opacity:1\"/>\n",
       "<path class=\"bond-7\" d=\"M 84.6486,56.0299 L 71.5373,20.6324\" style=\"fill:none;fill-rule:evenodd;stroke:#E5E5E5;stroke-width:2.0px;stroke-linecap:butt;stroke-linejoin:miter;stroke-opacity:1\"/>\n",
       "<path class=\"atom-0\" d=\"M 7.33742 41.9904 L 8.92568 40.3716 L 6.81818 39.9439 L 7.13889 38.8597 L 9.07839 39.837 L 8.8035 37.7143 L 9.94888 37.699 L 9.62817 39.8218 L 11.5982 38.9055 L 11.9342 39.9439 L 9.79616 40.341 L 11.3233 41.9751 L 10.3918 42.647 L 9.33801 40.6312 L 8.26899 42.647 L 7.33742 41.9904 \" fill=\"#191919\"/>\n",
       "<path class=\"atom-3\" d=\"M 71.1448 115.812 L 74.6878 121.538 Q 75.0391 122.103, 75.6041 123.127 Q 76.1692 124.15, 76.1997 124.211 L 76.1997 115.812 L 77.6352 115.812 L 77.6352 126.624 L 76.1539 126.624 L 72.3512 120.362 Q 71.9084 119.629, 71.4349 118.789 Q 70.9768 117.95, 70.8393 117.69 L 70.8393 126.624 L 69.4343 126.624 L 69.4343 115.812 L 71.1448 115.812 \" fill=\"#0000FF\"/>\n",
       "<path class=\"atom-5\" d=\"M 133.156 92.8424 L 136.699 98.5693 Q 137.05 99.1344, 137.615 100.158 Q 138.18 101.181, 138.211 101.242 L 138.211 92.8424 L 139.646 92.8424 L 139.646 103.655 L 138.165 103.655 L 134.362 97.3934 Q 133.92 96.6603, 133.446 95.8204 Q 132.988 94.9805, 132.851 94.7208 L 132.851 103.655 L 131.446 103.655 L 131.446 92.8424 L 133.156 92.8424 \" fill=\"#0000FF\"/>\n",
       "<path class=\"atom-6\" d=\"M 120.246 61.24 L 121.834 59.6212 L 119.727 59.1936 L 120.047 58.1093 L 121.987 59.0867 L 121.712 56.9639 L 122.857 56.9486 L 122.537 59.0714 L 124.507 58.1551 L 124.843 59.1936 L 122.705 59.5906 L 124.232 61.2247 L 123.3 61.8967 L 122.247 59.8808 L 121.178 61.8967 L 120.246 61.24 \" fill=\"#191919\"/>\n",
       "<path class=\"atom-8\" d=\"M 69.3486 19.0213 L 70.9368 17.4025 L 68.8294 16.9749 L 69.1501 15.8906 L 71.0896 16.868 L 70.8147 14.7452 L 71.9601 14.7299 L 71.6393 16.8527 L 73.6094 15.9364 L 73.9454 16.9749 L 71.8073 17.3719 L 73.3345 19.006 L 72.4029 19.678 L 71.3492 17.6621 L 70.2802 19.678 L 69.3486 19.0213 \" fill=\"#191919\"/>\n",
       "</svg>"
      ],
      "text/plain": [
       "<IPython.core.display.SVG object>"
      ]
     },
     "metadata": {},
     "output_type": "display_data"
    },
    {
     "name": "stdout",
     "output_type": "stream",
     "text": [
      "Bit 1452 ----------------------------------------------\n"
     ]
    },
    {
     "data": {
      "image/svg+xml": [
       "<svg baseProfile=\"full\" height=\"150px\" version=\"1.1\" viewBox=\"0 0 150 150\" width=\"150px\" xml:space=\"preserve\" xmlns=\"http://www.w3.org/2000/svg\" xmlns:rdkit=\"http://www.rdkit.org/xml\" xmlns:xlink=\"http://www.w3.org/1999/xlink\">\n",
       "<!-- END OF HEADER -->\n",
       "<rect height=\"150\" style=\"opacity:1.0;fill:#FFFFFF;stroke:none\" width=\"150\" x=\"0\" y=\"0\"> </rect>\n",
       "<ellipse cx=\"53.2579\" cy=\"66.3513\" rx=\"8.82233\" ry=\"8.82233\" style=\"fill:#E5E533;fill-rule:evenodd;stroke:#E5E533;stroke-width:2px;stroke-linecap:butt;stroke-linejoin:miter;stroke-opacity:1\"/>\n",
       "<ellipse cx=\"68.5797\" cy=\"107.717\" rx=\"8.82233\" ry=\"8.82233\" style=\"fill:#9999E5;fill-rule:evenodd;stroke:#9999E5;stroke-width:2px;stroke-linecap:butt;stroke-linejoin:miter;stroke-opacity:1\"/>\n",
       "<ellipse cx=\"112.064\" cy=\"115.13\" rx=\"8.82233\" ry=\"8.82233\" style=\"fill:#E5E533;fill-rule:evenodd;stroke:#E5E533;stroke-width:2px;stroke-linecap:butt;stroke-linejoin:miter;stroke-opacity:1\"/>\n",
       "<path class=\"bond-0\" d=\"M 11.7749,63.7538 L 52.5165,70.6997\" style=\"fill:none;fill-rule:evenodd;stroke:#E5E5E5;stroke-width:2.4px;stroke-linecap:butt;stroke-linejoin:miter;stroke-opacity:1\"/>\n",
       "<path class=\"bond-0\" d=\"M 13.2576,55.0569 L 53.9992,62.0029\" style=\"fill:none;fill-rule:evenodd;stroke:#E5E5E5;stroke-width:2.4px;stroke-linecap:butt;stroke-linejoin:miter;stroke-opacity:1;stroke-dasharray:6,6\"/>\n",
       "<path class=\"bond-1\" d=\"M 53.2579,66.3513 L 59.5577,83.3594\" style=\"fill:none;fill-rule:evenodd;stroke:#000000;stroke-width:2.0px;stroke-linecap:butt;stroke-linejoin:miter;stroke-opacity:1\"/>\n",
       "<path class=\"bond-1\" d=\"M 59.5577,83.3594 L 65.8576,100.368\" style=\"fill:none;fill-rule:evenodd;stroke:#0000FF;stroke-width:2.0px;stroke-linecap:butt;stroke-linejoin:miter;stroke-opacity:1\"/>\n",
       "<path class=\"bond-1\" d=\"M 46.8748,74.5181 L 51.2847,86.4238\" style=\"fill:none;fill-rule:evenodd;stroke:#000000;stroke-width:2.0px;stroke-linecap:butt;stroke-linejoin:miter;stroke-opacity:1;stroke-dasharray:6,6\"/>\n",
       "<path class=\"bond-1\" d=\"M 51.2847,86.4238 L 55.6946,98.3295\" style=\"fill:none;fill-rule:evenodd;stroke:#0000FF;stroke-width:2.0px;stroke-linecap:butt;stroke-linejoin:miter;stroke-opacity:1;stroke-dasharray:6,6\"/>\n",
       "<path class=\"bond-4\" d=\"M 56.6531,69.1676 L 84.4276,35.6835\" style=\"fill:none;fill-rule:evenodd;stroke:#E5E5E5;stroke-width:2.4px;stroke-linecap:butt;stroke-linejoin:miter;stroke-opacity:1\"/>\n",
       "<path class=\"bond-4\" d=\"M 49.8627,63.5351 L 77.6373,30.051\" style=\"fill:none;fill-rule:evenodd;stroke:#E5E5E5;stroke-width:2.4px;stroke-linecap:butt;stroke-linejoin:miter;stroke-opacity:1;stroke-dasharray:6,6\"/>\n",
       "<path class=\"bond-2\" d=\"M 74.4201,108.712 L 93.242,111.921\" style=\"fill:none;fill-rule:evenodd;stroke:#0000FF;stroke-width:2.0px;stroke-linecap:butt;stroke-linejoin:miter;stroke-opacity:1\"/>\n",
       "<path class=\"bond-2\" d=\"M 93.242,111.921 L 112.064,115.13\" style=\"fill:none;fill-rule:evenodd;stroke:#000000;stroke-width:2.0px;stroke-linecap:butt;stroke-linejoin:miter;stroke-opacity:1\"/>\n",
       "<path class=\"bond-2\" d=\"M 81.5493,100.978 L 94.7247,103.224\" style=\"fill:none;fill-rule:evenodd;stroke:#0000FF;stroke-width:2.0px;stroke-linecap:butt;stroke-linejoin:miter;stroke-opacity:1;stroke-dasharray:6,6\"/>\n",
       "<path class=\"bond-2\" d=\"M 94.7247,103.224 L 107.9,105.471\" style=\"fill:none;fill-rule:evenodd;stroke:#000000;stroke-width:2.0px;stroke-linecap:butt;stroke-linejoin:miter;stroke-opacity:1;stroke-dasharray:6,6\"/>\n",
       "<path class=\"bond-3\" d=\"M 115.459,117.946 L 143.234,84.4623\" style=\"fill:none;fill-rule:evenodd;stroke:#E5E5E5;stroke-width:2.4px;stroke-linecap:butt;stroke-linejoin:miter;stroke-opacity:1\"/>\n",
       "<path class=\"bond-3\" d=\"M 108.669,112.314 L 136.443,78.8298\" style=\"fill:none;fill-rule:evenodd;stroke:#E5E5E5;stroke-width:2.4px;stroke-linecap:butt;stroke-linejoin:miter;stroke-opacity:1;stroke-dasharray:6,6\"/>\n",
       "<path class=\"atom-0\" d=\"M 7.4181 57.5438 L 9.25315 55.6735 L 6.81818 55.1794 L 7.18872 53.9267 L 9.42959 55.0559 L 9.11199 52.6033 L 10.4353 52.5857 L 10.0648 55.0383 L 12.341 53.9796 L 12.7291 55.1794 L 10.2589 55.6382 L 12.0234 57.5262 L 10.947 58.3025 L 9.72955 55.9734 L 8.49442 58.3025 L 7.4181 57.5438 \" fill=\"#191919\"/>\n",
       "<path class=\"atom-2\" d=\"M 65.8183 101.47 L 69.9118 108.087 Q 70.3177 108.74, 70.9705 109.922 Q 71.6234 111.104, 71.6587 111.175 L 71.6587 101.47 L 73.3173 101.47 L 73.3173 113.963 L 71.6057 113.963 L 67.2122 106.728 Q 66.7005 105.881, 66.1535 104.911 Q 65.6242 103.941, 65.4654 103.641 L 65.4654 113.963 L 63.8421 113.963 L 63.8421 101.47 L 65.8183 101.47 \" fill=\"#0000FF\"/>\n",
       "<path class=\"atom-4\" d=\"M 137.871 79.7845 L 139.706 77.9142 L 137.271 77.4201 L 137.641 76.1674 L 139.882 77.2966 L 139.565 74.844 L 140.888 74.8264 L 140.517 77.279 L 142.794 76.2203 L 143.182 77.4201 L 140.712 77.8789 L 142.476 79.7669 L 141.4 80.5432 L 140.182 78.2141 L 138.947 80.5432 L 137.871 79.7845 \" fill=\"#191919\"/>\n",
       "<path class=\"atom-5\" d=\"M 79.0648 31.0057 L 80.8998 29.1354 L 78.4649 28.6413 L 78.8354 27.3886 L 81.0763 28.5178 L 80.7587 26.0652 L 82.082 26.0476 L 81.7115 28.5002 L 83.9876 27.4415 L 84.3758 28.6413 L 81.9056 29.1001 L 83.67 30.9881 L 82.5937 31.7644 L 81.3762 29.4353 L 80.1411 31.7644 L 79.0648 31.0057 \" fill=\"#191919\"/>\n",
       "</svg>"
      ],
      "text/plain": [
       "<IPython.core.display.SVG object>"
      ]
     },
     "metadata": {},
     "output_type": "display_data"
    },
    {
     "name": "stdout",
     "output_type": "stream",
     "text": [
      "Bit 329 -----------------------------------------------\n"
     ]
    },
    {
     "data": {
      "image/svg+xml": [
       "<svg baseProfile=\"full\" height=\"150px\" version=\"1.1\" viewBox=\"0 0 150 150\" width=\"150px\" xml:space=\"preserve\" xmlns=\"http://www.w3.org/2000/svg\" xmlns:rdkit=\"http://www.rdkit.org/xml\" xmlns:xlink=\"http://www.w3.org/1999/xlink\">\n",
       "<!-- END OF HEADER -->\n",
       "<rect height=\"150\" style=\"opacity:1.0;fill:#FFFFFF;stroke:none\" width=\"150\" x=\"0\" y=\"0\"> </rect>\n",
       "<ellipse cx=\"35.4922\" cy=\"91.0581\" rx=\"5.44732\" ry=\"5.44732\" style=\"fill:#E5E533;fill-rule:evenodd;stroke:#E5E533;stroke-width:2px;stroke-linecap:butt;stroke-linejoin:miter;stroke-opacity:1\"/>\n",
       "<ellipse cx=\"79.7302\" cy=\"74.6723\" rx=\"5.44732\" ry=\"5.44732\" style=\"fill:#9999E5;fill-rule:evenodd;stroke:#9999E5;stroke-width:2px;stroke-linecap:butt;stroke-linejoin:miter;stroke-opacity:1\"/>\n",
       "<ellipse cx=\"89.1906\" cy=\"100.213\" rx=\"5.44732\" ry=\"5.44732\" style=\"fill:#E5E533;fill-rule:evenodd;stroke:#E5E533;stroke-width:2px;stroke-linecap:butt;stroke-linejoin:miter;stroke-opacity:1\"/>\n",
       "<ellipse cx=\"116.04\" cy=\"104.791\" rx=\"5.44732\" ry=\"5.44732\" style=\"fill:#E5E533;fill-rule:evenodd;stroke:#E5E533;stroke-width:2px;stroke-linecap:butt;stroke-linejoin:miter;stroke-opacity:1\"/>\n",
       "<ellipse cx=\"123.968\" cy=\"58.2864\" rx=\"5.44732\" ry=\"5.44732\" style=\"fill:#E5E533;fill-rule:evenodd;stroke:#E5E533;stroke-width:2px;stroke-linecap:butt;stroke-linejoin:miter;stroke-opacity:1\"/>\n",
       "<ellipse cx=\"97.119\" cy=\"53.709\" rx=\"5.44732\" ry=\"5.44732\" style=\"fill:#E5E533;fill-rule:evenodd;stroke:#E5E533;stroke-width:2px;stroke-linecap:butt;stroke-linejoin:miter;stroke-opacity:1\"/>\n",
       "<path class=\"bond-0\" d=\"M 45.8017,111.05 L 38.0463,90.1121\" style=\"fill:none;fill-rule:evenodd;stroke:#E5E5E5;stroke-width:1.5px;stroke-linecap:butt;stroke-linejoin:miter;stroke-opacity:1\"/>\n",
       "<path class=\"bond-0\" d=\"M 40.6936,112.942 L 32.9381,92.0042\" style=\"fill:none;fill-rule:evenodd;stroke:#E5E5E5;stroke-width:1.5px;stroke-linecap:butt;stroke-linejoin:miter;stroke-opacity:1;stroke-dasharray:6,6\"/>\n",
       "<path class=\"bond-1\" d=\"M 35.4922,91.0581 L 42.3047,82.8453\" style=\"fill:none;fill-rule:evenodd;stroke:#000000;stroke-width:2.0px;stroke-linecap:butt;stroke-linejoin:miter;stroke-opacity:1\"/>\n",
       "<path class=\"bond-1\" d=\"M 42.3047,82.8453 L 49.1171,74.6324\" style=\"fill:none;fill-rule:evenodd;stroke:#0000FF;stroke-width:2.0px;stroke-linecap:butt;stroke-linejoin:miter;stroke-opacity:1\"/>\n",
       "<path class=\"bond-9\" d=\"M 35.95,88.3732 L 10.7942,84.0845\" style=\"fill:none;fill-rule:evenodd;stroke:#E5E5E5;stroke-width:1.5px;stroke-linecap:butt;stroke-linejoin:miter;stroke-opacity:1\"/>\n",
       "<path class=\"bond-9\" d=\"M 35.0345,93.7431 L 9.8787,89.4543\" style=\"fill:none;fill-rule:evenodd;stroke:#E5E5E5;stroke-width:1.5px;stroke-linecap:butt;stroke-linejoin:miter;stroke-opacity:1;stroke-dasharray:6,6\"/>\n",
       "<path class=\"bond-2\" d=\"M 56.4871,70.7096 L 68.1087,72.691\" style=\"fill:none;fill-rule:evenodd;stroke:#0000FF;stroke-width:2.0px;stroke-linecap:butt;stroke-linejoin:miter;stroke-opacity:1\"/>\n",
       "<path class=\"bond-2\" d=\"M 68.1087,72.691 L 79.7302,74.6723\" style=\"fill:none;fill-rule:evenodd;stroke:#000000;stroke-width:2.0px;stroke-linecap:butt;stroke-linejoin:miter;stroke-opacity:1\"/>\n",
       "<path class=\"bond-3\" d=\"M 79.7302,74.6723 L 89.1906,100.213\" style=\"fill:none;fill-rule:evenodd;stroke:#000000;stroke-width:2.0px;stroke-linecap:butt;stroke-linejoin:miter;stroke-opacity:1\"/>\n",
       "<path class=\"bond-3\" d=\"M 86.2574,76.6113 L 92.8797,94.4899\" style=\"fill:none;fill-rule:evenodd;stroke:#000000;stroke-width:2.0px;stroke-linecap:butt;stroke-linejoin:miter;stroke-opacity:1\"/>\n",
       "<path class=\"bond-10\" d=\"M 79.7302,74.6723 L 97.119,53.709\" style=\"fill:none;fill-rule:evenodd;stroke:#000000;stroke-width:2.0px;stroke-linecap:butt;stroke-linejoin:miter;stroke-opacity:1\"/>\n",
       "<path class=\"bond-4\" d=\"M 89.1906,100.213 L 116.04,104.791\" style=\"fill:none;fill-rule:evenodd;stroke:#000000;stroke-width:2.0px;stroke-linecap:butt;stroke-linejoin:miter;stroke-opacity:1\"/>\n",
       "<path class=\"bond-5\" d=\"M 116.04,104.791 L 133.189,84.116\" style=\"fill:none;fill-rule:evenodd;stroke:#E5E5E5;stroke-width:1.5px;stroke-linecap:butt;stroke-linejoin:miter;stroke-opacity:1\"/>\n",
       "<path class=\"bond-5\" d=\"M 114.419,98.2116 L 126.424,83.7394\" style=\"fill:none;fill-rule:evenodd;stroke:#E5E5E5;stroke-width:1.5px;stroke-linecap:butt;stroke-linejoin:miter;stroke-opacity:1\"/>\n",
       "<path class=\"bond-6\" d=\"M 131.724,79.2243 L 123.968,58.2864\" style=\"fill:none;fill-rule:evenodd;stroke:#E5E5E5;stroke-width:1.5px;stroke-linecap:butt;stroke-linejoin:miter;stroke-opacity:1\"/>\n",
       "<path class=\"bond-7\" d=\"M 123.968,58.2864 L 141.117,37.6118\" style=\"fill:none;fill-rule:evenodd;stroke:#E5E5E5;stroke-width:1.5px;stroke-linecap:butt;stroke-linejoin:miter;stroke-opacity:1\"/>\n",
       "<path class=\"bond-8\" d=\"M 123.968,58.2864 L 97.119,53.709\" style=\"fill:none;fill-rule:evenodd;stroke:#000000;stroke-width:2.0px;stroke-linecap:butt;stroke-linejoin:miter;stroke-opacity:1\"/>\n",
       "<path class=\"bond-8\" d=\"M 119.025,62.9697 L 100.231,59.7654\" style=\"fill:none;fill-rule:evenodd;stroke:#000000;stroke-width:2.0px;stroke-linecap:butt;stroke-linejoin:miter;stroke-opacity:1\"/>\n",
       "<path class=\"atom-0\" d=\"M 43.4982 115.738 L 44.6312 114.583 L 43.1277 114.278 L 43.3565 113.505 L 44.7401 114.202 L 44.544 112.688 L 45.3611 112.677 L 45.1323 114.191 L 46.5378 113.538 L 46.7774 114.278 L 45.2522 114.562 L 46.3417 115.727 L 45.6771 116.207 L 44.9254 114.769 L 44.1627 116.207 L 43.4982 115.738 \" fill=\"#191919\"/>\n",
       "<path class=\"atom-2\" d=\"M 43.0159 66.2381 L 44.0618 66.2381 L 44.0618 69.5174 L 48.0057 69.5174 L 48.0057 66.2381 L 49.0515 66.2381 L 49.0515 73.9515 L 48.0057 73.9515 L 48.0057 70.389 L 44.0618 70.389 L 44.0618 73.9515 L 43.0159 73.9515 L 43.0159 66.2381 \" fill=\"#0000FF\"/>\n",
       "<path class=\"atom-2\" d=\"M 51.176 66.2381 L 53.7036 70.3236 Q 53.9541 70.7267, 54.3572 71.4566 Q 54.7603 72.1866, 54.7821 72.2302 L 54.7821 66.2381 L 55.8062 66.2381 L 55.8062 73.9515 L 54.7494 73.9515 L 52.0367 69.4847 Q 51.7207 68.9618, 51.383 68.3626 Q 51.0562 67.7634, 50.9581 67.5782 L 50.9581 73.9515 L 49.9558 73.9515 L 49.9558 66.2381 L 51.176 66.2381 \" fill=\"#0000FF\"/>\n",
       "<path class=\"atom-6\" d=\"M 131.974 82.9666 L 133.107 81.8117 L 131.604 81.5067 L 131.832 80.7332 L 133.216 81.4304 L 133.02 79.9161 L 133.837 79.9052 L 133.608 81.4195 L 135.014 80.7659 L 135.253 81.5067 L 133.728 81.79 L 134.818 82.9557 L 134.153 83.435 L 133.401 81.997 L 132.639 83.435 L 131.974 82.9666 \" fill=\"#191919\"/>\n",
       "<path class=\"atom-8\" d=\"M 139.903 36.4624 L 141.036 35.3076 L 139.532 35.0026 L 139.761 34.229 L 141.145 34.9263 L 140.948 33.4119 L 141.766 33.401 L 141.537 34.9154 L 142.942 34.2617 L 143.182 35.0026 L 141.657 35.2858 L 142.746 36.4515 L 142.081 36.9309 L 141.33 35.4928 L 140.567 36.9309 L 139.903 36.4624 \" fill=\"#191919\"/>\n",
       "<path class=\"atom-10\" d=\"M 7.1886 85.62 L 8.32164 84.4652 L 6.81818 84.1601 L 7.04697 83.3866 L 8.43059 84.0839 L 8.23448 82.5695 L 9.05158 82.5586 L 8.82279 84.073 L 10.2282 83.4193 L 10.4679 84.1601 L 8.94264 84.4434 L 10.0321 85.6091 L 9.36753 86.0885 L 8.6158 84.6504 L 7.85317 86.0885 L 7.1886 85.62 \" fill=\"#191919\"/>\n",
       "</svg>"
      ],
      "text/plain": [
       "<IPython.core.display.SVG object>"
      ]
     },
     "metadata": {},
     "output_type": "display_data"
    },
    {
     "name": "stdout",
     "output_type": "stream",
     "text": [
      "Bit 1928 ----------------------------------------------\n"
     ]
    },
    {
     "data": {
      "image/svg+xml": [
       "<svg baseProfile=\"full\" height=\"150px\" version=\"1.1\" viewBox=\"0 0 150 150\" width=\"150px\" xml:space=\"preserve\" xmlns=\"http://www.w3.org/2000/svg\" xmlns:rdkit=\"http://www.rdkit.org/xml\" xmlns:xlink=\"http://www.w3.org/1999/xlink\">\n",
       "<!-- END OF HEADER -->\n",
       "<rect height=\"150\" style=\"opacity:1.0;fill:#FFFFFF;stroke:none\" width=\"150\" x=\"0\" y=\"0\"> </rect>\n",
       "<ellipse cx=\"121.209\" cy=\"79.7885\" rx=\"21.973\" ry=\"21.973\" style=\"fill:#9999E5;fill-rule:evenodd;stroke:#9999E5;stroke-width:2px;stroke-linecap:butt;stroke-linejoin:miter;stroke-opacity:1\"/>\n",
       "<path class=\"bond-0\" d=\"M 20.5707,62.6309 L 110.237,77.9179\" style=\"fill:none;fill-rule:evenodd;stroke:#E5E5E5;stroke-width:5.9px;stroke-linecap:butt;stroke-linejoin:miter;stroke-opacity:1\"/>\n",
       "<path class=\"atom-0\" d=\"M 7.5667 58.1643 L 11.7267 53.9243 L 6.2067 52.8043 L 7.0467 49.9643 L 12.1267 52.5243 L 11.4067 46.9643 L 14.4067 46.9243 L 13.5667 52.4843 L 18.7267 50.0843 L 19.6067 52.8043 L 14.0067 53.8443 L 18.0067 58.1243 L 15.5667 59.8843 L 12.8067 54.6043 L 10.0067 59.8843 L 7.5667 58.1643 \" fill=\"#191919\"/>\n",
       "<path class=\"atom-1\" d=\"M 112.789 65.6285 L 129.629 65.6285 L 129.629 68.8685 L 116.589 68.8685 L 116.589 77.4685 L 128.189 77.4685 L 128.189 80.7485 L 116.589 80.7485 L 116.589 93.9485 L 112.789 93.9485 L 112.789 65.6285 \" fill=\"#33CCCC\"/>\n",
       "</svg>"
      ],
      "text/plain": [
       "<IPython.core.display.SVG object>"
      ]
     },
     "metadata": {},
     "output_type": "display_data"
    },
    {
     "name": "stdout",
     "output_type": "stream",
     "text": [
      "Bit 1482 ----------------------------------------------\n"
     ]
    },
    {
     "data": {
      "image/svg+xml": [
       "<svg baseProfile=\"full\" height=\"150px\" version=\"1.1\" viewBox=\"0 0 150 150\" width=\"150px\" xml:space=\"preserve\" xmlns=\"http://www.w3.org/2000/svg\" xmlns:rdkit=\"http://www.rdkit.org/xml\" xmlns:xlink=\"http://www.w3.org/1999/xlink\">\n",
       "<!-- END OF HEADER -->\n",
       "<rect height=\"150\" style=\"opacity:1.0;fill:#FFFFFF;stroke:none\" width=\"150\" x=\"0\" y=\"0\"> </rect>\n",
       "<ellipse cx=\"84.6639\" cy=\"80.9845\" rx=\"5.78326\" ry=\"5.78326\" style=\"fill:#9999E5;fill-rule:evenodd;stroke:#9999E5;stroke-width:2px;stroke-linecap:butt;stroke-linejoin:miter;stroke-opacity:1\"/>\n",
       "<ellipse cx=\"103.992\" cy=\"102.492\" rx=\"5.78326\" ry=\"5.78326\" style=\"fill:#CCCCCC;fill-rule:evenodd;stroke:#CCCCCC;stroke-width:2px;stroke-linecap:butt;stroke-linejoin:miter;stroke-opacity:1\"/>\n",
       "<ellipse cx=\"132.282\" cy=\"96.5078\" rx=\"5.78326\" ry=\"5.78326\" style=\"fill:#CCCCCC;fill-rule:evenodd;stroke:#CCCCCC;stroke-width:2px;stroke-linecap:butt;stroke-linejoin:miter;stroke-opacity:1\"/>\n",
       "<ellipse cx=\"121.917\" cy=\"47.5077\" rx=\"5.78326\" ry=\"5.78326\" style=\"fill:#CCCCCC;fill-rule:evenodd;stroke:#CCCCCC;stroke-width:2px;stroke-linecap:butt;stroke-linejoin:miter;stroke-opacity:1\"/>\n",
       "<ellipse cx=\"93.6263\" cy=\"53.4922\" rx=\"5.78326\" ry=\"5.78326\" style=\"fill:#CCCCCC;fill-rule:evenodd;stroke:#CCCCCC;stroke-width:2px;stroke-linecap:butt;stroke-linejoin:miter;stroke-opacity:1\"/>\n",
       "<path class=\"bond-0\" d=\"M 11.4159,70.883 L 37.0458,65.4613\" style=\"fill:none;fill-rule:evenodd;stroke:#E5E5E5;stroke-width:1.5px;stroke-linecap:butt;stroke-linejoin:miter;stroke-opacity:1\"/>\n",
       "<path class=\"bond-1\" d=\"M 37.0458,65.4613 L 56.3737,86.9691\" style=\"fill:none;fill-rule:evenodd;stroke:#000000;stroke-width:2.0px;stroke-linecap:butt;stroke-linejoin:miter;stroke-opacity:1\"/>\n",
       "<path class=\"bond-2\" d=\"M 56.3737,86.9691 L 68.6046,84.3817\" style=\"fill:none;fill-rule:evenodd;stroke:#000000;stroke-width:2.0px;stroke-linecap:butt;stroke-linejoin:miter;stroke-opacity:1\"/>\n",
       "<path class=\"bond-2\" d=\"M 68.6046,84.3817 L 80.8354,81.7944\" style=\"fill:none;fill-rule:evenodd;stroke:#0000FF;stroke-width:2.0px;stroke-linecap:butt;stroke-linejoin:miter;stroke-opacity:1\"/>\n",
       "<path class=\"bond-3\" d=\"M 88.4925,85.2449 L 96.2421,93.8686\" style=\"fill:none;fill-rule:evenodd;stroke:#0000FF;stroke-width:2.0px;stroke-linecap:butt;stroke-linejoin:miter;stroke-opacity:1\"/>\n",
       "<path class=\"bond-3\" d=\"M 96.2421,93.8686 L 103.992,102.492\" style=\"fill:none;fill-rule:evenodd;stroke:#000000;stroke-width:2.0px;stroke-linecap:butt;stroke-linejoin:miter;stroke-opacity:1\"/>\n",
       "<path class=\"bond-8\" d=\"M 86.2344,76.1671 L 89.9304,64.8296\" style=\"fill:none;fill-rule:evenodd;stroke:#0000FF;stroke-width:2.0px;stroke-linecap:butt;stroke-linejoin:miter;stroke-opacity:1\"/>\n",
       "<path class=\"bond-8\" d=\"M 89.9304,64.8296 L 93.6263,53.4922\" style=\"fill:none;fill-rule:evenodd;stroke:#000000;stroke-width:2.0px;stroke-linecap:butt;stroke-linejoin:miter;stroke-opacity:1\"/>\n",
       "<path class=\"bond-4\" d=\"M 103.992,102.492 L 132.282,96.5078\" style=\"fill:none;fill-rule:evenodd;stroke:#000000;stroke-width:2.0px;stroke-linecap:butt;stroke-linejoin:miter;stroke-opacity:1\"/>\n",
       "<path class=\"bond-5\" d=\"M 132.282,96.5078 L 141.145,69.322\" style=\"fill:none;fill-rule:evenodd;stroke:#E5E5E5;stroke-width:1.5px;stroke-linecap:butt;stroke-linejoin:miter;stroke-opacity:1\"/>\n",
       "<path class=\"bond-6\" d=\"M 138.584,66.0551 L 121.917,47.5077\" style=\"fill:none;fill-rule:evenodd;stroke:#E5E5E5;stroke-width:1.5px;stroke-linecap:butt;stroke-linejoin:miter;stroke-opacity:1\"/>\n",
       "<path class=\"bond-7\" d=\"M 121.917,47.5077 L 93.6263,53.4922\" style=\"fill:none;fill-rule:evenodd;stroke:#000000;stroke-width:2.0px;stroke-linecap:butt;stroke-linejoin:miter;stroke-opacity:1\"/>\n",
       "<path class=\"atom-0\" d=\"M 7.21144 70.532 L 8.41436 69.306 L 6.81818 68.9821 L 7.06108 68.1609 L 8.53003 68.9011 L 8.32183 67.2934 L 9.18932 67.2818 L 8.94642 68.8896 L 10.4385 68.1956 L 10.693 68.9821 L 9.07365 69.2828 L 10.2303 70.5205 L 9.52475 71.0294 L 8.72666 69.5026 L 7.917 71.0294 L 7.21144 70.532 \" fill=\"#191919\"/>\n",
       "<path class=\"atom-3\" d=\"M 82.8538 76.89 L 85.5372 81.2274 Q 85.8032 81.6554, 86.2312 82.4303 Q 86.6592 83.2053, 86.6823 83.2516 L 86.6823 76.89 L 87.7695 76.89 L 87.7695 85.0791 L 86.6476 85.0791 L 83.7675 80.3368 Q 83.4321 79.7816, 83.0735 79.1455 Q 82.7265 78.5093, 82.6224 78.3127 L 82.6224 85.0791 L 81.5583 85.0791 L 81.5583 76.89 L 82.8538 76.89 \" fill=\"#0000FF\"/>\n",
       "<path class=\"atom-6\" d=\"M 139.7 68.1017 L 140.903 66.8757 L 139.307 66.5518 L 139.55 65.7306 L 141.019 66.4708 L 140.811 64.8631 L 141.678 64.8515 L 141.435 66.4593 L 142.927 65.7653 L 143.182 66.5518 L 141.563 66.8525 L 142.719 68.0901 L 142.014 68.5991 L 141.216 67.0723 L 140.406 68.5991 L 139.7 68.1017 \" fill=\"#191919\"/>\n",
       "</svg>"
      ],
      "text/plain": [
       "<IPython.core.display.SVG object>"
      ]
     },
     "metadata": {},
     "output_type": "display_data"
    },
    {
     "name": "stdout",
     "output_type": "stream",
     "text": [
      "Bit 489 -----------------------------------------------\n"
     ]
    },
    {
     "data": {
      "image/svg+xml": [
       "<svg baseProfile=\"full\" height=\"150px\" version=\"1.1\" viewBox=\"0 0 150 150\" width=\"150px\" xml:space=\"preserve\" xmlns=\"http://www.w3.org/2000/svg\" xmlns:rdkit=\"http://www.rdkit.org/xml\" xmlns:xlink=\"http://www.w3.org/1999/xlink\">\n",
       "<!-- END OF HEADER -->\n",
       "<rect height=\"150\" style=\"opacity:1.0;fill:#FFFFFF;stroke:none\" width=\"150\" x=\"0\" y=\"0\"> </rect>\n",
       "<ellipse cx=\"32.0582\" cy=\"115.061\" rx=\"12.1832\" ry=\"12.1832\" style=\"fill:#E5E533;fill-rule:evenodd;stroke:#E5E533;stroke-width:2px;stroke-linecap:butt;stroke-linejoin:miter;stroke-opacity:1\"/>\n",
       "<ellipse cx=\"92.1077\" cy=\"125.299\" rx=\"12.1832\" ry=\"12.1832\" style=\"fill:#9999E5;fill-rule:evenodd;stroke:#9999E5;stroke-width:2px;stroke-linecap:butt;stroke-linejoin:miter;stroke-opacity:1\"/>\n",
       "<ellipse cx=\"130.999\" cy=\"78.4132\" rx=\"12.1832\" ry=\"12.1832\" style=\"fill:#E5E533;fill-rule:evenodd;stroke:#E5E533;stroke-width:2px;stroke-linecap:butt;stroke-linejoin:miter;stroke-opacity:1\"/>\n",
       "<path class=\"bond-0\" d=\"M 5.4264,60.6993 L 22.5931,107.045\" style=\"fill:none;fill-rule:evenodd;stroke:#E5E5E5;stroke-width:3.2px;stroke-linecap:butt;stroke-linejoin:miter;stroke-opacity:1\"/>\n",
       "<path class=\"bond-0\" d=\"M 16.8511,56.4676 L 34.0178,102.814\" style=\"fill:none;fill-rule:evenodd;stroke:#E5E5E5;stroke-width:3.2px;stroke-linecap:butt;stroke-linejoin:miter;stroke-opacity:1;stroke-dasharray:6,6\"/>\n",
       "<path class=\"bond-1\" d=\"M 40.1234,116.436 L 66.1156,120.867\" style=\"fill:none;fill-rule:evenodd;stroke:#0000FF;stroke-width:2.0px;stroke-linecap:butt;stroke-linejoin:miter;stroke-opacity:1\"/>\n",
       "<path class=\"bond-1\" d=\"M 66.1156,120.867 L 92.1077,125.299\" style=\"fill:none;fill-rule:evenodd;stroke:#000000;stroke-width:2.0px;stroke-linecap:butt;stroke-linejoin:miter;stroke-opacity:1\"/>\n",
       "<path class=\"bond-1\" d=\"M 49.9686,105.756 L 68.1631,108.858\" style=\"fill:none;fill-rule:evenodd;stroke:#0000FF;stroke-width:2.0px;stroke-linecap:butt;stroke-linejoin:miter;stroke-opacity:1;stroke-dasharray:6,6\"/>\n",
       "<path class=\"bond-1\" d=\"M 68.1631,108.858 L 86.3576,111.959\" style=\"fill:none;fill-rule:evenodd;stroke:#000000;stroke-width:2.0px;stroke-linecap:butt;stroke-linejoin:miter;stroke-opacity:1;stroke-dasharray:6,6\"/>\n",
       "<path class=\"bond-2\" d=\"M 92.1077,125.299 L 107.521,106.718\" style=\"fill:none;fill-rule:evenodd;stroke:#000000;stroke-width:2.0px;stroke-linecap:butt;stroke-linejoin:miter;stroke-opacity:1\"/>\n",
       "<path class=\"bond-2\" d=\"M 107.521,106.718 L 122.933,88.1364\" style=\"fill:none;fill-rule:evenodd;stroke:#0000FF;stroke-width:2.0px;stroke-linecap:butt;stroke-linejoin:miter;stroke-opacity:1\"/>\n",
       "<path class=\"bond-2\" d=\"M 87.3544,111.946 L 98.1434,98.9394\" style=\"fill:none;fill-rule:evenodd;stroke:#000000;stroke-width:2.0px;stroke-linecap:butt;stroke-linejoin:miter;stroke-opacity:1;stroke-dasharray:6,6\"/>\n",
       "<path class=\"bond-2\" d=\"M 98.1434,98.9394 L 108.932,85.9326\" style=\"fill:none;fill-rule:evenodd;stroke:#0000FF;stroke-width:2.0px;stroke-linecap:butt;stroke-linejoin:miter;stroke-opacity:1;stroke-dasharray:6,6\"/>\n",
       "<path class=\"bond-3\" d=\"M 132.952,66.1488 L 115.691,19.5492\" style=\"fill:none;fill-rule:evenodd;stroke:#E5E5E5;stroke-width:3.2px;stroke-linecap:butt;stroke-linejoin:miter;stroke-opacity:1\"/>\n",
       "<path class=\"bond-3\" d=\"M 121.527,70.3805 L 104.267,23.7809\" style=\"fill:none;fill-rule:evenodd;stroke:#E5E5E5;stroke-width:3.2px;stroke-linecap:butt;stroke-linejoin:miter;stroke-opacity:1;stroke-dasharray:6,6\"/>\n",
       "<path class=\"atom-0\" d=\"M 7.64664 56.0128 L 10.1807 53.4299 L 6.81818 52.7477 L 7.32988 51.0177 L 10.4244 52.5771 L 9.98581 49.1902 L 11.8133 49.1658 L 11.3016 52.5527 L 14.4449 51.0908 L 14.9809 52.7477 L 11.5696 53.3812 L 14.0063 55.9884 L 12.5199 57.0605 L 10.8386 53.8442 L 9.13299 57.0605 L 7.64664 56.0128 \" fill=\"#191919\"/>\n",
       "<path class=\"atom-1\" d=\"M 28.2448 106.435 L 33.8978 115.573 Q 34.4583 116.474, 35.3598 118.107 Q 36.2614 119.739, 36.3101 119.837 L 36.3101 106.435 L 38.6005 106.435 L 38.6005 123.687 L 36.237 123.687 L 30.1698 113.696 Q 29.4631 112.527, 28.7078 111.187 Q 27.9768 109.847, 27.7575 109.432 L 27.7575 123.687 L 25.5158 123.687 L 25.5158 106.435 L 28.2448 106.435 \" fill=\"#0000FF\"/>\n",
       "<path class=\"atom-3\" d=\"M 127.185 69.7875 L 132.838 78.9249 Q 133.399 79.8265, 134.3 81.459 Q 135.202 83.0916, 135.251 83.189 L 135.251 69.7875 L 137.541 69.7875 L 137.541 87.0389 L 135.177 87.0389 L 129.11 77.0487 Q 128.404 75.8791, 127.648 74.539 Q 126.917 73.1988, 126.698 72.7846 L 126.698 87.0389 L 124.456 87.0389 L 124.456 69.7875 L 127.185 69.7875 \" fill=\"#0000FF\"/>\n",
       "<path class=\"atom-4\" d=\"M 106.587 19.365 L 109.121 16.7821 L 105.759 16.0999 L 106.27 14.3699 L 109.365 15.9293 L 108.926 12.5424 L 110.754 12.518 L 110.242 15.905 L 113.385 14.443 L 113.921 16.0999 L 110.51 16.7334 L 112.947 19.3406 L 111.46 20.4127 L 109.779 17.1964 L 108.073 20.4127 L 106.587 19.365 \" fill=\"#191919\"/>\n",
       "</svg>"
      ],
      "text/plain": [
       "<IPython.core.display.SVG object>"
      ]
     },
     "metadata": {},
     "output_type": "display_data"
    },
    {
     "name": "stdout",
     "output_type": "stream",
     "text": [
      "Bit 366 -----------------------------------------------\n"
     ]
    },
    {
     "data": {
      "image/svg+xml": [
       "<svg baseProfile=\"full\" height=\"150px\" version=\"1.1\" viewBox=\"0 0 150 150\" width=\"150px\" xml:space=\"preserve\" xmlns=\"http://www.w3.org/2000/svg\" xmlns:rdkit=\"http://www.rdkit.org/xml\" xmlns:xlink=\"http://www.w3.org/1999/xlink\">\n",
       "<!-- END OF HEADER -->\n",
       "<rect height=\"150\" style=\"opacity:1.0;fill:#FFFFFF;stroke:none\" width=\"150\" x=\"0\" y=\"0\"> </rect>\n",
       "<ellipse cx=\"96.7421\" cy=\"99.0307\" rx=\"8.82233\" ry=\"8.82233\" style=\"fill:#E5E533;fill-rule:evenodd;stroke:#E5E533;stroke-width:2px;stroke-linecap:butt;stroke-linejoin:miter;stroke-opacity:1\"/>\n",
       "<ellipse cx=\"81.4203\" cy=\"57.6655\" rx=\"8.82233\" ry=\"8.82233\" style=\"fill:#9999E5;fill-rule:evenodd;stroke:#9999E5;stroke-width:2px;stroke-linecap:butt;stroke-linejoin:miter;stroke-opacity:1\"/>\n",
       "<ellipse cx=\"37.9361\" cy=\"50.2519\" rx=\"8.82233\" ry=\"8.82233\" style=\"fill:#E5E533;fill-rule:evenodd;stroke:#E5E533;stroke-width:2px;stroke-linecap:butt;stroke-linejoin:miter;stroke-opacity:1\"/>\n",
       "<path class=\"bond-0\" d=\"M 76.0331,130.906 L 100.137,101.847\" style=\"fill:none;fill-rule:evenodd;stroke:#E5E5E5;stroke-width:2.4px;stroke-linecap:butt;stroke-linejoin:miter;stroke-opacity:1\"/>\n",
       "<path class=\"bond-0\" d=\"M 69.2428,125.274 L 93.3469,96.2144\" style=\"fill:none;fill-rule:evenodd;stroke:#E5E5E5;stroke-width:2.4px;stroke-linecap:butt;stroke-linejoin:miter;stroke-opacity:1;stroke-dasharray:6,6\"/>\n",
       "<path class=\"bond-1\" d=\"M 96.7421,99.0307 L 136.168,105.752\" style=\"fill:none;fill-rule:evenodd;stroke:#E5E5E5;stroke-width:2.4px;stroke-linecap:butt;stroke-linejoin:miter;stroke-opacity:1\"/>\n",
       "<path class=\"bond-2\" d=\"M 96.7421,99.0307 L 81.4203,57.6655\" style=\"fill:none;fill-rule:evenodd;stroke:#000000;stroke-width:2.0px;stroke-linecap:butt;stroke-linejoin:miter;stroke-opacity:1\"/>\n",
       "<path class=\"bond-2\" d=\"M 86.1708,95.8903 L 75.4456,66.9346\" style=\"fill:none;fill-rule:evenodd;stroke:#000000;stroke-width:2.0px;stroke-linecap:butt;stroke-linejoin:miter;stroke-opacity:1;stroke-dasharray:6,6\"/>\n",
       "<path class=\"bond-3\" d=\"M 81.4203,57.6655 L 92.5417,44.258\" style=\"fill:none;fill-rule:evenodd;stroke:#000000;stroke-width:2.0px;stroke-linecap:butt;stroke-linejoin:miter;stroke-opacity:1\"/>\n",
       "<path class=\"bond-3\" d=\"M 92.5417,44.258 L 103.663,30.8505\" style=\"fill:none;fill-rule:evenodd;stroke:#00CC00;stroke-width:2.0px;stroke-linecap:butt;stroke-linejoin:miter;stroke-opacity:1\"/>\n",
       "<path class=\"bond-4\" d=\"M 81.4203,57.6655 L 37.9361,50.2519\" style=\"fill:none;fill-rule:evenodd;stroke:#000000;stroke-width:2.0px;stroke-linecap:butt;stroke-linejoin:miter;stroke-opacity:1\"/>\n",
       "<path class=\"bond-4\" d=\"M 73.415,65.2503 L 42.976,60.0608\" style=\"fill:none;fill-rule:evenodd;stroke:#000000;stroke-width:2.0px;stroke-linecap:butt;stroke-linejoin:miter;stroke-opacity:1;stroke-dasharray:6,6\"/>\n",
       "<path class=\"bond-5\" d=\"M 34.5409,47.4357 L 10.4368,76.4948\" style=\"fill:none;fill-rule:evenodd;stroke:#E5E5E5;stroke-width:2.4px;stroke-linecap:butt;stroke-linejoin:miter;stroke-opacity:1\"/>\n",
       "<path class=\"bond-5\" d=\"M 41.3313,53.0681 L 17.2271,82.1273\" style=\"fill:none;fill-rule:evenodd;stroke:#E5E5E5;stroke-width:2.4px;stroke-linecap:butt;stroke-linejoin:miter;stroke-opacity:1;stroke-dasharray:6,6\"/>\n",
       "<path class=\"atom-0\" d=\"M 66.2241 131.588 L 68.0591 129.718 L 65.6242 129.224 L 65.9947 127.971 L 68.2356 129.101 L 67.918 126.648 L 69.2413 126.63 L 68.8708 129.083 L 71.147 128.024 L 71.5351 129.224 L 69.0649 129.683 L 70.8294 131.571 L 69.753 132.347 L 68.5356 130.018 L 67.3004 132.347 L 66.2241 131.588 \" fill=\"#191919\"/>\n",
       "<path class=\"atom-2\" d=\"M 137.871 105.05 L 139.706 103.18 L 137.271 102.686 L 137.641 101.433 L 139.882 102.562 L 139.565 100.11 L 140.888 100.092 L 140.517 102.545 L 142.794 101.486 L 143.182 102.686 L 140.712 103.145 L 142.476 105.033 L 141.4 105.809 L 140.182 103.48 L 138.947 105.809 L 137.871 105.05 \" fill=\"#191919\"/>\n",
       "<path class=\"atom-4\" d=\"M 104.766 24.1461 Q 104.766 21.0406, 106.213 19.4173 Q 107.677 17.7764, 110.447 17.7764 Q 113.023 17.7764, 114.4 19.5938 L 113.235 20.5466 Q 112.229 19.2232, 110.447 19.2232 Q 108.559 19.2232, 107.554 20.4936 Q 106.566 21.7464, 106.566 24.1461 Q 106.566 26.6163, 107.589 27.8868 Q 108.63 29.1572, 110.641 29.1572 Q 112.018 29.1572, 113.623 28.3279 L 114.117 29.6512 Q 113.465 30.0747, 112.477 30.3217 Q 111.488 30.5688, 110.394 30.5688 Q 107.677 30.5688, 106.213 28.9102 Q 104.766 27.2516, 104.766 24.1461 \" fill=\"#00CC00\"/>\n",
       "<path class=\"atom-4\" d=\"M 115.917 17.0177 L 117.541 17.0177 L 117.541 30.41 L 115.917 30.41 L 115.917 17.0177 \" fill=\"#00CC00\"/>\n",
       "<path class=\"atom-6\" d=\"M 7.4181 82.8096 L 9.25315 80.9393 L 6.81818 80.4452 L 7.18872 79.1925 L 9.42959 80.3217 L 9.11199 77.8691 L 10.4353 77.8515 L 10.0648 80.3041 L 12.341 79.2454 L 12.7291 80.4452 L 10.2589 80.904 L 12.0234 82.792 L 10.947 83.5684 L 9.72955 81.2393 L 8.49442 83.5684 L 7.4181 82.8096 \" fill=\"#191919\"/>\n",
       "</svg>"
      ],
      "text/plain": [
       "<IPython.core.display.SVG object>"
      ]
     },
     "metadata": {},
     "output_type": "display_data"
    },
    {
     "name": "stdout",
     "output_type": "stream",
     "text": [
      "Bit 1077 ----------------------------------------------\n"
     ]
    },
    {
     "data": {
      "image/svg+xml": [
       "<svg baseProfile=\"full\" height=\"150px\" version=\"1.1\" viewBox=\"0 0 150 150\" width=\"150px\" xml:space=\"preserve\" xmlns=\"http://www.w3.org/2000/svg\" xmlns:rdkit=\"http://www.rdkit.org/xml\" xmlns:xlink=\"http://www.w3.org/1999/xlink\">\n",
       "<!-- END OF HEADER -->\n",
       "<rect height=\"150\" style=\"opacity:1.0;fill:#FFFFFF;stroke:none\" width=\"150\" x=\"0\" y=\"0\"> </rect>\n",
       "<ellipse cx=\"66.0462\" cy=\"87.8821\" rx=\"5.81269\" ry=\"5.81269\" style=\"fill:#9999E5;fill-rule:evenodd;stroke:#9999E5;stroke-width:2px;stroke-linecap:butt;stroke-linejoin:miter;stroke-opacity:1\"/>\n",
       "<ellipse cx=\"46.5776\" cy=\"109.461\" rx=\"5.81269\" ry=\"5.81269\" style=\"fill:#E5E533;fill-rule:evenodd;stroke:#E5E533;stroke-width:2px;stroke-linecap:butt;stroke-linejoin:miter;stroke-opacity:1\"/>\n",
       "<ellipse cx=\"55.5314\" cy=\"137.111\" rx=\"5.81269\" ry=\"5.81269\" style=\"fill:#E5E533;fill-rule:evenodd;stroke:#E5E533;stroke-width:2px;stroke-linecap:butt;stroke-linejoin:miter;stroke-opacity:1\"/>\n",
       "<ellipse cx=\"103.422\" cy=\"121.603\" rx=\"5.81269\" ry=\"5.81269\" style=\"fill:#E5E533;fill-rule:evenodd;stroke:#E5E533;stroke-width:2px;stroke-linecap:butt;stroke-linejoin:miter;stroke-opacity:1\"/>\n",
       "<ellipse cx=\"94.4686\" cy=\"93.9528\" rx=\"5.81269\" ry=\"5.81269\" style=\"fill:#E5E533;fill-rule:evenodd;stroke:#E5E533;stroke-width:2px;stroke-linecap:butt;stroke-linejoin:miter;stroke-opacity:1\"/>\n",
       "<path class=\"bond-0\" d=\"M 67.707,11.3114 L 76.561,38.6532\" style=\"fill:none;fill-rule:evenodd;stroke:#E5E5E5;stroke-width:1.6px;stroke-linecap:butt;stroke-linejoin:miter;stroke-opacity:1\"/>\n",
       "<path class=\"bond-1\" d=\"M 75.9539,41.4954 L 101.702,46.995\" style=\"fill:none;fill-rule:evenodd;stroke:#E5E5E5;stroke-width:1.6px;stroke-linecap:butt;stroke-linejoin:miter;stroke-opacity:1\"/>\n",
       "<path class=\"bond-1\" d=\"M 77.1681,35.8109 L 102.917,41.3105\" style=\"fill:none;fill-rule:evenodd;stroke:#E5E5E5;stroke-width:1.6px;stroke-linecap:butt;stroke-linejoin:miter;stroke-opacity:1\"/>\n",
       "<path class=\"bond-2\" d=\"M 76.561,38.6532 L 68.7507,47.3101\" style=\"fill:none;fill-rule:evenodd;stroke:#000000;stroke-width:2.0px;stroke-linecap:butt;stroke-linejoin:miter;stroke-opacity:1\"/>\n",
       "<path class=\"bond-2\" d=\"M 68.7507,47.3101 L 60.9404,55.9671\" style=\"fill:none;fill-rule:evenodd;stroke:#0000FF;stroke-width:2.0px;stroke-linecap:butt;stroke-linejoin:miter;stroke-opacity:1\"/>\n",
       "<path class=\"bond-3\" d=\"M 58.6604,65.0743 L 62.3533,76.4782\" style=\"fill:none;fill-rule:evenodd;stroke:#0000FF;stroke-width:2.0px;stroke-linecap:butt;stroke-linejoin:miter;stroke-opacity:1\"/>\n",
       "<path class=\"bond-3\" d=\"M 62.3533,76.4782 L 66.0462,87.8821\" style=\"fill:none;fill-rule:evenodd;stroke:#000000;stroke-width:2.0px;stroke-linecap:butt;stroke-linejoin:miter;stroke-opacity:1\"/>\n",
       "<path class=\"bond-4\" d=\"M 66.0462,87.8821 L 46.5776,109.461\" style=\"fill:none;fill-rule:evenodd;stroke:#000000;stroke-width:2.0px;stroke-linecap:butt;stroke-linejoin:miter;stroke-opacity:1\"/>\n",
       "<path class=\"bond-4\" d=\"M 67.4417,95.0127 L 53.8138,110.118\" style=\"fill:none;fill-rule:evenodd;stroke:#000000;stroke-width:2.0px;stroke-linecap:butt;stroke-linejoin:miter;stroke-opacity:1\"/>\n",
       "<path class=\"bond-9\" d=\"M 66.0462,87.8821 L 94.4686,93.9528\" style=\"fill:none;fill-rule:evenodd;stroke:#000000;stroke-width:2.0px;stroke-linecap:butt;stroke-linejoin:miter;stroke-opacity:1\"/>\n",
       "<path class=\"bond-5\" d=\"M 46.5776,109.461 L 55.5314,137.111\" style=\"fill:none;fill-rule:evenodd;stroke:#000000;stroke-width:2.0px;stroke-linecap:butt;stroke-linejoin:miter;stroke-opacity:1\"/>\n",
       "<path class=\"bond-6\" d=\"M 55.5314,137.111 L 81.28,142.611\" style=\"fill:none;fill-rule:evenodd;stroke:#E5E5E5;stroke-width:1.6px;stroke-linecap:butt;stroke-linejoin:miter;stroke-opacity:1\"/>\n",
       "<path class=\"bond-6\" d=\"M 60.6079,132.252 L 78.6318,136.101\" style=\"fill:none;fill-rule:evenodd;stroke:#E5E5E5;stroke-width:1.6px;stroke-linecap:butt;stroke-linejoin:miter;stroke-opacity:1\"/>\n",
       "<path class=\"bond-7\" d=\"M 86.6276,140.218 L 103.422,121.603\" style=\"fill:none;fill-rule:evenodd;stroke:#E5E5E5;stroke-width:1.6px;stroke-linecap:butt;stroke-linejoin:miter;stroke-opacity:1\"/>\n",
       "<path class=\"bond-8\" d=\"M 103.422,121.603 L 94.4686,93.9528\" style=\"fill:none;fill-rule:evenodd;stroke:#000000;stroke-width:2.0px;stroke-linecap:butt;stroke-linejoin:miter;stroke-opacity:1\"/>\n",
       "<path class=\"bond-8\" d=\"M 96.5493,119.246 L 90.2817,99.8911\" style=\"fill:none;fill-rule:evenodd;stroke:#000000;stroke-width:2.0px;stroke-linecap:butt;stroke-linejoin:miter;stroke-opacity:1\"/>\n",
       "<path class=\"atom-0\" d=\"M 66.0552 10.0849 L 67.2642 8.85262 L 65.6599 8.52711 L 65.9041 7.70171 L 67.3805 8.44574 L 67.1712 6.82981 L 68.0431 6.81818 L 67.799 8.43411 L 69.2987 7.73659 L 69.5544 8.52711 L 67.9269 8.82937 L 69.0894 10.0733 L 68.3803 10.5848 L 67.5781 9.05025 L 66.7644 10.5848 L 66.0552 10.0849 \" fill=\"#191919\"/>\n",
       "<path class=\"atom-2\" d=\"M 103.431 43.8055 L 104.64 42.5732 L 103.036 42.2477 L 103.28 41.4223 L 104.757 42.1663 L 104.547 40.5504 L 105.419 40.5387 L 105.175 42.1547 L 106.675 41.4571 L 106.931 42.2477 L 105.303 42.5499 L 106.466 43.7938 L 105.756 44.3054 L 104.954 42.7708 L 104.141 44.3054 L 103.431 43.8055 \" fill=\"#191919\"/>\n",
       "<path class=\"atom-3\" d=\"M 46.5656 56.1169 L 47.6817 56.1169 L 47.6817 59.6161 L 51.8901 59.6161 L 51.8901 56.1169 L 53.0061 56.1169 L 53.0061 64.3477 L 51.8901 64.3477 L 51.8901 60.5462 L 47.6817 60.5462 L 47.6817 64.3477 L 46.5656 64.3477 L 46.5656 56.1169 \" fill=\"#0000FF\"/>\n",
       "<path class=\"atom-3\" d=\"M 55.273 56.1169 L 57.9701 60.4764 Q 58.2375 60.9066, 58.6677 61.6855 Q 59.0978 62.4644, 59.121 62.5109 L 59.121 56.1169 L 60.2138 56.1169 L 60.2138 64.3477 L 59.0862 64.3477 L 56.1914 59.5813 Q 55.8543 59.0233, 55.4939 58.3839 Q 55.1452 57.7445, 55.0405 57.5468 L 55.0405 64.3477 L 53.971 64.3477 L 53.971 56.1169 L 55.273 56.1169 \" fill=\"#0000FF\"/>\n",
       "<path class=\"atom-7\" d=\"M 82.4018 142.263 L 83.6108 141.031 L 82.0065 140.706 L 82.2507 139.88 L 83.7271 140.624 L 83.5178 139.008 L 84.3897 138.997 L 84.1456 140.613 L 85.6453 139.915 L 85.901 140.706 L 84.2735 141.008 L 85.436 142.252 L 84.7269 142.763 L 83.9247 141.229 L 83.111 142.763 L 82.4018 142.263 \" fill=\"#191919\"/>\n",
       "</svg>"
      ],
      "text/plain": [
       "<IPython.core.display.SVG object>"
      ]
     },
     "metadata": {},
     "output_type": "display_data"
    },
    {
     "name": "stdout",
     "output_type": "stream",
     "text": [
      "Bit 650 -----------------------------------------------\n"
     ]
    },
    {
     "data": {
      "image/svg+xml": [
       "<svg baseProfile=\"full\" height=\"150px\" version=\"1.1\" viewBox=\"0 0 150 150\" width=\"150px\" xml:space=\"preserve\" xmlns=\"http://www.w3.org/2000/svg\" xmlns:rdkit=\"http://www.rdkit.org/xml\" xmlns:xlink=\"http://www.w3.org/1999/xlink\">\n",
       "<!-- END OF HEADER -->\n",
       "<rect height=\"150\" style=\"opacity:1.0;fill:#FFFFFF;stroke:none\" width=\"150\" x=\"0\" y=\"0\"> </rect>\n",
       "<ellipse cx=\"28.9296\" cy=\"81.8277\" rx=\"22.1115\" ry=\"22.1115\" style=\"fill:#9999E5;fill-rule:evenodd;stroke:#9999E5;stroke-width:2px;stroke-linecap:butt;stroke-linejoin:miter;stroke-opacity:1\"/>\n",
       "<path class=\"bond-0\" d=\"M 128.547,49.4543 L 42.2456,67.7104\" style=\"fill:none;fill-rule:evenodd;stroke:#E5E5E5;stroke-width:5.9px;stroke-linecap:butt;stroke-linejoin:miter;stroke-opacity:1\"/>\n",
       "<path class=\"bond-0\" d=\"M 133.123,71.087 L 46.8217,89.3432\" style=\"fill:none;fill-rule:evenodd;stroke:#E5E5E5;stroke-width:5.9px;stroke-linecap:butt;stroke-linejoin:miter;stroke-opacity:1\"/>\n",
       "<path class=\"atom-0\" d=\"M 131.753 55.7867 L 135.913 51.5467 L 130.393 50.4267 L 131.233 47.5867 L 136.313 50.1467 L 135.593 44.5867 L 138.593 44.5467 L 137.753 50.1067 L 142.913 47.7067 L 143.793 50.4267 L 138.193 51.4667 L 142.193 55.7467 L 139.753 57.5067 L 136.993 52.2267 L 134.193 57.5067 L 131.753 55.7867 \" fill=\"#191919\"/>\n",
       "<path class=\"atom-1\" d=\"M 15.9296 81.9077 Q 15.9296 75.1077, 19.2896 71.3077 Q 22.6496 67.5077, 28.9296 67.5077 Q 35.2096 67.5077, 38.5696 71.3077 Q 41.9296 75.1077, 41.9296 81.9077 Q 41.9296 88.7877, 38.5296 92.7077 Q 35.1296 96.5877, 28.9296 96.5877 Q 22.6896 96.5877, 19.2896 92.7077 Q 15.9296 88.8277, 15.9296 81.9077 M 28.9296 93.3877 Q 33.2496 93.3877, 35.5696 90.5077 Q 37.9296 87.5877, 37.9296 81.9077 Q 37.9296 76.3477, 35.5696 73.5477 Q 33.2496 70.7077, 28.9296 70.7077 Q 24.6096 70.7077, 22.2496 73.5077 Q 19.9296 76.3077, 19.9296 81.9077 Q 19.9296 87.6277, 22.2496 90.5077 Q 24.6096 93.3877, 28.9296 93.3877 \" fill=\"#FF0000\"/>\n",
       "</svg>"
      ],
      "text/plain": [
       "<IPython.core.display.SVG object>"
      ]
     },
     "metadata": {},
     "output_type": "display_data"
    }
   ],
   "source": [
    "top_10_bits = [1367, 1226, 1452, 329, 1928, 1482, 489, 366, 1077, 650]\n",
    "\n",
    "for bit_num in top_10_bits:\n",
    "    search_bit = str(bit_num)\n",
    "    print('Bit {}'.format(search_bit), '-'*(50 - len(search_bit)))\n",
    "\n",
    "    # get bit info corresponding to it\n",
    "    chemblid, bi = [(_id, bit_info) for _id, bit_info in chembl_to_bitinfo.items()\n",
    "                    if search_bit in list(bit_info.keys())][0]\n",
    "    \n",
    "    search_mol = get_mol(chemblid, df_smiles)\n",
    "    bit_img = Draw.DrawMorganBit(search_mol, search_bit, bi, useSVG=True)\n",
    "    display(bit_img)"
   ]
  },
  {
   "cell_type": "code",
   "execution_count": null,
   "id": "b3e44a70-6ede-4d4a-b762-a2e125a56073",
   "metadata": {},
   "outputs": [],
   "source": []
  }
 ],
 "metadata": {
  "kernelspec": {
   "display_name": "Python 3",
   "language": "python",
   "name": "python3"
  },
  "language_info": {
   "codemirror_mode": {
    "name": "ipython",
    "version": 3
   },
   "file_extension": ".py",
   "mimetype": "text/x-python",
   "name": "python",
   "nbconvert_exporter": "python",
   "pygments_lexer": "ipython3",
   "version": "3.7.9"
  }
 },
 "nbformat": 4,
 "nbformat_minor": 5
}
