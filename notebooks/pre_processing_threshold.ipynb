{
 "cells": [
  {
   "cell_type": "code",
   "execution_count": 119,
   "id": "0cf80622",
   "metadata": {},
   "outputs": [],
   "source": [
    "from pathlib import Path\n",
    "import sys\n",
    "\n",
    "sys.path.append(str(Path('').absolute().parent))"
   ]
  },
  {
   "cell_type": "code",
   "execution_count": 120,
   "id": "58a0f2b3",
   "metadata": {},
   "outputs": [],
   "source": [
    "import h5py\n",
    "import pandas as pd\n",
    "import numpy as np\n",
    "from scripts.morgan_handler import get_morgan_fingerprints\n",
    "\n",
    "morgan_fp, df_labels = get_morgan_fingerprints()"
   ]
  },
  {
   "cell_type": "code",
   "execution_count": 121,
   "id": "89cd54aa",
   "metadata": {},
   "outputs": [],
   "source": [
    "def list_indexes_to_drop(dataframe, threshold):\n",
    "    \n",
    "    #INTPUT: \n",
    "    #Dataframe calculado - índice e % de incidência ou variância\n",
    "    #Threshold - % de indidência mínimo ou variância mínima\n",
    "    \n",
    "    #OUTPUT:\n",
    "    #Lista de índices dos bits a serem remodidos da Fingerprint\n",
    "    \n",
    "    sorted_df = dataframe.sort_values(by = 'calculation', ascending = False, ignore_index = True)\n",
    "    \n",
    "    row = 0\n",
    "    \n",
    "    indexes_to_drop = []\n",
    "    \n",
    "    while row < len(sorted_df) and sorted_df.iloc[row,1] >= threshold:\n",
    "        row = row + 1\n",
    "    \n",
    "    while row < len(sorted_df):\n",
    "        indexes_to_drop.append(sorted_df.iloc[row, 0])\n",
    "        row = row + 1\n",
    "        \n",
    "    return indexes_to_drop\n",
    "    \n",
    "    \n",
    "def selection_by_threshold(method, np_array, threshold):\n",
    "    \n",
    "    #INPUT:\n",
    "    #Método: \n",
    "        #'variance' - retirar valores a partir de uma var mínima\n",
    "        #'incidence'- retirar valores a partir de uma indidência mínima [0,1]\n",
    "    #np_array - fingerprints\n",
    "    #Threshold - % de indidência mínimo ou variância mínima\n",
    "    \n",
    "    #OUTPUT:\n",
    "    #Clean_array - fingerprint com as colunas de baixa variância ou incidência removida\n",
    "    #Dropped_indexes - lista de índices (bits) desconsiderados\n",
    "    \n",
    "    indexes = range(0, np_array.shape[1])\n",
    "    \n",
    "    if method == 'variance':\n",
    "        #Variância de cada bit\n",
    "        method_calculation = np.var(np_array, axis= 0)\n",
    "        \n",
    "    if method == 'incidence':\n",
    "        #Percentual incidente de um determinado bit\n",
    "        method_calculation = np.sum(np_array, axis = 0)\n",
    "        method_calculation = method_calculation/np_array.shape[0]\n",
    "\n",
    "    method_df = pd.DataFrame({'index' : indexes, 'calculation': method_calculation})\n",
    "    \n",
    "    indexes_to_drop = list_indexes_to_drop(method_df, threshold)\n",
    "    \n",
    "    clean_array = np.delete(np_array, indexes_to_drop, 1)\n",
    "    dropped_indexes = indexes_to_drop\n",
    "    \n",
    "    return clean_array, dropped_indexes\n",
    "        "
   ]
  },
  {
   "cell_type": "code",
   "execution_count": 122,
   "id": "044a6a32",
   "metadata": {},
   "outputs": [],
   "source": [
    "clean_array, dropped_indexes = selection_by_threshold('variance', morgan_fp, 0.2)"
   ]
  },
  {
   "cell_type": "code",
   "execution_count": 123,
   "id": "5fc22116",
   "metadata": {},
   "outputs": [
    {
     "data": {
      "text/plain": [
       "(5175, 28)"
      ]
     },
     "execution_count": 123,
     "metadata": {},
     "output_type": "execute_result"
    }
   ],
   "source": [
    "array.shape"
   ]
  },
  {
   "cell_type": "code",
   "execution_count": 124,
   "id": "8b480b69",
   "metadata": {},
   "outputs": [
    {
     "data": {
      "text/plain": [
       "2020"
      ]
     },
     "execution_count": 124,
     "metadata": {},
     "output_type": "execute_result"
    }
   ],
   "source": [
    "len(dropped_indexes)"
   ]
  }
 ],
 "metadata": {
  "kernelspec": {
   "display_name": "Python 3",
   "language": "python",
   "name": "python3"
  },
  "language_info": {
   "codemirror_mode": {
    "name": "ipython",
    "version": 3
   },
   "file_extension": ".py",
   "mimetype": "text/x-python",
   "name": "python",
   "nbconvert_exporter": "python",
   "pygments_lexer": "ipython3",
   "version": "3.9.1"
  }
 },
 "nbformat": 4,
 "nbformat_minor": 5
}
