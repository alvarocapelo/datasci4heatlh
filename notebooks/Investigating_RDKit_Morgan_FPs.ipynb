{
 "cells": [
  {
   "cell_type": "code",
   "execution_count": 1,
   "metadata": {
    "id": "76HjUXfGaWZT"
   },
   "outputs": [],
   "source": [
    "from rdkit import Chem, DataStructs\n",
    "from rdkit.Chem.Draw import IPythonConsole\n",
    "from rdkit.Chem import (Draw,\n",
    "                        Descriptors,\n",
    "                        AllChem)\n",
    "from rdkit.Chem.AtomPairs import Pairs\n",
    "import numpy as np\n",
    "from pathlib import Path\n",
    "import h5py as h5\n",
    "from chembl_webresource_client.new_client import new_client\n",
    "from string import Template\n",
    "from pprint import pprint"
   ]
  },
  {
   "cell_type": "markdown",
   "metadata": {
    "id": "N2_aDjqPj3E4"
   },
   "source": [
    "# Carregar dados"
   ]
  },
  {
   "cell_type": "code",
   "execution_count": 2,
   "metadata": {
    "id": "gcNmemcsdoS4"
   },
   "outputs": [],
   "source": [
    "DATA_DIR = Path('../data/')\n",
    "data_filename = 'egfr_erbB1.h5'"
   ]
  },
  {
   "cell_type": "code",
   "execution_count": 3,
   "metadata": {
    "colab": {
     "base_uri": "https://localhost:8080/"
    },
    "id": "dxaJV3cwLyR-",
    "outputId": "4a505ea0-4c32-4eee-d998-728019bc58d7"
   },
   "outputs": [],
   "source": [
    "data = h5.File(DATA_DIR / 'raw' / data_filename)"
   ]
  },
  {
   "cell_type": "code",
   "execution_count": 4,
   "metadata": {
    "colab": {
     "base_uri": "https://localhost:8080/"
    },
    "id": "z4pof4ElMOyg",
    "outputId": "6ffced88-2a73-48a0-9cf2-1cf84f72fcd5"
   },
   "outputs": [
    {
     "data": {
      "text/plain": [
       "[('ap', <HDF5 group \"/ap\" (3 members)>),\n",
       " ('chembl_id', <HDF5 dataset \"chembl_id\": shape (6937,), type \"|S13\">),\n",
       " ('label', <HDF5 dataset \"label\": shape (6937,), type \"<i8\">),\n",
       " ('mg', <HDF5 group \"/mg\" (3 members)>),\n",
       " ('tt', <HDF5 group \"/tt\" (3 members)>),\n",
       " ('year', <HDF5 dataset \"year\": shape (6937,), type \"<i8\">)]"
      ]
     },
     "execution_count": 4,
     "metadata": {},
     "output_type": "execute_result"
    }
   ],
   "source": [
    "list(data.items() )"
   ]
  },
  {
   "cell_type": "markdown",
   "metadata": {
    "id": "E6xGYBGmk_th"
   },
   "source": [
    "### Obtendo _Fingerprints_(FPs) de Morgan a partir de Chembl IDs"
   ]
  },
  {
   "cell_type": "code",
   "execution_count": 5,
   "metadata": {
    "id": "3x2tR7rQMfiW"
   },
   "outputs": [],
   "source": [
    "def chembl_to_smiles(chembl_id):\n",
    "    # Fetch data from website and returns the smiles notation. Input = Chembl Id, Output = Smiles notation\n",
    "    molecule = new_client.molecule\n",
    "    return molecule.get(chembl_id)['molecule_structures']['canonical_smiles']"
   ]
  },
  {
   "cell_type": "code",
   "execution_count": 6,
   "metadata": {
    "id": "4ydBii3FkMDL"
   },
   "outputs": [],
   "source": [
    "chembl_ids = list(map(lambda x: x.decode('utf-8'), data['chembl_id']))"
   ]
  },
  {
   "cell_type": "code",
   "execution_count": 7,
   "metadata": {
    "colab": {
     "base_uri": "https://localhost:8080/"
    },
    "id": "gTnr2IokkMqT",
    "outputId": "e1957d8c-d361-44e9-c798-dbf13e4eb610"
   },
   "outputs": [
    {
     "name": "stdout",
     "output_type": "stream",
     "text": [
      "6937 ids to get FPs from.\n"
     ]
    }
   ],
   "source": [
    "print('{} ids to get FPs from.'.format(len(chembl_ids)))"
   ]
  },
  {
   "cell_type": "markdown",
   "metadata": {
    "id": "AiJmmYp_6WtQ"
   },
   "source": [
    "## Gerando FPs usando diferentes métodos: os bits ativados gerados são os mesmos?"
   ]
  },
  {
   "cell_type": "code",
   "execution_count": 8,
   "metadata": {
    "id": "RAXIz8W0n5Rs"
   },
   "outputs": [],
   "source": [
    "fp_profile_template = Template(\n",
    "    '$name --------\\n'\n",
    "    '# total bits: $n_total_bits\\n'\n",
    "    '# non-zero bits: $n_on_bits\\n\\n'\n",
    ")"
   ]
  },
  {
   "cell_type": "code",
   "execution_count": 9,
   "metadata": {
    "id": "eylwrdoVkbjN"
   },
   "outputs": [],
   "source": [
    "mol_smiles = chembl_to_smiles(chembl_ids[15])\n",
    "mol = Chem.MolFromSmiles(mol_smiles)"
   ]
  },
  {
   "cell_type": "code",
   "execution_count": 10,
   "metadata": {
    "id": "2__UpTN5Nv0A"
   },
   "outputs": [],
   "source": [
    "bi_mg = {}\n",
    "mg = AllChem.GetMorganFingerprint(mol,\n",
    "                                    radius=2,\n",
    "                                    bitInfo=bi_mg)\n",
    "\n",
    "bi_mg_bit8k = {}\n",
    "mg_bit_8k = AllChem.GetMorganFingerprintAsBitVect(mol,\n",
    "                                                  radius=2,\n",
    "                                                  nBits=8196,\n",
    "                                                  bitInfo=bi_mg_bit8k)\n",
    "bi_mg_bit2k = {}\n",
    "mg_bit_2k = AllChem.GetMorganFingerprintAsBitVect(mol,\n",
    "                                                  radius=2,\n",
    "                                                  nBits=2048,\n",
    "                                                  bitInfo=bi_mg_bit2k)"
   ]
  },
  {
   "cell_type": "code",
   "execution_count": 11,
   "metadata": {
    "colab": {
     "base_uri": "https://localhost:8080/"
    },
    "id": "M-vwiJVimpYA",
    "outputId": "42e2891d-50d5-446d-8be6-bf1ead68651b"
   },
   "outputs": [
    {
     "name": "stdout",
     "output_type": "stream",
     "text": [
      "Using `AllChem.GetMorganFingerprint` --------\n",
      "# total bits: 4294967295\n",
      "# non-zero bits: 72\n",
      "\n",
      "\n",
      "Using `AllChem.GetMorganFingerprintAsBitVect` w; radius=2, nBits = 2048 --------\n",
      "# total bits: 2048\n",
      "# non-zero bits: 72\n",
      "\n",
      "\n",
      "Using `AllChem.GetMorganFingerprintAsBitVect` w; radius=2, nBits=8196 --------\n",
      "# total bits: 8196\n",
      "# non-zero bits: 71\n",
      "\n",
      "\n"
     ]
    }
   ],
   "source": [
    "print(fp_profile_template.substitute(name='Using `AllChem.GetMorganFingerprint`',\n",
    "                                     n_total_bits=mg.GetLength(),\n",
    "                                     n_on_bits=len(mg.GetNonzeroElements())))\n",
    "\n",
    "mg_bit_2k_arr = np.array(mg_bit_2k)\n",
    "print(fp_profile_template.substitute(name='Using `AllChem.GetMorganFingerprintAsBitVect` w; radius=2, nBits = 2048',\n",
    "                                     n_total_bits=len(mg_bit_2k_arr),\n",
    "                                     n_on_bits=mg_bit_2k_arr.sum()))\n",
    "\n",
    "mg_bit_8k_arr = np.array(mg_bit_8k)\n",
    "print(fp_profile_template.substitute(name='Using `AllChem.GetMorganFingerprintAsBitVect` w; radius=2, nBits=8196',\n",
    "                                     n_total_bits=len(mg_bit_8k_arr),\n",
    "                                     n_on_bits=mg_bit_8k_arr.sum()))"
   ]
  },
  {
   "cell_type": "markdown",
   "metadata": {
    "id": "w8NIa8MDP5p7"
   },
   "source": [
    "# Visualisando Bits de FPs de Morgan"
   ]
  },
  {
   "cell_type": "code",
   "execution_count": 12,
   "metadata": {
    "colab": {
     "base_uri": "https://localhost:8080/"
    },
    "id": "-BFKlWmky33S",
    "outputId": "c4f3f086-152f-4570-fa7e-566263ae8bab"
   },
   "outputs": [
    {
     "name": "stdout",
     "output_type": "stream",
     "text": [
      "['COc1cc2ncnc(Nc3ccc(F)c(Cl)c3)c2cc1OC', 'C=CC(=O)Nc1nc2c(Nc3ccc(F)c(Cl)c3)ncnc2cc1CCCCN1CCOCC1']\n"
     ]
    }
   ],
   "source": [
    "sample_smiles = [chembl_to_smiles(cb) for cb in chembl_ids[:2]]\n",
    "print(sample_smiles)\n",
    "mols = [Chem.MolFromSmiles(sm) for sm in sample_smiles]"
   ]
  },
  {
   "cell_type": "code",
   "execution_count": 13,
   "metadata": {
    "colab": {
     "base_uri": "https://localhost:8080/"
    },
    "id": "ZqxI9Y-zn0f5",
    "outputId": "c1052764-fb4d-42b6-d904-956668fd300e"
   },
   "outputs": [
    {
     "name": "stdout",
     "output_type": "stream",
     "text": [
      "COc1cc2ncnc(Nc3ccc(F)c(Cl)c3)c2cc1OC\n"
     ]
    },
    {
     "data": {
      "text/plain": [
       "[(191, ((10, 1),)),\n",
       " (216, ((12, 2),)),\n",
       " (249, ((1, 2), (21, 2))),\n",
       " (329, ((10, 2),)),\n",
       " (366, ((15, 1),))]"
      ]
     },
     "execution_count": 13,
     "metadata": {},
     "output_type": "execute_result"
    }
   ],
   "source": [
    "print(sample_smiles[0])\n",
    "bit_info1 = {}\n",
    "mgfp_bit1 = AllChem.GetMorganFingerprintAsBitVect(mols[0], radius=2,\n",
    "                                                  nBits=2048,\n",
    "                                                  bitInfo=bit_info1)\n",
    "list(bit_info1.items())[:5]"
   ]
  },
  {
   "cell_type": "code",
   "execution_count": 14,
   "metadata": {
    "colab": {
     "base_uri": "https://localhost:8080/"
    },
    "id": "UH-6dv5-zfH1",
    "outputId": "f6bc2997-e832-474c-bf2a-11de8d41dd48"
   },
   "outputs": [
    {
     "name": "stdout",
     "output_type": "stream",
     "text": [
      "C=CC(=O)Nc1nc2c(Nc3ccc(F)c(Cl)c3)ncnc2cc1CCCCN1CCOCC1\n"
     ]
    },
    {
     "data": {
      "text/plain": [
       "[(50, ((21, 2),)),\n",
       " (80, ((24, 0), (25, 0), (26, 0), (27, 0))),\n",
       " (161, ((2, 2),)),\n",
       " (191, ((10, 1),)),\n",
       " (216, ((12, 2),))]"
      ]
     },
     "execution_count": 14,
     "metadata": {},
     "output_type": "execute_result"
    }
   ],
   "source": [
    "print(sample_smiles[1])\n",
    "bit_info2 = {}\n",
    "mgfp_bit2 = AllChem.GetMorganFingerprintAsBitVect(mols[1], radius=2,\n",
    "                                                  nBits=2048,\n",
    "                                                  bitInfo=bit_info2)\n",
    "list(bit_info2.items())[:5]"
   ]
  },
  {
   "cell_type": "markdown",
   "metadata": {
    "id": "U8lPzgov209M"
   },
   "source": [
    "Cada dicionário `bit_info` é constituído da seguinte maneira:\n",
    "- as *chaves do dicionário* correspondem aos bits ativados\n",
    "- os *valores de cada chave* são tuplas de pares, sendo cada par uma tupla onde:\n",
    "    - primeiro elemento: número (posicional) do átomo que ativou aquele bit (átomo central da subestrutura)\n",
    "    - segundo elemento: valor de tamanho de raio (distância a partir do átomo central) usado quando aquela subestrutura foi identificada - relacionada ao \"tamanho\" da subestrutura"
   ]
  },
  {
   "cell_type": "markdown",
   "metadata": {
    "id": "agS__zHI2Otm"
   },
   "source": [
    "### O qeu significa o mesmo átomo em bits diferentes, com raios diferentes?"
   ]
  },
  {
   "cell_type": "code",
   "execution_count": 15,
   "metadata": {
    "colab": {
     "base_uri": "https://localhost:8080/"
    },
    "id": "p2AqmH2r2Ul8",
    "outputId": "92945f0f-750b-45dc-d123-52c52db5b8fb"
   },
   "outputs": [
    {
     "data": {
      "text/plain": [
       "[(191, ((10, 1),)),\n",
       " (216, ((12, 2),)),\n",
       " (249, ((1, 2), (21, 2))),\n",
       " (329, ((10, 2),)),\n",
       " (366, ((15, 1),))]"
      ]
     },
     "execution_count": 15,
     "metadata": {},
     "output_type": "execute_result"
    }
   ],
   "source": [
    "list(bit_info1.items())[:5]"
   ]
  },
  {
   "cell_type": "markdown",
   "metadata": {
    "id": "XpBIgQXW3-Eo"
   },
   "source": [
    "Dois bits diferentes, 191, 329, foram ativados pelo mesmo átomo central, com raios diferentes. O que isso significa?"
   ]
  },
  {
   "cell_type": "code",
   "execution_count": 16,
   "metadata": {
    "colab": {
     "base_uri": "https://localhost:8080/",
     "height": 171
    },
    "id": "WvD8AhbT2Ooa",
    "outputId": "51345b33-553d-4f2b-b754-078f7d545467"
   },
   "outputs": [
    {
     "data": {
      "image/svg+xml": [
       "<svg baseProfile=\"full\" height=\"150px\" version=\"1.1\" viewBox=\"0 0 150 150\" width=\"150px\" xml:space=\"preserve\" xmlns=\"http://www.w3.org/2000/svg\" xmlns:rdkit=\"http://www.rdkit.org/xml\" xmlns:xlink=\"http://www.w3.org/1999/xlink\">\n",
       "<!-- END OF HEADER -->\n",
       "<rect height=\"150\" style=\"opacity:1.0;fill:#FFFFFF;stroke:none\" width=\"150\" x=\"0\" y=\"0\"> </rect>\n",
       "<ellipse cx=\"75\" cy=\"71.6122\" rx=\"8.06307\" ry=\"8.06307\" style=\"fill:#9999E5;fill-rule:evenodd;stroke:#9999E5;stroke-width:2px;stroke-linecap:butt;stroke-linejoin:miter;stroke-opacity:1\"/>\n",
       "<ellipse cx=\"89.0032\" cy=\"109.418\" rx=\"8.06307\" ry=\"8.06307\" style=\"fill:#E5E533;fill-rule:evenodd;stroke:#E5E533;stroke-width:2px;stroke-linecap:butt;stroke-linejoin:miter;stroke-opacity:1\"/>\n",
       "<ellipse cx=\"100.739\" cy=\"40.5825\" rx=\"8.06307\" ry=\"8.06307\" style=\"fill:#E5E533;fill-rule:evenodd;stroke:#E5E533;stroke-width:2px;stroke-linecap:butt;stroke-linejoin:miter;stroke-opacity:1\"/>\n",
       "<path class=\"bond-0\" d=\"M 13.2283,91.395 L 29.8073,71.408\" style=\"fill:none;fill-rule:evenodd;stroke:#E5E5E5;stroke-width:2.2px;stroke-linecap:butt;stroke-linejoin:miter;stroke-opacity:1\"/>\n",
       "<path class=\"bond-1\" d=\"M 40.5958,65.7467 L 57.7979,68.6795\" style=\"fill:none;fill-rule:evenodd;stroke:#0000FF;stroke-width:2.0px;stroke-linecap:butt;stroke-linejoin:miter;stroke-opacity:1\"/>\n",
       "<path class=\"bond-1\" d=\"M 57.7979,68.6795 L 75,71.6122\" style=\"fill:none;fill-rule:evenodd;stroke:#000000;stroke-width:2.0px;stroke-linecap:butt;stroke-linejoin:miter;stroke-opacity:1\"/>\n",
       "<path class=\"bond-2\" d=\"M 75,71.6122 L 89.0032,109.418\" style=\"fill:none;fill-rule:evenodd;stroke:#000000;stroke-width:2.0px;stroke-linecap:butt;stroke-linejoin:miter;stroke-opacity:1\"/>\n",
       "<path class=\"bond-2\" d=\"M 69.5394,80.0837 L 79.3416,106.547\" style=\"fill:none;fill-rule:evenodd;stroke:#000000;stroke-width:2.0px;stroke-linecap:butt;stroke-linejoin:miter;stroke-opacity:1;stroke-dasharray:6,6\"/>\n",
       "<path class=\"bond-5\" d=\"M 75,71.6122 L 100.739,40.5825\" style=\"fill:none;fill-rule:evenodd;stroke:#000000;stroke-width:2.0px;stroke-linecap:butt;stroke-linejoin:miter;stroke-opacity:1\"/>\n",
       "<path class=\"bond-5\" d=\"M 85.0668,72.1055 L 103.084,50.3847\" style=\"fill:none;fill-rule:evenodd;stroke:#000000;stroke-width:2.0px;stroke-linecap:butt;stroke-linejoin:miter;stroke-opacity:1;stroke-dasharray:6,6\"/>\n",
       "<path class=\"bond-3\" d=\"M 88.3256,113.392 L 124.359,119.535\" style=\"fill:none;fill-rule:evenodd;stroke:#E5E5E5;stroke-width:2.2px;stroke-linecap:butt;stroke-linejoin:miter;stroke-opacity:1\"/>\n",
       "<path class=\"bond-3\" d=\"M 89.6807,105.443 L 125.714,111.587\" style=\"fill:none;fill-rule:evenodd;stroke:#E5E5E5;stroke-width:2.2px;stroke-linecap:butt;stroke-linejoin:miter;stroke-opacity:1;stroke-dasharray:6,6\"/>\n",
       "<path class=\"bond-4\" d=\"M 137.449,42.7515 L 101.416,36.6083\" style=\"fill:none;fill-rule:evenodd;stroke:#E5E5E5;stroke-width:2.2px;stroke-linecap:butt;stroke-linejoin:miter;stroke-opacity:1\"/>\n",
       "<path class=\"bond-4\" d=\"M 136.094,50.6999 L 100.061,44.5567\" style=\"fill:none;fill-rule:evenodd;stroke:#E5E5E5;stroke-width:2.2px;stroke-linecap:butt;stroke-linejoin:miter;stroke-opacity:1;stroke-dasharray:6,6\"/>\n",
       "<path class=\"atom-0\" d=\"M 7.36647 94.5925 L 9.04359 92.8831 L 6.81818 92.4316 L 7.15683 91.2866 L 9.20485 92.3187 L 8.91458 90.0771 L 10.124 90.061 L 9.78539 92.3026 L 11.8657 91.335 L 12.2204 92.4316 L 9.96278 92.8508 L 11.5754 94.5763 L 10.5917 95.2859 L 9.479 93.1572 L 8.35017 95.2859 L 7.36647 94.5925 \" fill=\"#191919\"/>\n",
       "<path class=\"atom-1\" d=\"M 20.6558 59.128 L 22.204 59.128 L 22.204 63.982 L 28.0416 63.982 L 28.0416 59.128 L 29.5897 59.128 L 29.5897 70.5453 L 28.0416 70.5453 L 28.0416 65.2721 L 22.204 65.2721 L 22.204 70.5453 L 20.6558 70.5453 L 20.6558 59.128 \" fill=\"#0000FF\"/>\n",
       "<path class=\"atom-1\" d=\"M 32.7343 59.128 L 36.4756 65.1753 Q 36.8465 65.772, 37.4432 66.8525 Q 38.0398 67.9329, 38.0721 67.9974 L 38.0721 59.128 L 39.5879 59.128 L 39.5879 70.5453 L 38.0237 70.5453 L 34.0083 63.9336 Q 33.5406 63.1596, 33.0407 62.2726 Q 32.5569 61.3857, 32.4118 61.1115 L 32.4118 70.5453 L 30.9282 70.5453 L 30.9282 59.128 L 32.7343 59.128 \" fill=\"#0000FF\"/>\n",
       "<path class=\"atom-4\" d=\"M 126.592 114.919 L 128.269 113.21 L 126.044 112.758 L 126.383 111.613 L 128.431 112.645 L 128.14 110.404 L 129.35 110.388 L 129.011 112.629 L 131.091 111.662 L 131.446 112.758 L 129.189 113.177 L 130.801 114.903 L 129.817 115.613 L 128.705 113.484 L 127.576 115.613 L 126.592 114.919 \" fill=\"#191919\"/>\n",
       "<path class=\"atom-5\" d=\"M 138.328 46.0841 L 140.005 44.3747 L 137.78 43.9232 L 138.118 42.7782 L 140.166 43.8103 L 139.876 41.5687 L 141.085 41.5526 L 140.747 43.7941 L 142.827 42.8266 L 143.182 43.9232 L 140.924 44.3424 L 142.537 46.0679 L 141.553 46.7775 L 140.44 44.6488 L 139.312 46.7775 L 138.328 46.0841 \" fill=\"#191919\"/>\n",
       "</svg>"
      ],
      "text/plain": [
       "<IPython.core.display.SVG object>"
      ]
     },
     "metadata": {},
     "output_type": "display_data"
    }
   ],
   "source": [
    "display(Draw.DrawMorganBit(mols[0], 191, bit_info1, useSVG=True))"
   ]
  },
  {
   "cell_type": "code",
   "execution_count": 17,
   "metadata": {
    "colab": {
     "base_uri": "https://localhost:8080/",
     "height": 171
    },
    "id": "KlM3796G2Ohj",
    "outputId": "32b4a87c-c7b5-4038-f45e-3024e15c65f4"
   },
   "outputs": [
    {
     "data": {
      "image/svg+xml": [
       "<svg baseProfile=\"full\" height=\"150px\" version=\"1.1\" viewBox=\"0 0 150 150\" width=\"150px\" xml:space=\"preserve\" xmlns=\"http://www.w3.org/2000/svg\" xmlns:rdkit=\"http://www.rdkit.org/xml\" xmlns:xlink=\"http://www.w3.org/1999/xlink\">\n",
       "<!-- END OF HEADER -->\n",
       "<rect height=\"150\" style=\"opacity:1.0;fill:#FFFFFF;stroke:none\" width=\"150\" x=\"0\" y=\"0\"> </rect>\n",
       "<ellipse cx=\"35.4922\" cy=\"91.0581\" rx=\"5.44732\" ry=\"5.44732\" style=\"fill:#E5E533;fill-rule:evenodd;stroke:#E5E533;stroke-width:2px;stroke-linecap:butt;stroke-linejoin:miter;stroke-opacity:1\"/>\n",
       "<ellipse cx=\"79.7302\" cy=\"74.6723\" rx=\"5.44732\" ry=\"5.44732\" style=\"fill:#9999E5;fill-rule:evenodd;stroke:#9999E5;stroke-width:2px;stroke-linecap:butt;stroke-linejoin:miter;stroke-opacity:1\"/>\n",
       "<ellipse cx=\"89.1906\" cy=\"100.213\" rx=\"5.44732\" ry=\"5.44732\" style=\"fill:#E5E533;fill-rule:evenodd;stroke:#E5E533;stroke-width:2px;stroke-linecap:butt;stroke-linejoin:miter;stroke-opacity:1\"/>\n",
       "<ellipse cx=\"116.04\" cy=\"104.791\" rx=\"5.44732\" ry=\"5.44732\" style=\"fill:#E5E533;fill-rule:evenodd;stroke:#E5E533;stroke-width:2px;stroke-linecap:butt;stroke-linejoin:miter;stroke-opacity:1\"/>\n",
       "<ellipse cx=\"123.968\" cy=\"58.2864\" rx=\"5.44732\" ry=\"5.44732\" style=\"fill:#E5E533;fill-rule:evenodd;stroke:#E5E533;stroke-width:2px;stroke-linecap:butt;stroke-linejoin:miter;stroke-opacity:1\"/>\n",
       "<ellipse cx=\"97.119\" cy=\"53.709\" rx=\"5.44732\" ry=\"5.44732\" style=\"fill:#E5E533;fill-rule:evenodd;stroke:#E5E533;stroke-width:2px;stroke-linecap:butt;stroke-linejoin:miter;stroke-opacity:1\"/>\n",
       "<path class=\"bond-0\" d=\"M 45.8017,111.05 L 38.0463,90.1121\" style=\"fill:none;fill-rule:evenodd;stroke:#E5E5E5;stroke-width:1.5px;stroke-linecap:butt;stroke-linejoin:miter;stroke-opacity:1\"/>\n",
       "<path class=\"bond-0\" d=\"M 40.6936,112.942 L 32.9381,92.0042\" style=\"fill:none;fill-rule:evenodd;stroke:#E5E5E5;stroke-width:1.5px;stroke-linecap:butt;stroke-linejoin:miter;stroke-opacity:1;stroke-dasharray:6,6\"/>\n",
       "<path class=\"bond-1\" d=\"M 35.4922,91.0581 L 42.3047,82.8453\" style=\"fill:none;fill-rule:evenodd;stroke:#000000;stroke-width:2.0px;stroke-linecap:butt;stroke-linejoin:miter;stroke-opacity:1\"/>\n",
       "<path class=\"bond-1\" d=\"M 42.3047,82.8453 L 49.1171,74.6324\" style=\"fill:none;fill-rule:evenodd;stroke:#0000FF;stroke-width:2.0px;stroke-linecap:butt;stroke-linejoin:miter;stroke-opacity:1\"/>\n",
       "<path class=\"bond-9\" d=\"M 35.95,88.3732 L 10.7942,84.0845\" style=\"fill:none;fill-rule:evenodd;stroke:#E5E5E5;stroke-width:1.5px;stroke-linecap:butt;stroke-linejoin:miter;stroke-opacity:1\"/>\n",
       "<path class=\"bond-9\" d=\"M 35.0345,93.7431 L 9.8787,89.4543\" style=\"fill:none;fill-rule:evenodd;stroke:#E5E5E5;stroke-width:1.5px;stroke-linecap:butt;stroke-linejoin:miter;stroke-opacity:1;stroke-dasharray:6,6\"/>\n",
       "<path class=\"bond-2\" d=\"M 56.4871,70.7096 L 68.1087,72.691\" style=\"fill:none;fill-rule:evenodd;stroke:#0000FF;stroke-width:2.0px;stroke-linecap:butt;stroke-linejoin:miter;stroke-opacity:1\"/>\n",
       "<path class=\"bond-2\" d=\"M 68.1087,72.691 L 79.7302,74.6723\" style=\"fill:none;fill-rule:evenodd;stroke:#000000;stroke-width:2.0px;stroke-linecap:butt;stroke-linejoin:miter;stroke-opacity:1\"/>\n",
       "<path class=\"bond-3\" d=\"M 79.7302,74.6723 L 89.1906,100.213\" style=\"fill:none;fill-rule:evenodd;stroke:#000000;stroke-width:2.0px;stroke-linecap:butt;stroke-linejoin:miter;stroke-opacity:1\"/>\n",
       "<path class=\"bond-3\" d=\"M 86.2574,76.6113 L 92.8797,94.4899\" style=\"fill:none;fill-rule:evenodd;stroke:#000000;stroke-width:2.0px;stroke-linecap:butt;stroke-linejoin:miter;stroke-opacity:1\"/>\n",
       "<path class=\"bond-10\" d=\"M 79.7302,74.6723 L 97.119,53.709\" style=\"fill:none;fill-rule:evenodd;stroke:#000000;stroke-width:2.0px;stroke-linecap:butt;stroke-linejoin:miter;stroke-opacity:1\"/>\n",
       "<path class=\"bond-4\" d=\"M 89.1906,100.213 L 116.04,104.791\" style=\"fill:none;fill-rule:evenodd;stroke:#000000;stroke-width:2.0px;stroke-linecap:butt;stroke-linejoin:miter;stroke-opacity:1\"/>\n",
       "<path class=\"bond-5\" d=\"M 116.04,104.791 L 133.189,84.116\" style=\"fill:none;fill-rule:evenodd;stroke:#E5E5E5;stroke-width:1.5px;stroke-linecap:butt;stroke-linejoin:miter;stroke-opacity:1\"/>\n",
       "<path class=\"bond-5\" d=\"M 114.419,98.2116 L 126.424,83.7394\" style=\"fill:none;fill-rule:evenodd;stroke:#E5E5E5;stroke-width:1.5px;stroke-linecap:butt;stroke-linejoin:miter;stroke-opacity:1\"/>\n",
       "<path class=\"bond-6\" d=\"M 131.724,79.2243 L 123.968,58.2864\" style=\"fill:none;fill-rule:evenodd;stroke:#E5E5E5;stroke-width:1.5px;stroke-linecap:butt;stroke-linejoin:miter;stroke-opacity:1\"/>\n",
       "<path class=\"bond-7\" d=\"M 123.968,58.2864 L 141.117,37.6118\" style=\"fill:none;fill-rule:evenodd;stroke:#E5E5E5;stroke-width:1.5px;stroke-linecap:butt;stroke-linejoin:miter;stroke-opacity:1\"/>\n",
       "<path class=\"bond-8\" d=\"M 123.968,58.2864 L 97.119,53.709\" style=\"fill:none;fill-rule:evenodd;stroke:#000000;stroke-width:2.0px;stroke-linecap:butt;stroke-linejoin:miter;stroke-opacity:1\"/>\n",
       "<path class=\"bond-8\" d=\"M 119.025,62.9697 L 100.231,59.7654\" style=\"fill:none;fill-rule:evenodd;stroke:#000000;stroke-width:2.0px;stroke-linecap:butt;stroke-linejoin:miter;stroke-opacity:1\"/>\n",
       "<path class=\"atom-0\" d=\"M 43.4982 115.738 L 44.6312 114.583 L 43.1277 114.278 L 43.3565 113.505 L 44.7401 114.202 L 44.544 112.688 L 45.3611 112.677 L 45.1323 114.191 L 46.5378 113.538 L 46.7774 114.278 L 45.2522 114.562 L 46.3417 115.727 L 45.6771 116.207 L 44.9254 114.769 L 44.1627 116.207 L 43.4982 115.738 \" fill=\"#191919\"/>\n",
       "<path class=\"atom-2\" d=\"M 43.0159 66.2381 L 44.0618 66.2381 L 44.0618 69.5174 L 48.0057 69.5174 L 48.0057 66.2381 L 49.0515 66.2381 L 49.0515 73.9515 L 48.0057 73.9515 L 48.0057 70.389 L 44.0618 70.389 L 44.0618 73.9515 L 43.0159 73.9515 L 43.0159 66.2381 \" fill=\"#0000FF\"/>\n",
       "<path class=\"atom-2\" d=\"M 51.176 66.2381 L 53.7036 70.3236 Q 53.9541 70.7267, 54.3572 71.4566 Q 54.7603 72.1866, 54.7821 72.2302 L 54.7821 66.2381 L 55.8062 66.2381 L 55.8062 73.9515 L 54.7494 73.9515 L 52.0367 69.4847 Q 51.7207 68.9618, 51.383 68.3626 Q 51.0562 67.7634, 50.9581 67.5782 L 50.9581 73.9515 L 49.9558 73.9515 L 49.9558 66.2381 L 51.176 66.2381 \" fill=\"#0000FF\"/>\n",
       "<path class=\"atom-6\" d=\"M 131.974 82.9666 L 133.107 81.8117 L 131.604 81.5067 L 131.832 80.7332 L 133.216 81.4304 L 133.02 79.9161 L 133.837 79.9052 L 133.608 81.4195 L 135.014 80.7659 L 135.253 81.5067 L 133.728 81.79 L 134.818 82.9557 L 134.153 83.435 L 133.401 81.997 L 132.639 83.435 L 131.974 82.9666 \" fill=\"#191919\"/>\n",
       "<path class=\"atom-8\" d=\"M 139.903 36.4624 L 141.036 35.3076 L 139.532 35.0026 L 139.761 34.229 L 141.145 34.9263 L 140.948 33.4119 L 141.766 33.401 L 141.537 34.9154 L 142.942 34.2617 L 143.182 35.0026 L 141.657 35.2858 L 142.746 36.4515 L 142.081 36.9309 L 141.33 35.4928 L 140.567 36.9309 L 139.903 36.4624 \" fill=\"#191919\"/>\n",
       "<path class=\"atom-10\" d=\"M 7.1886 85.62 L 8.32164 84.4652 L 6.81818 84.1601 L 7.04697 83.3866 L 8.43059 84.0839 L 8.23448 82.5695 L 9.05158 82.5586 L 8.82279 84.073 L 10.2282 83.4193 L 10.4679 84.1601 L 8.94264 84.4434 L 10.0321 85.6091 L 9.36753 86.0885 L 8.6158 84.6504 L 7.85317 86.0885 L 7.1886 85.62 \" fill=\"#191919\"/>\n",
       "</svg>"
      ],
      "text/plain": [
       "<IPython.core.display.SVG object>"
      ]
     },
     "metadata": {},
     "output_type": "display_data"
    }
   ],
   "source": [
    "display(Draw.DrawMorganBit(mols[0], 329, bit_info1, useSVG=True))"
   ]
  },
  {
   "cell_type": "markdown",
   "metadata": {
    "id": "HV5AIKzM4RHS"
   },
   "source": [
    "Raios diferentes codificam subestruturas diferentes:\n",
    "- `radius=1` significa 1 átomo (e ligações) de distância do átomo central\n",
    "- `radius=2` significa 2 átomos (e suas ligações) de distância do átomo central\n",
    "\n",
    "Nesse caso, o mesmo átomo central foi codificado em subestruturas diferentes: cada bit corresponde a uma _feature_ única da molécula."
   ]
  },
  {
   "cell_type": "markdown",
   "metadata": {
    "id": "Z_5n-BJS6Mow"
   },
   "source": [
    "### O que significam bits ativados por mais de um átomo, com mesmo valor de raio?"
   ]
  },
  {
   "cell_type": "markdown",
   "metadata": {},
   "source": [
    "**Exemplo 1**"
   ]
  },
  {
   "cell_type": "code",
   "execution_count": 18,
   "metadata": {
    "colab": {
     "base_uri": "https://localhost:8080/",
     "height": 317
    },
    "id": "OhIGe-pB7XTQ",
    "outputId": "da728fb8-2137-4902-a6dd-ee0ce9b1b136"
   },
   "outputs": [
    {
     "data": {
      "image/png": "[encoded data removed]",
      "text/plain": [
       "<PIL.PngImagePlugin.PngImageFile image mode=RGB size=300x300 at 0x7F1CC8C63610>"
      ]
     },
     "metadata": {},
     "output_type": "display_data"
    }
   ],
   "source": [
    "display(Draw.MolToImage(mols[0]))"
   ]
  },
  {
   "cell_type": "code",
   "execution_count": 19,
   "metadata": {
    "colab": {
     "base_uri": "https://localhost:8080/"
    },
    "id": "Xpe8_UuJ6Moz",
    "outputId": "dc54c8b5-9075-4ff4-f3db-f66e34c5bdc2"
   },
   "outputs": [
    {
     "data": {
      "text/plain": [
       "[(191, ((10, 1),)),\n",
       " (216, ((12, 2),)),\n",
       " (249, ((1, 2), (21, 2))),\n",
       " (329, ((10, 2),)),\n",
       " (366, ((15, 1),))]"
      ]
     },
     "execution_count": 19,
     "metadata": {},
     "output_type": "execute_result"
    }
   ],
   "source": [
    "list(bit_info1.items())[:5]"
   ]
  },
  {
   "cell_type": "markdown",
   "metadata": {
    "id": "GgJoaXRq5RVk"
   },
   "source": [
    "Bit '249' foi ativado com raio 2 pelos átomos '1' e '21'."
   ]
  },
  {
   "cell_type": "code",
   "execution_count": 20,
   "metadata": {
    "colab": {
     "base_uri": "https://localhost:8080/",
     "height": 171
    },
    "id": "331_a1Aw6Mo2",
    "outputId": "4a301268-a82e-4161-921e-1a05afdcf2cd"
   },
   "outputs": [
    {
     "data": {
      "image/svg+xml": [
       "<svg baseProfile=\"full\" height=\"150px\" version=\"1.1\" viewBox=\"0 0 150 150\" width=\"150px\" xml:space=\"preserve\" xmlns=\"http://www.w3.org/2000/svg\" xmlns:rdkit=\"http://www.rdkit.org/xml\" xmlns:xlink=\"http://www.w3.org/1999/xlink\">\n",
       "<!-- END OF HEADER -->\n",
       "<rect height=\"150\" style=\"opacity:1.0;fill:#FFFFFF;stroke:none\" width=\"150\" x=\"0\" y=\"0\"> </rect>\n",
       "<ellipse cx=\"33.0771\" cy=\"82.7643\" rx=\"8.22602\" ry=\"8.22602\" style=\"fill:#9999E5;fill-rule:evenodd;stroke:#9999E5;stroke-width:2px;stroke-linecap:butt;stroke-linejoin:miter;stroke-opacity:1\"/>\n",
       "<ellipse cx=\"73.6221\" cy=\"89.6768\" rx=\"8.22602\" ry=\"8.22602\" style=\"fill:#E5E533;fill-rule:evenodd;stroke:#E5E533;stroke-width:2px;stroke-linecap:butt;stroke-linejoin:miter;stroke-opacity:1\"/>\n",
       "<ellipse cx=\"87.9083\" cy=\"128.246\" rx=\"8.22602\" ry=\"8.22602\" style=\"fill:#E5E533;fill-rule:evenodd;stroke:#E5E533;stroke-width:2px;stroke-linecap:butt;stroke-linejoin:miter;stroke-opacity:1\"/>\n",
       "<ellipse cx=\"99.881\" cy=\"58.0199\" rx=\"8.22602\" ry=\"8.22602\" style=\"fill:#E5E533;fill-rule:evenodd;stroke:#E5E533;stroke-width:2px;stroke-linecap:butt;stroke-linejoin:miter;stroke-opacity:1\"/>\n",
       "<path class=\"bond-0\" d=\"M 6.81818,114.421 L 17.0033,102.142\" style=\"fill:none;fill-rule:evenodd;stroke:#000000;stroke-width:2.0px;stroke-linecap:butt;stroke-linejoin:miter;stroke-opacity:1\"/>\n",
       "<path class=\"bond-0\" d=\"M 17.0033,102.142 L 27.1885,89.8634\" style=\"fill:none;fill-rule:evenodd;stroke:#FF0000;stroke-width:2.0px;stroke-linecap:butt;stroke-linejoin:miter;stroke-opacity:1\"/>\n",
       "<path class=\"bond-1\" d=\"M 39.4522,83.8512 L 56.5372,86.764\" style=\"fill:none;fill-rule:evenodd;stroke:#FF0000;stroke-width:2.0px;stroke-linecap:butt;stroke-linejoin:miter;stroke-opacity:1\"/>\n",
       "<path class=\"bond-1\" d=\"M 56.5372,86.764 L 73.6221,89.6768\" style=\"fill:none;fill-rule:evenodd;stroke:#000000;stroke-width:2.0px;stroke-linecap:butt;stroke-linejoin:miter;stroke-opacity:1\"/>\n",
       "<path class=\"bond-2\" d=\"M 73.6221,89.6768 L 87.9083,128.246\" style=\"fill:none;fill-rule:evenodd;stroke:#000000;stroke-width:2.0px;stroke-linecap:butt;stroke-linejoin:miter;stroke-opacity:1\"/>\n",
       "<path class=\"bond-2\" d=\"M 68.0512,98.3194 L 78.0515,125.318\" style=\"fill:none;fill-rule:evenodd;stroke:#000000;stroke-width:2.0px;stroke-linecap:butt;stroke-linejoin:miter;stroke-opacity:1;stroke-dasharray:6,6\"/>\n",
       "<path class=\"bond-6\" d=\"M 73.6221,89.6768 L 99.881,58.0199\" style=\"fill:none;fill-rule:evenodd;stroke:#000000;stroke-width:2.0px;stroke-linecap:butt;stroke-linejoin:miter;stroke-opacity:1\"/>\n",
       "<path class=\"bond-6\" d=\"M 83.8923,90.18 L 102.274,68.0203\" style=\"fill:none;fill-rule:evenodd;stroke:#000000;stroke-width:2.0px;stroke-linecap:butt;stroke-linejoin:miter;stroke-opacity:1;stroke-dasharray:6,6\"/>\n",
       "<path class=\"bond-3\" d=\"M 87.2171,132.301 L 123.978,138.568\" style=\"fill:none;fill-rule:evenodd;stroke:#E5E5E5;stroke-width:2.2px;stroke-linecap:butt;stroke-linejoin:miter;stroke-opacity:1\"/>\n",
       "<path class=\"bond-3\" d=\"M 88.5995,124.192 L 125.361,130.459\" style=\"fill:none;fill-rule:evenodd;stroke:#E5E5E5;stroke-width:2.2px;stroke-linecap:butt;stroke-linejoin:miter;stroke-opacity:1;stroke-dasharray:6,6\"/>\n",
       "<path class=\"bond-4\" d=\"M 137.333,60.2328 L 100.572,53.9654\" style=\"fill:none;fill-rule:evenodd;stroke:#E5E5E5;stroke-width:2.2px;stroke-linecap:butt;stroke-linejoin:miter;stroke-opacity:1\"/>\n",
       "<path class=\"bond-4\" d=\"M 135.951,68.3418 L 99.1898,62.0745\" style=\"fill:none;fill-rule:evenodd;stroke:#E5E5E5;stroke-width:2.2px;stroke-linecap:butt;stroke-linejoin:miter;stroke-opacity:1;stroke-dasharray:6,6\"/>\n",
       "<path class=\"bond-5\" d=\"M 99.881,58.0199 L 85.7564,19.8866\" style=\"fill:none;fill-rule:evenodd;stroke:#E5E5E5;stroke-width:2.2px;stroke-linecap:butt;stroke-linejoin:miter;stroke-opacity:1\"/>\n",
       "<path class=\"atom-1\" d=\"M 27.7302 82.7972 Q 27.7302 80.0004, 29.1121 78.4374 Q 30.4941 76.8745, 33.0771 76.8745 Q 35.6601 76.8745, 37.042 78.4374 Q 38.424 80.0004, 38.424 82.7972 Q 38.424 85.627, 37.0256 87.2393 Q 35.6271 88.8351, 33.0771 88.8351 Q 30.5106 88.8351, 29.1121 87.2393 Q 27.7302 85.6434, 27.7302 82.7972 M 33.0771 87.5189 Q 34.8539 87.5189, 35.8081 86.3344 Q 36.7788 85.1334, 36.7788 82.7972 Q 36.7788 80.5104, 35.8081 79.3587 Q 34.8539 78.1906, 33.0771 78.1906 Q 31.3003 78.1906, 30.3296 79.3423 Q 29.3754 80.4939, 29.3754 82.7972 Q 29.3754 85.1498, 30.3296 86.3344 Q 31.3003 87.5189, 33.0771 87.5189 \" fill=\"#FF0000\"/>\n",
       "<path class=\"atom-4\" d=\"M 126.257 133.859 L 127.968 132.115 L 125.698 131.654 L 126.043 130.486 L 128.133 131.539 L 127.836 129.252 L 129.07 129.236 L 128.725 131.523 L 130.847 130.535 L 131.209 131.654 L 128.906 132.082 L 130.551 133.842 L 129.547 134.566 L 128.412 132.395 L 127.261 134.566 L 126.257 133.859 \" fill=\"#191919\"/>\n",
       "<path class=\"atom-5\" d=\"M 138.23 63.6327 L 139.941 61.8888 L 137.67 61.4281 L 138.016 60.26 L 140.105 61.313 L 139.809 59.0261 L 141.043 59.0097 L 140.698 61.2965 L 142.82 60.3094 L 143.182 61.4281 L 140.879 61.8559 L 142.524 63.6163 L 141.52 64.3401 L 140.385 62.1685 L 139.233 64.3401 L 138.23 63.6327 \" fill=\"#191919\"/>\n",
       "<path class=\"atom-7\" d=\"M 83.3985 18.151 L 85.1096 16.407 L 82.8392 15.9464 L 83.1847 14.7783 L 85.2741 15.8312 L 84.9779 13.5444 L 86.2118 13.5279 L 85.8663 15.8148 L 87.9887 14.8276 L 88.3506 15.9464 L 86.0473 16.3741 L 87.6925 18.1345 L 86.6889 18.8584 L 85.5538 16.6867 L 84.4021 18.8584 L 83.3985 18.151 \" fill=\"#191919\"/>\n",
       "</svg>"
      ],
      "text/plain": [
       "<IPython.core.display.SVG object>"
      ]
     },
     "metadata": {},
     "output_type": "display_data"
    }
   ],
   "source": [
    "display(Draw.DrawMorganBit(mols[0], 249, bit_info1, useSVG=True))"
   ]
  },
  {
   "cell_type": "markdown",
   "metadata": {
    "id": "2kxaT10J5bIl"
   },
   "source": [
    "Se observamos a molécula completa vemos que a subestrutra codificada está presente mais de uma vez, daí ela aparecer duas vezes no dicionário de `bit_info`."
   ]
  },
  {
   "cell_type": "markdown",
   "metadata": {},
   "source": [
    "**Exemplo 2**"
   ]
  },
  {
   "cell_type": "code",
   "execution_count": 21,
   "metadata": {
    "colab": {
     "base_uri": "https://localhost:8080/",
     "height": 317
    },
    "id": "BjtqbhV17hsC",
    "outputId": "0d7a2612-3e88-48ba-96b7-b946f34d660c"
   },
   "outputs": [
    {
     "data": {
      "image/png": "[encoded data removed]",
      "text/plain": [
       "<PIL.PngImagePlugin.PngImageFile image mode=RGB size=300x300 at 0x7F1CC8D10A50>"
      ]
     },
     "metadata": {},
     "output_type": "display_data"
    }
   ],
   "source": [
    "display(Draw.MolToImage(mols[1]))"
   ]
  },
  {
   "cell_type": "code",
   "execution_count": 22,
   "metadata": {
    "colab": {
     "base_uri": "https://localhost:8080/"
    },
    "id": "ozzH7ZQk6zYl",
    "outputId": "7514dc9f-e175-4e28-94d6-9ee47a1493b1"
   },
   "outputs": [
    {
     "data": {
      "text/plain": [
       "[(50, ((21, 2),)),\n",
       " (80, ((24, 0), (25, 0), (26, 0), (27, 0))),\n",
       " (161, ((2, 2),)),\n",
       " (191, ((10, 1),)),\n",
       " (216, ((12, 2),))]"
      ]
     },
     "execution_count": 22,
     "metadata": {},
     "output_type": "execute_result"
    }
   ],
   "source": [
    "list(bit_info2.items())[:5]"
   ]
  },
  {
   "cell_type": "code",
   "execution_count": 23,
   "metadata": {
    "colab": {
     "base_uri": "https://localhost:8080/",
     "height": 171
    },
    "id": "iPgSCaqj6Mo5",
    "outputId": "877f0380-df3c-4f73-b984-736decf074eb"
   },
   "outputs": [
    {
     "data": {
      "image/svg+xml": [
       "<svg baseProfile=\"full\" height=\"150px\" version=\"1.1\" viewBox=\"0 0 150 150\" width=\"150px\" xml:space=\"preserve\" xmlns=\"http://www.w3.org/2000/svg\" xmlns:rdkit=\"http://www.rdkit.org/xml\" xmlns:xlink=\"http://www.w3.org/1999/xlink\">\n",
       "<!-- END OF HEADER -->\n",
       "<rect height=\"150\" style=\"opacity:1.0;fill:#FFFFFF;stroke:none\" width=\"150\" x=\"0\" y=\"0\"> </rect>\n",
       "<ellipse cx=\"86.8671\" cy=\"54.1791\" rx=\"15.3152\" ry=\"15.3152\" style=\"fill:#9999E5;fill-rule:evenodd;stroke:#9999E5;stroke-width:2px;stroke-linecap:butt;stroke-linejoin:miter;stroke-opacity:1\"/>\n",
       "<path class=\"bond-0\" d=\"M 18.9938,68.5371 L 86.8671,54.1791\" style=\"fill:none;fill-rule:evenodd;stroke:#E5E5E5;stroke-width:4.1px;stroke-linecap:butt;stroke-linejoin:miter;stroke-opacity:1\"/>\n",
       "<path class=\"bond-1\" d=\"M 86.8671,54.1791 L 131.006,103.297\" style=\"fill:none;fill-rule:evenodd;stroke:#E5E5E5;stroke-width:4.1px;stroke-linecap:butt;stroke-linejoin:miter;stroke-opacity:1\"/>\n",
       "<path class=\"atom-0\" d=\"M 7.85962 67.6075 L 11.0452 64.3607 L 6.81818 63.5031 L 7.46142 61.3283 L 11.3515 63.2886 L 10.8001 59.031 L 13.0974 59.0004 L 12.4542 63.258 L 16.4055 61.4202 L 17.0794 63.5031 L 12.7911 64.2995 L 15.8542 67.5769 L 13.9857 68.9247 L 11.8722 64.8814 L 9.72808 68.9247 L 7.85962 67.6075 \" fill=\"#191919\"/>\n",
       "<path class=\"atom-2\" d=\"M 133.962 108.716 L 137.148 105.469 L 132.921 104.612 L 133.564 102.437 L 137.454 104.397 L 136.903 100.14 L 139.2 100.109 L 138.557 104.367 L 142.508 102.529 L 143.182 104.612 L 138.894 105.408 L 141.957 108.686 L 140.088 110.033 L 137.975 105.99 L 135.831 110.033 L 133.962 108.716 \" fill=\"#191919\"/>\n",
       "</svg>"
      ],
      "text/plain": [
       "<IPython.core.display.SVG object>"
      ]
     },
     "metadata": {},
     "output_type": "display_data"
    }
   ],
   "source": [
    "display(Draw.DrawMorganBit(mols[1], 80, bit_info2, useSVG=True))"
   ]
  },
  {
   "cell_type": "markdown",
   "metadata": {
    "id": "zn0JZQic5lnx"
   },
   "source": [
    "Nesse exemplo o bit '80' é \"ativado\" 4 vezes, pelos átomos '24'até '27'. Se observamos a representação 2D da molécula completa, vemos, novamente, que há 4 carbonos com duas ligações simples. Daí os quatro elementos da tupla no dicionário correspondentes à chave '80'."
   ]
  },
  {
   "cell_type": "markdown",
   "metadata": {
    "id": "4PqGJWk3ztFv"
   },
   "source": [
    "### O que significa o mesmo bit ativado em moléculas diferentes"
   ]
  },
  {
   "cell_type": "code",
   "execution_count": 24,
   "metadata": {
    "colab": {
     "base_uri": "https://localhost:8080/"
    },
    "id": "id7xP_uf6K2b",
    "outputId": "013da263-cad2-4f30-f596-2e98b2aa4808"
   },
   "outputs": [
    {
     "name": "stdout",
     "output_type": "stream",
     "text": [
      "Molecule at index 0\n",
      "[(191, ((10, 1),)),\n",
      " (216, ((12, 2),)),\n",
      " (249, ((1, 2), (21, 2))),\n",
      " (329, ((10, 2),)),\n",
      " (366, ((15, 1),))]\n",
      "--------------------\n",
      "Molecule at index 1\n",
      "[(50, ((21, 2),)),\n",
      " (80, ((24, 0), (25, 0), (26, 0), (27, 0))),\n",
      " (161, ((2, 2),)),\n",
      " (191, ((10, 1),)),\n",
      " (216, ((12, 2),))]\n"
     ]
    }
   ],
   "source": [
    "print('Molecule at index 0')\n",
    "pprint(list(bit_info1.items())[:5])\n",
    "print('-'*20)\n",
    "print('Molecule at index 1')\n",
    "pprint(list(bit_info2.items())[:5])"
   ]
  },
  {
   "cell_type": "markdown",
   "metadata": {
    "id": "W9CRXX9j6cYN"
   },
   "source": [
    "Vemos que os bits '191' e '216' estão presentes nas duas moléculas."
   ]
  },
  {
   "cell_type": "markdown",
   "metadata": {
    "id": "W9CRXX9j6cYN"
   },
   "source": [
    "**Visualizando as subestruturas correspondentes ao bit '191':**"
   ]
  },
  {
   "cell_type": "code",
   "execution_count": 25,
   "metadata": {
    "colab": {
     "base_uri": "https://localhost:8080/",
     "height": 171
    },
    "id": "mvchP0q3njFn",
    "outputId": "065f569c-f999-4a56-ffec-7bf2406418cd"
   },
   "outputs": [
    {
     "data": {
      "image/svg+xml": [
       "<svg baseProfile=\"full\" height=\"150px\" version=\"1.1\" viewBox=\"0 0 150 150\" width=\"150px\" xml:space=\"preserve\" xmlns=\"http://www.w3.org/2000/svg\" xmlns:rdkit=\"http://www.rdkit.org/xml\" xmlns:xlink=\"http://www.w3.org/1999/xlink\">\n",
       "<!-- END OF HEADER -->\n",
       "<rect height=\"150\" style=\"opacity:1.0;fill:#FFFFFF;stroke:none\" width=\"150\" x=\"0\" y=\"0\"> </rect>\n",
       "<ellipse cx=\"75\" cy=\"71.6122\" rx=\"8.06307\" ry=\"8.06307\" style=\"fill:#9999E5;fill-rule:evenodd;stroke:#9999E5;stroke-width:2px;stroke-linecap:butt;stroke-linejoin:miter;stroke-opacity:1\"/>\n",
       "<ellipse cx=\"89.0032\" cy=\"109.418\" rx=\"8.06307\" ry=\"8.06307\" style=\"fill:#E5E533;fill-rule:evenodd;stroke:#E5E533;stroke-width:2px;stroke-linecap:butt;stroke-linejoin:miter;stroke-opacity:1\"/>\n",
       "<ellipse cx=\"100.739\" cy=\"40.5825\" rx=\"8.06307\" ry=\"8.06307\" style=\"fill:#E5E533;fill-rule:evenodd;stroke:#E5E533;stroke-width:2px;stroke-linecap:butt;stroke-linejoin:miter;stroke-opacity:1\"/>\n",
       "<path class=\"bond-0\" d=\"M 13.2283,91.395 L 29.8073,71.408\" style=\"fill:none;fill-rule:evenodd;stroke:#E5E5E5;stroke-width:2.2px;stroke-linecap:butt;stroke-linejoin:miter;stroke-opacity:1\"/>\n",
       "<path class=\"bond-1\" d=\"M 40.5958,65.7467 L 57.7979,68.6795\" style=\"fill:none;fill-rule:evenodd;stroke:#0000FF;stroke-width:2.0px;stroke-linecap:butt;stroke-linejoin:miter;stroke-opacity:1\"/>\n",
       "<path class=\"bond-1\" d=\"M 57.7979,68.6795 L 75,71.6122\" style=\"fill:none;fill-rule:evenodd;stroke:#000000;stroke-width:2.0px;stroke-linecap:butt;stroke-linejoin:miter;stroke-opacity:1\"/>\n",
       "<path class=\"bond-2\" d=\"M 75,71.6122 L 89.0032,109.418\" style=\"fill:none;fill-rule:evenodd;stroke:#000000;stroke-width:2.0px;stroke-linecap:butt;stroke-linejoin:miter;stroke-opacity:1\"/>\n",
       "<path class=\"bond-2\" d=\"M 69.5394,80.0837 L 79.3416,106.547\" style=\"fill:none;fill-rule:evenodd;stroke:#000000;stroke-width:2.0px;stroke-linecap:butt;stroke-linejoin:miter;stroke-opacity:1;stroke-dasharray:6,6\"/>\n",
       "<path class=\"bond-5\" d=\"M 75,71.6122 L 100.739,40.5825\" style=\"fill:none;fill-rule:evenodd;stroke:#000000;stroke-width:2.0px;stroke-linecap:butt;stroke-linejoin:miter;stroke-opacity:1\"/>\n",
       "<path class=\"bond-5\" d=\"M 85.0668,72.1055 L 103.084,50.3847\" style=\"fill:none;fill-rule:evenodd;stroke:#000000;stroke-width:2.0px;stroke-linecap:butt;stroke-linejoin:miter;stroke-opacity:1;stroke-dasharray:6,6\"/>\n",
       "<path class=\"bond-3\" d=\"M 88.3256,113.392 L 124.359,119.535\" style=\"fill:none;fill-rule:evenodd;stroke:#E5E5E5;stroke-width:2.2px;stroke-linecap:butt;stroke-linejoin:miter;stroke-opacity:1\"/>\n",
       "<path class=\"bond-3\" d=\"M 89.6807,105.443 L 125.714,111.587\" style=\"fill:none;fill-rule:evenodd;stroke:#E5E5E5;stroke-width:2.2px;stroke-linecap:butt;stroke-linejoin:miter;stroke-opacity:1;stroke-dasharray:6,6\"/>\n",
       "<path class=\"bond-4\" d=\"M 137.449,42.7515 L 101.416,36.6083\" style=\"fill:none;fill-rule:evenodd;stroke:#E5E5E5;stroke-width:2.2px;stroke-linecap:butt;stroke-linejoin:miter;stroke-opacity:1\"/>\n",
       "<path class=\"bond-4\" d=\"M 136.094,50.6999 L 100.061,44.5567\" style=\"fill:none;fill-rule:evenodd;stroke:#E5E5E5;stroke-width:2.2px;stroke-linecap:butt;stroke-linejoin:miter;stroke-opacity:1;stroke-dasharray:6,6\"/>\n",
       "<path class=\"atom-0\" d=\"M 7.36647 94.5925 L 9.04359 92.8831 L 6.81818 92.4316 L 7.15683 91.2866 L 9.20485 92.3187 L 8.91458 90.0771 L 10.124 90.061 L 9.78539 92.3026 L 11.8657 91.335 L 12.2204 92.4316 L 9.96278 92.8508 L 11.5754 94.5763 L 10.5917 95.2859 L 9.479 93.1572 L 8.35017 95.2859 L 7.36647 94.5925 \" fill=\"#191919\"/>\n",
       "<path class=\"atom-1\" d=\"M 20.6558 59.128 L 22.204 59.128 L 22.204 63.982 L 28.0416 63.982 L 28.0416 59.128 L 29.5897 59.128 L 29.5897 70.5453 L 28.0416 70.5453 L 28.0416 65.2721 L 22.204 65.2721 L 22.204 70.5453 L 20.6558 70.5453 L 20.6558 59.128 \" fill=\"#0000FF\"/>\n",
       "<path class=\"atom-1\" d=\"M 32.7343 59.128 L 36.4756 65.1753 Q 36.8465 65.772, 37.4432 66.8525 Q 38.0398 67.9329, 38.0721 67.9974 L 38.0721 59.128 L 39.5879 59.128 L 39.5879 70.5453 L 38.0237 70.5453 L 34.0083 63.9336 Q 33.5406 63.1596, 33.0407 62.2726 Q 32.5569 61.3857, 32.4118 61.1115 L 32.4118 70.5453 L 30.9282 70.5453 L 30.9282 59.128 L 32.7343 59.128 \" fill=\"#0000FF\"/>\n",
       "<path class=\"atom-4\" d=\"M 126.592 114.919 L 128.269 113.21 L 126.044 112.758 L 126.383 111.613 L 128.431 112.645 L 128.14 110.404 L 129.35 110.388 L 129.011 112.629 L 131.091 111.662 L 131.446 112.758 L 129.189 113.177 L 130.801 114.903 L 129.817 115.613 L 128.705 113.484 L 127.576 115.613 L 126.592 114.919 \" fill=\"#191919\"/>\n",
       "<path class=\"atom-5\" d=\"M 138.328 46.0841 L 140.005 44.3747 L 137.78 43.9232 L 138.118 42.7782 L 140.166 43.8103 L 139.876 41.5687 L 141.085 41.5526 L 140.747 43.7941 L 142.827 42.8266 L 143.182 43.9232 L 140.924 44.3424 L 142.537 46.0679 L 141.553 46.7775 L 140.44 44.6488 L 139.312 46.7775 L 138.328 46.0841 \" fill=\"#191919\"/>\n",
       "</svg>"
      ],
      "text/plain": [
       "<IPython.core.display.SVG object>"
      ]
     },
     "execution_count": 25,
     "metadata": {},
     "output_type": "execute_result"
    }
   ],
   "source": [
    "svg = Draw.DrawMorganBit(mols[0], 191, bit_info1, useSVG=True)\n",
    "svg"
   ]
  },
  {
   "cell_type": "code",
   "execution_count": 26,
   "metadata": {
    "colab": {
     "base_uri": "https://localhost:8080/",
     "height": 171
    },
    "id": "qicret3DnkwH",
    "outputId": "f2c2634e-3048-495b-e7b0-5be742b0cf3c"
   },
   "outputs": [
    {
     "data": {
      "image/svg+xml": [
       "<svg baseProfile=\"full\" height=\"150px\" version=\"1.1\" viewBox=\"0 0 150 150\" width=\"150px\" xml:space=\"preserve\" xmlns=\"http://www.w3.org/2000/svg\" xmlns:rdkit=\"http://www.rdkit.org/xml\" xmlns:xlink=\"http://www.w3.org/1999/xlink\">\n",
       "<!-- END OF HEADER -->\n",
       "<rect height=\"150\" style=\"opacity:1.0;fill:#FFFFFF;stroke:none\" width=\"150\" x=\"0\" y=\"0\"> </rect>\n",
       "<ellipse cx=\"75\" cy=\"70.7446\" rx=\"7.957\" ry=\"7.957\" style=\"fill:#9999E5;fill-rule:evenodd;stroke:#9999E5;stroke-width:2px;stroke-linecap:butt;stroke-linejoin:miter;stroke-opacity:1\"/>\n",
       "<ellipse cx=\"48.4074\" cy=\"41.1527\" rx=\"7.957\" ry=\"7.957\" style=\"fill:#E5E533;fill-rule:evenodd;stroke:#E5E533;stroke-width:2px;stroke-linecap:butt;stroke-linejoin:miter;stroke-opacity:1\"/>\n",
       "<ellipse cx=\"62.669\" cy=\"108.57\" rx=\"7.957\" ry=\"7.957\" style=\"fill:#E5E533;fill-rule:evenodd;stroke:#E5E533;stroke-width:2px;stroke-linecap:butt;stroke-linejoin:miter;stroke-opacity:1\"/>\n",
       "<path class=\"bond-0\" d=\"M 136.856,88.0295 L 119.054,68.22\" style=\"fill:none;fill-rule:evenodd;stroke:#E5E5E5;stroke-width:2.1px;stroke-linecap:butt;stroke-linejoin:miter;stroke-opacity:1\"/>\n",
       "<path class=\"bond-1\" d=\"M 108.656,63.625 L 91.828,67.1848\" style=\"fill:none;fill-rule:evenodd;stroke:#0000FF;stroke-width:2.0px;stroke-linecap:butt;stroke-linejoin:miter;stroke-opacity:1\"/>\n",
       "<path class=\"bond-1\" d=\"M 91.828,67.1848 L 75,70.7446\" style=\"fill:none;fill-rule:evenodd;stroke:#000000;stroke-width:2.0px;stroke-linecap:butt;stroke-linejoin:miter;stroke-opacity:1\"/>\n",
       "<path class=\"bond-2\" d=\"M 75,70.7446 L 48.4074,41.1527\" style=\"fill:none;fill-rule:evenodd;stroke:#000000;stroke-width:2.0px;stroke-linecap:butt;stroke-linejoin:miter;stroke-opacity:1\"/>\n",
       "<path class=\"bond-2\" d=\"M 76.9295,60.9873 L 58.3147,40.273\" style=\"fill:none;fill-rule:evenodd;stroke:#000000;stroke-width:2.0px;stroke-linecap:butt;stroke-linejoin:miter;stroke-opacity:1;stroke-dasharray:6,6\"/>\n",
       "<path class=\"bond-5\" d=\"M 75,70.7446 L 62.669,108.57\" style=\"fill:none;fill-rule:evenodd;stroke:#000000;stroke-width:2.0px;stroke-linecap:butt;stroke-linejoin:miter;stroke-opacity:1\"/>\n",
       "<path class=\"bond-5\" d=\"M 65.5852,73.9522 L 56.9535,100.43\" style=\"fill:none;fill-rule:evenodd;stroke:#000000;stroke-width:2.0px;stroke-linecap:butt;stroke-linejoin:miter;stroke-opacity:1;stroke-dasharray:6,6\"/>\n",
       "<path class=\"bond-3\" d=\"M 47.584,37.2603 L 12.3206,44.72\" style=\"fill:none;fill-rule:evenodd;stroke:#E5E5E5;stroke-width:2.1px;stroke-linecap:butt;stroke-linejoin:miter;stroke-opacity:1\"/>\n",
       "<path class=\"bond-3\" d=\"M 49.2308,45.0451 L 13.9674,52.5047\" style=\"fill:none;fill-rule:evenodd;stroke:#E5E5E5;stroke-width:2.1px;stroke-linecap:butt;stroke-linejoin:miter;stroke-opacity:1;stroke-dasharray:6,6\"/>\n",
       "<path class=\"bond-4\" d=\"M 28.229,119.922 L 63.4924,112.463\" style=\"fill:none;fill-rule:evenodd;stroke:#E5E5E5;stroke-width:2.1px;stroke-linecap:butt;stroke-linejoin:miter;stroke-opacity:1\"/>\n",
       "<path class=\"bond-4\" d=\"M 26.5822,112.138 L 61.8456,104.678\" style=\"fill:none;fill-rule:evenodd;stroke:#E5E5E5;stroke-width:2.1px;stroke-linecap:butt;stroke-linejoin:miter;stroke-opacity:1;stroke-dasharray:6,6\"/>\n",
       "<path class=\"atom-0\" d=\"M 138.392 90.8453 L 140.047 89.1585 L 137.851 88.7129 L 138.185 87.583 L 140.206 88.6015 L 139.919 86.3894 L 141.113 86.3735 L 140.779 88.5856 L 142.832 87.6307 L 143.182 88.7129 L 140.954 89.1266 L 142.545 90.8294 L 141.575 91.5296 L 140.476 89.429 L 139.362 91.5296 L 138.392 90.8453 \" fill=\"#191919\"/>\n",
       "<path class=\"atom-1\" d=\"M 111.433 56.8771 L 115.125 62.8449 Q 115.491 63.4337, 116.08 64.4999 Q 116.669 65.5661, 116.701 65.6298 L 116.701 56.8771 L 118.197 56.8771 L 118.197 68.1442 L 116.653 68.1442 L 112.69 61.6195 Q 112.229 60.8556, 111.735 59.9803 Q 111.258 59.1051, 111.115 58.8345 L 111.115 68.1442 L 109.651 68.1442 L 109.651 56.8771 L 111.433 56.8771 \" fill=\"#0000FF\"/>\n",
       "<path class=\"atom-1\" d=\"M 109.515 44.4833 L 111.043 44.4833 L 111.043 49.2734 L 116.804 49.2734 L 116.804 44.4833 L 118.332 44.4833 L 118.332 55.7504 L 116.804 55.7504 L 116.804 50.5465 L 111.043 50.5465 L 111.043 55.7504 L 109.515 55.7504 L 109.515 44.4833 \" fill=\"#0000FF\"/>\n",
       "<path class=\"atom-4\" d=\"M 7.35926 48.1294 L 9.01431 46.4425 L 6.81818 45.9969 L 7.15238 44.867 L 9.17345 45.8855 L 8.887 43.6735 L 10.0806 43.6576 L 9.74636 45.8696 L 11.7993 44.9148 L 12.1494 45.9969 L 9.92141 46.4107 L 11.5128 48.1135 L 10.5421 48.8137 L 9.44399 46.7131 L 8.33001 48.8137 L 7.35926 48.1294 \" fill=\"#191919\"/>\n",
       "<path class=\"atom-5\" d=\"M 21.6208 115.547 L 23.2759 113.86 L 21.0798 113.415 L 21.4139 112.285 L 23.435 113.303 L 23.1486 111.091 L 24.3421 111.075 L 24.0079 113.287 L 26.0608 112.332 L 26.4109 113.415 L 24.183 113.828 L 25.7744 115.531 L 24.8036 116.231 L 23.7056 114.131 L 22.5916 116.231 L 21.6208 115.547 \" fill=\"#191919\"/>\n",
       "</svg>"
      ],
      "text/plain": [
       "<IPython.core.display.SVG object>"
      ]
     },
     "execution_count": 26,
     "metadata": {},
     "output_type": "execute_result"
    }
   ],
   "source": [
    "svg = Draw.DrawMorganBit(mols[1], 191, bit_info2, useSVG=True)\n",
    "svg"
   ]
  },
  {
   "cell_type": "markdown",
   "metadata": {
    "id": "ic3sS1J66pxj"
   },
   "source": [
    "Apesar de rotacionada, a subestrutura representada é a mesma nos dois casos:\n",
    "- um átomo central de carbono com:\n",
    "    - ligações aromáticas com outros dois carbonos (no anel aromático)\n",
    "    - ligação simples com um nitrogênio"
   ]
  },
  {
   "cell_type": "markdown",
   "metadata": {
    "id": "BQcyFDwG0MUW"
   },
   "source": [
    "**E o bit '216'?**"
   ]
  },
  {
   "cell_type": "code",
   "execution_count": 27,
   "metadata": {
    "colab": {
     "base_uri": "https://localhost:8080/",
     "height": 171
    },
    "id": "lZ72_Fi-0MUa",
    "outputId": "c8365df9-a1e2-49c4-dde5-d4e2ce31464a"
   },
   "outputs": [
    {
     "data": {
      "image/svg+xml": [
       "<svg baseProfile=\"full\" height=\"150px\" version=\"1.1\" viewBox=\"0 0 150 150\" width=\"150px\" xml:space=\"preserve\" xmlns=\"http://www.w3.org/2000/svg\" xmlns:rdkit=\"http://www.rdkit.org/xml\" xmlns:xlink=\"http://www.w3.org/1999/xlink\">\n",
       "<!-- END OF HEADER -->\n",
       "<rect height=\"150\" style=\"opacity:1.0;fill:#FFFFFF;stroke:none\" width=\"150\" x=\"0\" y=\"0\"> </rect>\n",
       "<ellipse cx=\"41.8816\" cy=\"78.4885\" rx=\"6.66114\" ry=\"6.66114\" style=\"fill:#E5E533;fill-rule:evenodd;stroke:#E5E533;stroke-width:2px;stroke-linecap:butt;stroke-linejoin:miter;stroke-opacity:1\"/>\n",
       "<ellipse cx=\"53.45\" cy=\"109.721\" rx=\"6.66114\" ry=\"6.66114\" style=\"fill:#E5E533;fill-rule:evenodd;stroke:#E5E533;stroke-width:2px;stroke-linecap:butt;stroke-linejoin:miter;stroke-opacity:1\"/>\n",
       "<ellipse cx=\"86.282\" cy=\"115.318\" rx=\"6.66114\" ry=\"6.66114\" style=\"fill:#9999E5;fill-rule:evenodd;stroke:#9999E5;stroke-width:2px;stroke-linecap:butt;stroke-linejoin:miter;stroke-opacity:1\"/>\n",
       "<ellipse cx=\"107.546\" cy=\"89.6835\" rx=\"6.66114\" ry=\"6.66114\" style=\"fill:#E5E533;fill-rule:evenodd;stroke:#E5E533;stroke-width:2px;stroke-linecap:butt;stroke-linejoin:miter;stroke-opacity:1\"/>\n",
       "<ellipse cx=\"95.9771\" cy=\"58.4514\" rx=\"6.66114\" ry=\"6.66114\" style=\"fill:#E5E533;fill-rule:evenodd;stroke:#E5E533;stroke-width:2px;stroke-linecap:butt;stroke-linejoin:miter;stroke-opacity:1\"/>\n",
       "<path class=\"bond-0\" d=\"M 11.1204,73.2441 L 41.8816,78.4885\" style=\"fill:none;fill-rule:evenodd;stroke:#E5E5E5;stroke-width:1.8px;stroke-linecap:butt;stroke-linejoin:miter;stroke-opacity:1\"/>\n",
       "<path class=\"bond-1\" d=\"M 41.8816,78.4885 L 53.45,109.721\" style=\"fill:none;fill-rule:evenodd;stroke:#000000;stroke-width:2.0px;stroke-linecap:butt;stroke-linejoin:miter;stroke-opacity:1\"/>\n",
       "<path class=\"bond-1\" d=\"M 49.8633,80.8596 L 57.9612,102.722\" style=\"fill:none;fill-rule:evenodd;stroke:#000000;stroke-width:2.0px;stroke-linecap:butt;stroke-linejoin:miter;stroke-opacity:1\"/>\n",
       "<path class=\"bond-8\" d=\"M 41.8816,78.4885 L 62.8523,53.207\" style=\"fill:none;fill-rule:evenodd;stroke:#E5E5E5;stroke-width:1.8px;stroke-linecap:butt;stroke-linejoin:miter;stroke-opacity:1\"/>\n",
       "<path class=\"bond-2\" d=\"M 53.45,109.721 L 86.282,115.318\" style=\"fill:none;fill-rule:evenodd;stroke:#000000;stroke-width:2.0px;stroke-linecap:butt;stroke-linejoin:miter;stroke-opacity:1\"/>\n",
       "<path class=\"bond-3\" d=\"M 86.282,115.318 L 107.546,89.6835\" style=\"fill:none;fill-rule:evenodd;stroke:#000000;stroke-width:2.0px;stroke-linecap:butt;stroke-linejoin:miter;stroke-opacity:1\"/>\n",
       "<path class=\"bond-3\" d=\"M 84.3446,107.22 L 99.2291,89.2759\" style=\"fill:none;fill-rule:evenodd;stroke:#000000;stroke-width:2.0px;stroke-linecap:butt;stroke-linejoin:miter;stroke-opacity:1\"/>\n",
       "<path class=\"bond-4\" d=\"M 107.546,89.6835 L 122.143,92.1722\" style=\"fill:none;fill-rule:evenodd;stroke:#000000;stroke-width:2.0px;stroke-linecap:butt;stroke-linejoin:miter;stroke-opacity:1\"/>\n",
       "<path class=\"bond-4\" d=\"M 122.143,92.1722 L 136.74,94.6609\" style=\"fill:none;fill-rule:evenodd;stroke:#33CCCC;stroke-width:2.0px;stroke-linecap:butt;stroke-linejoin:miter;stroke-opacity:1\"/>\n",
       "<path class=\"bond-5\" d=\"M 107.546,89.6835 L 95.9771,58.4514\" style=\"fill:none;fill-rule:evenodd;stroke:#000000;stroke-width:2.0px;stroke-linecap:butt;stroke-linejoin:miter;stroke-opacity:1\"/>\n",
       "<path class=\"bond-6\" d=\"M 95.9771,58.4514 L 116.948,33.1699\" style=\"fill:none;fill-rule:evenodd;stroke:#E5E5E5;stroke-width:1.8px;stroke-linecap:butt;stroke-linejoin:miter;stroke-opacity:1\"/>\n",
       "<path class=\"bond-7\" d=\"M 95.9771,58.4514 L 65.2159,53.207\" style=\"fill:none;fill-rule:evenodd;stroke:#E5E5E5;stroke-width:1.8px;stroke-linecap:butt;stroke-linejoin:miter;stroke-opacity:1\"/>\n",
       "<path class=\"bond-7\" d=\"M 90.2434,64.2311 L 68.7106,60.56\" style=\"fill:none;fill-rule:evenodd;stroke:#E5E5E5;stroke-width:1.8px;stroke-linecap:butt;stroke-linejoin:miter;stroke-opacity:1\"/>\n",
       "<path class=\"atom-0\" d=\"M 7.27114 71.8386 L 8.65666 70.4264 L 6.81818 70.0534 L 7.09795 69.1075 L 8.78988 69.9601 L 8.55008 68.1083 L 9.54925 68.095 L 9.26948 69.9468 L 10.9881 69.1475 L 11.2811 70.0534 L 9.41603 70.3998 L 10.7483 71.8253 L 9.93559 72.4114 L 9.01636 70.6529 L 8.0838 72.4114 L 7.27114 71.8386 \" fill=\"#191919\"/>\n",
       "<path class=\"atom-5\" d=\"M 137.573 90.5648 L 143.182 90.5648 L 143.182 91.644 L 138.839 91.644 L 138.839 94.5082 L 142.702 94.5082 L 142.702 95.6007 L 138.839 95.6007 L 138.839 99.997 L 137.573 99.997 L 137.573 90.5648 \" fill=\"#33CCCC\"/>\n",
       "<path class=\"atom-7\" d=\"M 115.462 31.7644 L 116.848 30.3522 L 115.009 29.9792 L 115.289 29.0333 L 116.981 29.8859 L 116.741 28.0342 L 117.74 28.0208 L 117.46 29.8726 L 119.179 29.0733 L 119.472 29.9792 L 117.607 30.3256 L 118.939 31.7511 L 118.127 32.3372 L 117.207 30.5787 L 116.275 32.3372 L 115.462 31.7644 \" fill=\"#191919\"/>\n",
       "<path class=\"atom-8\" d=\"M 61.3666 51.8015 L 62.7521 50.3893 L 60.9137 50.0163 L 61.1934 49.0704 L 62.8854 49.923 L 62.6456 48.0713 L 63.6447 48.0579 L 63.365 49.9097 L 65.0835 49.1104 L 65.3766 50.0163 L 63.5115 50.3627 L 64.8437 51.7882 L 64.0311 52.3743 L 63.1118 50.6158 L 62.1793 52.3743 L 61.3666 51.8015 \" fill=\"#191919\"/>\n",
       "</svg>"
      ],
      "text/plain": [
       "<IPython.core.display.SVG object>"
      ]
     },
     "metadata": {},
     "output_type": "display_data"
    }
   ],
   "source": [
    "display(Draw.DrawMorganBit(mols[0], 216, bit_info1, useSVG=True))"
   ]
  },
  {
   "cell_type": "code",
   "execution_count": 28,
   "metadata": {
    "colab": {
     "base_uri": "https://localhost:8080/",
     "height": 171
    },
    "id": "ObsLL4G_0MUh",
    "outputId": "6917f419-1a6b-48f6-8d8a-76f115813382"
   },
   "outputs": [
    {
     "data": {
      "image/svg+xml": [
       "<svg baseProfile=\"full\" height=\"150px\" version=\"1.1\" viewBox=\"0 0 150 150\" width=\"150px\" xml:space=\"preserve\" xmlns=\"http://www.w3.org/2000/svg\" xmlns:rdkit=\"http://www.rdkit.org/xml\" xmlns:xlink=\"http://www.w3.org/1999/xlink\">\n",
       "<!-- END OF HEADER -->\n",
       "<rect height=\"150\" style=\"opacity:1.0;fill:#FFFFFF;stroke:none\" width=\"150\" x=\"0\" y=\"0\"> </rect>\n",
       "<ellipse cx=\"108.111\" cy=\"55.4631\" rx=\"6.70982\" ry=\"6.70982\" style=\"fill:#E5E533;fill-rule:evenodd;stroke:#E5E533;stroke-width:2px;stroke-linecap:butt;stroke-linejoin:miter;stroke-opacity:1\"/>\n",
       "<ellipse cx=\"85.6868\" cy=\"30.5094\" rx=\"6.70982\" ry=\"6.70982\" style=\"fill:#E5E533;fill-rule:evenodd;stroke:#E5E533;stroke-width:2px;stroke-linecap:butt;stroke-linejoin:miter;stroke-opacity:1\"/>\n",
       "<ellipse cx=\"52.864\" cy=\"37.4527\" rx=\"6.70982\" ry=\"6.70982\" style=\"fill:#9999E5;fill-rule:evenodd;stroke:#9999E5;stroke-width:2px;stroke-linecap:butt;stroke-linejoin:miter;stroke-opacity:1\"/>\n",
       "<ellipse cx=\"42.4658\" cy=\"69.3497\" rx=\"6.70982\" ry=\"6.70982\" style=\"fill:#E5E533;fill-rule:evenodd;stroke:#E5E533;stroke-width:2px;stroke-linecap:butt;stroke-linejoin:miter;stroke-opacity:1\"/>\n",
       "<ellipse cx=\"64.8903\" cy=\"94.3034\" rx=\"6.70982\" ry=\"6.70982\" style=\"fill:#E5E533;fill-rule:evenodd;stroke:#E5E533;stroke-width:2px;stroke-linecap:butt;stroke-linejoin:miter;stroke-opacity:1\"/>\n",
       "<path class=\"bond-0\" d=\"M 139.253,48.8754 L 108.111,55.4631\" style=\"fill:none;fill-rule:evenodd;stroke:#E5E5E5;stroke-width:1.8px;stroke-linecap:butt;stroke-linejoin:miter;stroke-opacity:1\"/>\n",
       "<path class=\"bond-1\" d=\"M 108.111,55.4631 L 85.6868,30.5094\" style=\"fill:none;fill-rule:evenodd;stroke:#000000;stroke-width:2.0px;stroke-linecap:butt;stroke-linejoin:miter;stroke-opacity:1\"/>\n",
       "<path class=\"bond-1\" d=\"M 99.7569,56.2049 L 84.0597,38.7373\" style=\"fill:none;fill-rule:evenodd;stroke:#000000;stroke-width:2.0px;stroke-linecap:butt;stroke-linejoin:miter;stroke-opacity:1\"/>\n",
       "<path class=\"bond-8\" d=\"M 108.111,55.4631 L 99.5613,81.6903\" style=\"fill:none;fill-rule:evenodd;stroke:#E5E5E5;stroke-width:1.8px;stroke-linecap:butt;stroke-linejoin:miter;stroke-opacity:1\"/>\n",
       "<path class=\"bond-2\" d=\"M 85.6868,30.5094 L 52.864,37.4527\" style=\"fill:none;fill-rule:evenodd;stroke:#000000;stroke-width:2.0px;stroke-linecap:butt;stroke-linejoin:miter;stroke-opacity:1\"/>\n",
       "<path class=\"bond-3\" d=\"M 52.864,37.4527 L 42.4658,69.3497\" style=\"fill:none;fill-rule:evenodd;stroke:#000000;stroke-width:2.0px;stroke-linecap:butt;stroke-linejoin:miter;stroke-opacity:1\"/>\n",
       "<path class=\"bond-3\" d=\"M 57.6837,44.3169 L 50.4049,66.6448\" style=\"fill:none;fill-rule:evenodd;stroke:#000000;stroke-width:2.0px;stroke-linecap:butt;stroke-linejoin:miter;stroke-opacity:1\"/>\n",
       "<path class=\"bond-4\" d=\"M 42.4658,69.3497 L 27.8862,72.4339\" style=\"fill:none;fill-rule:evenodd;stroke:#000000;stroke-width:2.0px;stroke-linecap:butt;stroke-linejoin:miter;stroke-opacity:1\"/>\n",
       "<path class=\"bond-4\" d=\"M 27.8862,72.4339 L 13.3066,75.5181\" style=\"fill:none;fill-rule:evenodd;stroke:#33CCCC;stroke-width:2.0px;stroke-linecap:butt;stroke-linejoin:miter;stroke-opacity:1\"/>\n",
       "<path class=\"bond-5\" d=\"M 42.4658,69.3497 L 64.8903,94.3034\" style=\"fill:none;fill-rule:evenodd;stroke:#000000;stroke-width:2.0px;stroke-linecap:butt;stroke-linejoin:miter;stroke-opacity:1\"/>\n",
       "<path class=\"bond-6\" d=\"M 64.8903,94.3034 L 56.3403,120.531\" style=\"fill:none;fill-rule:evenodd;stroke:#E5E5E5;stroke-width:1.8px;stroke-linecap:butt;stroke-linejoin:miter;stroke-opacity:1\"/>\n",
       "<path class=\"bond-7\" d=\"M 64.8903,94.3034 L 96.0319,87.7157\" style=\"fill:none;fill-rule:evenodd;stroke:#E5E5E5;stroke-width:1.8px;stroke-linecap:butt;stroke-linejoin:miter;stroke-opacity:1\"/>\n",
       "<path class=\"bond-7\" d=\"M 68.1728,86.7507 L 89.972,82.1393\" style=\"fill:none;fill-rule:evenodd;stroke:#E5E5E5;stroke-width:1.8px;stroke-linecap:butt;stroke-linejoin:miter;stroke-opacity:1\"/>\n",
       "<path class=\"atom-0\" d=\"M 139.143 47.4596 L 140.538 46.0371 L 138.686 45.6613 L 138.968 44.7086 L 140.672 45.5674 L 140.431 43.7021 L 141.437 43.6887 L 141.155 45.554 L 142.887 44.7488 L 143.182 45.6613 L 141.303 46.0103 L 142.645 47.4462 L 141.826 48.0366 L 140.9 46.2652 L 139.961 48.0366 L 139.143 47.4596 \" fill=\"#191919\"/>\n",
       "<path class=\"atom-5\" d=\"M 6.81818 71.5425 L 12.4679 71.5425 L 12.4679 72.6295 L 8.09305 72.6295 L 8.09305 75.5147 L 11.9847 75.5147 L 11.9847 76.6152 L 8.09305 76.6152 L 8.09305 81.0436 L 6.81818 81.0436 L 6.81818 71.5425 \" fill=\"#33CCCC\"/>\n",
       "<path class=\"atom-7\" d=\"M 52.7005 125.14 L 54.0961 123.718 L 52.2442 123.342 L 52.526 122.389 L 54.2303 123.248 L 53.9887 121.383 L 54.9952 121.369 L 54.7134 123.235 L 56.4445 122.43 L 56.7398 123.342 L 54.861 123.691 L 56.203 125.127 L 55.3844 125.717 L 54.4584 123.946 L 53.5191 125.717 L 52.7005 125.14 \" fill=\"#191919\"/>\n",
       "<path class=\"atom-8\" d=\"M 95.9215 86.2999 L 97.3171 84.8774 L 95.4652 84.5017 L 95.747 83.5489 L 97.4513 84.4078 L 97.2098 82.5424 L 98.2162 82.529 L 97.9344 84.3943 L 99.6656 83.5892 L 99.9608 84.5017 L 98.082 84.8506 L 99.424 86.2865 L 98.6054 86.877 L 97.6795 85.1056 L 96.7401 86.877 L 95.9215 86.2999 \" fill=\"#191919\"/>\n",
       "</svg>"
      ],
      "text/plain": [
       "<IPython.core.display.SVG object>"
      ]
     },
     "metadata": {},
     "output_type": "display_data"
    }
   ],
   "source": [
    "display(Draw.DrawMorganBit(mols[1], 216, bit_info2, useSVG=True))"
   ]
  },
  {
   "cell_type": "markdown",
   "metadata": {
    "id": "QG-kwoug0ObC"
   },
   "source": [
    "Novamente temos a mesma subestrutura representada, apesar da rotação nas imagens:\n",
    "- átmoco central de carbono com:\n",
    "    - ligação aromática com 2 outros carbonos (raio=1):\n",
    "        - um dos quais (direita na figura) faz ligação aromática com outro carbono dentro do anel (raio 2)\n",
    "        - outro (à esquerda) faz:\n",
    "            - uma ligação aromática com outro carbono dentro do anel\n",
    "            - uma ligação simples com um flúor fora do anel"
   ]
  }
 ],
 "metadata": {
  "colab": {
   "collapsed_sections": [],
   "name": "Investigating RDKit's Morgan FPs.ipynb",
   "provenance": [],
   "toc_visible": true
  },
  "kernelspec": {
   "display_name": "Python 3",
   "language": "python",
   "name": "python3"
  },
  "language_info": {
   "codemirror_mode": {
    "name": "ipython",
    "version": 3
   },
   "file_extension": ".py",
   "mimetype": "text/x-python",
   "name": "python",
   "nbconvert_exporter": "python",
   "pygments_lexer": "ipython3",
   "version": "3.7.9"
  }
 },
 "nbformat": 4,
 "nbformat_minor": 4
}
