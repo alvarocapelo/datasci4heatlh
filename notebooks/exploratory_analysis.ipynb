{
 "cells": [
  {
   "cell_type": "code",
   "execution_count": 3,
   "id": "b9dc90d1",
   "metadata": {},
   "outputs": [],
   "source": [
    "from pathlib import Path\n",
    "import sys\n",
    "\n",
    "sys.path.append(str(Path('').absolute().parent))\n",
    "# sys.path.append('../')"
   ]
  },
  {
   "cell_type": "code",
   "execution_count": 13,
   "id": "d9b782fd",
   "metadata": {},
   "outputs": [],
   "source": [
    "from scripts.utils import get_morgan_fingerprints\n",
    "\n",
    "morgan_fp, df_labels = get_morgan_fingerprints()"
   ]
  },
  {
   "cell_type": "code",
   "execution_count": 5,
   "id": "07d23b20",
   "metadata": {},
   "outputs": [
    {
     "data": {
      "text/plain": [
       "(5175, 2048)"
      ]
     },
     "execution_count": 5,
     "metadata": {},
     "output_type": "execute_result"
    }
   ],
   "source": [
    "morgan_fp.shape"
   ]
  },
  {
   "cell_type": "code",
   "execution_count": 14,
   "id": "3e129570",
   "metadata": {},
   "outputs": [
    {
     "data": {
      "text/html": [
       "<div>\n",
       "<style scoped>\n",
       "    .dataframe tbody tr th:only-of-type {\n",
       "        vertical-align: middle;\n",
       "    }\n",
       "\n",
       "    .dataframe tbody tr th {\n",
       "        vertical-align: top;\n",
       "    }\n",
       "\n",
       "    .dataframe thead th {\n",
       "        text-align: right;\n",
       "    }\n",
       "</style>\n",
       "<table border=\"1\" class=\"dataframe\">\n",
       "  <thead>\n",
       "    <tr style=\"text-align: right;\">\n",
       "      <th></th>\n",
       "      <th>labels</th>\n",
       "      <th>chembl_ids</th>\n",
       "      <th>fingerprint_id</th>\n",
       "    </tr>\n",
       "  </thead>\n",
       "  <tbody>\n",
       "    <tr>\n",
       "      <th>0</th>\n",
       "      <td>1</td>\n",
       "      <td>CHEMBL301018</td>\n",
       "      <td>0</td>\n",
       "    </tr>\n",
       "    <tr>\n",
       "      <th>1</th>\n",
       "      <td>1</td>\n",
       "      <td>CHEMBL281543</td>\n",
       "      <td>1</td>\n",
       "    </tr>\n",
       "    <tr>\n",
       "      <th>2</th>\n",
       "      <td>1</td>\n",
       "      <td>CHEMBL401930</td>\n",
       "      <td>2</td>\n",
       "    </tr>\n",
       "    <tr>\n",
       "      <th>3</th>\n",
       "      <td>0</td>\n",
       "      <td>CHEMBL274654</td>\n",
       "      <td>3</td>\n",
       "    </tr>\n",
       "    <tr>\n",
       "      <th>4</th>\n",
       "      <td>1</td>\n",
       "      <td>CHEMBL382822</td>\n",
       "      <td>4</td>\n",
       "    </tr>\n",
       "    <tr>\n",
       "      <th>...</th>\n",
       "      <td>...</td>\n",
       "      <td>...</td>\n",
       "      <td>...</td>\n",
       "    </tr>\n",
       "    <tr>\n",
       "      <th>5170</th>\n",
       "      <td>1</td>\n",
       "      <td>CHEMBL1645470</td>\n",
       "      <td>5170</td>\n",
       "    </tr>\n",
       "    <tr>\n",
       "      <th>5171</th>\n",
       "      <td>1</td>\n",
       "      <td>CHEMBL1683960</td>\n",
       "      <td>5171</td>\n",
       "    </tr>\n",
       "    <tr>\n",
       "      <th>5172</th>\n",
       "      <td>0</td>\n",
       "      <td>CHEMBL1765740</td>\n",
       "      <td>5172</td>\n",
       "    </tr>\n",
       "    <tr>\n",
       "      <th>5173</th>\n",
       "      <td>1</td>\n",
       "      <td>CHEMBL112225</td>\n",
       "      <td>5173</td>\n",
       "    </tr>\n",
       "    <tr>\n",
       "      <th>5174</th>\n",
       "      <td>1</td>\n",
       "      <td>CHEMBL1830274</td>\n",
       "      <td>5174</td>\n",
       "    </tr>\n",
       "  </tbody>\n",
       "</table>\n",
       "<p>5175 rows × 3 columns</p>\n",
       "</div>"
      ],
      "text/plain": [
       "      labels     chembl_ids  fingerprint_id\n",
       "0          1   CHEMBL301018               0\n",
       "1          1   CHEMBL281543               1\n",
       "2          1   CHEMBL401930               2\n",
       "3          0   CHEMBL274654               3\n",
       "4          1   CHEMBL382822               4\n",
       "...      ...            ...             ...\n",
       "5170       1  CHEMBL1645470            5170\n",
       "5171       1  CHEMBL1683960            5171\n",
       "5172       0  CHEMBL1765740            5172\n",
       "5173       1   CHEMBL112225            5173\n",
       "5174       1  CHEMBL1830274            5174\n",
       "\n",
       "[5175 rows x 3 columns]"
      ]
     },
     "execution_count": 14,
     "metadata": {},
     "output_type": "execute_result"
    }
   ],
   "source": [
    "df_labels"
   ]
  },
  {
   "cell_type": "code",
   "execution_count": 24,
   "id": "4d6112fa",
   "metadata": {},
   "outputs": [
    {
     "data": {
      "text/plain": [
       "1    3553\n",
       "0    1622\n",
       "Name: labels, dtype: int64"
      ]
     },
     "execution_count": 24,
     "metadata": {},
     "output_type": "execute_result"
    }
   ],
   "source": [
    "df_labels['labels'].value_counts()"
   ]
  },
  {
   "cell_type": "code",
   "execution_count": 12,
   "id": "e3a464eb",
   "metadata": {},
   "outputs": [
    {
     "data": {
      "image/png": "[encoded data removed]",
      "text/plain": [
       "<Figure size 1080x576 with 1 Axes>"
      ]
     },
     "metadata": {
      "needs_background": "light"
     },
     "output_type": "display_data"
    }
   ],
   "source": [
    "import matplotlib.pyplot as plt\n",
    "\n",
    "fig = plt.figure(figsize=(15,8))\n",
    "sum_bits = morgan_fp.sum(axis=0)\n",
    "plt.bar(list(range(sum_bits.shape[0])), sum_bits)\n",
    "plt.xlabel('Bits')\n",
    "plt.ylabel('Sum')\n",
    "plt.show()"
   ]
  },
  {
   "cell_type": "code",
   "execution_count": 21,
   "id": "9e5488fb",
   "metadata": {},
   "outputs": [
    {
     "data": {
      "text/plain": [
       "array([[1, 0, 0, ..., 0, 0, 0],\n",
       "       [1, 0, 0, ..., 0, 0, 0],\n",
       "       [1, 0, 1, ..., 0, 0, 0],\n",
       "       ...,\n",
       "       [0, 0, 0, ..., 0, 0, 0],\n",
       "       [1, 0, 0, ..., 0, 0, 0],\n",
       "       [1, 0, 0, ..., 0, 0, 0]])"
      ]
     },
     "execution_count": 21,
     "metadata": {},
     "output_type": "execute_result"
    }
   ],
   "source": [
    "import numpy as np\n",
    "\n",
    "labels = np.array(list(df_labels['labels']))\n",
    "\n",
    "dataset = np.hstack((labels.reshape((-1, 1)), morgan_fp))\n",
    "dataset"
   ]
  },
  {
   "cell_type": "code",
   "execution_count": 47,
   "id": "de80b4bc",
   "metadata": {},
   "outputs": [
    {
     "data": {
      "image/png": "[encoded data removed]",
      "text/plain": [
       "<Figure size 1080x576 with 1 Axes>"
      ]
     },
     "metadata": {
      "needs_background": "light"
     },
     "output_type": "display_data"
    }
   ],
   "source": [
    "import matplotlib.pyplot as plt\n",
    "\n",
    "\n",
    "inhibitors_mean_activation = dataset[dataset[:, 0] == 1][:, 1:].mean(axis=0)\n",
    "non_inhibitors_mean_activation = dataset[dataset[:, 0] == 0][:, 1:].mean(axis=0)\n",
    "\n",
    "\n",
    "fig, ax = plt.subplots(figsize=(15,8))\n",
    "n = 2048\n",
    "x = np.arange(n)\n",
    "width = 0.4\n",
    "bar1 = ax.bar(x - width/2, inhibitors_mean_activation, width, label='Inhibitors')\n",
    "bar2 = ax.bar(x + width/2, non_inhibitors_mean_activation, width, label='Non Inhibitors')\n",
    "\n",
    "ax.set_xlabel('Bits')\n",
    "ax.set_ylabel('Mean Activations')\n",
    "ax.legend()\n",
    "plt.show()"
   ]
  }
 ],
 "metadata": {
  "kernelspec": {
   "display_name": "Python 3",
   "language": "python",
   "name": "python3"
  },
  "language_info": {
   "codemirror_mode": {
    "name": "ipython",
    "version": 3
   },
   "file_extension": ".py",
   "mimetype": "text/x-python",
   "name": "python",
   "nbconvert_exporter": "python",
   "pygments_lexer": "ipython3",
   "version": "3.9.2"
  }
 },
 "nbformat": 4,
 "nbformat_minor": 5
}
