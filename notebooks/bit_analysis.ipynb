{
 "cells": [
  {
   "cell_type": "code",
   "execution_count": 1,
   "id": "08b7cd6f-de76-4e88-8143-08b3a49a3f42",
   "metadata": {},
   "outputs": [],
   "source": [
    "from pathlib import Path\n",
    "import sys\n",
    "\n",
    "sys.path.append(str(Path('').absolute().parent))"
   ]
  },
  {
   "cell_type": "code",
   "execution_count": 2,
   "id": "9ff1fac6-34ac-4b94-bb19-66d257746522",
   "metadata": {},
   "outputs": [],
   "source": [
    "import joblib\n",
    "import numpy as np\n",
    "import seaborn as sns\n",
    "import shap\n",
    "from scipy import sparse\n",
    "from sklearn.metrics import (\n",
    "    accuracy_score,\n",
    "    confusion_matrix,\n",
    "    classification_report\n",
    ")\n",
    "from sklearn.utils.validation import check_is_fitted"
   ]
  },
  {
   "cell_type": "markdown",
   "id": "6352ec79-bfdc-426f-b7fa-d96266184f3f",
   "metadata": {},
   "source": [
    "# Paths"
   ]
  },
  {
   "cell_type": "code",
   "execution_count": 3,
   "id": "cf9a24e6-b51f-40c0-a9b3-366377dfb744",
   "metadata": {},
   "outputs": [],
   "source": [
    "ROOT = Path('..')\n",
    "MODELS_DIR = ROOT / 'models'\n",
    "DATA_DIR = ROOT / 'data'\n",
    "RAW_DATA_DIR = DATA_DIR / 'raw'"
   ]
  },
  {
   "cell_type": "markdown",
   "id": "6592103a-c556-45bd-8a4e-b392afbb937f",
   "metadata": {},
   "source": [
    "# Load data splits"
   ]
  },
  {
   "cell_type": "code",
   "execution_count": 4,
   "id": "6e09b669-3d15-4626-9d3b-ed055c42e81f",
   "metadata": {},
   "outputs": [],
   "source": [
    "# TODO: move to utils\n",
    "def load_data_splits(*, data_dir, split):\n",
    "    if split not in ['train', 'test']:\n",
    "        raise ValueError('`split` should be either `train` or `test`')\n",
    "    \n",
    "    X = sparse.load_npz(data_dir / split / f'sparse_{split}_X.npz')\\\n",
    "        .toarray()\n",
    "    y = sparse.load_npz(data_dir / split / f'sparse_{split}_y.npz')\\\n",
    "        .toarray()\\\n",
    "        .squeeze()\n",
    "    \n",
    "    return X, y"
   ]
  },
  {
   "cell_type": "code",
   "execution_count": 5,
   "id": "bb644724-bc3b-4e41-a17f-e34da635749a",
   "metadata": {},
   "outputs": [
    {
     "name": "stdout",
     "output_type": "stream",
     "text": [
      "train_X: (4140, 2048)\n",
      "train_y: (4140,)\n",
      "test_X: (1035, 2048)\n",
      "test_y: (1035,)\n"
     ]
    }
   ],
   "source": [
    "train_X, train_y = load_data_splits(data_dir=RAW_DATA_DIR, split='train')\n",
    "test_X, test_y = load_data_splits(data_dir=RAW_DATA_DIR, split='test')\n",
    "\n",
    "# print shapes to confirm\n",
    "for split in ['train_X', 'train_y', 'test_X', 'test_y']:\n",
    "    print('{name}: {shape}'.format(name=split, shape=eval(split).shape))"
   ]
  },
  {
   "cell_type": "markdown",
   "id": "35b2dce5-222e-48c0-9805-b325bde8acf9",
   "metadata": {},
   "source": [
    "# Load best model"
   ]
  },
  {
   "cell_type": "code",
   "execution_count": 6,
   "id": "e3d1cfce-ca60-44e2-909b-a65cac6eeca5",
   "metadata": {},
   "outputs": [
    {
     "data": {
      "text/plain": [
       "GradientBoostingClassifier(learning_rate=0.3935910935564404, max_depth=14,\n",
       "                           min_samples_leaf=17, n_estimators=155,\n",
       "                           random_state=123)"
      ]
     },
     "execution_count": 6,
     "metadata": {},
     "output_type": "execute_result"
    }
   ],
   "source": [
    "best_model_path = MODELS_DIR / 'model_gb.joblib'\n",
    "model = joblib.load(best_model_path)\n",
    "check_is_fitted(model)\n",
    "model"
   ]
  },
  {
   "cell_type": "code",
   "execution_count": 7,
   "id": "92cae5bb-83ef-4d2d-a66f-64889c6f044b",
   "metadata": {},
   "outputs": [],
   "source": [
    "model_tuned_params = dict(\n",
    "    learning_rate=0.3935911,\n",
    "    max_depth=14,\n",
    "    min_samples_leaf=17,\n",
    "    n_estimators=155,\n",
    "    random_state=123\n",
    ")"
   ]
  },
  {
   "cell_type": "markdown",
   "id": "a524cc54-8881-4630-9ee0-87d158e20fb6",
   "metadata": {},
   "source": [
    "# Benchmark performance on test set"
   ]
  },
  {
   "cell_type": "code",
   "execution_count": 8,
   "id": "19298594-7af2-411e-aaf0-f71b5d465cef",
   "metadata": {},
   "outputs": [
    {
     "name": "stdout",
     "output_type": "stream",
     "text": [
      "Accuracy on test set: 0.8406\n",
      "              precision    recall  f1-score   support\n",
      "\n",
      "           0       0.76      0.72      0.74       324\n",
      "           1       0.88      0.90      0.89       711\n",
      "\n",
      "    accuracy                           0.84      1035\n",
      "   macro avg       0.82      0.81      0.81      1035\n",
      "weighted avg       0.84      0.84      0.84      1035\n",
      "\n"
     ]
    }
   ],
   "source": [
    "test_pred = model.predict(test_X)\n",
    "print('Accuracy on test set: {:.4f}'.format(accuracy_score(test_y, test_pred)))\n",
    "print(classification_report(test_y, test_pred))"
   ]
  },
  {
   "cell_type": "code",
   "execution_count": 9,
   "id": "eb0a9f98-59d0-43e2-80ad-7dab2590efa5",
   "metadata": {},
   "outputs": [
    {
     "data": {
      "image/png": "[encoded data removed]",
      "text/plain": [
       "<Figure size 432x288 with 2 Axes>"
      ]
     },
     "metadata": {
      "needs_background": "light"
     },
     "output_type": "display_data"
    }
   ],
   "source": [
    "sns.heatmap(confusion_matrix(test_y, test_pred),\n",
    "            cmap='Blues', annot=True, fmt='d');"
   ]
  },
  {
   "cell_type": "markdown",
   "id": "8c483328-c917-4b5e-b8c7-b721575e8822",
   "metadata": {},
   "source": [
    "# Using SHAP for explanations"
   ]
  },
  {
   "cell_type": "code",
   "execution_count": 10,
   "id": "496e1639-fd58-486c-b14c-b77accb6940e",
   "metadata": {},
   "outputs": [],
   "source": [
    "def get_top_bits(shap_values, n):\n",
    "    importances = np.abs(shap_values).mean(0)\n",
    "    return list(reversed(np.argsort(importances)))[:n]"
   ]
  },
  {
   "cell_type": "markdown",
   "id": "6b34ecd4-ece6-4a33-b464-9cd718139da4",
   "metadata": {},
   "source": [
    "## On test features"
   ]
  },
  {
   "cell_type": "code",
   "execution_count": 11,
   "id": "e29ddc6b-9ad5-4515-948c-24bfabec26d0",
   "metadata": {},
   "outputs": [],
   "source": [
    "feature_names = [*map(lambda x: 'bit_{}'.format(x),\n",
    "                      range(test_X.shape[1]))]\n",
    "explainer = shap.Explainer(model,\n",
    "                           feature_names=feature_names)\n",
    "shap_explanation = explainer(train_X)"
   ]
  },
  {
   "cell_type": "code",
   "execution_count": 12,
   "id": "6a033027-3157-47cb-aaa6-8b2e829f2a15",
   "metadata": {},
   "outputs": [
    {
     "data": {
      "image/png": "[encoded data removed]",
      "text/plain": [
       "<Figure size 576x972 with 2 Axes>"
      ]
     },
     "metadata": {
      "needs_background": "light"
     },
     "output_type": "display_data"
    }
   ],
   "source": [
    "# nummary_plot explaining target class at index 0\n",
    "shap.summary_plot(shap_explanation, train_X, max_display=30)"
   ]
  },
  {
   "cell_type": "markdown",
   "id": "fb921355-89ef-4ab3-8fcc-3dd1a38955b1",
   "metadata": {},
   "source": [
    "### Bar plot\n",
    "Summarize the effects of features accross all instances"
   ]
  },
  {
   "cell_type": "code",
   "execution_count": 13,
   "id": "dc622604-2c16-416a-91d0-e9951431867e",
   "metadata": {},
   "outputs": [
    {
     "data": {
      "image/png": "[encoded data removed]",
      "text/plain": [
       "<Figure size 576x1188 with 1 Axes>"
      ]
     },
     "metadata": {},
     "output_type": "display_data"
    }
   ],
   "source": [
    "shap.plots.bar(shap_explanation, max_display=30)"
   ]
  },
  {
   "cell_type": "markdown",
   "id": "0277595e-7ea1-4081-9900-3da18fb6452b",
   "metadata": {},
   "source": [
    "As expected from ensembles (specially boosted trees), feature contributions \"add up\" to get a prediction result. Hence, the overall contribution of each feature tends to be small, and spread across many of them. However, in this scenario we clearly have two features standind out."
   ]
  },
  {
   "cell_type": "code",
   "execution_count": 14,
   "id": "5fa68520-46e5-4f51-baea-b99b37462275",
   "metadata": {},
   "outputs": [
    {
     "data": {
      "text/plain": [
       "[1367, 1226, 1452, 329, 1928, 1482, 489, 366, 1077, 650]"
      ]
     },
     "execution_count": 14,
     "metadata": {},
     "output_type": "execute_result"
    }
   ],
   "source": [
    "top_10_bits = get_top_bits(shap_explanation.values, n=10)\n",
    "top_10_bits"
   ]
  },
  {
   "cell_type": "code",
   "execution_count": 21,
   "id": "3a045129",
   "metadata": {},
   "outputs": [
    {
     "data": {
      "text/plain": [
       "[1193, 1192, 1191, 1189, 1188, 1187, 1186, 1185, 1198]"
      ]
     },
     "execution_count": 21,
     "metadata": {},
     "output_type": "execute_result"
    }
   ],
   "source": [
    "import h5py\n",
    "from scripts.preprocessing import selection_by_threshold\n",
    "from scripts.morgan_handler import get_morgan_fingerprints\n",
    "\n",
    "morgan_fp, df_labels = get_morgan_fingerprints()\n",
    "\n",
    "#Removes bits that never appear in the fingerprints\n",
    "clean_df_discard, dropped_labels = selection_by_threshold('incidence', morgan_fp, (1/(len(morgan_fp) + 1)))\n",
    "\n",
    "#Gets importance values and list them\n",
    "importances = np.abs(shap_explanation.values).mean(0)\n",
    "importances_list = list(reversed(np.argsort(importances)))\n",
    "\n",
    "#Remove bits that never appear in the fingerprints from the importance list\n",
    "for item in importances_list:\n",
    "    if item in dropped_labels:\n",
    "        importances_list.remove(item)\n",
    "        \n",
    "lower_10_bits = importances_list[-1:-10:-1]\n",
    "lower_10_bits"
   ]
  },
  {
   "cell_type": "markdown",
   "id": "ccd50e08-0992-4cf7-839b-abee7a82a538",
   "metadata": {},
   "source": [
    "# Visualize most important bits as molecule fragments"
   ]
  },
  {
   "cell_type": "code",
   "execution_count": 22,
   "id": "390c9937-43e3-4f1f-9ac3-b5e59b6ae6e5",
   "metadata": {},
   "outputs": [],
   "source": [
    "import json\n",
    "from rdkit import Chem\n",
    "from rdkit.Chem.Draw import IPythonConsole\n",
    "from rdkit.Chem import (Draw,\n",
    "                        Descriptors,\n",
    "                        AllChem)\n",
    "import pandas as pd"
   ]
  },
  {
   "cell_type": "code",
   "execution_count": 23,
   "id": "abe9c99a-2158-4471-a912-0a915dcfacd9",
   "metadata": {},
   "outputs": [
    {
     "data": {
      "text/html": [
       "<div>\n",
       "<style scoped>\n",
       "    .dataframe tbody tr th:only-of-type {\n",
       "        vertical-align: middle;\n",
       "    }\n",
       "\n",
       "    .dataframe tbody tr th {\n",
       "        vertical-align: top;\n",
       "    }\n",
       "\n",
       "    .dataframe thead th {\n",
       "        text-align: right;\n",
       "    }\n",
       "</style>\n",
       "<table border=\"1\" class=\"dataframe\">\n",
       "  <thead>\n",
       "    <tr style=\"text-align: right;\">\n",
       "      <th></th>\n",
       "      <th>chembid</th>\n",
       "      <th>smiles_notation</th>\n",
       "    </tr>\n",
       "  </thead>\n",
       "  <tbody>\n",
       "    <tr>\n",
       "      <th>0</th>\n",
       "      <td>CHEMBL301018</td>\n",
       "      <td>COc1cc2ncnc(Nc3ccc(F)c(Cl)c3)c2cc1OC</td>\n",
       "    </tr>\n",
       "    <tr>\n",
       "      <th>1</th>\n",
       "      <td>CHEMBL281543</td>\n",
       "      <td>C=CC(=O)Nc1nc2c(Nc3ccc(F)c(Cl)c3)ncnc2cc1CCCCN...</td>\n",
       "    </tr>\n",
       "    <tr>\n",
       "      <th>2</th>\n",
       "      <td>CHEMBL401930</td>\n",
       "      <td>Cc1cc(N2CCOCC2)cc2[nH]c(-c3c(NC[C@@H](O)c4cccc...</td>\n",
       "    </tr>\n",
       "    <tr>\n",
       "      <th>3</th>\n",
       "      <td>CHEMBL274654</td>\n",
       "      <td>Cc1[nH]c(/C=C2\\C(=O)Nc3ccccc32)c(C)c1CCC(=O)O</td>\n",
       "    </tr>\n",
       "    <tr>\n",
       "      <th>4</th>\n",
       "      <td>CHEMBL382822</td>\n",
       "      <td>COc1cc2ncnc(Nc3cccc(Cl)c3F)c2cc1CN1CCC[C@@H]1C...</td>\n",
       "    </tr>\n",
       "  </tbody>\n",
       "</table>\n",
       "</div>"
      ],
      "text/plain": [
       "        chembid                                    smiles_notation\n",
       "0  CHEMBL301018               COc1cc2ncnc(Nc3ccc(F)c(Cl)c3)c2cc1OC\n",
       "1  CHEMBL281543  C=CC(=O)Nc1nc2c(Nc3ccc(F)c(Cl)c3)ncnc2cc1CCCCN...\n",
       "2  CHEMBL401930  Cc1cc(N2CCOCC2)cc2[nH]c(-c3c(NC[C@@H](O)c4cccc...\n",
       "3  CHEMBL274654      Cc1[nH]c(/C=C2\\C(=O)Nc3ccccc32)c(C)c1CCC(=O)O\n",
       "4  CHEMBL382822  COc1cc2ncnc(Nc3cccc(Cl)c3F)c2cc1CN1CCC[C@@H]1C..."
      ]
     },
     "execution_count": 23,
     "metadata": {},
     "output_type": "execute_result"
    }
   ],
   "source": [
    "df_smiles = pd.read_csv(DATA_DIR / 'egfr_erbB1_smiles.csv', index_col=0)\n",
    "df_smiles.head()"
   ]
  },
  {
   "cell_type": "code",
   "execution_count": 24,
   "id": "27476e33-ed20-4963-9c35-75f9de57e40e",
   "metadata": {},
   "outputs": [
    {
     "name": "stdout",
     "output_type": "stream",
     "text": [
      "Sample elem from map:\n"
     ]
    },
    {
     "data": {
      "text/plain": [
       "{'CHEMBL301018': {'191': [[10, 1]],\n",
       "  '216': [[12, 2]],\n",
       "  '249': [[1, 2], [21, 2]],\n",
       "  '329': [[10, 2]],\n",
       "  '366': [[15, 1]],\n",
       "  '378': [[5, 0], [7, 0]],\n",
       "  '465': [[13, 2]],\n",
       "  '489': [[6, 1]],\n",
       "  '491': [[9, 1]],\n",
       "  '561': [[16, 1]],\n",
       "  '673': [[4, 2]],\n",
       "  '695': [[1, 0], [21, 0]],\n",
       "  '699': [[14, 1]],\n",
       "  '708': [[8, 1]],\n",
       "  '780': [[3, 2]],\n",
       "  '794': [[8, 2]],\n",
       "  '841': [[0, 1], [22, 1]],\n",
       "  '843': [[11, 2]],\n",
       "  '875': [[3, 1], [19, 1], [17, 1]],\n",
       "  '888': [[9, 2]],\n",
       "  '1057': [[0, 0], [22, 0]],\n",
       "  '1097': [[4, 1]],\n",
       "  '1152': [[9, 0]],\n",
       "  '1157': [[18, 2]],\n",
       "  '1226': [[5, 2]],\n",
       "  '1245': [[2, 2], [20, 2]],\n",
       "  '1357': [[18, 1]],\n",
       "  '1367': [[7, 2]],\n",
       "  '1380': [[2, 0],\n",
       "   [4, 0],\n",
       "   [8, 0],\n",
       "   [10, 0],\n",
       "   [13, 0],\n",
       "   [15, 0],\n",
       "   [18, 0],\n",
       "   [20, 0]],\n",
       "  '1452': [[5, 1], [7, 1]],\n",
       "  '1488': [[15, 2]],\n",
       "  '1536': [[1, 1], [21, 1]],\n",
       "  '1581': [[17, 2]],\n",
       "  '1648': [[19, 2]],\n",
       "  '1683': [[16, 0]],\n",
       "  '1750': [[11, 1], [12, 1]],\n",
       "  '1810': [[6, 2]],\n",
       "  '1840': [[13, 1]],\n",
       "  '1873': [[3, 0], [6, 0], [11, 0], [12, 0], [17, 0], [19, 0]],\n",
       "  '1928': [[14, 0]],\n",
       "  '1970': [[2, 1], [20, 1]]}}"
      ]
     },
     "execution_count": 24,
     "metadata": {},
     "output_type": "execute_result"
    }
   ],
   "source": [
    "with open(DATA_DIR / 'bit_info.json', 'r') as file:\n",
    "    chembl_to_bitinfo = json.load(file)\n",
    "\n",
    "print('Sample elem from map:')\n",
    "[{k: v} for k, v in chembl_to_bitinfo.items()][0]"
   ]
  },
  {
   "cell_type": "code",
   "execution_count": 25,
   "id": "6967880c-8d83-4bf5-879d-a99c8f8c4812",
   "metadata": {},
   "outputs": [],
   "source": [
    "# funções de conveniência\n",
    "def get_mol(chembl, df_smiles):\n",
    "    smiles = df_smiles[df_smiles['chembid'] == chembl].iloc[0,1]\n",
    "    mol = Chem.MolFromSmiles(smiles)\n",
    "    return mol"
   ]
  },
  {
   "cell_type": "markdown",
   "id": "e5cb2a6b-67f5-4f3c-988d-ead97aa45394",
   "metadata": {},
   "source": [
    "# Agrupamento considerando apenas principais bits"
   ]
  },
  {
   "cell_type": "code",
   "execution_count": 116,
   "id": "ced1f08c",
   "metadata": {},
   "outputs": [],
   "source": [
    "import math\n",
    "def safe_ratio(x,y):\n",
    "    if y == 0:\n",
    "        return math.nan\n",
    "    else:\n",
    "        return ((x/y))"
   ]
  },
  {
   "cell_type": "code",
   "execution_count": 117,
   "id": "cb2a42a5",
   "metadata": {},
   "outputs": [],
   "source": [
    "inhibitor_fp_list = []\n",
    "non_inhibitor_fp_list = []\n",
    "\n",
    "for fp, label in zip(morgan_fp, df_labels['labels']):\n",
    "    if label == 1:\n",
    "        inhibitor_fp_list.append(fp)\n",
    "    else:\n",
    "        non_inhibitor_fp_list.append(fp)\n",
    "        \n",
    "inhibitor_fp_array = np.array(inhibitor_fp_list)\n",
    "non_inhibitor_fp_array = np.array(non_inhibitor_fp_list)"
   ]
  },
  {
   "cell_type": "code",
   "execution_count": 120,
   "id": "ed34482b-a99f-49d6-aaae-39413383aa5a",
   "metadata": {},
   "outputs": [],
   "source": [
    "inhibitor_incidence = np.sum(inhibitor_fp_array, axis = 0)/len(inhibitor_fp_array)\n",
    "non_inhibitor_incidence = np.sum(non_inhibitor_fp_array, axis =0)/len(non_inhibitor_fp_array)\n",
    "\n",
    "incidence_ratio = []\n",
    "\n",
    "for bit in range(0,2048):\n",
    "    incidence_ratio.append(safe_ratio(inhibitor_incidence[bit], non_inhibitor_incidence[bit]))"
   ]
  },
  {
   "cell_type": "code",
   "execution_count": 121,
   "id": "e9793415",
   "metadata": {},
   "outputs": [],
   "source": [
    "top_bit_inhibitor_incidence = []\n",
    "top_bit_non_inhibitor_incidence = []\n",
    "top_ratio = []\n",
    "\n",
    "lower_bit_inhibitor_incidence = []\n",
    "lower_bit_non_inhibitor_incidence = []\n",
    "lower_ratio = []\n",
    "\n",
    "\n",
    "for bit in top_10_bits:\n",
    "    top_bit_inhibitor_incidence.append(inhibitor_incidence[bit])\n",
    "    top_bit_non_inhibitor_incidence.append(non_inhibitor_incidence[bit])\n",
    "    top_ratio.append(safe_ratio(inhibitor_incidence[bit], non_inhibitor_incidence[bit]))\n",
    "\n",
    "top_bit = pd.DataFrame({'top_10_bits': top_10_bits, 'inhib_incidence':top_bit_inhibitor_incidence, \n",
    "                        'non_inhib_incidence':top_bit_non_inhibitor_incidence, 'ratio':top_ratio})\n",
    "\n",
    "for bit in lower_10_bits:\n",
    "    lower_bit_inhibitor_incidence.append(inhibitor_incidence[bit])\n",
    "    lower_bit_non_inhibitor_incidence.append(non_inhibitor_incidence[bit])  \n",
    "    lower_ratio.append(safe_ratio(inhibitor_incidence[bit], non_inhibitor_incidence[bit]))\n",
    "\n",
    "lower_bit = pd.DataFrame({'lower_10_bits': lower_10_bits, 'inhib_incidence':lower_bit_inhibitor_incidence, \n",
    "                        'non_inhib_incidence':lower_bit_non_inhibitor_incidence, 'ratio':lower_ratio})"
   ]
  },
  {
   "cell_type": "code",
   "execution_count": 122,
   "id": "0a8b1c88",
   "metadata": {},
   "outputs": [
    {
     "data": {
      "text/html": [
       "<div>\n",
       "<style scoped>\n",
       "    .dataframe tbody tr th:only-of-type {\n",
       "        vertical-align: middle;\n",
       "    }\n",
       "\n",
       "    .dataframe tbody tr th {\n",
       "        vertical-align: top;\n",
       "    }\n",
       "\n",
       "    .dataframe thead th {\n",
       "        text-align: right;\n",
       "    }\n",
       "</style>\n",
       "<table border=\"1\" class=\"dataframe\">\n",
       "  <thead>\n",
       "    <tr style=\"text-align: right;\">\n",
       "      <th></th>\n",
       "      <th>top_10_bits</th>\n",
       "      <th>inhib_incidence</th>\n",
       "      <th>non_inhib_incidence</th>\n",
       "      <th>ratio</th>\n",
       "    </tr>\n",
       "  </thead>\n",
       "  <tbody>\n",
       "    <tr>\n",
       "      <th>0</th>\n",
       "      <td>1367</td>\n",
       "      <td>0.550239</td>\n",
       "      <td>0.122072</td>\n",
       "      <td>4.507515</td>\n",
       "    </tr>\n",
       "    <tr>\n",
       "      <th>1</th>\n",
       "      <td>1226</td>\n",
       "      <td>0.464115</td>\n",
       "      <td>0.114673</td>\n",
       "      <td>4.047281</td>\n",
       "    </tr>\n",
       "    <tr>\n",
       "      <th>2</th>\n",
       "      <td>1452</td>\n",
       "      <td>0.809738</td>\n",
       "      <td>0.460543</td>\n",
       "      <td>1.758227</td>\n",
       "    </tr>\n",
       "    <tr>\n",
       "      <th>3</th>\n",
       "      <td>329</td>\n",
       "      <td>0.507458</td>\n",
       "      <td>0.158446</td>\n",
       "      <td>3.202715</td>\n",
       "    </tr>\n",
       "    <tr>\n",
       "      <th>4</th>\n",
       "      <td>1928</td>\n",
       "      <td>0.311849</td>\n",
       "      <td>0.152898</td>\n",
       "      <td>2.039594</td>\n",
       "    </tr>\n",
       "    <tr>\n",
       "      <th>5</th>\n",
       "      <td>1482</td>\n",
       "      <td>0.129468</td>\n",
       "      <td>0.045623</td>\n",
       "      <td>2.837800</td>\n",
       "    </tr>\n",
       "    <tr>\n",
       "      <th>6</th>\n",
       "      <td>489</td>\n",
       "      <td>0.634393</td>\n",
       "      <td>0.248459</td>\n",
       "      <td>2.553316</td>\n",
       "    </tr>\n",
       "    <tr>\n",
       "      <th>7</th>\n",
       "      <td>366</td>\n",
       "      <td>0.293836</td>\n",
       "      <td>0.124538</td>\n",
       "      <td>2.359417</td>\n",
       "    </tr>\n",
       "    <tr>\n",
       "      <th>8</th>\n",
       "      <td>1077</td>\n",
       "      <td>0.028990</td>\n",
       "      <td>0.090629</td>\n",
       "      <td>0.319871</td>\n",
       "    </tr>\n",
       "    <tr>\n",
       "      <th>9</th>\n",
       "      <td>650</td>\n",
       "      <td>0.558401</td>\n",
       "      <td>0.662145</td>\n",
       "      <td>0.843321</td>\n",
       "    </tr>\n",
       "  </tbody>\n",
       "</table>\n",
       "</div>"
      ],
      "text/plain": [
       "   top_10_bits  inhib_incidence  non_inhib_incidence     ratio\n",
       "0         1367         0.550239             0.122072  4.507515\n",
       "1         1226         0.464115             0.114673  4.047281\n",
       "2         1452         0.809738             0.460543  1.758227\n",
       "3          329         0.507458             0.158446  3.202715\n",
       "4         1928         0.311849             0.152898  2.039594\n",
       "5         1482         0.129468             0.045623  2.837800\n",
       "6          489         0.634393             0.248459  2.553316\n",
       "7          366         0.293836             0.124538  2.359417\n",
       "8         1077         0.028990             0.090629  0.319871\n",
       "9          650         0.558401             0.662145  0.843321"
      ]
     },
     "execution_count": 122,
     "metadata": {},
     "output_type": "execute_result"
    }
   ],
   "source": [
    "top_bit"
   ]
  },
  {
   "cell_type": "code",
   "execution_count": 123,
   "id": "d01e2d72-e0fa-48d4-8939-fb7f04ed3d46",
   "metadata": {},
   "outputs": [
    {
     "name": "stdout",
     "output_type": "stream",
     "text": [
      "Bit 1367 ----------------------------------------------\n"
     ]
    },
    {
     "data": {
      "image/svg+xml": [
       "<svg xmlns=\"http://www.w3.org/2000/svg\" xmlns:rdkit=\"http://www.rdkit.org/xml\" xmlns:xlink=\"http://www.w3.org/1999/xlink\" version=\"1.1\" baseProfile=\"full\" xml:space=\"preserve\" width=\"150px\" height=\"150px\" viewBox=\"0 0 150 150\">\n",
       "<!-- END OF HEADER -->\n",
       "<rect style=\"opacity:1.0;fill:#FFFFFF;stroke:none\" width=\"150\" height=\"150\" x=\"0\" y=\"0\"> </rect>\n",
       "<ellipse cx=\"23.5225\" cy=\"123.804\" rx=\"8.06307\" ry=\"8.06307\" style=\"fill:#E5E533;fill-rule:evenodd;stroke:#E5E533;stroke-width:2.0px;stroke-linecap:butt;stroke-linejoin:miter;stroke-opacity:1\"/>\n",
       "<ellipse cx=\"63.2644\" cy=\"130.579\" rx=\"8.06307\" ry=\"8.06307\" style=\"fill:#E5E533;fill-rule:evenodd;stroke:#E5E533;stroke-width:2.0px;stroke-linecap:butt;stroke-linejoin:miter;stroke-opacity:1\"/>\n",
       "<ellipse cx=\"89.0032\" cy=\"99.5494\" rx=\"8.06307\" ry=\"8.06307\" style=\"fill:#9999E5;fill-rule:evenodd;stroke:#9999E5;stroke-width:2.0px;stroke-linecap:butt;stroke-linejoin:miter;stroke-opacity:1\"/>\n",
       "<ellipse cx=\"75\" cy=\"61.7441\" rx=\"8.06307\" ry=\"8.06307\" style=\"fill:#E5E533;fill-rule:evenodd;stroke:#E5E533;stroke-width:2.0px;stroke-linecap:butt;stroke-linejoin:miter;stroke-opacity:1\"/>\n",
       "<ellipse cx=\"35.2581\" cy=\"54.9685\" rx=\"8.06307\" ry=\"8.06307\" style=\"fill:#E5E533;fill-rule:evenodd;stroke:#E5E533;stroke-width:2.0px;stroke-linecap:butt;stroke-linejoin:miter;stroke-opacity:1\"/>\n",
       "<path class=\"bond-0 atom-0 atom-1\" d=\"M 9.6776,86.4256 L 21.0389,117.098\" style=\"fill:none;fill-rule:evenodd;stroke:#E5E5E5;stroke-width:2.2px;stroke-linecap:butt;stroke-linejoin:miter;stroke-opacity:1\"/>\n",
       "<path class=\"bond-0 atom-0 atom-1\" d=\"M 18.9429,88.2259 L 26.8957,109.697\" style=\"fill:none;fill-rule:evenodd;stroke:#E5E5E5;stroke-width:2.2px;stroke-linecap:butt;stroke-linejoin:miter;stroke-opacity:1\"/>\n",
       "<path class=\"bond-8 atom-7 atom-0\" d=\"M 35.2581,54.9685 L 13.2283,81.5268\" style=\"fill:none;fill-rule:evenodd;stroke:#E5E5E5;stroke-width:2.2px;stroke-linecap:butt;stroke-linejoin:miter;stroke-opacity:1\"/>\n",
       "<path class=\"bond-1 atom-1 atom-2\" d=\"M 28.8602,124.714 L 46.0623,127.646\" style=\"fill:none;fill-rule:evenodd;stroke:#0000FF;stroke-width:2.0px;stroke-linecap:butt;stroke-linejoin:miter;stroke-opacity:1\"/>\n",
       "<path class=\"bond-1 atom-1 atom-2\" d=\"M 46.0623,127.646 L 63.2644,130.579\" style=\"fill:none;fill-rule:evenodd;stroke:#000000;stroke-width:2.0px;stroke-linecap:butt;stroke-linejoin:miter;stroke-opacity:1\"/>\n",
       "<path class=\"bond-2 atom-2 atom-3\" d=\"M 63.2644,130.579 L 73.4649,118.282\" style=\"fill:none;fill-rule:evenodd;stroke:#000000;stroke-width:2.0px;stroke-linecap:butt;stroke-linejoin:miter;stroke-opacity:1\"/>\n",
       "<path class=\"bond-2 atom-2 atom-3\" d=\"M 73.4649,118.282 L 83.6654,105.984\" style=\"fill:none;fill-rule:evenodd;stroke:#0000FF;stroke-width:2.0px;stroke-linecap:butt;stroke-linejoin:miter;stroke-opacity:1\"/>\n",
       "<path class=\"bond-2 atom-2 atom-3\" d=\"M 60.1186,121.742 L 67.259,113.134\" style=\"fill:none;fill-rule:evenodd;stroke:#000000;stroke-width:2.0px;stroke-linecap:butt;stroke-linejoin:miter;stroke-opacity:1\"/>\n",
       "<path class=\"bond-2 atom-2 atom-3\" d=\"M 67.259,113.134 L 74.3993,104.526\" style=\"fill:none;fill-rule:evenodd;stroke:#0000FF;stroke-width:2.0px;stroke-linecap:butt;stroke-linejoin:miter;stroke-opacity:1\"/>\n",
       "<path class=\"bond-3 atom-3 atom-4\" d=\"M 86.5153,92.8328 L 80.7577,77.2884\" style=\"fill:none;fill-rule:evenodd;stroke:#0000FF;stroke-width:2.0px;stroke-linecap:butt;stroke-linejoin:miter;stroke-opacity:1\"/>\n",
       "<path class=\"bond-3 atom-3 atom-4\" d=\"M 80.7577,77.2884 L 75,61.7441\" style=\"fill:none;fill-rule:evenodd;stroke:#000000;stroke-width:2.0px;stroke-linecap:butt;stroke-linejoin:miter;stroke-opacity:1\"/>\n",
       "<path class=\"bond-4 atom-4 atom-5\" d=\"M 75,61.7441 L 85.0837,49.5875\" style=\"fill:none;fill-rule:evenodd;stroke:#000000;stroke-width:2.0px;stroke-linecap:butt;stroke-linejoin:miter;stroke-opacity:1\"/>\n",
       "<path class=\"bond-4 atom-4 atom-5\" d=\"M 85.0837,49.5875 L 95.1675,37.4309\" style=\"fill:none;fill-rule:evenodd;stroke:#0000FF;stroke-width:2.0px;stroke-linecap:butt;stroke-linejoin:miter;stroke-opacity:1\"/>\n",
       "<path class=\"bond-6 atom-4 atom-7\" d=\"M 75,61.7441 L 35.2581,54.9685\" style=\"fill:none;fill-rule:evenodd;stroke:#000000;stroke-width:2.0px;stroke-linecap:butt;stroke-linejoin:miter;stroke-opacity:1\"/>\n",
       "<path class=\"bond-6 atom-4 atom-7\" d=\"M 67.6836,68.6761 L 39.8643,63.9332\" style=\"fill:none;fill-rule:evenodd;stroke:#000000;stroke-width:2.0px;stroke-linecap:butt;stroke-linejoin:miter;stroke-opacity:1\"/>\n",
       "<path class=\"bond-5 atom-5 atom-6\" d=\"M 106.077,31.6243 L 136.907,36.8806\" style=\"fill:none;fill-rule:evenodd;stroke:#E5E5E5;stroke-width:2.2px;stroke-linecap:butt;stroke-linejoin:miter;stroke-opacity:1\"/>\n",
       "<path class=\"bond-7 atom-7 atom-8\" d=\"M 35.2581,54.9685 L 21.4132,17.5906\" style=\"fill:none;fill-rule:evenodd;stroke:#E5E5E5;stroke-width:2.2px;stroke-linecap:butt;stroke-linejoin:miter;stroke-opacity:1\"/>\n",
       "<path class=\"atom-0\" d=\"M 7.36647 84.7243 L 9.04359 83.0149 L 6.81818 82.5634 L 7.15683 81.4184 L 9.20485 82.4505 L 8.91458 80.209 L 10.124 80.1929 L 9.78539 82.4344 L 11.8657 81.4668 L 12.2204 82.5634 L 9.96278 82.9827 L 11.5754 84.7082 L 10.5917 85.4177 L 9.479 83.2891 L 8.35017 85.4177 L 7.36647 84.7243 \" fill=\"#191919\"/>\n",
       "<path class=\"atom-1\" d=\"M 20.9987 118.095 L 24.74 124.142 Q 25.1109 124.739, 25.7076 125.819 Q 26.3042 126.9, 26.3365 126.964 L 26.3365 118.095 L 27.8524 118.095 L 27.8524 129.512 L 26.2881 129.512 L 22.2727 122.901 Q 21.805 122.126, 21.3051 121.24 Q 20.8214 120.353, 20.6762 120.078 L 20.6762 129.512 L 19.1926 129.512 L 19.1926 118.095 L 20.9987 118.095 \" fill=\"#0000FF\"/>\n",
       "<path class=\"atom-3\" d=\"M 86.4794 93.8407 L 90.2207 99.888 Q 90.5916 100.485, 91.1883 101.565 Q 91.7849 102.646, 91.8172 102.71 L 91.8172 93.8407 L 93.333 93.8407 L 93.333 105.258 L 91.7688 105.258 L 87.7534 98.6463 Q 87.2857 97.8722, 86.7858 96.9853 Q 86.302 96.0984, 86.1569 95.8242 L 86.1569 105.258 L 84.6733 105.258 L 84.6733 93.8407 L 86.4794 93.8407 \" fill=\"#0000FF\"/>\n",
       "<path class=\"atom-5\" d=\"M 86.1365 25.0057 L 87.6846 25.0057 L 87.6846 29.8596 L 93.5223 29.8596 L 93.5223 25.0057 L 95.0704 25.0057 L 95.0704 36.423 L 93.5223 36.423 L 93.5223 31.1497 L 87.6846 31.1497 L 87.6846 36.423 L 86.1365 36.423 L 86.1365 25.0057 \" fill=\"#0000FF\"/>\n",
       "<path class=\"atom-5\" d=\"M 98.215 25.0057 L 101.956 31.053 Q 102.327 31.6496, 102.924 32.7301 Q 103.521 33.8105, 103.553 33.875 L 103.553 25.0057 L 105.069 25.0057 L 105.069 36.423 L 103.504 36.423 L 99.489 29.8113 Q 99.0213 29.0372, 98.5214 28.1503 Q 98.0376 27.2633, 97.8925 26.9892 L 97.8925 36.423 L 96.4089 36.423 L 96.4089 25.0057 L 98.215 25.0057 \" fill=\"#0000FF\"/>\n",
       "<path class=\"atom-6\" d=\"M 138.328 36.2159 L 140.005 34.5065 L 137.78 34.055 L 138.118 32.91 L 140.166 33.9421 L 139.876 31.7006 L 141.085 31.6844 L 140.747 33.926 L 142.827 32.9584 L 143.182 34.055 L 140.924 34.4743 L 142.537 36.1998 L 141.553 36.9093 L 140.44 34.7807 L 139.312 36.9093 L 138.328 36.2159 \" fill=\"#191919\"/>\n",
       "<path class=\"atom-8\" d=\"M 19.1021 15.8893 L 20.7792 14.1799 L 18.5538 13.7284 L 18.8924 12.5834 L 20.9404 13.6155 L 20.6502 11.3739 L 21.8596 11.3578 L 21.521 13.5994 L 23.6013 12.6318 L 23.956 13.7284 L 21.6984 14.1476 L 23.311 15.8731 L 22.3273 16.5827 L 21.2146 14.454 L 20.0858 16.5827 L 19.1021 15.8893 \" fill=\"#191919\"/>\n",
       "</svg>"
      ],
      "text/plain": [
       "<IPython.core.display.SVG object>"
      ]
     },
     "metadata": {},
     "output_type": "display_data"
    },
    {
     "name": "stdout",
     "output_type": "stream",
     "text": [
      "Bit 1226 ----------------------------------------------\n"
     ]
    },
    {
     "data": {
      "image/svg+xml": [
       "<svg xmlns=\"http://www.w3.org/2000/svg\" xmlns:rdkit=\"http://www.rdkit.org/xml\" xmlns:xlink=\"http://www.w3.org/1999/xlink\" version=\"1.1\" baseProfile=\"full\" xml:space=\"preserve\" width=\"150px\" height=\"150px\" viewBox=\"0 0 150 150\">\n",
       "<!-- END OF HEADER -->\n",
       "<rect style=\"opacity:1.0;fill:#FFFFFF;stroke:none\" width=\"150\" height=\"150\" x=\"0\" y=\"0\"> </rect>\n",
       "<ellipse cx=\"22.6374\" cy=\"78.999\" rx=\"7.63585\" ry=\"7.63585\" style=\"fill:#E5E533;fill-rule:evenodd;stroke:#E5E533;stroke-width:2.0px;stroke-linecap:butt;stroke-linejoin:miter;stroke-opacity:1\"/>\n",
       "<ellipse cx=\"60.2736\" cy=\"85.4155\" rx=\"7.63585\" ry=\"7.63585\" style=\"fill:#E5E533;fill-rule:evenodd;stroke:#E5E533;stroke-width:2.0px;stroke-linecap:butt;stroke-linejoin:miter;stroke-opacity:1\"/>\n",
       "<ellipse cx=\"73.5348\" cy=\"121.218\" rx=\"7.63585\" ry=\"7.63585\" style=\"fill:#9999E5;fill-rule:evenodd;stroke:#9999E5;stroke-width:2.0px;stroke-linecap:butt;stroke-linejoin:miter;stroke-opacity:1\"/>\n",
       "<ellipse cx=\"111.171\" cy=\"127.634\" rx=\"7.63585\" ry=\"7.63585\" style=\"fill:#E5E533;fill-rule:evenodd;stroke:#E5E533;stroke-width:2.0px;stroke-linecap:butt;stroke-linejoin:miter;stroke-opacity:1\"/>\n",
       "<ellipse cx=\"135.546\" cy=\"98.2486\" rx=\"7.63585\" ry=\"7.63585\" style=\"fill:#E5E533;fill-rule:evenodd;stroke:#E5E533;stroke-width:2.0px;stroke-linecap:butt;stroke-linejoin:miter;stroke-opacity:1\"/>\n",
       "<ellipse cx=\"84.6486\" cy=\"56.0299\" rx=\"7.63585\" ry=\"7.63585\" style=\"fill:#E5E533;fill-rule:evenodd;stroke:#E5E533;stroke-width:2.0px;stroke-linecap:butt;stroke-linejoin:miter;stroke-opacity:1\"/>\n",
       "<path class=\"bond-0 atom-0 atom-1\" d=\"M 5.94588,44.9276 L 19.0572,80.3251\" style=\"fill:none;fill-rule:evenodd;stroke:#E5E5E5;stroke-width:2.0px;stroke-linecap:butt;stroke-linejoin:miter;stroke-opacity:1\"/>\n",
       "<path class=\"bond-0 atom-0 atom-1\" d=\"M 13.1063,42.2754 L 26.2176,77.6729\" style=\"fill:none;fill-rule:evenodd;stroke:#E5E5E5;stroke-width:2.0px;stroke-linecap:butt;stroke-linejoin:miter;stroke-opacity:1;stroke-dasharray:6,6\"/>\n",
       "<path class=\"bond-1 atom-1 atom-2\" d=\"M 22.6374,78.999 L 60.2736,85.4155\" style=\"fill:none;fill-rule:evenodd;stroke:#000000;stroke-width:2.0px;stroke-linecap:butt;stroke-linejoin:miter;stroke-opacity:1\"/>\n",
       "<path class=\"bond-2 atom-2 atom-3\" d=\"M 60.2736,85.4155 L 65.7262,100.136\" style=\"fill:none;fill-rule:evenodd;stroke:#000000;stroke-width:2.0px;stroke-linecap:butt;stroke-linejoin:miter;stroke-opacity:1\"/>\n",
       "<path class=\"bond-2 atom-2 atom-3\" d=\"M 65.7262,100.136 L 71.1788,114.857\" style=\"fill:none;fill-rule:evenodd;stroke:#0000FF;stroke-width:2.0px;stroke-linecap:butt;stroke-linejoin:miter;stroke-opacity:1\"/>\n",
       "<path class=\"bond-2 atom-2 atom-3\" d=\"M 69.0698,87.1795 L 72.8866,97.484\" style=\"fill:none;fill-rule:evenodd;stroke:#000000;stroke-width:2.0px;stroke-linecap:butt;stroke-linejoin:miter;stroke-opacity:1\"/>\n",
       "<path class=\"bond-2 atom-2 atom-3\" d=\"M 72.8866,97.484 L 76.7034,107.789\" style=\"fill:none;fill-rule:evenodd;stroke:#0000FF;stroke-width:2.0px;stroke-linecap:butt;stroke-linejoin:miter;stroke-opacity:1\"/>\n",
       "<path class=\"bond-8 atom-7 atom-2\" d=\"M 84.6486,56.0299 L 60.2736,85.4155\" style=\"fill:none;fill-rule:evenodd;stroke:#000000;stroke-width:2.0px;stroke-linecap:butt;stroke-linejoin:miter;stroke-opacity:1\"/>\n",
       "<path class=\"bond-3 atom-3 atom-4\" d=\"M 78.5897,122.079 L 94.8804,124.857\" style=\"fill:none;fill-rule:evenodd;stroke:#0000FF;stroke-width:2.0px;stroke-linecap:butt;stroke-linejoin:miter;stroke-opacity:1\"/>\n",
       "<path class=\"bond-3 atom-3 atom-4\" d=\"M 94.8804,124.857 L 111.171,127.634\" style=\"fill:none;fill-rule:evenodd;stroke:#000000;stroke-width:2.0px;stroke-linecap:butt;stroke-linejoin:miter;stroke-opacity:1\"/>\n",
       "<path class=\"bond-4 atom-4 atom-5\" d=\"M 111.171,127.634 L 120.831,115.988\" style=\"fill:none;fill-rule:evenodd;stroke:#000000;stroke-width:2.0px;stroke-linecap:butt;stroke-linejoin:miter;stroke-opacity:1\"/>\n",
       "<path class=\"bond-4 atom-4 atom-5\" d=\"M 120.831,115.988 L 130.491,104.343\" style=\"fill:none;fill-rule:evenodd;stroke:#0000FF;stroke-width:2.0px;stroke-linecap:butt;stroke-linejoin:miter;stroke-opacity:1\"/>\n",
       "<path class=\"bond-4 atom-4 atom-5\" d=\"M 108.192,119.265 L 114.954,111.113\" style=\"fill:none;fill-rule:evenodd;stroke:#000000;stroke-width:2.0px;stroke-linecap:butt;stroke-linejoin:miter;stroke-opacity:1\"/>\n",
       "<path class=\"bond-4 atom-4 atom-5\" d=\"M 114.954,111.113 L 121.716,102.961\" style=\"fill:none;fill-rule:evenodd;stroke:#0000FF;stroke-width:2.0px;stroke-linecap:butt;stroke-linejoin:miter;stroke-opacity:1\"/>\n",
       "<path class=\"bond-5 atom-5 atom-6\" d=\"M 133.19,91.8879 L 122.372,62.6816\" style=\"fill:none;fill-rule:evenodd;stroke:#E5E5E5;stroke-width:2.0px;stroke-linecap:butt;stroke-linejoin:miter;stroke-opacity:1\"/>\n",
       "<path class=\"bond-6 atom-6 atom-7\" d=\"M 118.772,61.8476 L 84.6486,56.0299\" style=\"fill:none;fill-rule:evenodd;stroke:#E5E5E5;stroke-width:2.0px;stroke-linecap:butt;stroke-linejoin:miter;stroke-opacity:1\"/>\n",
       "<path class=\"bond-6 atom-6 atom-7\" d=\"M 112.37,68.5022 L 88.4838,64.4298\" style=\"fill:none;fill-rule:evenodd;stroke:#E5E5E5;stroke-width:2.0px;stroke-linecap:butt;stroke-linejoin:miter;stroke-opacity:1\"/>\n",
       "<path class=\"bond-7 atom-7 atom-8\" d=\"M 84.6486,56.0299 L 71.5373,20.6324\" style=\"fill:none;fill-rule:evenodd;stroke:#E5E5E5;stroke-width:2.0px;stroke-linecap:butt;stroke-linejoin:miter;stroke-opacity:1\"/>\n",
       "<path class=\"atom-0\" d=\"M 7.33742 41.9904 L 8.92568 40.3716 L 6.81818 39.9439 L 7.13889 38.8597 L 9.07839 39.837 L 8.8035 37.7143 L 9.94888 37.699 L 9.62817 39.8218 L 11.5982 38.9055 L 11.9342 39.9439 L 9.79616 40.341 L 11.3233 41.9751 L 10.3918 42.647 L 9.33801 40.6312 L 8.26899 42.647 L 7.33742 41.9904 \" fill=\"#191919\"/>\n",
       "<path class=\"atom-3\" d=\"M 71.1448 115.812 L 74.6878 121.538 Q 75.0391 122.103, 75.6041 123.127 Q 76.1692 124.15, 76.1997 124.211 L 76.1997 115.812 L 77.6352 115.812 L 77.6352 126.624 L 76.1539 126.624 L 72.3512 120.362 Q 71.9084 119.629, 71.4349 118.789 Q 70.9768 117.95, 70.8393 117.69 L 70.8393 126.624 L 69.4343 126.624 L 69.4343 115.812 L 71.1448 115.812 \" fill=\"#0000FF\"/>\n",
       "<path class=\"atom-5\" d=\"M 133.156 92.8424 L 136.699 98.5693 Q 137.05 99.1344, 137.615 100.158 Q 138.18 101.181, 138.211 101.242 L 138.211 92.8424 L 139.646 92.8424 L 139.646 103.655 L 138.165 103.655 L 134.362 97.3934 Q 133.92 96.6603, 133.446 95.8204 Q 132.988 94.9805, 132.851 94.7208 L 132.851 103.655 L 131.446 103.655 L 131.446 92.8424 L 133.156 92.8424 \" fill=\"#0000FF\"/>\n",
       "<path class=\"atom-6\" d=\"M 120.246 61.24 L 121.834 59.6212 L 119.727 59.1936 L 120.047 58.1093 L 121.987 59.0867 L 121.712 56.9639 L 122.857 56.9486 L 122.537 59.0714 L 124.507 58.1551 L 124.843 59.1936 L 122.705 59.5906 L 124.232 61.2247 L 123.3 61.8967 L 122.247 59.8808 L 121.178 61.8967 L 120.246 61.24 \" fill=\"#191919\"/>\n",
       "<path class=\"atom-8\" d=\"M 69.3486 19.0213 L 70.9368 17.4025 L 68.8294 16.9749 L 69.1501 15.8906 L 71.0896 16.868 L 70.8147 14.7452 L 71.9601 14.7299 L 71.6393 16.8527 L 73.6094 15.9364 L 73.9454 16.9749 L 71.8073 17.3719 L 73.3345 19.006 L 72.4029 19.678 L 71.3492 17.6621 L 70.2802 19.678 L 69.3486 19.0213 \" fill=\"#191919\"/>\n",
       "</svg>"
      ],
      "text/plain": [
       "<IPython.core.display.SVG object>"
      ]
     },
     "metadata": {},
     "output_type": "display_data"
    },
    {
     "name": "stdout",
     "output_type": "stream",
     "text": [
      "Bit 1452 ----------------------------------------------\n"
     ]
    },
    {
     "data": {
      "image/svg+xml": [
       "<svg xmlns=\"http://www.w3.org/2000/svg\" xmlns:rdkit=\"http://www.rdkit.org/xml\" xmlns:xlink=\"http://www.w3.org/1999/xlink\" version=\"1.1\" baseProfile=\"full\" xml:space=\"preserve\" width=\"150px\" height=\"150px\" viewBox=\"0 0 150 150\">\n",
       "<!-- END OF HEADER -->\n",
       "<rect style=\"opacity:1.0;fill:#FFFFFF;stroke:none\" width=\"150\" height=\"150\" x=\"0\" y=\"0\"> </rect>\n",
       "<ellipse cx=\"53.2579\" cy=\"66.3513\" rx=\"8.82233\" ry=\"8.82233\" style=\"fill:#E5E533;fill-rule:evenodd;stroke:#E5E533;stroke-width:2.0px;stroke-linecap:butt;stroke-linejoin:miter;stroke-opacity:1\"/>\n",
       "<ellipse cx=\"68.5797\" cy=\"107.717\" rx=\"8.82233\" ry=\"8.82233\" style=\"fill:#9999E5;fill-rule:evenodd;stroke:#9999E5;stroke-width:2.0px;stroke-linecap:butt;stroke-linejoin:miter;stroke-opacity:1\"/>\n",
       "<ellipse cx=\"112.064\" cy=\"115.13\" rx=\"8.82233\" ry=\"8.82233\" style=\"fill:#E5E533;fill-rule:evenodd;stroke:#E5E533;stroke-width:2.0px;stroke-linecap:butt;stroke-linejoin:miter;stroke-opacity:1\"/>\n",
       "<path class=\"bond-0 atom-0 atom-1\" d=\"M 11.7749,63.7538 L 52.5165,70.6997\" style=\"fill:none;fill-rule:evenodd;stroke:#E5E5E5;stroke-width:2.4px;stroke-linecap:butt;stroke-linejoin:miter;stroke-opacity:1\"/>\n",
       "<path class=\"bond-0 atom-0 atom-1\" d=\"M 13.2576,55.0569 L 53.9992,62.0029\" style=\"fill:none;fill-rule:evenodd;stroke:#E5E5E5;stroke-width:2.4px;stroke-linecap:butt;stroke-linejoin:miter;stroke-opacity:1;stroke-dasharray:6,6\"/>\n",
       "<path class=\"bond-1 atom-1 atom-2\" d=\"M 53.2579,66.3513 L 59.5577,83.3594\" style=\"fill:none;fill-rule:evenodd;stroke:#000000;stroke-width:2.0px;stroke-linecap:butt;stroke-linejoin:miter;stroke-opacity:1\"/>\n",
       "<path class=\"bond-1 atom-1 atom-2\" d=\"M 59.5577,83.3594 L 65.8576,100.368\" style=\"fill:none;fill-rule:evenodd;stroke:#0000FF;stroke-width:2.0px;stroke-linecap:butt;stroke-linejoin:miter;stroke-opacity:1\"/>\n",
       "<path class=\"bond-1 atom-1 atom-2\" d=\"M 46.8748,74.5181 L 51.2847,86.4238\" style=\"fill:none;fill-rule:evenodd;stroke:#000000;stroke-width:2.0px;stroke-linecap:butt;stroke-linejoin:miter;stroke-opacity:1;stroke-dasharray:6,6\"/>\n",
       "<path class=\"bond-1 atom-1 atom-2\" d=\"M 51.2847,86.4238 L 55.6946,98.3295\" style=\"fill:none;fill-rule:evenodd;stroke:#0000FF;stroke-width:2.0px;stroke-linecap:butt;stroke-linejoin:miter;stroke-opacity:1;stroke-dasharray:6,6\"/>\n",
       "<path class=\"bond-4 atom-5 atom-1\" d=\"M 77.6373,30.051 L 49.8627,63.5351\" style=\"fill:none;fill-rule:evenodd;stroke:#E5E5E5;stroke-width:2.4px;stroke-linecap:butt;stroke-linejoin:miter;stroke-opacity:1\"/>\n",
       "<path class=\"bond-4 atom-5 atom-1\" d=\"M 84.4276,35.6835 L 56.6531,69.1676\" style=\"fill:none;fill-rule:evenodd;stroke:#E5E5E5;stroke-width:2.4px;stroke-linecap:butt;stroke-linejoin:miter;stroke-opacity:1;stroke-dasharray:6,6\"/>\n",
       "<path class=\"bond-2 atom-2 atom-3\" d=\"M 74.4201,108.712 L 93.242,111.921\" style=\"fill:none;fill-rule:evenodd;stroke:#0000FF;stroke-width:2.0px;stroke-linecap:butt;stroke-linejoin:miter;stroke-opacity:1\"/>\n",
       "<path class=\"bond-2 atom-2 atom-3\" d=\"M 93.242,111.921 L 112.064,115.13\" style=\"fill:none;fill-rule:evenodd;stroke:#000000;stroke-width:2.0px;stroke-linecap:butt;stroke-linejoin:miter;stroke-opacity:1\"/>\n",
       "<path class=\"bond-2 atom-2 atom-3\" d=\"M 81.5493,100.978 L 94.7247,103.224\" style=\"fill:none;fill-rule:evenodd;stroke:#0000FF;stroke-width:2.0px;stroke-linecap:butt;stroke-linejoin:miter;stroke-opacity:1;stroke-dasharray:6,6\"/>\n",
       "<path class=\"bond-2 atom-2 atom-3\" d=\"M 94.7247,103.224 L 107.9,105.471\" style=\"fill:none;fill-rule:evenodd;stroke:#000000;stroke-width:2.0px;stroke-linecap:butt;stroke-linejoin:miter;stroke-opacity:1;stroke-dasharray:6,6\"/>\n",
       "<path class=\"bond-3 atom-3 atom-4\" d=\"M 115.459,117.946 L 143.234,84.4623\" style=\"fill:none;fill-rule:evenodd;stroke:#E5E5E5;stroke-width:2.4px;stroke-linecap:butt;stroke-linejoin:miter;stroke-opacity:1\"/>\n",
       "<path class=\"bond-3 atom-3 atom-4\" d=\"M 108.669,112.314 L 136.443,78.8298\" style=\"fill:none;fill-rule:evenodd;stroke:#E5E5E5;stroke-width:2.4px;stroke-linecap:butt;stroke-linejoin:miter;stroke-opacity:1;stroke-dasharray:6,6\"/>\n",
       "<path class=\"atom-0\" d=\"M 7.4181 57.5438 L 9.25315 55.6735 L 6.81818 55.1794 L 7.18872 53.9267 L 9.42959 55.0559 L 9.11199 52.6033 L 10.4353 52.5857 L 10.0648 55.0383 L 12.341 53.9796 L 12.7291 55.1794 L 10.2589 55.6382 L 12.0234 57.5262 L 10.947 58.3025 L 9.72955 55.9734 L 8.49442 58.3025 L 7.4181 57.5438 \" fill=\"#191919\"/>\n",
       "<path class=\"atom-2\" d=\"M 65.8183 101.47 L 69.9118 108.087 Q 70.3177 108.74, 70.9705 109.922 Q 71.6234 111.104, 71.6587 111.175 L 71.6587 101.47 L 73.3173 101.47 L 73.3173 113.963 L 71.6057 113.963 L 67.2122 106.728 Q 66.7005 105.881, 66.1535 104.911 Q 65.6242 103.941, 65.4654 103.641 L 65.4654 113.963 L 63.8421 113.963 L 63.8421 101.47 L 65.8183 101.47 \" fill=\"#0000FF\"/>\n",
       "<path class=\"atom-4\" d=\"M 137.871 79.7845 L 139.706 77.9142 L 137.271 77.4201 L 137.641 76.1674 L 139.882 77.2966 L 139.565 74.844 L 140.888 74.8264 L 140.517 77.279 L 142.794 76.2203 L 143.182 77.4201 L 140.712 77.8789 L 142.476 79.7669 L 141.4 80.5432 L 140.182 78.2141 L 138.947 80.5432 L 137.871 79.7845 \" fill=\"#191919\"/>\n",
       "<path class=\"atom-5\" d=\"M 79.0648 31.0057 L 80.8998 29.1354 L 78.4649 28.6413 L 78.8354 27.3886 L 81.0763 28.5178 L 80.7587 26.0652 L 82.082 26.0476 L 81.7115 28.5002 L 83.9876 27.4415 L 84.3758 28.6413 L 81.9056 29.1001 L 83.67 30.9881 L 82.5937 31.7644 L 81.3762 29.4353 L 80.1411 31.7644 L 79.0648 31.0057 \" fill=\"#191919\"/>\n",
       "</svg>"
      ],
      "text/plain": [
       "<IPython.core.display.SVG object>"
      ]
     },
     "metadata": {},
     "output_type": "display_data"
    },
    {
     "name": "stdout",
     "output_type": "stream",
     "text": [
      "Bit 329 -----------------------------------------------\n"
     ]
    },
    {
     "data": {
      "image/svg+xml": [
       "<svg xmlns=\"http://www.w3.org/2000/svg\" xmlns:rdkit=\"http://www.rdkit.org/xml\" xmlns:xlink=\"http://www.w3.org/1999/xlink\" version=\"1.1\" baseProfile=\"full\" xml:space=\"preserve\" width=\"150px\" height=\"150px\" viewBox=\"0 0 150 150\">\n",
       "<!-- END OF HEADER -->\n",
       "<rect style=\"opacity:1.0;fill:#FFFFFF;stroke:none\" width=\"150\" height=\"150\" x=\"0\" y=\"0\"> </rect>\n",
       "<ellipse cx=\"35.4922\" cy=\"91.0581\" rx=\"5.44732\" ry=\"5.44732\" style=\"fill:#E5E533;fill-rule:evenodd;stroke:#E5E533;stroke-width:2.0px;stroke-linecap:butt;stroke-linejoin:miter;stroke-opacity:1\"/>\n",
       "<ellipse cx=\"79.7302\" cy=\"74.6723\" rx=\"5.44732\" ry=\"5.44732\" style=\"fill:#9999E5;fill-rule:evenodd;stroke:#9999E5;stroke-width:2.0px;stroke-linecap:butt;stroke-linejoin:miter;stroke-opacity:1\"/>\n",
       "<ellipse cx=\"89.1906\" cy=\"100.213\" rx=\"5.44732\" ry=\"5.44732\" style=\"fill:#E5E533;fill-rule:evenodd;stroke:#E5E533;stroke-width:2.0px;stroke-linecap:butt;stroke-linejoin:miter;stroke-opacity:1\"/>\n",
       "<ellipse cx=\"116.04\" cy=\"104.791\" rx=\"5.44732\" ry=\"5.44732\" style=\"fill:#E5E533;fill-rule:evenodd;stroke:#E5E533;stroke-width:2.0px;stroke-linecap:butt;stroke-linejoin:miter;stroke-opacity:1\"/>\n",
       "<ellipse cx=\"123.968\" cy=\"58.2864\" rx=\"5.44732\" ry=\"5.44732\" style=\"fill:#E5E533;fill-rule:evenodd;stroke:#E5E533;stroke-width:2.0px;stroke-linecap:butt;stroke-linejoin:miter;stroke-opacity:1\"/>\n",
       "<ellipse cx=\"97.119\" cy=\"53.709\" rx=\"5.44732\" ry=\"5.44732\" style=\"fill:#E5E533;fill-rule:evenodd;stroke:#E5E533;stroke-width:2.0px;stroke-linecap:butt;stroke-linejoin:miter;stroke-opacity:1\"/>\n",
       "<path class=\"bond-0 atom-0 atom-1\" d=\"M 45.8017,111.05 L 38.0463,90.1121\" style=\"fill:none;fill-rule:evenodd;stroke:#E5E5E5;stroke-width:1.5px;stroke-linecap:butt;stroke-linejoin:miter;stroke-opacity:1\"/>\n",
       "<path class=\"bond-0 atom-0 atom-1\" d=\"M 40.6936,112.942 L 32.9381,92.0042\" style=\"fill:none;fill-rule:evenodd;stroke:#E5E5E5;stroke-width:1.5px;stroke-linecap:butt;stroke-linejoin:miter;stroke-opacity:1;stroke-dasharray:6,6\"/>\n",
       "<path class=\"bond-1 atom-1 atom-2\" d=\"M 35.4922,91.0581 L 42.3047,82.8453\" style=\"fill:none;fill-rule:evenodd;stroke:#000000;stroke-width:2.0px;stroke-linecap:butt;stroke-linejoin:miter;stroke-opacity:1\"/>\n",
       "<path class=\"bond-1 atom-1 atom-2\" d=\"M 42.3047,82.8453 L 49.1171,74.6324\" style=\"fill:none;fill-rule:evenodd;stroke:#0000FF;stroke-width:2.0px;stroke-linecap:butt;stroke-linejoin:miter;stroke-opacity:1\"/>\n",
       "<path class=\"bond-9 atom-1 atom-10\" d=\"M 35.95,88.3732 L 10.7942,84.0845\" style=\"fill:none;fill-rule:evenodd;stroke:#E5E5E5;stroke-width:1.5px;stroke-linecap:butt;stroke-linejoin:miter;stroke-opacity:1\"/>\n",
       "<path class=\"bond-9 atom-1 atom-10\" d=\"M 35.0345,93.7431 L 9.8787,89.4543\" style=\"fill:none;fill-rule:evenodd;stroke:#E5E5E5;stroke-width:1.5px;stroke-linecap:butt;stroke-linejoin:miter;stroke-opacity:1;stroke-dasharray:6,6\"/>\n",
       "<path class=\"bond-2 atom-2 atom-3\" d=\"M 56.4871,70.7096 L 68.1087,72.691\" style=\"fill:none;fill-rule:evenodd;stroke:#0000FF;stroke-width:2.0px;stroke-linecap:butt;stroke-linejoin:miter;stroke-opacity:1\"/>\n",
       "<path class=\"bond-2 atom-2 atom-3\" d=\"M 68.1087,72.691 L 79.7302,74.6723\" style=\"fill:none;fill-rule:evenodd;stroke:#000000;stroke-width:2.0px;stroke-linecap:butt;stroke-linejoin:miter;stroke-opacity:1\"/>\n",
       "<path class=\"bond-3 atom-3 atom-4\" d=\"M 79.7302,74.6723 L 89.1906,100.213\" style=\"fill:none;fill-rule:evenodd;stroke:#000000;stroke-width:2.0px;stroke-linecap:butt;stroke-linejoin:miter;stroke-opacity:1\"/>\n",
       "<path class=\"bond-3 atom-3 atom-4\" d=\"M 86.2574,76.6113 L 92.8797,94.4899\" style=\"fill:none;fill-rule:evenodd;stroke:#000000;stroke-width:2.0px;stroke-linecap:butt;stroke-linejoin:miter;stroke-opacity:1\"/>\n",
       "<path class=\"bond-10 atom-9 atom-3\" d=\"M 97.119,53.709 L 79.7302,74.6723\" style=\"fill:none;fill-rule:evenodd;stroke:#000000;stroke-width:2.0px;stroke-linecap:butt;stroke-linejoin:miter;stroke-opacity:1\"/>\n",
       "<path class=\"bond-4 atom-4 atom-5\" d=\"M 89.1906,100.213 L 116.04,104.791\" style=\"fill:none;fill-rule:evenodd;stroke:#000000;stroke-width:2.0px;stroke-linecap:butt;stroke-linejoin:miter;stroke-opacity:1\"/>\n",
       "<path class=\"bond-5 atom-5 atom-6\" d=\"M 116.04,104.791 L 133.189,84.116\" style=\"fill:none;fill-rule:evenodd;stroke:#E5E5E5;stroke-width:1.5px;stroke-linecap:butt;stroke-linejoin:miter;stroke-opacity:1\"/>\n",
       "<path class=\"bond-5 atom-5 atom-6\" d=\"M 114.419,98.2116 L 126.424,83.7394\" style=\"fill:none;fill-rule:evenodd;stroke:#E5E5E5;stroke-width:1.5px;stroke-linecap:butt;stroke-linejoin:miter;stroke-opacity:1\"/>\n",
       "<path class=\"bond-6 atom-6 atom-7\" d=\"M 131.724,79.2243 L 123.968,58.2864\" style=\"fill:none;fill-rule:evenodd;stroke:#E5E5E5;stroke-width:1.5px;stroke-linecap:butt;stroke-linejoin:miter;stroke-opacity:1\"/>\n",
       "<path class=\"bond-7 atom-7 atom-8\" d=\"M 123.968,58.2864 L 141.117,37.6118\" style=\"fill:none;fill-rule:evenodd;stroke:#E5E5E5;stroke-width:1.5px;stroke-linecap:butt;stroke-linejoin:miter;stroke-opacity:1\"/>\n",
       "<path class=\"bond-8 atom-7 atom-9\" d=\"M 123.968,58.2864 L 97.119,53.709\" style=\"fill:none;fill-rule:evenodd;stroke:#000000;stroke-width:2.0px;stroke-linecap:butt;stroke-linejoin:miter;stroke-opacity:1\"/>\n",
       "<path class=\"bond-8 atom-7 atom-9\" d=\"M 119.025,62.9697 L 100.231,59.7654\" style=\"fill:none;fill-rule:evenodd;stroke:#000000;stroke-width:2.0px;stroke-linecap:butt;stroke-linejoin:miter;stroke-opacity:1\"/>\n",
       "<path class=\"atom-0\" d=\"M 43.4982 115.738 L 44.6312 114.583 L 43.1277 114.278 L 43.3565 113.505 L 44.7401 114.202 L 44.544 112.688 L 45.3611 112.677 L 45.1323 114.191 L 46.5378 113.538 L 46.7774 114.278 L 45.2522 114.562 L 46.3417 115.727 L 45.6771 116.207 L 44.9254 114.769 L 44.1627 116.207 L 43.4982 115.738 \" fill=\"#191919\"/>\n",
       "<path class=\"atom-2\" d=\"M 43.0159 66.2381 L 44.0618 66.2381 L 44.0618 69.5174 L 48.0057 69.5174 L 48.0057 66.2381 L 49.0515 66.2381 L 49.0515 73.9515 L 48.0057 73.9515 L 48.0057 70.389 L 44.0618 70.389 L 44.0618 73.9515 L 43.0159 73.9515 L 43.0159 66.2381 \" fill=\"#0000FF\"/>\n",
       "<path class=\"atom-2\" d=\"M 51.176 66.2381 L 53.7036 70.3236 Q 53.9541 70.7267, 54.3572 71.4566 Q 54.7603 72.1866, 54.7821 72.2302 L 54.7821 66.2381 L 55.8062 66.2381 L 55.8062 73.9515 L 54.7494 73.9515 L 52.0367 69.4847 Q 51.7207 68.9618, 51.383 68.3626 Q 51.0562 67.7634, 50.9581 67.5782 L 50.9581 73.9515 L 49.9558 73.9515 L 49.9558 66.2381 L 51.176 66.2381 \" fill=\"#0000FF\"/>\n",
       "<path class=\"atom-6\" d=\"M 131.974 82.9666 L 133.107 81.8117 L 131.604 81.5067 L 131.832 80.7332 L 133.216 81.4304 L 133.02 79.9161 L 133.837 79.9052 L 133.608 81.4195 L 135.014 80.7659 L 135.253 81.5067 L 133.728 81.79 L 134.818 82.9557 L 134.153 83.435 L 133.401 81.997 L 132.639 83.435 L 131.974 82.9666 \" fill=\"#191919\"/>\n",
       "<path class=\"atom-8\" d=\"M 139.903 36.4624 L 141.036 35.3076 L 139.532 35.0026 L 139.761 34.229 L 141.145 34.9263 L 140.948 33.4119 L 141.766 33.401 L 141.537 34.9154 L 142.942 34.2617 L 143.182 35.0026 L 141.657 35.2858 L 142.746 36.4515 L 142.081 36.9309 L 141.33 35.4928 L 140.567 36.9309 L 139.903 36.4624 \" fill=\"#191919\"/>\n",
       "<path class=\"atom-10\" d=\"M 7.1886 85.62 L 8.32164 84.4652 L 6.81818 84.1601 L 7.04697 83.3866 L 8.43059 84.0839 L 8.23448 82.5695 L 9.05158 82.5586 L 8.82279 84.073 L 10.2282 83.4193 L 10.4679 84.1601 L 8.94264 84.4434 L 10.0321 85.6091 L 9.36753 86.0885 L 8.6158 84.6504 L 7.85317 86.0885 L 7.1886 85.62 \" fill=\"#191919\"/>\n",
       "</svg>"
      ],
      "text/plain": [
       "<IPython.core.display.SVG object>"
      ]
     },
     "metadata": {},
     "output_type": "display_data"
    },
    {
     "name": "stdout",
     "output_type": "stream",
     "text": [
      "Bit 1928 ----------------------------------------------\n"
     ]
    },
    {
     "data": {
      "image/svg+xml": [
       "<svg xmlns=\"http://www.w3.org/2000/svg\" xmlns:rdkit=\"http://www.rdkit.org/xml\" xmlns:xlink=\"http://www.w3.org/1999/xlink\" version=\"1.1\" baseProfile=\"full\" xml:space=\"preserve\" width=\"150px\" height=\"150px\" viewBox=\"0 0 150 150\">\n",
       "<!-- END OF HEADER -->\n",
       "<rect style=\"opacity:1.0;fill:#FFFFFF;stroke:none\" width=\"150\" height=\"150\" x=\"0\" y=\"0\"> </rect>\n",
       "<ellipse cx=\"121.209\" cy=\"79.7885\" rx=\"21.973\" ry=\"21.973\" style=\"fill:#9999E5;fill-rule:evenodd;stroke:#9999E5;stroke-width:2.0px;stroke-linecap:butt;stroke-linejoin:miter;stroke-opacity:1\"/>\n",
       "<path class=\"bond-0 atom-0 atom-1\" d=\"M 20.5707,62.6309 L 110.237,77.9179\" style=\"fill:none;fill-rule:evenodd;stroke:#E5E5E5;stroke-width:5.9px;stroke-linecap:butt;stroke-linejoin:miter;stroke-opacity:1\"/>\n",
       "<path class=\"atom-0\" d=\"M 7.5667 58.1643 L 11.7267 53.9243 L 6.2067 52.8043 L 7.0467 49.9643 L 12.1267 52.5243 L 11.4067 46.9643 L 14.4067 46.9243 L 13.5667 52.4843 L 18.7267 50.0843 L 19.6067 52.8043 L 14.0067 53.8443 L 18.0067 58.1243 L 15.5667 59.8843 L 12.8067 54.6043 L 10.0067 59.8843 L 7.5667 58.1643 \" fill=\"#191919\"/>\n",
       "<path class=\"atom-1\" d=\"M 112.789 65.6285 L 129.629 65.6285 L 129.629 68.8685 L 116.589 68.8685 L 116.589 77.4685 L 128.189 77.4685 L 128.189 80.7485 L 116.589 80.7485 L 116.589 93.9485 L 112.789 93.9485 L 112.789 65.6285 \" fill=\"#33CCCC\"/>\n",
       "</svg>"
      ],
      "text/plain": [
       "<IPython.core.display.SVG object>"
      ]
     },
     "metadata": {},
     "output_type": "display_data"
    },
    {
     "name": "stdout",
     "output_type": "stream",
     "text": [
      "Bit 1482 ----------------------------------------------\n"
     ]
    },
    {
     "data": {
      "image/svg+xml": [
       "<svg xmlns=\"http://www.w3.org/2000/svg\" xmlns:rdkit=\"http://www.rdkit.org/xml\" xmlns:xlink=\"http://www.w3.org/1999/xlink\" version=\"1.1\" baseProfile=\"full\" xml:space=\"preserve\" width=\"150px\" height=\"150px\" viewBox=\"0 0 150 150\">\n",
       "<!-- END OF HEADER -->\n",
       "<rect style=\"opacity:1.0;fill:#FFFFFF;stroke:none\" width=\"150\" height=\"150\" x=\"0\" y=\"0\"> </rect>\n",
       "<ellipse cx=\"84.6639\" cy=\"80.9845\" rx=\"5.78326\" ry=\"5.78326\" style=\"fill:#9999E5;fill-rule:evenodd;stroke:#9999E5;stroke-width:2.0px;stroke-linecap:butt;stroke-linejoin:miter;stroke-opacity:1\"/>\n",
       "<ellipse cx=\"103.992\" cy=\"102.492\" rx=\"5.78326\" ry=\"5.78326\" style=\"fill:#CCCCCC;fill-rule:evenodd;stroke:#CCCCCC;stroke-width:2.0px;stroke-linecap:butt;stroke-linejoin:miter;stroke-opacity:1\"/>\n",
       "<ellipse cx=\"132.282\" cy=\"96.5078\" rx=\"5.78326\" ry=\"5.78326\" style=\"fill:#CCCCCC;fill-rule:evenodd;stroke:#CCCCCC;stroke-width:2.0px;stroke-linecap:butt;stroke-linejoin:miter;stroke-opacity:1\"/>\n",
       "<ellipse cx=\"121.917\" cy=\"47.5077\" rx=\"5.78326\" ry=\"5.78326\" style=\"fill:#CCCCCC;fill-rule:evenodd;stroke:#CCCCCC;stroke-width:2.0px;stroke-linecap:butt;stroke-linejoin:miter;stroke-opacity:1\"/>\n",
       "<ellipse cx=\"93.6263\" cy=\"53.4922\" rx=\"5.78326\" ry=\"5.78326\" style=\"fill:#CCCCCC;fill-rule:evenodd;stroke:#CCCCCC;stroke-width:2.0px;stroke-linecap:butt;stroke-linejoin:miter;stroke-opacity:1\"/>\n",
       "<path class=\"bond-0 atom-0 atom-1\" d=\"M 11.4159,70.883 L 37.0458,65.4613\" style=\"fill:none;fill-rule:evenodd;stroke:#E5E5E5;stroke-width:1.5px;stroke-linecap:butt;stroke-linejoin:miter;stroke-opacity:1\"/>\n",
       "<path class=\"bond-1 atom-1 atom-2\" d=\"M 37.0458,65.4613 L 56.3737,86.9691\" style=\"fill:none;fill-rule:evenodd;stroke:#000000;stroke-width:2.0px;stroke-linecap:butt;stroke-linejoin:miter;stroke-opacity:1\"/>\n",
       "<path class=\"bond-2 atom-2 atom-3\" d=\"M 56.3737,86.9691 L 68.6046,84.3817\" style=\"fill:none;fill-rule:evenodd;stroke:#000000;stroke-width:2.0px;stroke-linecap:butt;stroke-linejoin:miter;stroke-opacity:1\"/>\n",
       "<path class=\"bond-2 atom-2 atom-3\" d=\"M 68.6046,84.3817 L 80.8354,81.7944\" style=\"fill:none;fill-rule:evenodd;stroke:#0000FF;stroke-width:2.0px;stroke-linecap:butt;stroke-linejoin:miter;stroke-opacity:1\"/>\n",
       "<path class=\"bond-3 atom-3 atom-4\" d=\"M 88.4925,85.2449 L 96.2421,93.8686\" style=\"fill:none;fill-rule:evenodd;stroke:#0000FF;stroke-width:2.0px;stroke-linecap:butt;stroke-linejoin:miter;stroke-opacity:1\"/>\n",
       "<path class=\"bond-3 atom-3 atom-4\" d=\"M 96.2421,93.8686 L 103.992,102.492\" style=\"fill:none;fill-rule:evenodd;stroke:#000000;stroke-width:2.0px;stroke-linecap:butt;stroke-linejoin:miter;stroke-opacity:1\"/>\n",
       "<path class=\"bond-8 atom-8 atom-3\" d=\"M 93.6263,53.4922 L 89.9304,64.8296\" style=\"fill:none;fill-rule:evenodd;stroke:#000000;stroke-width:2.0px;stroke-linecap:butt;stroke-linejoin:miter;stroke-opacity:1\"/>\n",
       "<path class=\"bond-8 atom-8 atom-3\" d=\"M 89.9304,64.8296 L 86.2344,76.1671\" style=\"fill:none;fill-rule:evenodd;stroke:#0000FF;stroke-width:2.0px;stroke-linecap:butt;stroke-linejoin:miter;stroke-opacity:1\"/>\n",
       "<path class=\"bond-4 atom-4 atom-5\" d=\"M 103.992,102.492 L 132.282,96.5078\" style=\"fill:none;fill-rule:evenodd;stroke:#000000;stroke-width:2.0px;stroke-linecap:butt;stroke-linejoin:miter;stroke-opacity:1\"/>\n",
       "<path class=\"bond-5 atom-5 atom-6\" d=\"M 132.282,96.5078 L 141.145,69.322\" style=\"fill:none;fill-rule:evenodd;stroke:#E5E5E5;stroke-width:1.5px;stroke-linecap:butt;stroke-linejoin:miter;stroke-opacity:1\"/>\n",
       "<path class=\"bond-6 atom-6 atom-7\" d=\"M 138.584,66.0551 L 121.917,47.5077\" style=\"fill:none;fill-rule:evenodd;stroke:#E5E5E5;stroke-width:1.5px;stroke-linecap:butt;stroke-linejoin:miter;stroke-opacity:1\"/>\n",
       "<path class=\"bond-7 atom-7 atom-8\" d=\"M 121.917,47.5077 L 93.6263,53.4922\" style=\"fill:none;fill-rule:evenodd;stroke:#000000;stroke-width:2.0px;stroke-linecap:butt;stroke-linejoin:miter;stroke-opacity:1\"/>\n",
       "<path class=\"atom-0\" d=\"M 7.21144 70.532 L 8.41436 69.306 L 6.81818 68.9821 L 7.06108 68.1609 L 8.53003 68.9011 L 8.32183 67.2934 L 9.18932 67.2818 L 8.94642 68.8896 L 10.4385 68.1956 L 10.693 68.9821 L 9.07365 69.2828 L 10.2303 70.5205 L 9.52475 71.0294 L 8.72666 69.5026 L 7.917 71.0294 L 7.21144 70.532 \" fill=\"#191919\"/>\n",
       "<path class=\"atom-3\" d=\"M 82.8538 76.89 L 85.5372 81.2274 Q 85.8032 81.6554, 86.2312 82.4303 Q 86.6592 83.2053, 86.6823 83.2516 L 86.6823 76.89 L 87.7695 76.89 L 87.7695 85.0791 L 86.6476 85.0791 L 83.7675 80.3368 Q 83.4321 79.7816, 83.0735 79.1455 Q 82.7265 78.5093, 82.6224 78.3127 L 82.6224 85.0791 L 81.5583 85.0791 L 81.5583 76.89 L 82.8538 76.89 \" fill=\"#0000FF\"/>\n",
       "<path class=\"atom-6\" d=\"M 139.7 68.1017 L 140.903 66.8757 L 139.307 66.5518 L 139.55 65.7306 L 141.019 66.4708 L 140.811 64.8631 L 141.678 64.8515 L 141.435 66.4593 L 142.927 65.7653 L 143.182 66.5518 L 141.563 66.8525 L 142.719 68.0901 L 142.014 68.5991 L 141.216 67.0723 L 140.406 68.5991 L 139.7 68.1017 \" fill=\"#191919\"/>\n",
       "</svg>"
      ],
      "text/plain": [
       "<IPython.core.display.SVG object>"
      ]
     },
     "metadata": {},
     "output_type": "display_data"
    },
    {
     "name": "stdout",
     "output_type": "stream",
     "text": [
      "Bit 489 -----------------------------------------------\n"
     ]
    },
    {
     "data": {
      "image/svg+xml": [
       "<svg xmlns=\"http://www.w3.org/2000/svg\" xmlns:rdkit=\"http://www.rdkit.org/xml\" xmlns:xlink=\"http://www.w3.org/1999/xlink\" version=\"1.1\" baseProfile=\"full\" xml:space=\"preserve\" width=\"150px\" height=\"150px\" viewBox=\"0 0 150 150\">\n",
       "<!-- END OF HEADER -->\n",
       "<rect style=\"opacity:1.0;fill:#FFFFFF;stroke:none\" width=\"150\" height=\"150\" x=\"0\" y=\"0\"> </rect>\n",
       "<ellipse cx=\"32.0582\" cy=\"115.061\" rx=\"12.1832\" ry=\"12.1832\" style=\"fill:#E5E533;fill-rule:evenodd;stroke:#E5E533;stroke-width:2.0px;stroke-linecap:butt;stroke-linejoin:miter;stroke-opacity:1\"/>\n",
       "<ellipse cx=\"92.1077\" cy=\"125.299\" rx=\"12.1832\" ry=\"12.1832\" style=\"fill:#9999E5;fill-rule:evenodd;stroke:#9999E5;stroke-width:2.0px;stroke-linecap:butt;stroke-linejoin:miter;stroke-opacity:1\"/>\n",
       "<ellipse cx=\"130.999\" cy=\"78.4132\" rx=\"12.1832\" ry=\"12.1832\" style=\"fill:#E5E533;fill-rule:evenodd;stroke:#E5E533;stroke-width:2.0px;stroke-linecap:butt;stroke-linejoin:miter;stroke-opacity:1\"/>\n",
       "<path class=\"bond-0 atom-0 atom-1\" d=\"M 5.4264,60.6993 L 22.5931,107.045\" style=\"fill:none;fill-rule:evenodd;stroke:#E5E5E5;stroke-width:3.2px;stroke-linecap:butt;stroke-linejoin:miter;stroke-opacity:1\"/>\n",
       "<path class=\"bond-0 atom-0 atom-1\" d=\"M 16.8511,56.4676 L 34.0178,102.814\" style=\"fill:none;fill-rule:evenodd;stroke:#E5E5E5;stroke-width:3.2px;stroke-linecap:butt;stroke-linejoin:miter;stroke-opacity:1;stroke-dasharray:6,6\"/>\n",
       "<path class=\"bond-1 atom-1 atom-2\" d=\"M 40.1234,116.436 L 66.1156,120.867\" style=\"fill:none;fill-rule:evenodd;stroke:#0000FF;stroke-width:2.0px;stroke-linecap:butt;stroke-linejoin:miter;stroke-opacity:1\"/>\n",
       "<path class=\"bond-1 atom-1 atom-2\" d=\"M 66.1156,120.867 L 92.1077,125.299\" style=\"fill:none;fill-rule:evenodd;stroke:#000000;stroke-width:2.0px;stroke-linecap:butt;stroke-linejoin:miter;stroke-opacity:1\"/>\n",
       "<path class=\"bond-1 atom-1 atom-2\" d=\"M 49.9686,105.756 L 68.1631,108.858\" style=\"fill:none;fill-rule:evenodd;stroke:#0000FF;stroke-width:2.0px;stroke-linecap:butt;stroke-linejoin:miter;stroke-opacity:1;stroke-dasharray:6,6\"/>\n",
       "<path class=\"bond-1 atom-1 atom-2\" d=\"M 68.1631,108.858 L 86.3576,111.959\" style=\"fill:none;fill-rule:evenodd;stroke:#000000;stroke-width:2.0px;stroke-linecap:butt;stroke-linejoin:miter;stroke-opacity:1;stroke-dasharray:6,6\"/>\n",
       "<path class=\"bond-2 atom-2 atom-3\" d=\"M 92.1077,125.299 L 107.521,106.718\" style=\"fill:none;fill-rule:evenodd;stroke:#000000;stroke-width:2.0px;stroke-linecap:butt;stroke-linejoin:miter;stroke-opacity:1\"/>\n",
       "<path class=\"bond-2 atom-2 atom-3\" d=\"M 107.521,106.718 L 122.933,88.1364\" style=\"fill:none;fill-rule:evenodd;stroke:#0000FF;stroke-width:2.0px;stroke-linecap:butt;stroke-linejoin:miter;stroke-opacity:1\"/>\n",
       "<path class=\"bond-2 atom-2 atom-3\" d=\"M 87.3544,111.946 L 98.1434,98.9394\" style=\"fill:none;fill-rule:evenodd;stroke:#000000;stroke-width:2.0px;stroke-linecap:butt;stroke-linejoin:miter;stroke-opacity:1;stroke-dasharray:6,6\"/>\n",
       "<path class=\"bond-2 atom-2 atom-3\" d=\"M 98.1434,98.9394 L 108.932,85.9326\" style=\"fill:none;fill-rule:evenodd;stroke:#0000FF;stroke-width:2.0px;stroke-linecap:butt;stroke-linejoin:miter;stroke-opacity:1;stroke-dasharray:6,6\"/>\n",
       "<path class=\"bond-3 atom-3 atom-4\" d=\"M 132.952,66.1488 L 115.691,19.5492\" style=\"fill:none;fill-rule:evenodd;stroke:#E5E5E5;stroke-width:3.2px;stroke-linecap:butt;stroke-linejoin:miter;stroke-opacity:1\"/>\n",
       "<path class=\"bond-3 atom-3 atom-4\" d=\"M 121.527,70.3805 L 104.267,23.7809\" style=\"fill:none;fill-rule:evenodd;stroke:#E5E5E5;stroke-width:3.2px;stroke-linecap:butt;stroke-linejoin:miter;stroke-opacity:1;stroke-dasharray:6,6\"/>\n",
       "<path class=\"atom-0\" d=\"M 7.64664 56.0128 L 10.1807 53.4299 L 6.81818 52.7477 L 7.32988 51.0177 L 10.4244 52.5771 L 9.98581 49.1902 L 11.8133 49.1658 L 11.3016 52.5527 L 14.4449 51.0908 L 14.9809 52.7477 L 11.5696 53.3812 L 14.0063 55.9884 L 12.5199 57.0605 L 10.8386 53.8442 L 9.13299 57.0605 L 7.64664 56.0128 \" fill=\"#191919\"/>\n",
       "<path class=\"atom-1\" d=\"M 28.2448 106.435 L 33.8978 115.573 Q 34.4583 116.474, 35.3598 118.107 Q 36.2614 119.739, 36.3101 119.837 L 36.3101 106.435 L 38.6005 106.435 L 38.6005 123.687 L 36.237 123.687 L 30.1698 113.696 Q 29.4631 112.527, 28.7078 111.187 Q 27.9768 109.847, 27.7575 109.432 L 27.7575 123.687 L 25.5158 123.687 L 25.5158 106.435 L 28.2448 106.435 \" fill=\"#0000FF\"/>\n",
       "<path class=\"atom-3\" d=\"M 127.185 69.7875 L 132.838 78.9249 Q 133.399 79.8265, 134.3 81.459 Q 135.202 83.0916, 135.251 83.189 L 135.251 69.7875 L 137.541 69.7875 L 137.541 87.0389 L 135.177 87.0389 L 129.11 77.0487 Q 128.404 75.8791, 127.648 74.539 Q 126.917 73.1988, 126.698 72.7846 L 126.698 87.0389 L 124.456 87.0389 L 124.456 69.7875 L 127.185 69.7875 \" fill=\"#0000FF\"/>\n",
       "<path class=\"atom-4\" d=\"M 106.587 19.365 L 109.121 16.7821 L 105.759 16.0999 L 106.27 14.3699 L 109.365 15.9293 L 108.926 12.5424 L 110.754 12.518 L 110.242 15.905 L 113.385 14.443 L 113.921 16.0999 L 110.51 16.7334 L 112.947 19.3406 L 111.46 20.4127 L 109.779 17.1964 L 108.073 20.4127 L 106.587 19.365 \" fill=\"#191919\"/>\n",
       "</svg>"
      ],
      "text/plain": [
       "<IPython.core.display.SVG object>"
      ]
     },
     "metadata": {},
     "output_type": "display_data"
    },
    {
     "name": "stdout",
     "output_type": "stream",
     "text": [
      "Bit 366 -----------------------------------------------\n"
     ]
    },
    {
     "data": {
      "image/svg+xml": [
       "<svg xmlns=\"http://www.w3.org/2000/svg\" xmlns:rdkit=\"http://www.rdkit.org/xml\" xmlns:xlink=\"http://www.w3.org/1999/xlink\" version=\"1.1\" baseProfile=\"full\" xml:space=\"preserve\" width=\"150px\" height=\"150px\" viewBox=\"0 0 150 150\">\n",
       "<!-- END OF HEADER -->\n",
       "<rect style=\"opacity:1.0;fill:#FFFFFF;stroke:none\" width=\"150\" height=\"150\" x=\"0\" y=\"0\"> </rect>\n",
       "<ellipse cx=\"96.7421\" cy=\"99.0307\" rx=\"8.82233\" ry=\"8.82233\" style=\"fill:#E5E533;fill-rule:evenodd;stroke:#E5E533;stroke-width:2.0px;stroke-linecap:butt;stroke-linejoin:miter;stroke-opacity:1\"/>\n",
       "<ellipse cx=\"81.4203\" cy=\"57.6655\" rx=\"8.82233\" ry=\"8.82233\" style=\"fill:#9999E5;fill-rule:evenodd;stroke:#9999E5;stroke-width:2.0px;stroke-linecap:butt;stroke-linejoin:miter;stroke-opacity:1\"/>\n",
       "<ellipse cx=\"37.9361\" cy=\"50.2519\" rx=\"8.82233\" ry=\"8.82233\" style=\"fill:#E5E533;fill-rule:evenodd;stroke:#E5E533;stroke-width:2.0px;stroke-linecap:butt;stroke-linejoin:miter;stroke-opacity:1\"/>\n",
       "<path class=\"bond-0 atom-0 atom-1\" d=\"M 76.0331,130.906 L 100.137,101.847\" style=\"fill:none;fill-rule:evenodd;stroke:#E5E5E5;stroke-width:2.4px;stroke-linecap:butt;stroke-linejoin:miter;stroke-opacity:1\"/>\n",
       "<path class=\"bond-0 atom-0 atom-1\" d=\"M 69.2428,125.274 L 93.3469,96.2144\" style=\"fill:none;fill-rule:evenodd;stroke:#E5E5E5;stroke-width:2.4px;stroke-linecap:butt;stroke-linejoin:miter;stroke-opacity:1;stroke-dasharray:6,6\"/>\n",
       "<path class=\"bond-1 atom-1 atom-2\" d=\"M 96.7421,99.0307 L 136.168,105.752\" style=\"fill:none;fill-rule:evenodd;stroke:#E5E5E5;stroke-width:2.4px;stroke-linecap:butt;stroke-linejoin:miter;stroke-opacity:1\"/>\n",
       "<path class=\"bond-2 atom-1 atom-3\" d=\"M 96.7421,99.0307 L 81.4203,57.6655\" style=\"fill:none;fill-rule:evenodd;stroke:#000000;stroke-width:2.0px;stroke-linecap:butt;stroke-linejoin:miter;stroke-opacity:1\"/>\n",
       "<path class=\"bond-2 atom-1 atom-3\" d=\"M 86.1708,95.8903 L 75.4456,66.9346\" style=\"fill:none;fill-rule:evenodd;stroke:#000000;stroke-width:2.0px;stroke-linecap:butt;stroke-linejoin:miter;stroke-opacity:1;stroke-dasharray:6,6\"/>\n",
       "<path class=\"bond-3 atom-3 atom-4\" d=\"M 81.4203,57.6655 L 92.5417,44.258\" style=\"fill:none;fill-rule:evenodd;stroke:#000000;stroke-width:2.0px;stroke-linecap:butt;stroke-linejoin:miter;stroke-opacity:1\"/>\n",
       "<path class=\"bond-3 atom-3 atom-4\" d=\"M 92.5417,44.258 L 103.663,30.8505\" style=\"fill:none;fill-rule:evenodd;stroke:#00CC00;stroke-width:2.0px;stroke-linecap:butt;stroke-linejoin:miter;stroke-opacity:1\"/>\n",
       "<path class=\"bond-4 atom-3 atom-5\" d=\"M 81.4203,57.6655 L 37.9361,50.2519\" style=\"fill:none;fill-rule:evenodd;stroke:#000000;stroke-width:2.0px;stroke-linecap:butt;stroke-linejoin:miter;stroke-opacity:1\"/>\n",
       "<path class=\"bond-4 atom-3 atom-5\" d=\"M 73.415,65.2503 L 42.976,60.0608\" style=\"fill:none;fill-rule:evenodd;stroke:#000000;stroke-width:2.0px;stroke-linecap:butt;stroke-linejoin:miter;stroke-opacity:1;stroke-dasharray:6,6\"/>\n",
       "<path class=\"bond-5 atom-5 atom-6\" d=\"M 34.5409,47.4357 L 10.4368,76.4948\" style=\"fill:none;fill-rule:evenodd;stroke:#E5E5E5;stroke-width:2.4px;stroke-linecap:butt;stroke-linejoin:miter;stroke-opacity:1\"/>\n",
       "<path class=\"bond-5 atom-5 atom-6\" d=\"M 41.3313,53.0681 L 17.2271,82.1273\" style=\"fill:none;fill-rule:evenodd;stroke:#E5E5E5;stroke-width:2.4px;stroke-linecap:butt;stroke-linejoin:miter;stroke-opacity:1;stroke-dasharray:6,6\"/>\n",
       "<path class=\"atom-0\" d=\"M 66.2241 131.588 L 68.0591 129.718 L 65.6242 129.224 L 65.9947 127.971 L 68.2356 129.101 L 67.918 126.648 L 69.2413 126.63 L 68.8708 129.083 L 71.147 128.024 L 71.5351 129.224 L 69.0649 129.683 L 70.8294 131.571 L 69.753 132.347 L 68.5356 130.018 L 67.3004 132.347 L 66.2241 131.588 \" fill=\"#191919\"/>\n",
       "<path class=\"atom-2\" d=\"M 137.871 105.05 L 139.706 103.18 L 137.271 102.686 L 137.641 101.433 L 139.882 102.562 L 139.565 100.11 L 140.888 100.092 L 140.517 102.545 L 142.794 101.486 L 143.182 102.686 L 140.712 103.145 L 142.476 105.033 L 141.4 105.809 L 140.182 103.48 L 138.947 105.809 L 137.871 105.05 \" fill=\"#191919\"/>\n",
       "<path class=\"atom-4\" d=\"M 104.766 24.1461 Q 104.766 21.0406, 106.213 19.4173 Q 107.677 17.7764, 110.447 17.7764 Q 113.023 17.7764, 114.4 19.5938 L 113.235 20.5466 Q 112.229 19.2232, 110.447 19.2232 Q 108.559 19.2232, 107.554 20.4936 Q 106.566 21.7464, 106.566 24.1461 Q 106.566 26.6163, 107.589 27.8868 Q 108.63 29.1572, 110.641 29.1572 Q 112.018 29.1572, 113.623 28.3279 L 114.117 29.6512 Q 113.465 30.0747, 112.477 30.3217 Q 111.488 30.5688, 110.394 30.5688 Q 107.677 30.5688, 106.213 28.9102 Q 104.766 27.2516, 104.766 24.1461 \" fill=\"#00CC00\"/>\n",
       "<path class=\"atom-4\" d=\"M 115.917 17.0177 L 117.541 17.0177 L 117.541 30.41 L 115.917 30.41 L 115.917 17.0177 \" fill=\"#00CC00\"/>\n",
       "<path class=\"atom-6\" d=\"M 7.4181 82.8096 L 9.25315 80.9393 L 6.81818 80.4452 L 7.18872 79.1925 L 9.42959 80.3217 L 9.11199 77.8691 L 10.4353 77.8515 L 10.0648 80.3041 L 12.341 79.2454 L 12.7291 80.4452 L 10.2589 80.904 L 12.0234 82.792 L 10.947 83.5684 L 9.72955 81.2393 L 8.49442 83.5684 L 7.4181 82.8096 \" fill=\"#191919\"/>\n",
       "</svg>"
      ],
      "text/plain": [
       "<IPython.core.display.SVG object>"
      ]
     },
     "metadata": {},
     "output_type": "display_data"
    },
    {
     "name": "stdout",
     "output_type": "stream",
     "text": [
      "Bit 1077 ----------------------------------------------\n"
     ]
    },
    {
     "data": {
      "image/svg+xml": [
       "<svg xmlns=\"http://www.w3.org/2000/svg\" xmlns:rdkit=\"http://www.rdkit.org/xml\" xmlns:xlink=\"http://www.w3.org/1999/xlink\" version=\"1.1\" baseProfile=\"full\" xml:space=\"preserve\" width=\"150px\" height=\"150px\" viewBox=\"0 0 150 150\">\n",
       "<!-- END OF HEADER -->\n",
       "<rect style=\"opacity:1.0;fill:#FFFFFF;stroke:none\" width=\"150\" height=\"150\" x=\"0\" y=\"0\"> </rect>\n",
       "<ellipse cx=\"66.0462\" cy=\"87.8821\" rx=\"5.81269\" ry=\"5.81269\" style=\"fill:#9999E5;fill-rule:evenodd;stroke:#9999E5;stroke-width:2.0px;stroke-linecap:butt;stroke-linejoin:miter;stroke-opacity:1\"/>\n",
       "<ellipse cx=\"46.5776\" cy=\"109.461\" rx=\"5.81269\" ry=\"5.81269\" style=\"fill:#E5E533;fill-rule:evenodd;stroke:#E5E533;stroke-width:2.0px;stroke-linecap:butt;stroke-linejoin:miter;stroke-opacity:1\"/>\n",
       "<ellipse cx=\"55.5314\" cy=\"137.111\" rx=\"5.81269\" ry=\"5.81269\" style=\"fill:#E5E533;fill-rule:evenodd;stroke:#E5E533;stroke-width:2.0px;stroke-linecap:butt;stroke-linejoin:miter;stroke-opacity:1\"/>\n",
       "<ellipse cx=\"103.422\" cy=\"121.603\" rx=\"5.81269\" ry=\"5.81269\" style=\"fill:#E5E533;fill-rule:evenodd;stroke:#E5E533;stroke-width:2.0px;stroke-linecap:butt;stroke-linejoin:miter;stroke-opacity:1\"/>\n",
       "<ellipse cx=\"94.4686\" cy=\"93.9528\" rx=\"5.81269\" ry=\"5.81269\" style=\"fill:#E5E533;fill-rule:evenodd;stroke:#E5E533;stroke-width:2.0px;stroke-linecap:butt;stroke-linejoin:miter;stroke-opacity:1\"/>\n",
       "<path class=\"bond-0 atom-0 atom-1\" d=\"M 67.707,11.3114 L 76.561,38.6532\" style=\"fill:none;fill-rule:evenodd;stroke:#E5E5E5;stroke-width:1.6px;stroke-linecap:butt;stroke-linejoin:miter;stroke-opacity:1\"/>\n",
       "<path class=\"bond-1 atom-1 atom-2\" d=\"M 75.9539,41.4954 L 101.702,46.995\" style=\"fill:none;fill-rule:evenodd;stroke:#E5E5E5;stroke-width:1.6px;stroke-linecap:butt;stroke-linejoin:miter;stroke-opacity:1\"/>\n",
       "<path class=\"bond-1 atom-1 atom-2\" d=\"M 77.1681,35.8109 L 102.917,41.3105\" style=\"fill:none;fill-rule:evenodd;stroke:#E5E5E5;stroke-width:1.6px;stroke-linecap:butt;stroke-linejoin:miter;stroke-opacity:1\"/>\n",
       "<path class=\"bond-2 atom-1 atom-3\" d=\"M 76.561,38.6532 L 68.7507,47.3101\" style=\"fill:none;fill-rule:evenodd;stroke:#000000;stroke-width:2.0px;stroke-linecap:butt;stroke-linejoin:miter;stroke-opacity:1\"/>\n",
       "<path class=\"bond-2 atom-1 atom-3\" d=\"M 68.7507,47.3101 L 60.9404,55.9671\" style=\"fill:none;fill-rule:evenodd;stroke:#0000FF;stroke-width:2.0px;stroke-linecap:butt;stroke-linejoin:miter;stroke-opacity:1\"/>\n",
       "<path class=\"bond-3 atom-3 atom-4\" d=\"M 58.6604,65.0743 L 62.3533,76.4782\" style=\"fill:none;fill-rule:evenodd;stroke:#0000FF;stroke-width:2.0px;stroke-linecap:butt;stroke-linejoin:miter;stroke-opacity:1\"/>\n",
       "<path class=\"bond-3 atom-3 atom-4\" d=\"M 62.3533,76.4782 L 66.0462,87.8821\" style=\"fill:none;fill-rule:evenodd;stroke:#000000;stroke-width:2.0px;stroke-linecap:butt;stroke-linejoin:miter;stroke-opacity:1\"/>\n",
       "<path class=\"bond-4 atom-4 atom-5\" d=\"M 66.0462,87.8821 L 46.5776,109.461\" style=\"fill:none;fill-rule:evenodd;stroke:#000000;stroke-width:2.0px;stroke-linecap:butt;stroke-linejoin:miter;stroke-opacity:1\"/>\n",
       "<path class=\"bond-4 atom-4 atom-5\" d=\"M 67.4417,95.0127 L 53.8138,110.118\" style=\"fill:none;fill-rule:evenodd;stroke:#000000;stroke-width:2.0px;stroke-linecap:butt;stroke-linejoin:miter;stroke-opacity:1\"/>\n",
       "<path class=\"bond-9 atom-9 atom-4\" d=\"M 94.4686,93.9528 L 66.0462,87.8821\" style=\"fill:none;fill-rule:evenodd;stroke:#000000;stroke-width:2.0px;stroke-linecap:butt;stroke-linejoin:miter;stroke-opacity:1\"/>\n",
       "<path class=\"bond-5 atom-5 atom-6\" d=\"M 46.5776,109.461 L 55.5314,137.111\" style=\"fill:none;fill-rule:evenodd;stroke:#000000;stroke-width:2.0px;stroke-linecap:butt;stroke-linejoin:miter;stroke-opacity:1\"/>\n",
       "<path class=\"bond-6 atom-6 atom-7\" d=\"M 55.5314,137.111 L 81.28,142.611\" style=\"fill:none;fill-rule:evenodd;stroke:#E5E5E5;stroke-width:1.6px;stroke-linecap:butt;stroke-linejoin:miter;stroke-opacity:1\"/>\n",
       "<path class=\"bond-6 atom-6 atom-7\" d=\"M 60.6079,132.252 L 78.6318,136.101\" style=\"fill:none;fill-rule:evenodd;stroke:#E5E5E5;stroke-width:1.6px;stroke-linecap:butt;stroke-linejoin:miter;stroke-opacity:1\"/>\n",
       "<path class=\"bond-7 atom-7 atom-8\" d=\"M 86.6276,140.218 L 103.422,121.603\" style=\"fill:none;fill-rule:evenodd;stroke:#E5E5E5;stroke-width:1.6px;stroke-linecap:butt;stroke-linejoin:miter;stroke-opacity:1\"/>\n",
       "<path class=\"bond-8 atom-8 atom-9\" d=\"M 103.422,121.603 L 94.4686,93.9528\" style=\"fill:none;fill-rule:evenodd;stroke:#000000;stroke-width:2.0px;stroke-linecap:butt;stroke-linejoin:miter;stroke-opacity:1\"/>\n",
       "<path class=\"bond-8 atom-8 atom-9\" d=\"M 96.5493,119.246 L 90.2817,99.8911\" style=\"fill:none;fill-rule:evenodd;stroke:#000000;stroke-width:2.0px;stroke-linecap:butt;stroke-linejoin:miter;stroke-opacity:1\"/>\n",
       "<path class=\"atom-0\" d=\"M 66.0552 10.0849 L 67.2642 8.85262 L 65.6599 8.52711 L 65.9041 7.70171 L 67.3805 8.44574 L 67.1712 6.82981 L 68.0431 6.81818 L 67.799 8.43411 L 69.2987 7.73659 L 69.5544 8.52711 L 67.9269 8.82937 L 69.0894 10.0733 L 68.3803 10.5848 L 67.5781 9.05025 L 66.7644 10.5848 L 66.0552 10.0849 \" fill=\"#191919\"/>\n",
       "<path class=\"atom-2\" d=\"M 103.431 43.8055 L 104.64 42.5732 L 103.036 42.2477 L 103.28 41.4223 L 104.757 42.1663 L 104.547 40.5504 L 105.419 40.5387 L 105.175 42.1547 L 106.675 41.4571 L 106.931 42.2477 L 105.303 42.5499 L 106.466 43.7938 L 105.756 44.3054 L 104.954 42.7708 L 104.141 44.3054 L 103.431 43.8055 \" fill=\"#191919\"/>\n",
       "<path class=\"atom-3\" d=\"M 46.5656 56.1169 L 47.6817 56.1169 L 47.6817 59.6161 L 51.8901 59.6161 L 51.8901 56.1169 L 53.0061 56.1169 L 53.0061 64.3477 L 51.8901 64.3477 L 51.8901 60.5462 L 47.6817 60.5462 L 47.6817 64.3477 L 46.5656 64.3477 L 46.5656 56.1169 \" fill=\"#0000FF\"/>\n",
       "<path class=\"atom-3\" d=\"M 55.273 56.1169 L 57.9701 60.4764 Q 58.2375 60.9066, 58.6677 61.6855 Q 59.0978 62.4644, 59.121 62.5109 L 59.121 56.1169 L 60.2138 56.1169 L 60.2138 64.3477 L 59.0862 64.3477 L 56.1914 59.5813 Q 55.8543 59.0233, 55.4939 58.3839 Q 55.1452 57.7445, 55.0405 57.5468 L 55.0405 64.3477 L 53.971 64.3477 L 53.971 56.1169 L 55.273 56.1169 \" fill=\"#0000FF\"/>\n",
       "<path class=\"atom-7\" d=\"M 82.4018 142.263 L 83.6108 141.031 L 82.0065 140.706 L 82.2507 139.88 L 83.7271 140.624 L 83.5178 139.008 L 84.3897 138.997 L 84.1456 140.613 L 85.6453 139.915 L 85.901 140.706 L 84.2735 141.008 L 85.436 142.252 L 84.7269 142.763 L 83.9247 141.229 L 83.111 142.763 L 82.4018 142.263 \" fill=\"#191919\"/>\n",
       "</svg>"
      ],
      "text/plain": [
       "<IPython.core.display.SVG object>"
      ]
     },
     "metadata": {},
     "output_type": "display_data"
    },
    {
     "name": "stdout",
     "output_type": "stream",
     "text": [
      "Bit 650 -----------------------------------------------\n"
     ]
    },
    {
     "data": {
      "image/svg+xml": [
       "<svg xmlns=\"http://www.w3.org/2000/svg\" xmlns:rdkit=\"http://www.rdkit.org/xml\" xmlns:xlink=\"http://www.w3.org/1999/xlink\" version=\"1.1\" baseProfile=\"full\" xml:space=\"preserve\" width=\"150px\" height=\"150px\" viewBox=\"0 0 150 150\">\n",
       "<!-- END OF HEADER -->\n",
       "<rect style=\"opacity:1.0;fill:#FFFFFF;stroke:none\" width=\"150\" height=\"150\" x=\"0\" y=\"0\"> </rect>\n",
       "<ellipse cx=\"28.9296\" cy=\"81.8277\" rx=\"22.1115\" ry=\"22.1115\" style=\"fill:#9999E5;fill-rule:evenodd;stroke:#9999E5;stroke-width:2.0px;stroke-linecap:butt;stroke-linejoin:miter;stroke-opacity:1\"/>\n",
       "<path class=\"bond-0 atom-0 atom-1\" d=\"M 128.547,49.4543 L 42.2456,67.7104\" style=\"fill:none;fill-rule:evenodd;stroke:#E5E5E5;stroke-width:5.9px;stroke-linecap:butt;stroke-linejoin:miter;stroke-opacity:1\"/>\n",
       "<path class=\"bond-0 atom-0 atom-1\" d=\"M 133.123,71.087 L 46.8217,89.3432\" style=\"fill:none;fill-rule:evenodd;stroke:#E5E5E5;stroke-width:5.9px;stroke-linecap:butt;stroke-linejoin:miter;stroke-opacity:1\"/>\n",
       "<path class=\"atom-0\" d=\"M 131.753 55.7867 L 135.913 51.5467 L 130.393 50.4267 L 131.233 47.5867 L 136.313 50.1467 L 135.593 44.5867 L 138.593 44.5467 L 137.753 50.1067 L 142.913 47.7067 L 143.793 50.4267 L 138.193 51.4667 L 142.193 55.7467 L 139.753 57.5067 L 136.993 52.2267 L 134.193 57.5067 L 131.753 55.7867 \" fill=\"#191919\"/>\n",
       "<path class=\"atom-1\" d=\"M 15.9296 81.9077 Q 15.9296 75.1077, 19.2896 71.3077 Q 22.6496 67.5077, 28.9296 67.5077 Q 35.2096 67.5077, 38.5696 71.3077 Q 41.9296 75.1077, 41.9296 81.9077 Q 41.9296 88.7877, 38.5296 92.7077 Q 35.1296 96.5877, 28.9296 96.5877 Q 22.6896 96.5877, 19.2896 92.7077 Q 15.9296 88.8277, 15.9296 81.9077 M 28.9296 93.3877 Q 33.2496 93.3877, 35.5696 90.5077 Q 37.9296 87.5877, 37.9296 81.9077 Q 37.9296 76.3477, 35.5696 73.5477 Q 33.2496 70.7077, 28.9296 70.7077 Q 24.6096 70.7077, 22.2496 73.5077 Q 19.9296 76.3077, 19.9296 81.9077 Q 19.9296 87.6277, 22.2496 90.5077 Q 24.6096 93.3877, 28.9296 93.3877 \" fill=\"#FF0000\"/>\n",
       "</svg>"
      ],
      "text/plain": [
       "<IPython.core.display.SVG object>"
      ]
     },
     "metadata": {},
     "output_type": "display_data"
    }
   ],
   "source": [
    "for bit_num in top_10_bits:\n",
    "    search_bit = str(bit_num)\n",
    "    print('Bit {}'.format(search_bit), '-'*(50 - len(search_bit)))\n",
    "\n",
    "    # get bit info corresponding to it\n",
    "    chemblid, bi = [(_id, bit_info) for _id, bit_info in chembl_to_bitinfo.items()\n",
    "                    if search_bit in list(bit_info.keys())][0]\n",
    "    \n",
    "    search_mol = get_mol(chemblid, df_smiles)\n",
    "    bit_img = Draw.DrawMorganBit(search_mol, search_bit, bi, useSVG=True)\n",
    "    display(bit_img)"
   ]
  },
  {
   "cell_type": "code",
   "execution_count": 124,
   "id": "c93bb661",
   "metadata": {},
   "outputs": [
    {
     "data": {
      "text/html": [
       "<div>\n",
       "<style scoped>\n",
       "    .dataframe tbody tr th:only-of-type {\n",
       "        vertical-align: middle;\n",
       "    }\n",
       "\n",
       "    .dataframe tbody tr th {\n",
       "        vertical-align: top;\n",
       "    }\n",
       "\n",
       "    .dataframe thead th {\n",
       "        text-align: right;\n",
       "    }\n",
       "</style>\n",
       "<table border=\"1\" class=\"dataframe\">\n",
       "  <thead>\n",
       "    <tr style=\"text-align: right;\">\n",
       "      <th></th>\n",
       "      <th>lower_10_bits</th>\n",
       "      <th>inhib_incidence</th>\n",
       "      <th>non_inhib_incidence</th>\n",
       "      <th>ratio</th>\n",
       "    </tr>\n",
       "  </thead>\n",
       "  <tbody>\n",
       "    <tr>\n",
       "      <th>3</th>\n",
       "      <td>1189</td>\n",
       "      <td>0.005629</td>\n",
       "      <td>0.000617</td>\n",
       "      <td>9.130312</td>\n",
       "    </tr>\n",
       "    <tr>\n",
       "      <th>6</th>\n",
       "      <td>1186</td>\n",
       "      <td>0.004503</td>\n",
       "      <td>0.001233</td>\n",
       "      <td>3.652125</td>\n",
       "    </tr>\n",
       "    <tr>\n",
       "      <th>1</th>\n",
       "      <td>1192</td>\n",
       "      <td>0.003096</td>\n",
       "      <td>0.001233</td>\n",
       "      <td>2.510836</td>\n",
       "    </tr>\n",
       "    <tr>\n",
       "      <th>7</th>\n",
       "      <td>1185</td>\n",
       "      <td>0.001970</td>\n",
       "      <td>0.001233</td>\n",
       "      <td>1.597805</td>\n",
       "    </tr>\n",
       "    <tr>\n",
       "      <th>4</th>\n",
       "      <td>1188</td>\n",
       "      <td>0.003659</td>\n",
       "      <td>0.004316</td>\n",
       "      <td>0.847815</td>\n",
       "    </tr>\n",
       "    <tr>\n",
       "      <th>8</th>\n",
       "      <td>1198</td>\n",
       "      <td>0.002815</td>\n",
       "      <td>0.004932</td>\n",
       "      <td>0.570645</td>\n",
       "    </tr>\n",
       "    <tr>\n",
       "      <th>2</th>\n",
       "      <td>1191</td>\n",
       "      <td>0.000844</td>\n",
       "      <td>0.002466</td>\n",
       "      <td>0.342387</td>\n",
       "    </tr>\n",
       "    <tr>\n",
       "      <th>5</th>\n",
       "      <td>1187</td>\n",
       "      <td>0.002252</td>\n",
       "      <td>0.006782</td>\n",
       "      <td>0.332011</td>\n",
       "    </tr>\n",
       "    <tr>\n",
       "      <th>0</th>\n",
       "      <td>1193</td>\n",
       "      <td>0.010695</td>\n",
       "      <td>0.000000</td>\n",
       "      <td>NaN</td>\n",
       "    </tr>\n",
       "  </tbody>\n",
       "</table>\n",
       "</div>"
      ],
      "text/plain": [
       "   lower_10_bits  inhib_incidence  non_inhib_incidence     ratio\n",
       "3           1189         0.005629             0.000617  9.130312\n",
       "6           1186         0.004503             0.001233  3.652125\n",
       "1           1192         0.003096             0.001233  2.510836\n",
       "7           1185         0.001970             0.001233  1.597805\n",
       "4           1188         0.003659             0.004316  0.847815\n",
       "8           1198         0.002815             0.004932  0.570645\n",
       "2           1191         0.000844             0.002466  0.342387\n",
       "5           1187         0.002252             0.006782  0.332011\n",
       "0           1193         0.010695             0.000000       NaN"
      ]
     },
     "execution_count": 124,
     "metadata": {},
     "output_type": "execute_result"
    }
   ],
   "source": [
    "lower_bit.sort_values(by= 'ratio', ascending = False)"
   ]
  },
  {
   "cell_type": "code",
   "execution_count": 126,
   "id": "c5eccd20",
   "metadata": {},
   "outputs": [
    {
     "name": "stdout",
     "output_type": "stream",
     "text": [
      "Bit 1193 ----------------------------------------------\n"
     ]
    },
    {
     "data": {
      "image/svg+xml": [
       "<svg xmlns=\"http://www.w3.org/2000/svg\" xmlns:rdkit=\"http://www.rdkit.org/xml\" xmlns:xlink=\"http://www.w3.org/1999/xlink\" version=\"1.1\" baseProfile=\"full\" xml:space=\"preserve\" width=\"150px\" height=\"150px\" viewBox=\"0 0 150 150\">\n",
       "<!-- END OF HEADER -->\n",
       "<rect style=\"opacity:1.0;fill:#FFFFFF;stroke:none\" width=\"150\" height=\"150\" x=\"0\" y=\"0\"> </rect>\n",
       "<ellipse cx=\"121.917\" cy=\"46.5974\" rx=\"5.78326\" ry=\"5.78326\" style=\"fill:#E5E533;fill-rule:evenodd;stroke:#E5E533;stroke-width:2.0px;stroke-linecap:butt;stroke-linejoin:miter;stroke-opacity:1\"/>\n",
       "<ellipse cx=\"93.6263\" cy=\"52.5819\" rx=\"5.78326\" ry=\"5.78326\" style=\"fill:#E5E533;fill-rule:evenodd;stroke:#E5E533;stroke-width:2.0px;stroke-linecap:butt;stroke-linejoin:miter;stroke-opacity:1\"/>\n",
       "<ellipse cx=\"84.6639\" cy=\"80.0742\" rx=\"5.78326\" ry=\"5.78326\" style=\"fill:#9999E5;fill-rule:evenodd;stroke:#9999E5;stroke-width:2.0px;stroke-linecap:butt;stroke-linejoin:miter;stroke-opacity:1\"/>\n",
       "<ellipse cx=\"56.3737\" cy=\"86.0588\" rx=\"5.78326\" ry=\"5.78326\" style=\"fill:#E5E533;fill-rule:evenodd;stroke:#E5E533;stroke-width:2.0px;stroke-linecap:butt;stroke-linejoin:miter;stroke-opacity:1\"/>\n",
       "<ellipse cx=\"47.4113\" cy=\"113.551\" rx=\"5.78326\" ry=\"5.78326\" style=\"fill:#E5E533;fill-rule:evenodd;stroke:#E5E533;stroke-width:2.0px;stroke-linecap:butt;stroke-linejoin:miter;stroke-opacity:1\"/>\n",
       "<ellipse cx=\"95.0294\" cy=\"129.074\" rx=\"5.78326\" ry=\"5.78326\" style=\"fill:#E5E533;fill-rule:evenodd;stroke:#E5E533;stroke-width:2.0px;stroke-linecap:butt;stroke-linejoin:miter;stroke-opacity:1\"/>\n",
       "<ellipse cx=\"103.992\" cy=\"101.582\" rx=\"5.78326\" ry=\"5.78326\" style=\"fill:#E5E533;fill-rule:evenodd;stroke:#E5E533;stroke-width:2.0px;stroke-linecap:butt;stroke-linejoin:miter;stroke-opacity:1\"/>\n",
       "<ellipse cx=\"132.282\" cy=\"95.5975\" rx=\"5.78326\" ry=\"5.78326\" style=\"fill:#E5E533;fill-rule:evenodd;stroke:#E5E533;stroke-width:2.0px;stroke-linecap:butt;stroke-linejoin:miter;stroke-opacity:1\"/>\n",
       "<path class=\"bond-0 atom-0 atom-1\" d=\"M 130.779,19.4116 L 121.917,46.5974\" style=\"fill:none;fill-rule:evenodd;stroke:#E5E5E5;stroke-width:1.5px;stroke-linecap:butt;stroke-linejoin:miter;stroke-opacity:1\"/>\n",
       "<path class=\"bond-1 atom-1 atom-2\" d=\"M 121.917,46.5974 L 109.686,49.1847\" style=\"fill:none;fill-rule:evenodd;stroke:#000000;stroke-width:2.0px;stroke-linecap:butt;stroke-linejoin:miter;stroke-opacity:1\"/>\n",
       "<path class=\"bond-1 atom-1 atom-2\" d=\"M 109.686,49.1847 L 97.4548,51.772\" style=\"fill:none;fill-rule:evenodd;stroke:#0000FF;stroke-width:2.0px;stroke-linecap:butt;stroke-linejoin:miter;stroke-opacity:1\"/>\n",
       "<path class=\"bond-1 atom-1 atom-2\" d=\"M 119.444,53.0316 L 110.883,54.8427\" style=\"fill:none;fill-rule:evenodd;stroke:#000000;stroke-width:2.0px;stroke-linecap:butt;stroke-linejoin:miter;stroke-opacity:1\"/>\n",
       "<path class=\"bond-1 atom-1 atom-2\" d=\"M 110.883,54.8427 L 102.321,56.6539\" style=\"fill:none;fill-rule:evenodd;stroke:#0000FF;stroke-width:2.0px;stroke-linecap:butt;stroke-linejoin:miter;stroke-opacity:1\"/>\n",
       "<path class=\"bond-12 atom-12 atom-1\" d=\"M 138.584,65.1448 L 121.917,46.5974\" style=\"fill:none;fill-rule:evenodd;stroke:#E5E5E5;stroke-width:1.5px;stroke-linecap:butt;stroke-linejoin:miter;stroke-opacity:1\"/>\n",
       "<path class=\"bond-2 atom-2 atom-3\" d=\"M 92.0558,57.3994 L 88.3599,68.7368\" style=\"fill:none;fill-rule:evenodd;stroke:#0000FF;stroke-width:2.0px;stroke-linecap:butt;stroke-linejoin:miter;stroke-opacity:1\"/>\n",
       "<path class=\"bond-2 atom-2 atom-3\" d=\"M 88.3599,68.7368 L 84.6639,80.0742\" style=\"fill:none;fill-rule:evenodd;stroke:#000000;stroke-width:2.0px;stroke-linecap:butt;stroke-linejoin:miter;stroke-opacity:1\"/>\n",
       "<path class=\"bond-3 atom-3 atom-4\" d=\"M 84.6639,80.0742 L 56.3737,86.0588\" style=\"fill:none;fill-rule:evenodd;stroke:#000000;stroke-width:2.0px;stroke-linecap:butt;stroke-linejoin:miter;stroke-opacity:1\"/>\n",
       "<path class=\"bond-3 atom-3 atom-4\" d=\"M 79.2235,75.3139 L 59.4203,79.503\" style=\"fill:none;fill-rule:evenodd;stroke:#000000;stroke-width:2.0px;stroke-linecap:butt;stroke-linejoin:miter;stroke-opacity:1\"/>\n",
       "<path class=\"bond-13 atom-10 atom-3\" d=\"M 103.992,101.582 L 84.6639,80.0742\" style=\"fill:none;fill-rule:evenodd;stroke:#000000;stroke-width:2.0px;stroke-linecap:butt;stroke-linejoin:miter;stroke-opacity:1\"/>\n",
       "<path class=\"bond-4 atom-4 atom-5\" d=\"M 56.3737,86.0588 L 48.624,77.435\" style=\"fill:none;fill-rule:evenodd;stroke:#000000;stroke-width:2.0px;stroke-linecap:butt;stroke-linejoin:miter;stroke-opacity:1\"/>\n",
       "<path class=\"bond-4 atom-4 atom-5\" d=\"M 48.624,77.435 L 40.8743,68.8113\" style=\"fill:none;fill-rule:evenodd;stroke:#0000FF;stroke-width:2.0px;stroke-linecap:butt;stroke-linejoin:miter;stroke-opacity:1\"/>\n",
       "<path class=\"bond-6 atom-4 atom-7\" d=\"M 56.3737,86.0588 L 52.6777,97.3962\" style=\"fill:none;fill-rule:evenodd;stroke:#000000;stroke-width:2.0px;stroke-linecap:butt;stroke-linejoin:miter;stroke-opacity:1\"/>\n",
       "<path class=\"bond-6 atom-4 atom-7\" d=\"M 52.6777,97.3962 L 48.9818,108.734\" style=\"fill:none;fill-rule:evenodd;stroke:#0000FF;stroke-width:2.0px;stroke-linecap:butt;stroke-linejoin:miter;stroke-opacity:1\"/>\n",
       "<path class=\"bond-5 atom-5 atom-6\" d=\"M 33.2173,65.3609 L 11.318,69.9934\" style=\"fill:none;fill-rule:evenodd;stroke:#E5E5E5;stroke-width:1.5px;stroke-linecap:butt;stroke-linejoin:miter;stroke-opacity:1\"/>\n",
       "<path class=\"bond-7 atom-7 atom-8\" d=\"M 51.2398,117.811 L 64.2221,132.258\" style=\"fill:none;fill-rule:evenodd;stroke:#E5E5E5;stroke-width:1.5px;stroke-linecap:butt;stroke-linejoin:miter;stroke-opacity:1\"/>\n",
       "<path class=\"bond-7 atom-7 atom-8\" d=\"M 57.4887,116.113 L 66.5763,126.225\" style=\"fill:none;fill-rule:evenodd;stroke:#E5E5E5;stroke-width:1.5px;stroke-linecap:butt;stroke-linejoin:miter;stroke-opacity:1\"/>\n",
       "<path class=\"bond-8 atom-8 atom-9\" d=\"M 69.3995,134.496 L 91.2689,129.87\" style=\"fill:none;fill-rule:evenodd;stroke:#E5E5E5;stroke-width:1.5px;stroke-linecap:butt;stroke-linejoin:miter;stroke-opacity:1\"/>\n",
       "<path class=\"bond-9 atom-9 atom-10\" d=\"M 96.5999,124.257 L 100.296,112.919\" style=\"fill:none;fill-rule:evenodd;stroke:#0000FF;stroke-width:2.0px;stroke-linecap:butt;stroke-linejoin:miter;stroke-opacity:1\"/>\n",
       "<path class=\"bond-9 atom-9 atom-10\" d=\"M 100.296,112.919 L 103.992,101.582\" style=\"fill:none;fill-rule:evenodd;stroke:#000000;stroke-width:2.0px;stroke-linecap:butt;stroke-linejoin:miter;stroke-opacity:1\"/>\n",
       "<path class=\"bond-9 atom-9 atom-10\" d=\"M 92.2102,119.063 L 94.7974,111.127\" style=\"fill:none;fill-rule:evenodd;stroke:#0000FF;stroke-width:2.0px;stroke-linecap:butt;stroke-linejoin:miter;stroke-opacity:1\"/>\n",
       "<path class=\"bond-9 atom-9 atom-10\" d=\"M 94.7974,111.127 L 97.3846,103.191\" style=\"fill:none;fill-rule:evenodd;stroke:#000000;stroke-width:2.0px;stroke-linecap:butt;stroke-linejoin:miter;stroke-opacity:1\"/>\n",
       "<path class=\"bond-10 atom-10 atom-11\" d=\"M 103.992,101.582 L 132.282,95.5975\" style=\"fill:none;fill-rule:evenodd;stroke:#000000;stroke-width:2.0px;stroke-linecap:butt;stroke-linejoin:miter;stroke-opacity:1\"/>\n",
       "<path class=\"bond-11 atom-11 atom-12\" d=\"M 132.282,95.5975 L 141.145,68.4117\" style=\"fill:none;fill-rule:evenodd;stroke:#E5E5E5;stroke-width:1.5px;stroke-linecap:butt;stroke-linejoin:miter;stroke-opacity:1\"/>\n",
       "<path class=\"bond-11 atom-11 atom-12\" d=\"M 128.113,89.7272 L 134.317,70.6971\" style=\"fill:none;fill-rule:evenodd;stroke:#E5E5E5;stroke-width:1.5px;stroke-linecap:butt;stroke-linejoin:miter;stroke-opacity:1\"/>\n",
       "<path class=\"atom-0\" d=\"M 129.335 18.1913 L 130.538 16.9652 L 128.942 16.6414 L 129.184 15.8201 L 130.653 16.5604 L 130.445 14.9527 L 131.313 14.9411 L 131.07 16.5488 L 132.562 15.8548 L 132.816 16.6414 L 131.197 16.9421 L 132.354 18.1797 L 131.648 18.6886 L 130.85 17.1619 L 130.04 18.6886 L 129.335 18.1913 \" fill=\"#191919\"/>\n",
       "<path class=\"atom-2\" d=\"M 91.8161 48.4874 L 94.4996 52.8248 Q 94.7656 53.2528, 95.1936 54.0277 Q 95.6215 54.8027, 95.6447 54.8489 L 95.6447 48.4874 L 96.7319 48.4874 L 96.7319 56.6765 L 95.61 56.6765 L 92.7299 51.9342 Q 92.3945 51.379, 92.0359 50.7428 Q 91.6889 50.1067, 91.5848 49.91 L 91.5848 56.6765 L 90.5207 56.6765 L 90.5207 48.4874 L 91.8161 48.4874 \" fill=\"#0000FF\"/>\n",
       "<path class=\"atom-5\" d=\"M 35.2357 60.4564 L 37.9191 64.7939 Q 38.1851 65.2218, 38.6131 65.9968 Q 39.041 66.7717, 39.0642 66.818 L 39.0642 60.4564 L 40.1514 60.4564 L 40.1514 68.6455 L 39.0295 68.6455 L 36.1494 63.9032 Q 35.814 63.348, 35.4554 62.7119 Q 35.1084 62.0757, 35.0043 61.8791 L 35.0043 68.6455 L 33.9402 68.6455 L 33.9402 60.4564 L 35.2357 60.4564 \" fill=\"#0000FF\"/>\n",
       "<path class=\"atom-5\" d=\"M 33.8419 51.4484 L 34.9523 51.4484 L 34.9523 54.9299 L 39.1394 54.9299 L 39.1394 51.4484 L 40.2497 51.4484 L 40.2497 59.6375 L 39.1394 59.6375 L 39.1394 55.8553 L 34.9523 55.8553 L 34.9523 59.6375 L 33.8419 59.6375 L 33.8419 51.4484 \" fill=\"#0000FF\"/>\n",
       "<path class=\"atom-6\" d=\"M 7.21144 69.6217 L 8.41436 68.3957 L 6.81818 68.0718 L 7.06108 67.2506 L 8.53003 67.9909 L 8.32183 66.3831 L 9.18932 66.3715 L 8.94642 67.9793 L 10.4385 67.2853 L 10.693 68.0718 L 9.07365 68.3726 L 10.2303 69.6102 L 9.52475 70.1191 L 8.72666 68.5923 L 7.917 70.1191 L 7.21144 69.6217 \" fill=\"#191919\"/>\n",
       "<path class=\"atom-7\" d=\"M 45.6012 109.457 L 48.2846 113.794 Q 48.5506 114.222, 48.9786 114.997 Q 49.4066 115.772, 49.4297 115.818 L 49.4297 109.457 L 50.5169 109.457 L 50.5169 117.646 L 49.395 117.646 L 46.5149 112.903 Q 46.1795 112.348, 45.8209 111.712 Q 45.4739 111.076, 45.3698 110.879 L 45.3698 117.646 L 44.3057 117.646 L 44.3057 109.457 L 45.6012 109.457 \" fill=\"#0000FF\"/>\n",
       "<path class=\"atom-8\" d=\"M 65.1951 134.145 L 66.398 132.919 L 64.8018 132.595 L 65.0447 131.774 L 66.5137 132.514 L 66.3055 130.907 L 67.1729 130.895 L 66.9301 132.503 L 68.4221 131.809 L 68.6766 132.595 L 67.0573 132.896 L 68.2139 134.134 L 67.5084 134.643 L 66.7103 133.116 L 65.9006 134.643 L 65.1951 134.145 \" fill=\"#191919\"/>\n",
       "<path class=\"atom-9\" d=\"M 93.2193 124.98 L 95.9027 129.317 Q 96.1688 129.745, 96.5967 130.52 Q 97.0247 131.295, 97.0478 131.341 L 97.0478 124.98 L 98.1351 124.98 L 98.1351 133.169 L 97.0131 133.169 L 94.133 128.427 Q 93.7976 127.871, 93.4391 127.235 Q 93.0921 126.599, 92.988 126.403 L 92.988 133.169 L 91.9238 133.169 L 91.9238 124.98 L 93.2193 124.98 \" fill=\"#0000FF\"/>\n",
       "<path class=\"atom-12\" d=\"M 139.7 67.1914 L 140.903 65.9654 L 139.307 65.6415 L 139.55 64.8203 L 141.019 65.5605 L 140.811 63.9528 L 141.678 63.9412 L 141.435 65.549 L 142.927 64.855 L 143.182 65.6415 L 141.563 65.9422 L 142.719 67.1799 L 142.014 67.6888 L 141.216 66.162 L 140.406 67.6888 L 139.7 67.1914 \" fill=\"#191919\"/>\n",
       "</svg>"
      ],
      "text/plain": [
       "<IPython.core.display.SVG object>"
      ]
     },
     "metadata": {},
     "output_type": "display_data"
    },
    {
     "name": "stdout",
     "output_type": "stream",
     "text": [
      "Bit 1192 ----------------------------------------------\n"
     ]
    },
    {
     "data": {
      "image/svg+xml": [
       "<svg xmlns=\"http://www.w3.org/2000/svg\" xmlns:rdkit=\"http://www.rdkit.org/xml\" xmlns:xlink=\"http://www.w3.org/1999/xlink\" version=\"1.1\" baseProfile=\"full\" xml:space=\"preserve\" width=\"150px\" height=\"150px\" viewBox=\"0 0 150 150\">\n",
       "<!-- END OF HEADER -->\n",
       "<rect style=\"opacity:1.0;fill:#FFFFFF;stroke:none\" width=\"150\" height=\"150\" x=\"0\" y=\"0\"> </rect>\n",
       "<ellipse cx=\"51.2616\" cy=\"99.6317\" rx=\"9.19219\" ry=\"9.19219\" style=\"fill:#CCCCCC;fill-rule:evenodd;stroke:#CCCCCC;stroke-width:2.0px;stroke-linecap:butt;stroke-linejoin:miter;stroke-opacity:1\"/>\n",
       "<ellipse cx=\"130.659\" cy=\"105.401\" rx=\"9.19219\" ry=\"9.19219\" style=\"fill:#CCCCCC;fill-rule:evenodd;stroke:#CCCCCC;stroke-width:2.0px;stroke-linecap:butt;stroke-linejoin:miter;stroke-opacity:1\"/>\n",
       "<ellipse cx=\"133.99\" cy=\"59.5605\" rx=\"9.19219\" ry=\"9.19219\" style=\"fill:#CCCCCC;fill-rule:evenodd;stroke:#CCCCCC;stroke-width:2.0px;stroke-linecap:butt;stroke-linejoin:miter;stroke-opacity:1\"/>\n",
       "<ellipse cx=\"95.9562\" cy=\"33.756\" rx=\"9.19219\" ry=\"9.19219\" style=\"fill:#9999E5;fill-rule:evenodd;stroke:#9999E5;stroke-width:2.0px;stroke-linecap:butt;stroke-linejoin:miter;stroke-opacity:1\"/>\n",
       "<ellipse cx=\"54.5922\" cy=\"53.7916\" rx=\"9.19219\" ry=\"9.19219\" style=\"fill:#CCCCCC;fill-rule:evenodd;stroke:#CCCCCC;stroke-width:2.0px;stroke-linecap:butt;stroke-linejoin:miter;stroke-opacity:1\"/>\n",
       "<path class=\"bond-0 atom-1 atom-0\" d=\"M 51.2616,99.6317 L 12.1224,113.483 L 16.1295,121.756 Z\" style=\"fill:#E5E5E5;fill-rule:evenodd;fill-opacity:1;stroke:#E5E5E5;stroke-width:4.0px;stroke-linecap:butt;stroke-linejoin:miter;stroke-opacity:1;\"/>\n",
       "<path class=\"bond-1 atom-1 atom-2\" d=\"M 51.2616,99.6317 L 85.0666,122.567\" style=\"fill:none;fill-rule:evenodd;stroke:#E5E5E5;stroke-width:2.5px;stroke-linecap:butt;stroke-linejoin:miter;stroke-opacity:1\"/>\n",
       "<path class=\"bond-6 atom-6 atom-1\" d=\"M 54.0359,61.4487 L 52.6487,80.5402\" style=\"fill:none;fill-rule:evenodd;stroke:#0000FF;stroke-width:2.0px;stroke-linecap:butt;stroke-linejoin:miter;stroke-opacity:1\"/>\n",
       "<path class=\"bond-6 atom-6 atom-1\" d=\"M 52.6487,80.5402 L 51.2616,99.6317\" style=\"fill:none;fill-rule:evenodd;stroke:#000000;stroke-width:2.0px;stroke-linecap:butt;stroke-linejoin:miter;stroke-opacity:1\"/>\n",
       "<path class=\"bond-2 atom-2 atom-3\" d=\"M 93.5234,123.388 L 123.653,108.794\" style=\"fill:none;fill-rule:evenodd;stroke:#E5E5E5;stroke-width:2.5px;stroke-linecap:butt;stroke-linejoin:miter;stroke-opacity:1\"/>\n",
       "<path class=\"bond-3 atom-3 atom-4\" d=\"M 131.221,97.6699 L 132.605,78.6152\" style=\"fill:none;fill-rule:evenodd;stroke:#FF0000;stroke-width:2.0px;stroke-linecap:butt;stroke-linejoin:miter;stroke-opacity:1\"/>\n",
       "<path class=\"bond-3 atom-3 atom-4\" d=\"M 132.605,78.6152 L 133.99,59.5605\" style=\"fill:none;fill-rule:evenodd;stroke:#000000;stroke-width:2.0px;stroke-linecap:butt;stroke-linejoin:miter;stroke-opacity:1\"/>\n",
       "<path class=\"bond-4 atom-4 atom-5\" d=\"M 133.99,59.5605 L 95.9562,33.756\" style=\"fill:none;fill-rule:evenodd;stroke:#000000;stroke-width:2.0px;stroke-linecap:butt;stroke-linejoin:miter;stroke-opacity:1\"/>\n",
       "<path class=\"bond-5 atom-5 atom-6\" d=\"M 95.9562,33.756 L 78.3168,42.3\" style=\"fill:none;fill-rule:evenodd;stroke:#000000;stroke-width:2.0px;stroke-linecap:butt;stroke-linejoin:miter;stroke-opacity:1\"/>\n",
       "<path class=\"bond-5 atom-5 atom-6\" d=\"M 78.3168,42.3 L 60.6774,50.8441\" style=\"fill:none;fill-rule:evenodd;stroke:#0000FF;stroke-width:2.0px;stroke-linecap:butt;stroke-linejoin:miter;stroke-opacity:1\"/>\n",
       "<path class=\"atom-0\" d=\"M 7.44325 118.215 L 9.35523 116.266 L 6.81818 115.752 L 7.20425 114.446 L 9.53907 115.623 L 9.20815 113.067 L 10.587 113.049 L 10.2009 115.604 L 12.5725 114.501 L 12.9769 115.752 L 10.4031 116.23 L 12.2416 118.197 L 11.1201 119.006 L 9.8516 116.579 L 8.5647 119.006 L 7.44325 118.215 \" fill=\"#191919\"/>\n",
       "<path class=\"atom-2\" d=\"M 86.8407 123.984 L 88.7526 122.035 L 86.2156 121.52 L 86.6017 120.215 L 88.9365 121.392 L 88.6056 118.836 L 89.9844 118.818 L 89.5983 121.373 L 91.9699 120.27 L 92.3744 121.52 L 89.8005 121.998 L 91.639 123.965 L 90.5175 124.774 L 89.249 122.348 L 87.9621 124.774 L 86.8407 123.984 \" fill=\"#191919\"/>\n",
       "<path class=\"atom-3\" d=\"M 124.684 105.437 Q 124.684 102.312, 126.228 100.565 Q 127.773 98.819, 130.659 98.819 Q 133.545 98.819, 135.09 100.565 Q 136.634 102.312, 136.634 105.437 Q 136.634 108.599, 135.071 110.401 Q 133.509 112.184, 130.659 112.184 Q 127.791 112.184, 126.228 110.401 Q 124.684 108.618, 124.684 105.437 M 130.659 110.714 Q 132.645 110.714, 133.711 109.39 Q 134.795 108.048, 134.795 105.437 Q 134.795 102.882, 133.711 101.595 Q 132.645 100.29, 130.659 100.29 Q 128.673 100.29, 127.589 101.577 Q 126.523 102.864, 126.523 105.437 Q 126.523 108.066, 127.589 109.39 Q 128.673 110.714, 130.659 110.714 \" fill=\"#FF0000\"/>\n",
       "<path class=\"atom-6\" d=\"M 37.9452 47.2836 L 39.7101 47.2836 L 39.7101 52.8173 L 46.3652 52.8173 L 46.3652 47.2836 L 48.1301 47.2836 L 48.1301 60.2997 L 46.3652 60.2997 L 46.3652 54.288 L 39.7101 54.288 L 39.7101 60.2997 L 37.9452 60.2997 L 37.9452 47.2836 \" fill=\"#0000FF\"/>\n",
       "<path class=\"atom-6\" d=\"M 51.7151 47.2836 L 55.9802 54.1777 Q 56.4031 54.8579, 57.0833 56.0897 Q 57.7635 57.3214, 57.8003 57.395 L 57.8003 47.2836 L 59.5284 47.2836 L 59.5284 60.2997 L 57.7451 60.2997 L 53.1674 52.7621 Q 52.6343 51.8796, 52.0644 50.8685 Q 51.5128 49.8574, 51.3474 49.5448 L 51.3474 60.2997 L 49.656 60.2997 L 49.656 47.2836 L 51.7151 47.2836 \" fill=\"#0000FF\"/>\n",
       "</svg>"
      ],
      "text/plain": [
       "<IPython.core.display.SVG object>"
      ]
     },
     "metadata": {},
     "output_type": "display_data"
    },
    {
     "name": "stdout",
     "output_type": "stream",
     "text": [
      "Bit 1191 ----------------------------------------------\n"
     ]
    },
    {
     "data": {
      "image/svg+xml": [
       "<svg xmlns=\"http://www.w3.org/2000/svg\" xmlns:rdkit=\"http://www.rdkit.org/xml\" xmlns:xlink=\"http://www.w3.org/1999/xlink\" version=\"1.1\" baseProfile=\"full\" xml:space=\"preserve\" width=\"150px\" height=\"150px\" viewBox=\"0 0 150 150\">\n",
       "<!-- END OF HEADER -->\n",
       "<rect style=\"opacity:1.0;fill:#FFFFFF;stroke:none\" width=\"150\" height=\"150\" x=\"0\" y=\"0\"> </rect>\n",
       "<ellipse cx=\"22.4439\" cy=\"84.9531\" rx=\"5.44142\" ry=\"5.44142\" style=\"fill:#E5E533;fill-rule:evenodd;stroke:#E5E533;stroke-width:2.0px;stroke-linecap:butt;stroke-linejoin:miter;stroke-opacity:1\"/>\n",
       "<ellipse cx=\"49.0075\" cy=\"79.0709\" rx=\"5.44142\" ry=\"5.44142\" style=\"fill:#E5E533;fill-rule:evenodd;stroke:#E5E533;stroke-width:2.0px;stroke-linecap:butt;stroke-linejoin:miter;stroke-opacity:1\"/>\n",
       "<ellipse cx=\"69.38\" cy=\"97.1038\" rx=\"5.44142\" ry=\"5.44142\" style=\"fill:#9999E5;fill-rule:evenodd;stroke:#9999E5;stroke-width:2.0px;stroke-linecap:butt;stroke-linejoin:miter;stroke-opacity:1\"/>\n",
       "<ellipse cx=\"95.1832\" cy=\"88.4773\" rx=\"5.44142\" ry=\"5.44142\" style=\"fill:#E5E533;fill-rule:evenodd;stroke:#E5E533;stroke-width:2.0px;stroke-linecap:butt;stroke-linejoin:miter;stroke-opacity:1\"/>\n",
       "<ellipse cx=\"115.556\" cy=\"106.51\" rx=\"5.44142\" ry=\"5.44142\" style=\"fill:#E5E533;fill-rule:evenodd;stroke:#E5E533;stroke-width:2.0px;stroke-linecap:butt;stroke-linejoin:miter;stroke-opacity:1\"/>\n",
       "<ellipse cx=\"100.614\" cy=\"61.8177\" rx=\"5.44142\" ry=\"5.44142\" style=\"fill:#E5E533;fill-rule:evenodd;stroke:#E5E533;stroke-width:2.0px;stroke-linecap:butt;stroke-linejoin:miter;stroke-opacity:1\"/>\n",
       "<ellipse cx=\"51.6219\" cy=\"51.9897\" rx=\"5.44142\" ry=\"5.44142\" style=\"fill:#E5E533;fill-rule:evenodd;stroke:#E5E533;stroke-width:2.0px;stroke-linecap:butt;stroke-linejoin:miter;stroke-opacity:1\"/>\n",
       "<path class=\"bond-0 atom-0 atom-1\" d=\"M 6.46626,63.1759 L 20.0994,86.3333\" style=\"fill:none;fill-rule:evenodd;stroke:#E5E5E5;stroke-width:1.5px;stroke-linecap:butt;stroke-linejoin:miter;stroke-opacity:1\"/>\n",
       "<path class=\"bond-0 atom-0 atom-1\" d=\"M 11.1554,60.4154 L 24.7885,83.5728\" style=\"fill:none;fill-rule:evenodd;stroke:#E5E5E5;stroke-width:1.5px;stroke-linecap:butt;stroke-linejoin:miter;stroke-opacity:1;stroke-dasharray:6,6\"/>\n",
       "<path class=\"bond-1 atom-1 atom-2\" d=\"M 22.4439,84.9531 L 49.0075,79.0709\" style=\"fill:none;fill-rule:evenodd;stroke:#000000;stroke-width:2.0px;stroke-linecap:butt;stroke-linejoin:miter;stroke-opacity:1\"/>\n",
       "<path class=\"bond-1 atom-1 atom-2\" d=\"M 25.252,78.758 L 43.8466,74.6405\" style=\"fill:none;fill-rule:evenodd;stroke:#000000;stroke-width:2.0px;stroke-linecap:butt;stroke-linejoin:miter;stroke-opacity:1;stroke-dasharray:6,6\"/>\n",
       "<path class=\"bond-2 atom-2 atom-3\" d=\"M 49.0075,79.0709 L 57.3927,86.4931\" style=\"fill:none;fill-rule:evenodd;stroke:#000000;stroke-width:2.0px;stroke-linecap:butt;stroke-linejoin:miter;stroke-opacity:1\"/>\n",
       "<path class=\"bond-2 atom-2 atom-3\" d=\"M 57.3927,86.4931 L 65.7778,93.9153\" style=\"fill:none;fill-rule:evenodd;stroke:#0000FF;stroke-width:2.0px;stroke-linecap:butt;stroke-linejoin:miter;stroke-opacity:1\"/>\n",
       "<path class=\"bond-7 atom-2 atom-9\" d=\"M 49.0075,79.0709 L 50.0959,67.7967\" style=\"fill:none;fill-rule:evenodd;stroke:#000000;stroke-width:2.0px;stroke-linecap:butt;stroke-linejoin:miter;stroke-opacity:1\"/>\n",
       "<path class=\"bond-7 atom-2 atom-9\" d=\"M 50.0959,67.7967 L 51.1843,56.5224\" style=\"fill:none;fill-rule:evenodd;stroke:#0000FF;stroke-width:2.0px;stroke-linecap:butt;stroke-linejoin:miter;stroke-opacity:1\"/>\n",
       "<path class=\"bond-7 atom-2 atom-9\" d=\"M 43.9178,75.1658 L 44.6797,67.2738\" style=\"fill:none;fill-rule:evenodd;stroke:#000000;stroke-width:2.0px;stroke-linecap:butt;stroke-linejoin:miter;stroke-opacity:1;stroke-dasharray:6,6\"/>\n",
       "<path class=\"bond-7 atom-2 atom-9\" d=\"M 44.6797,67.2738 L 45.4415,59.3818\" style=\"fill:none;fill-rule:evenodd;stroke:#0000FF;stroke-width:2.0px;stroke-linecap:butt;stroke-linejoin:miter;stroke-opacity:1;stroke-dasharray:6,6\"/>\n",
       "<path class=\"bond-3 atom-3 atom-4\" d=\"M 72.9822,95.8995 L 84.0827,92.1884\" style=\"fill:none;fill-rule:evenodd;stroke:#0000FF;stroke-width:2.0px;stroke-linecap:butt;stroke-linejoin:miter;stroke-opacity:1\"/>\n",
       "<path class=\"bond-3 atom-3 atom-4\" d=\"M 84.0827,92.1884 L 95.1832,88.4773\" style=\"fill:none;fill-rule:evenodd;stroke:#000000;stroke-width:2.0px;stroke-linecap:butt;stroke-linejoin:miter;stroke-opacity:1\"/>\n",
       "<path class=\"bond-4 atom-4 atom-5\" d=\"M 95.1832,88.4773 L 115.556,106.51\" style=\"fill:none;fill-rule:evenodd;stroke:#000000;stroke-width:2.0px;stroke-linecap:butt;stroke-linejoin:miter;stroke-opacity:1\"/>\n",
       "<path class=\"bond-4 atom-4 atom-5\" d=\"M 94.6325,95.2567 L 108.893,107.88\" style=\"fill:none;fill-rule:evenodd;stroke:#000000;stroke-width:2.0px;stroke-linecap:butt;stroke-linejoin:miter;stroke-opacity:1;stroke-dasharray:6,6\"/>\n",
       "<path class=\"bond-9 atom-8 atom-4\" d=\"M 99.6907,66.3504 L 97.437,77.4138\" style=\"fill:none;fill-rule:evenodd;stroke:#0000FF;stroke-width:2.0px;stroke-linecap:butt;stroke-linejoin:miter;stroke-opacity:1\"/>\n",
       "<path class=\"bond-9 atom-8 atom-4\" d=\"M 97.437,77.4138 L 95.1832,88.4773\" style=\"fill:none;fill-rule:evenodd;stroke:#000000;stroke-width:2.0px;stroke-linecap:butt;stroke-linejoin:miter;stroke-opacity:1\"/>\n",
       "<path class=\"bond-9 atom-8 atom-4\" d=\"M 104.346,70.7556 L 102.769,78.5\" style=\"fill:none;fill-rule:evenodd;stroke:#0000FF;stroke-width:2.0px;stroke-linecap:butt;stroke-linejoin:miter;stroke-opacity:1;stroke-dasharray:6,6\"/>\n",
       "<path class=\"bond-9 atom-8 atom-4\" d=\"M 102.769,78.5 L 101.191,86.2444\" style=\"fill:none;fill-rule:evenodd;stroke:#000000;stroke-width:2.0px;stroke-linecap:butt;stroke-linejoin:miter;stroke-opacity:1;stroke-dasharray:6,6\"/>\n",
       "<path class=\"bond-5 atom-5 atom-6\" d=\"M 116.418,109.091 L 141.359,100.752\" style=\"fill:none;fill-rule:evenodd;stroke:#E5E5E5;stroke-width:1.5px;stroke-linecap:butt;stroke-linejoin:miter;stroke-opacity:1\"/>\n",
       "<path class=\"bond-5 atom-5 atom-6\" d=\"M 114.693,103.93 L 139.634,95.5917\" style=\"fill:none;fill-rule:evenodd;stroke:#E5E5E5;stroke-width:1.5px;stroke-linecap:butt;stroke-linejoin:miter;stroke-opacity:1;stroke-dasharray:6,6\"/>\n",
       "<path class=\"bond-6 atom-7 atom-8\" d=\"M 124.692,50.8992 L 103.331,58.0407\" style=\"fill:none;fill-rule:evenodd;stroke:#E5E5E5;stroke-width:1.5px;stroke-linecap:butt;stroke-linejoin:miter;stroke-opacity:1\"/>\n",
       "<path class=\"bond-6 atom-7 atom-8\" d=\"M 126.417,56.0598 L 105.056,63.2013\" style=\"fill:none;fill-rule:evenodd;stroke:#E5E5E5;stroke-width:1.5px;stroke-linecap:butt;stroke-linejoin:miter;stroke-opacity:1;stroke-dasharray:6,6\"/>\n",
       "<path class=\"bond-8 atom-9 atom-10\" d=\"M 49.1051,47.9276 L 31.356,40.2049\" style=\"fill:none;fill-rule:evenodd;stroke:#E5E5E5;stroke-width:1.5px;stroke-linecap:butt;stroke-linejoin:miter;stroke-opacity:1\"/>\n",
       "<path class=\"bond-8 atom-9 atom-10\" d=\"M 46.9342,52.9172 L 29.185,45.1944\" style=\"fill:none;fill-rule:evenodd;stroke:#E5E5E5;stroke-width:1.5px;stroke-linecap:butt;stroke-linejoin:miter;stroke-opacity:1;stroke-dasharray:6,6\"/>\n",
       "<path class=\"atom-0\" d=\"M 7.1882 60.6475 L 8.32001 59.4939 L 6.81818 59.1892 L 7.04672 58.4165 L 8.42884 59.113 L 8.23295 57.6003 L 9.04916 57.5894 L 8.82062 59.1022 L 10.2245 58.4492 L 10.4639 59.1892 L 8.94033 59.4722 L 10.0286 60.6366 L 9.36476 61.1155 L 8.61385 59.6789 L 7.85205 61.1155 L 7.1882 60.6475 \" fill=\"#191919\"/>\n",
       "<path class=\"atom-3\" d=\"M 67.6768 93.2513 L 70.2017 97.3324 Q 70.452 97.7351, 70.8546 98.4642 Q 71.2573 99.1934, 71.2791 99.2369 L 71.2791 93.2513 L 72.302 93.2513 L 72.302 100.956 L 71.2464 100.956 L 68.5366 96.4944 Q 68.221 95.972, 67.8836 95.3735 Q 67.5571 94.7749, 67.4592 94.5899 L 67.4592 100.956 L 66.458 100.956 L 66.458 93.2513 L 67.6768 93.2513 \" fill=\"#0000FF\"/>\n",
       "<path class=\"atom-3\" d=\"M 66.3655 101.727 L 67.4102 101.727 L 67.4102 105.003 L 71.3498 105.003 L 71.3498 101.727 L 72.3946 101.727 L 72.3946 109.432 L 71.3498 109.432 L 71.3498 105.873 L 67.4102 105.873 L 67.4102 109.432 L 66.3655 109.432 L 66.3655 101.727 \" fill=\"#0000FF\"/>\n",
       "<path class=\"atom-6\" d=\"M 139.906 97.0239 L 141.038 95.8703 L 139.536 95.5656 L 139.765 94.7929 L 141.147 95.4894 L 140.951 93.9767 L 141.767 93.9658 L 141.539 95.4785 L 142.942 94.8255 L 143.182 95.5656 L 141.658 95.8485 L 142.747 97.013 L 142.083 97.4918 L 141.332 96.0553 L 140.57 97.4918 L 139.906 97.0239 \" fill=\"#191919\"/>\n",
       "<path class=\"atom-7\" d=\"M 124.964 52.3314 L 126.096 51.1778 L 124.594 50.8731 L 124.823 50.1004 L 126.205 50.7969 L 126.009 49.2842 L 126.825 49.2733 L 126.597 50.786 L 128.001 50.133 L 128.24 50.8731 L 126.717 51.156 L 127.805 52.3205 L 127.141 52.7993 L 126.39 51.3628 L 125.628 52.7993 L 124.964 52.3314 \" fill=\"#191919\"/>\n",
       "<path class=\"atom-8\" d=\"M 98.9108 57.9652 L 101.436 62.0462 Q 101.686 62.4489, 102.089 63.1781 Q 102.491 63.9072, 102.513 63.9507 L 102.513 57.9652 L 103.536 57.9652 L 103.536 65.6702 L 102.48 65.6702 L 99.7706 61.2083 Q 99.455 60.6859, 99.1176 60.0873 Q 98.7911 59.4888, 98.6932 59.3038 L 98.6932 65.6702 L 97.692 65.6702 L 97.692 57.9652 L 98.9108 57.9652 \" fill=\"#0000FF\"/>\n",
       "<path class=\"atom-9\" d=\"M 49.9187 48.1372 L 52.4435 52.2183 Q 52.6938 52.6209, 53.0965 53.3501 Q 53.4992 54.0792, 53.5209 54.1227 L 53.5209 48.1372 L 54.5439 48.1372 L 54.5439 55.8422 L 53.4883 55.8422 L 50.7785 51.3803 Q 50.4629 50.8579, 50.1255 50.2593 Q 49.799 49.6608, 49.7011 49.4758 L 49.7011 55.8422 L 48.6998 55.8422 L 48.6998 48.1372 L 49.9187 48.1372 \" fill=\"#0000FF\"/>\n",
       "<path class=\"atom-10\" d=\"M 19.4587 40.275 L 20.5905 39.1215 L 19.0887 38.8167 L 19.3172 38.0441 L 20.6993 38.7406 L 20.5034 37.2279 L 21.3197 37.217 L 21.0911 38.7297 L 22.495 38.0767 L 22.7344 38.8167 L 21.2108 39.0997 L 22.2991 40.2642 L 21.6353 40.743 L 20.8843 39.3065 L 20.1225 40.743 L 19.4587 40.275 \" fill=\"#191919\"/>\n",
       "<path class=\"atom-10\" d=\"M 23.6595 37.3476 L 24.7042 37.3476 L 24.7042 40.6233 L 28.6438 40.6233 L 28.6438 37.3476 L 29.6886 37.3476 L 29.6886 45.0526 L 28.6438 45.0526 L 28.6438 41.4939 L 24.7042 41.4939 L 24.7042 45.0526 L 23.6595 45.0526 L 23.6595 37.3476 \" fill=\"#191919\"/>\n",
       "</svg>"
      ],
      "text/plain": [
       "<IPython.core.display.SVG object>"
      ]
     },
     "metadata": {},
     "output_type": "display_data"
    },
    {
     "name": "stdout",
     "output_type": "stream",
     "text": [
      "Bit 1189 ----------------------------------------------\n"
     ]
    },
    {
     "data": {
      "image/svg+xml": [
       "<svg xmlns=\"http://www.w3.org/2000/svg\" xmlns:rdkit=\"http://www.rdkit.org/xml\" xmlns:xlink=\"http://www.w3.org/1999/xlink\" version=\"1.1\" baseProfile=\"full\" xml:space=\"preserve\" width=\"150px\" height=\"150px\" viewBox=\"0 0 150 150\">\n",
       "<!-- END OF HEADER -->\n",
       "<rect style=\"opacity:1.0;fill:#FFFFFF;stroke:none\" width=\"150\" height=\"150\" x=\"0\" y=\"0\"> </rect>\n",
       "<ellipse cx=\"60.205\" cy=\"117.678\" rx=\"7.92211\" ry=\"7.92211\" style=\"fill:#9999E5;fill-rule:evenodd;stroke:#9999E5;stroke-width:2.0px;stroke-linecap:butt;stroke-linejoin:miter;stroke-opacity:1\"/>\n",
       "<path class=\"bond-0 atom-0 atom-1\" d=\"M 27.6771,110.45 L 43.941,114.064\" style=\"fill:none;fill-rule:evenodd;stroke:#FF0000;stroke-width:2.0px;stroke-linecap:butt;stroke-linejoin:miter;stroke-opacity:1\"/>\n",
       "<path class=\"bond-0 atom-0 atom-1\" d=\"M 43.941,114.064 L 60.205,117.678\" style=\"fill:none;fill-rule:evenodd;stroke:#000000;stroke-width:2.0px;stroke-linecap:butt;stroke-linejoin:miter;stroke-opacity:1\"/>\n",
       "<path class=\"bond-1 atom-1 atom-2\" d=\"M 60.205,117.678 L 86.9793,88.4865\" style=\"fill:none;fill-rule:evenodd;stroke:#000000;stroke-width:2.0px;stroke-linecap:butt;stroke-linejoin:miter;stroke-opacity:1\"/>\n",
       "<path class=\"bond-2 atom-2 atom-3\" d=\"M 86.9793,88.4865 L 113.754,59.2953\" style=\"fill:none;fill-rule:evenodd;stroke:#000000;stroke-width:2.0px;stroke-linecap:butt;stroke-linejoin:miter;stroke-opacity:1\"/>\n",
       "<path class=\"bond-2 atom-2 atom-3\" d=\"M 96.8337,89.4627 L 115.576,69.0288\" style=\"fill:none;fill-rule:evenodd;stroke:#000000;stroke-width:2.0px;stroke-linecap:butt;stroke-linejoin:miter;stroke-opacity:1\"/>\n",
       "<path class=\"bond-2 atom-2 atom-3\" d=\"M 85.1572,78.753 L 103.899,58.3191\" style=\"fill:none;fill-rule:evenodd;stroke:#000000;stroke-width:2.0px;stroke-linecap:butt;stroke-linejoin:miter;stroke-opacity:1\"/>\n",
       "<path class=\"bond-3 atom-3 atom-4\" d=\"M 113.754,59.2953 L 140.143,30.5239\" style=\"fill:none;fill-rule:evenodd;stroke:#E5E5E5;stroke-width:2.1px;stroke-linecap:butt;stroke-linejoin:miter;stroke-opacity:1\"/>\n",
       "<path class=\"atom-0\" d=\"M 6.81818 103.541 L 8.33923 103.541 L 8.33923 108.31 L 14.0748 108.31 L 14.0748 103.541 L 15.5959 103.541 L 15.5959 114.758 L 14.0748 114.758 L 14.0748 109.577 L 8.33923 109.577 L 8.33923 114.758 L 6.81818 114.758 L 6.81818 103.541 \" fill=\"#FF0000\"/>\n",
       "<path class=\"atom-0\" d=\"M 16.3881 109.118 Q 16.3881 106.424, 17.719 104.919 Q 19.0499 103.414, 21.5375 103.414 Q 24.025 103.414, 25.3559 104.919 Q 26.6868 106.424, 26.6868 109.118 Q 26.6868 111.843, 25.3401 113.396 Q 23.9933 114.933, 21.5375 114.933 Q 19.0658 114.933, 17.719 113.396 Q 16.3881 111.859, 16.3881 109.118 M 21.5375 113.665 Q 23.2486 113.665, 24.1676 112.524 Q 25.1024 111.368, 25.1024 109.118 Q 25.1024 106.916, 24.1676 105.806 Q 23.2486 104.682, 21.5375 104.682 Q 19.8263 104.682, 18.8915 105.791 Q 17.9725 106.9, 17.9725 109.118 Q 17.9725 111.384, 18.8915 112.524 Q 19.8263 113.665, 21.5375 113.665 \" fill=\"#FF0000\"/>\n",
       "<path class=\"atom-4\" d=\"M 138.413 28.8523 L 140.061 27.1728 L 137.874 26.7292 L 138.207 25.6042 L 140.219 26.6183 L 139.934 24.4159 L 141.122 24.4001 L 140.789 26.6024 L 142.833 25.6518 L 143.182 26.7292 L 140.964 27.1411 L 142.548 28.8365 L 141.582 29.5336 L 140.488 27.4422 L 139.379 29.5336 L 138.413 28.8523 \" fill=\"#191919\"/>\n",
       "</svg>"
      ],
      "text/plain": [
       "<IPython.core.display.SVG object>"
      ]
     },
     "metadata": {},
     "output_type": "display_data"
    },
    {
     "name": "stdout",
     "output_type": "stream",
     "text": [
      "Bit 1188 ----------------------------------------------\n"
     ]
    },
    {
     "data": {
      "image/svg+xml": [
       "<svg xmlns=\"http://www.w3.org/2000/svg\" xmlns:rdkit=\"http://www.rdkit.org/xml\" xmlns:xlink=\"http://www.w3.org/1999/xlink\" version=\"1.1\" baseProfile=\"full\" xml:space=\"preserve\" width=\"150px\" height=\"150px\" viewBox=\"0 0 150 150\">\n",
       "<!-- END OF HEADER -->\n",
       "<rect style=\"opacity:1.0;fill:#FFFFFF;stroke:none\" width=\"150\" height=\"150\" x=\"0\" y=\"0\"> </rect>\n",
       "<ellipse cx=\"67.7194\" cy=\"65.4578\" rx=\"5.87052\" ry=\"5.87052\" style=\"fill:#9999E5;fill-rule:evenodd;stroke:#9999E5;stroke-width:2.0px;stroke-linecap:butt;stroke-linejoin:miter;stroke-opacity:1\"/>\n",
       "<ellipse cx=\"52.9283\" cy=\"90.8112\" rx=\"5.87052\" ry=\"5.87052\" style=\"fill:#E5E533;fill-rule:evenodd;stroke:#E5E533;stroke-width:2.0px;stroke-linecap:butt;stroke-linejoin:miter;stroke-opacity:1\"/>\n",
       "<ellipse cx=\"23.576\" cy=\"90.6784\" rx=\"5.87052\" ry=\"5.87052\" style=\"fill:#E5E533;fill-rule:evenodd;stroke:#E5E533;stroke-width:2.0px;stroke-linecap:butt;stroke-linejoin:miter;stroke-opacity:1\"/>\n",
       "<ellipse cx=\"23.806\" cy=\"39.8387\" rx=\"5.87052\" ry=\"5.87052\" style=\"fill:#E5E533;fill-rule:evenodd;stroke:#E5E533;stroke-width:2.0px;stroke-linecap:butt;stroke-linejoin:miter;stroke-opacity:1\"/>\n",
       "<ellipse cx=\"53.1583\" cy=\"39.9715\" rx=\"5.87052\" ry=\"5.87052\" style=\"fill:#E5E533;fill-rule:evenodd;stroke:#E5E533;stroke-width:2.0px;stroke-linecap:butt;stroke-linejoin:miter;stroke-opacity:1\"/>\n",
       "<path class=\"bond-0 atom-0 atom-1\" d=\"M 111.633,91.0768 L 105.749,80.7788\" style=\"fill:none;fill-rule:evenodd;stroke:#000000;stroke-width:2.0px;stroke-linecap:butt;stroke-linejoin:miter;stroke-opacity:1\"/>\n",
       "<path class=\"bond-0 atom-0 atom-1\" d=\"M 105.749,80.7788 L 99.8656,70.4807\" style=\"fill:none;fill-rule:evenodd;stroke:#0000FF;stroke-width:2.0px;stroke-linecap:butt;stroke-linejoin:miter;stroke-opacity:1\"/>\n",
       "<path class=\"bond-1 atom-1 atom-2\" d=\"M 99.9246,60.7004 L 105.894,50.4688\" style=\"fill:none;fill-rule:evenodd;stroke:#0000FF;stroke-width:2.0px;stroke-linecap:butt;stroke-linejoin:miter;stroke-opacity:1\"/>\n",
       "<path class=\"bond-1 atom-1 atom-2\" d=\"M 105.894,50.4688 L 111.863,40.2371\" style=\"fill:none;fill-rule:evenodd;stroke:#000000;stroke-width:2.0px;stroke-linecap:butt;stroke-linejoin:miter;stroke-opacity:1\"/>\n",
       "<path class=\"bond-3 atom-1 atom-4\" d=\"M 93.1854,65.573 L 80.4524,65.5154\" style=\"fill:none;fill-rule:evenodd;stroke:#0000FF;stroke-width:2.0px;stroke-linecap:butt;stroke-linejoin:miter;stroke-opacity:1\"/>\n",
       "<path class=\"bond-3 atom-1 atom-4\" d=\"M 80.4524,65.5154 L 67.7194,65.4578\" style=\"fill:none;fill-rule:evenodd;stroke:#000000;stroke-width:2.0px;stroke-linecap:butt;stroke-linejoin:miter;stroke-opacity:1\"/>\n",
       "<path class=\"bond-2 atom-2 atom-3\" d=\"M 111.863,40.2371 L 138.515,40.3577\" style=\"fill:none;fill-rule:evenodd;stroke:#E5E5E5;stroke-width:1.6px;stroke-linecap:butt;stroke-linejoin:miter;stroke-opacity:1\"/>\n",
       "<path class=\"bond-4 atom-4 atom-5\" d=\"M 67.7194,65.4578 L 52.9283,90.8112\" style=\"fill:none;fill-rule:evenodd;stroke:#000000;stroke-width:2.0px;stroke-linecap:butt;stroke-linejoin:miter;stroke-opacity:1\"/>\n",
       "<path class=\"bond-4 atom-4 atom-5\" d=\"M 60.4301,66.3025 L 50.0763,84.0499\" style=\"fill:none;fill-rule:evenodd;stroke:#000000;stroke-width:2.0px;stroke-linecap:butt;stroke-linejoin:miter;stroke-opacity:1\"/>\n",
       "<path class=\"bond-9 atom-10 atom-4\" d=\"M 55.9522,44.8617 L 61.8358,55.1597\" style=\"fill:none;fill-rule:evenodd;stroke:#0000FF;stroke-width:2.0px;stroke-linecap:butt;stroke-linejoin:miter;stroke-opacity:1\"/>\n",
       "<path class=\"bond-9 atom-10 atom-4\" d=\"M 61.8358,55.1597 L 67.7194,65.4578\" style=\"fill:none;fill-rule:evenodd;stroke:#000000;stroke-width:2.0px;stroke-linecap:butt;stroke-linejoin:miter;stroke-opacity:1\"/>\n",
       "<path class=\"bond-5 atom-5 atom-6\" d=\"M 52.9283,90.8112 L 23.576,90.6784\" style=\"fill:none;fill-rule:evenodd;stroke:#000000;stroke-width:2.0px;stroke-linecap:butt;stroke-linejoin:miter;stroke-opacity:1\"/>\n",
       "<path class=\"bond-6 atom-6 atom-7\" d=\"M 23.576,90.6784 L 11.4852,111.403\" style=\"fill:none;fill-rule:evenodd;stroke:#E5E5E5;stroke-width:1.6px;stroke-linecap:butt;stroke-linejoin:miter;stroke-opacity:1\"/>\n",
       "<path class=\"bond-10 atom-8 atom-6\" d=\"M 9.1926,65.5033 L 23.576,90.6784\" style=\"fill:none;fill-rule:evenodd;stroke:#E5E5E5;stroke-width:1.6px;stroke-linecap:butt;stroke-linejoin:miter;stroke-opacity:1\"/>\n",
       "<path class=\"bond-10 atom-8 atom-6\" d=\"M 16.4474,66.3673 L 26.5157,83.9899\" style=\"fill:none;fill-rule:evenodd;stroke:#E5E5E5;stroke-width:1.6px;stroke-linecap:butt;stroke-linejoin:miter;stroke-opacity:1\"/>\n",
       "<path class=\"bond-7 atom-8 atom-9\" d=\"M 11.7153,60.5633 L 23.806,39.8387\" style=\"fill:none;fill-rule:evenodd;stroke:#E5E5E5;stroke-width:1.6px;stroke-linecap:butt;stroke-linejoin:miter;stroke-opacity:1\"/>\n",
       "<path class=\"bond-8 atom-9 atom-10\" d=\"M 23.806,39.8387 L 36.539,39.8963\" style=\"fill:none;fill-rule:evenodd;stroke:#000000;stroke-width:2.0px;stroke-linecap:butt;stroke-linejoin:miter;stroke-opacity:1\"/>\n",
       "<path class=\"bond-8 atom-9 atom-10\" d=\"M 36.539,39.8963 L 49.272,39.9539\" style=\"fill:none;fill-rule:evenodd;stroke:#0000FF;stroke-width:2.0px;stroke-linecap:butt;stroke-linejoin:miter;stroke-opacity:1\"/>\n",
       "<path class=\"bond-8 atom-9 atom-10\" d=\"M 27.5993,45.7265 L 36.5124,45.7668\" style=\"fill:none;fill-rule:evenodd;stroke:#000000;stroke-width:2.0px;stroke-linecap:butt;stroke-linejoin:miter;stroke-opacity:1\"/>\n",
       "<path class=\"bond-8 atom-9 atom-10\" d=\"M 36.5124,45.7668 L 45.4255,45.8071\" style=\"fill:none;fill-rule:evenodd;stroke:#0000FF;stroke-width:2.0px;stroke-linecap:butt;stroke-linejoin:miter;stroke-opacity:1\"/>\n",
       "<path class=\"atom-1\" d=\"M 95.2343 61.4342 L 97.9582 65.8371 Q 98.2282 66.2715, 98.6626 67.0582 Q 99.0971 67.8448, 99.1205 67.8918 L 99.1205 61.4342 L 100.224 61.4342 L 100.224 69.7469 L 99.0853 69.7469 L 96.1618 64.9331 Q 95.8213 64.3695, 95.4573 63.7237 Q 95.1051 63.078, 94.9994 62.8784 L 94.9994 69.7469 L 93.9193 69.7469 L 93.9193 61.4342 L 95.2343 61.4342 \" fill=\"#0000FF\"/>\n",
       "<path class=\"atom-3\" d=\"M 139.648 39.4424 L 140.869 38.1978 L 139.249 37.8691 L 139.495 37.0355 L 140.986 37.7869 L 140.775 36.1549 L 141.655 36.1432 L 141.409 37.7752 L 142.924 37.0707 L 143.182 37.8691 L 141.538 38.1744 L 142.712 39.4307 L 141.996 39.9473 L 141.186 38.3974 L 140.364 39.9473 L 139.648 39.4424 \" fill=\"#191919\"/>\n",
       "<path class=\"atom-7\" d=\"M 7.21738 115.104 L 8.43845 113.86 L 6.81818 113.531 L 7.06474 112.697 L 8.55586 113.449 L 8.34452 111.817 L 9.22509 111.805 L 8.97853 113.437 L 10.4931 112.733 L 10.7514 113.531 L 9.10768 113.836 L 10.2818 115.093 L 9.56559 115.609 L 8.75545 114.059 L 7.93358 115.609 L 7.21738 115.104 \" fill=\"#191919\"/>\n",
       "<path class=\"atom-8\" d=\"M 7.44741 64.2646 L 8.66847 63.02 L 7.04821 62.6913 L 7.29477 61.8577 L 8.78588 62.6091 L 8.57455 60.9771 L 9.45512 60.9654 L 9.20856 62.5974 L 10.7232 61.8929 L 10.9815 62.6913 L 9.33771 62.9966 L 10.5118 64.2529 L 9.79561 64.7695 L 8.98548 63.2196 L 8.16361 64.7695 L 7.44741 64.2646 \" fill=\"#191919\"/>\n",
       "<path class=\"atom-10\" d=\"M 51.3208 35.8152 L 54.0447 40.2181 Q 54.3148 40.6525, 54.7492 41.4391 Q 55.1836 42.2258, 55.2071 42.2728 L 55.2071 35.8152 L 56.3108 35.8152 L 56.3108 44.1278 L 55.1719 44.1278 L 52.2484 39.314 Q 51.9079 38.7504, 51.5439 38.1047 Q 51.1917 37.4589, 51.086 37.2593 L 51.086 44.1278 L 50.0058 44.1278 L 50.0058 35.8152 L 51.3208 35.8152 \" fill=\"#0000FF\"/>\n",
       "</svg>"
      ],
      "text/plain": [
       "<IPython.core.display.SVG object>"
      ]
     },
     "metadata": {},
     "output_type": "display_data"
    },
    {
     "name": "stdout",
     "output_type": "stream",
     "text": [
      "Bit 1187 ----------------------------------------------\n"
     ]
    },
    {
     "data": {
      "image/svg+xml": [
       "<svg xmlns=\"http://www.w3.org/2000/svg\" xmlns:rdkit=\"http://www.rdkit.org/xml\" xmlns:xlink=\"http://www.w3.org/1999/xlink\" version=\"1.1\" baseProfile=\"full\" xml:space=\"preserve\" width=\"150px\" height=\"150px\" viewBox=\"0 0 150 150\">\n",
       "<!-- END OF HEADER -->\n",
       "<rect style=\"opacity:1.0;fill:#FFFFFF;stroke:none\" width=\"150\" height=\"150\" x=\"0\" y=\"0\"> </rect>\n",
       "<ellipse cx=\"104.32\" cy=\"70.3141\" rx=\"5.57681\" ry=\"5.57681\" style=\"fill:#E5E533;fill-rule:evenodd;stroke:#E5E533;stroke-width:2.0px;stroke-linecap:butt;stroke-linejoin:miter;stroke-opacity:1\"/>\n",
       "<ellipse cx=\"78.761\" cy=\"59.166\" rx=\"5.57681\" ry=\"5.57681\" style=\"fill:#E5E533;fill-rule:evenodd;stroke:#E5E533;stroke-width:2.0px;stroke-linecap:butt;stroke-linejoin:miter;stroke-opacity:1\"/>\n",
       "<ellipse cx=\"54.7191\" cy=\"73.2906\" rx=\"5.57681\" ry=\"5.57681\" style=\"fill:#9999E5;fill-rule:evenodd;stroke:#9999E5;stroke-width:2.0px;stroke-linecap:butt;stroke-linejoin:miter;stroke-opacity:1\"/>\n",
       "<ellipse cx=\"54.9304\" cy=\"101.174\" rx=\"5.57681\" ry=\"5.57681\" style=\"fill:#CCCCCC;fill-rule:evenodd;stroke:#CCCCCC;stroke-width:2.0px;stroke-linecap:butt;stroke-linejoin:miter;stroke-opacity:1\"/>\n",
       "<ellipse cx=\"30.8885\" cy=\"115.299\" rx=\"5.57681\" ry=\"5.57681\" style=\"fill:#CCCCCC;fill-rule:evenodd;stroke:#CCCCCC;stroke-width:2.0px;stroke-linecap:butt;stroke-linejoin:miter;stroke-opacity:1\"/>\n",
       "<ellipse cx=\"79.1837\" cy=\"114.933\" rx=\"5.57681\" ry=\"5.57681\" style=\"fill:#CCCCCC;fill-rule:evenodd;stroke:#CCCCCC;stroke-width:2.0px;stroke-linecap:butt;stroke-linejoin:miter;stroke-opacity:1\"/>\n",
       "<ellipse cx=\"81.4655\" cy=\"31.4134\" rx=\"5.57681\" ry=\"5.57681\" style=\"fill:#E5E533;fill-rule:evenodd;stroke:#E5E533;stroke-width:2.0px;stroke-linecap:butt;stroke-linejoin:miter;stroke-opacity:1\"/>\n",
       "<path class=\"bond-0 atom-0 atom-1\" d=\"M 120.472,47.8969 L 105.915,64.3119\" style=\"fill:none;fill-rule:evenodd;stroke:#E5E5E5;stroke-width:1.5px;stroke-linecap:butt;stroke-linejoin:miter;stroke-opacity:1\"/>\n",
       "<path class=\"bond-0 atom-0 atom-1\" d=\"M 124.644,51.597 L 110.088,68.012\" style=\"fill:none;fill-rule:evenodd;stroke:#E5E5E5;stroke-width:1.5px;stroke-linecap:butt;stroke-linejoin:miter;stroke-opacity:1;stroke-dasharray:6,6\"/>\n",
       "<path class=\"bond-1 atom-1 atom-2\" d=\"M 100.628,68.7038 L 82.3522,60.7324\" style=\"fill:none;fill-rule:evenodd;stroke:#0000FF;stroke-width:2.0px;stroke-linecap:butt;stroke-linejoin:miter;stroke-opacity:1\"/>\n",
       "<path class=\"bond-1 atom-1 atom-2\" d=\"M 100.116,62.3963 L 87.3231,56.8164\" style=\"fill:none;fill-rule:evenodd;stroke:#0000FF;stroke-width:2.0px;stroke-linecap:butt;stroke-linejoin:miter;stroke-opacity:1;stroke-dasharray:6,6\"/>\n",
       "<path class=\"bond-2 atom-2 atom-3\" d=\"M 75.0692,61.335 L 64.8941,67.3128\" style=\"fill:none;fill-rule:evenodd;stroke:#0000FF;stroke-width:2.0px;stroke-linecap:butt;stroke-linejoin:miter;stroke-opacity:1\"/>\n",
       "<path class=\"bond-2 atom-2 atom-3\" d=\"M 64.8941,67.3128 L 54.7191,73.2906\" style=\"fill:none;fill-rule:evenodd;stroke:#000000;stroke-width:2.0px;stroke-linecap:butt;stroke-linejoin:miter;stroke-opacity:1\"/>\n",
       "<path class=\"bond-7 atom-2 atom-9\" d=\"M 79.2137,54.5205 L 80.3396,42.9669\" style=\"fill:none;fill-rule:evenodd;stroke:#0000FF;stroke-width:2.0px;stroke-linecap:butt;stroke-linejoin:miter;stroke-opacity:1\"/>\n",
       "<path class=\"bond-7 atom-2 atom-9\" d=\"M 80.3396,42.9669 L 81.4655,31.4134\" style=\"fill:none;fill-rule:evenodd;stroke:#000000;stroke-width:2.0px;stroke-linecap:butt;stroke-linejoin:miter;stroke-opacity:1\"/>\n",
       "<path class=\"bond-7 atom-2 atom-9\" d=\"M 85.102,51.5953 L 85.8901,43.5078\" style=\"fill:none;fill-rule:evenodd;stroke:#0000FF;stroke-width:2.0px;stroke-linecap:butt;stroke-linejoin:miter;stroke-opacity:1;stroke-dasharray:6,6\"/>\n",
       "<path class=\"bond-7 atom-2 atom-9\" d=\"M 85.8901,43.5078 L 86.6782,35.4203\" style=\"fill:none;fill-rule:evenodd;stroke:#000000;stroke-width:2.0px;stroke-linecap:butt;stroke-linejoin:miter;stroke-opacity:1;stroke-dasharray:6,6\"/>\n",
       "<path class=\"bond-3 atom-3 atom-4\" d=\"M 54.7191,73.2906 L 54.9304,101.174\" style=\"fill:none;fill-rule:evenodd;stroke:#000000;stroke-width:2.0px;stroke-linecap:butt;stroke-linejoin:miter;stroke-opacity:1\"/>\n",
       "<path class=\"bond-4 atom-4 atom-5\" d=\"M 54.9304,101.174 L 30.8885,115.299\" style=\"fill:none;fill-rule:evenodd;stroke:#000000;stroke-width:2.0px;stroke-linecap:butt;stroke-linejoin:miter;stroke-opacity:1\"/>\n",
       "<path class=\"bond-9 atom-8 atom-4\" d=\"M 79.1837,114.933 L 54.9304,101.174\" style=\"fill:none;fill-rule:evenodd;stroke:#000000;stroke-width:2.0px;stroke-linecap:butt;stroke-linejoin:miter;stroke-opacity:1\"/>\n",
       "<path class=\"bond-5 atom-5 atom-6\" d=\"M 30.8885,115.299 L 31.0641,138.469\" style=\"fill:none;fill-rule:evenodd;stroke:#E5E5E5;stroke-width:1.5px;stroke-linecap:butt;stroke-linejoin:miter;stroke-opacity:1\"/>\n",
       "<path class=\"bond-6 atom-7 atom-8\" d=\"M 79.3593,138.103 L 79.1837,114.933\" style=\"fill:none;fill-rule:evenodd;stroke:#E5E5E5;stroke-width:1.5px;stroke-linecap:butt;stroke-linejoin:miter;stroke-opacity:1\"/>\n",
       "<path class=\"bond-8 atom-9 atom-10\" d=\"M 83.5234,29.5319 L 64.9791,9.2476\" style=\"fill:none;fill-rule:evenodd;stroke:#E5E5E5;stroke-width:1.5px;stroke-linecap:butt;stroke-linejoin:miter;stroke-opacity:1\"/>\n",
       "<path class=\"bond-8 atom-9 atom-10\" d=\"M 79.4075,33.2948 L 60.8631,13.0105\" style=\"fill:none;fill-rule:evenodd;stroke:#E5E5E5;stroke-width:1.5px;stroke-linecap:butt;stroke-linejoin:miter;stroke-opacity:1;stroke-dasharray:6,6\"/>\n",
       "<path class=\"bond-10 atom-11 atom-9\" d=\"M 106.755,22.982 L 80.8651,28.6904\" style=\"fill:none;fill-rule:evenodd;stroke:#E5E5E5;stroke-width:1.5px;stroke-linecap:butt;stroke-linejoin:miter;stroke-opacity:1\"/>\n",
       "<path class=\"bond-10 atom-11 atom-9\" d=\"M 107.955,28.428 L 82.0659,34.1364\" style=\"fill:none;fill-rule:evenodd;stroke:#E5E5E5;stroke-width:1.5px;stroke-linecap:butt;stroke-linejoin:miter;stroke-opacity:1;stroke-dasharray:6,6\"/>\n",
       "<path class=\"atom-0\" d=\"M 121.331 48.5702 L 122.491 47.3879 L 120.952 47.0756 L 121.186 46.2837 L 122.603 46.9976 L 122.402 45.4472 L 123.238 45.4361 L 123.004 46.9864 L 124.443 46.3172 L 124.688 47.0756 L 123.127 47.3656 L 124.242 48.5591 L 123.562 49.0498 L 122.792 47.5776 L 122.011 49.0498 L 121.331 48.5702 \" fill=\"#191919\"/>\n",
       "<path class=\"atom-1\" d=\"M 102.574 66.3657 L 105.162 70.5483 Q 105.418 70.961, 105.831 71.7083 Q 106.244 72.4556, 106.266 72.5002 L 106.266 66.3657 L 107.314 66.3657 L 107.314 74.2625 L 106.232 74.2625 L 103.455 69.6895 Q 103.132 69.1541, 102.786 68.5406 Q 102.451 67.9272, 102.351 67.7376 L 102.351 74.2625 L 101.325 74.2625 L 101.325 66.3657 L 102.574 66.3657 \" fill=\"#0000FF\"/>\n",
       "<path class=\"atom-2\" d=\"M 77.0155 55.2176 L 79.6031 59.4002 Q 79.8597 59.8129, 80.2724 60.5602 Q 80.685 61.3075, 80.7073 61.3521 L 80.7073 55.2176 L 81.7558 55.2176 L 81.7558 63.1144 L 80.6739 63.1144 L 77.8966 58.5414 Q 77.5732 58.006, 77.2274 57.3926 Q 76.8928 56.7791, 76.7924 56.5895 L 76.7924 63.1144 L 75.7663 63.1144 L 75.7663 55.2176 L 77.0155 55.2176 \" fill=\"#0000FF\"/>\n",
       "<path class=\"atom-6\" d=\"M 29.6108 142.301 L 30.7708 141.118 L 29.2316 140.806 L 29.4658 140.014 L 30.8823 140.728 L 30.6815 139.178 L 31.5181 139.167 L 31.2838 140.717 L 32.7226 140.048 L 32.968 140.806 L 31.4065 141.096 L 32.5219 142.29 L 31.8415 142.78 L 31.0719 141.308 L 30.2912 142.78 L 29.6108 142.301 \" fill=\"#191919\"/>\n",
       "<path class=\"atom-7\" d=\"M 77.906 141.935 L 79.066 140.752 L 77.5268 140.44 L 77.761 139.648 L 79.1775 140.362 L 78.9768 138.812 L 79.8133 138.8 L 79.5791 140.351 L 81.0179 139.682 L 81.2633 140.44 L 79.7017 140.73 L 80.8171 141.923 L 80.1367 142.414 L 79.3671 140.942 L 78.5864 142.414 L 77.906 141.935 \" fill=\"#191919\"/>\n",
       "<path class=\"atom-10\" d=\"M 61.1619 9.95235 L 62.3218 8.77007 L 60.7826 8.45776 L 61.0169 7.66586 L 62.4334 8.37969 L 62.2326 6.82934 L 63.0691 6.81818 L 62.8349 8.36854 L 64.2737 7.69932 L 64.5191 8.45776 L 62.9576 8.74776 L 64.0729 9.9412 L 63.3926 10.432 L 62.623 8.95968 L 61.8422 10.432 L 61.1619 9.95235 \" fill=\"#191919\"/>\n",
       "<path class=\"atom-11\" d=\"M 107.206 24.5283 L 108.366 23.346 L 106.827 23.0337 L 107.061 22.2418 L 108.478 22.9556 L 108.277 21.4053 L 109.114 21.3941 L 108.88 22.9445 L 110.318 22.2752 L 110.564 23.0337 L 109.002 23.3237 L 110.118 24.5171 L 109.437 25.0079 L 108.668 23.5356 L 107.887 25.0079 L 107.206 24.5283 \" fill=\"#191919\"/>\n",
       "</svg>"
      ],
      "text/plain": [
       "<IPython.core.display.SVG object>"
      ]
     },
     "metadata": {},
     "output_type": "display_data"
    },
    {
     "name": "stdout",
     "output_type": "stream",
     "text": [
      "Bit 1186 ----------------------------------------------\n"
     ]
    },
    {
     "data": {
      "image/svg+xml": [
       "<svg xmlns=\"http://www.w3.org/2000/svg\" xmlns:rdkit=\"http://www.rdkit.org/xml\" xmlns:xlink=\"http://www.w3.org/1999/xlink\" version=\"1.1\" baseProfile=\"full\" xml:space=\"preserve\" width=\"150px\" height=\"150px\" viewBox=\"0 0 150 150\">\n",
       "<!-- END OF HEADER -->\n",
       "<rect style=\"opacity:1.0;fill:#FFFFFF;stroke:none\" width=\"150\" height=\"150\" x=\"0\" y=\"0\"> </rect>\n",
       "<ellipse cx=\"65.9836\" cy=\"42.7556\" rx=\"6.3065\" ry=\"6.3065\" style=\"fill:#E5E533;fill-rule:evenodd;stroke:#E5E533;stroke-width:2.0px;stroke-linecap:butt;stroke-linejoin:miter;stroke-opacity:1\"/>\n",
       "<ellipse cx=\"94.6356\" cy=\"55.9221\" rx=\"6.3065\" ry=\"6.3065\" style=\"fill:#E5E533;fill-rule:evenodd;stroke:#E5E533;stroke-width:2.0px;stroke-linecap:butt;stroke-linejoin:miter;stroke-opacity:1\"/>\n",
       "<ellipse cx=\"97.5591\" cy=\"87.3188\" rx=\"6.3065\" ry=\"6.3065\" style=\"fill:#9999E5;fill-rule:evenodd;stroke:#9999E5;stroke-width:2.0px;stroke-linecap:butt;stroke-linejoin:miter;stroke-opacity:1\"/>\n",
       "<ellipse cx=\"71.8305\" cy=\"105.549\" rx=\"6.3065\" ry=\"6.3065\" style=\"fill:#E5E533;fill-rule:evenodd;stroke:#E5E533;stroke-width:2.0px;stroke-linecap:butt;stroke-linejoin:miter;stroke-opacity:1\"/>\n",
       "<ellipse cx=\"68.1623\" cy=\"136.867\" rx=\"6.3065\" ry=\"6.3065\" style=\"fill:#E5E533;fill-rule:evenodd;stroke:#E5E533;stroke-width:2.0px;stroke-linecap:butt;stroke-linejoin:miter;stroke-opacity:1\"/>\n",
       "<ellipse cx=\"43.1784\" cy=\"92.3824\" rx=\"6.3065\" ry=\"6.3065\" style=\"fill:#E5E533;fill-rule:evenodd;stroke:#E5E533;stroke-width:2.0px;stroke-linecap:butt;stroke-linejoin:miter;stroke-opacity:1\"/>\n",
       "<path class=\"bond-0 atom-0 atom-1\" d=\"M 43.156,58.9302 L 65.9836,42.7556\" style=\"fill:none;fill-rule:evenodd;stroke:#E5E5E5;stroke-width:1.7px;stroke-linecap:butt;stroke-linejoin:miter;stroke-opacity:1\"/>\n",
       "<path class=\"bond-9 atom-10 atom-0\" d=\"M 43.1784,92.3824 L 40.2861,61.3199\" style=\"fill:none;fill-rule:evenodd;stroke:#E5E5E5;stroke-width:1.7px;stroke-linecap:butt;stroke-linejoin:miter;stroke-opacity:1\"/>\n",
       "<path class=\"bond-9 atom-10 atom-0\" d=\"M 49.0239,87.1383 L 46.9993,65.3946\" style=\"fill:none;fill-rule:evenodd;stroke:#E5E5E5;stroke-width:1.7px;stroke-linecap:butt;stroke-linejoin:miter;stroke-opacity:1\"/>\n",
       "<path class=\"bond-1 atom-1 atom-2\" d=\"M 65.9836,42.7556 L 63.0913,11.6931\" style=\"fill:none;fill-rule:evenodd;stroke:#E5E5E5;stroke-width:1.7px;stroke-linecap:butt;stroke-linejoin:miter;stroke-opacity:1\"/>\n",
       "<path class=\"bond-2 atom-1 atom-3\" d=\"M 65.9836,42.7556 L 94.6356,55.9221\" style=\"fill:none;fill-rule:evenodd;stroke:#000000;stroke-width:2.0px;stroke-linecap:butt;stroke-linejoin:miter;stroke-opacity:1\"/>\n",
       "<path class=\"bond-2 atom-1 atom-3\" d=\"M 67.6481,50.4609 L 87.7045,59.6775\" style=\"fill:none;fill-rule:evenodd;stroke:#000000;stroke-width:2.0px;stroke-linecap:butt;stroke-linejoin:miter;stroke-opacity:1\"/>\n",
       "<path class=\"bond-3 atom-3 atom-4\" d=\"M 94.6356,55.9221 L 97.5591,87.3188\" style=\"fill:none;fill-rule:evenodd;stroke:#000000;stroke-width:2.0px;stroke-linecap:butt;stroke-linejoin:miter;stroke-opacity:1\"/>\n",
       "<path class=\"bond-4 atom-4 atom-5\" d=\"M 96.2424,90.184 L 108.125,95.6443\" style=\"fill:none;fill-rule:evenodd;stroke:#000000;stroke-width:2.0px;stroke-linecap:butt;stroke-linejoin:miter;stroke-opacity:1\"/>\n",
       "<path class=\"bond-4 atom-4 atom-5\" d=\"M 108.125,95.6443 L 120.007,101.105\" style=\"fill:none;fill-rule:evenodd;stroke:#FF0000;stroke-width:2.0px;stroke-linecap:butt;stroke-linejoin:miter;stroke-opacity:1\"/>\n",
       "<path class=\"bond-4 atom-4 atom-5\" d=\"M 98.8757,84.4536 L 110.758,89.9139\" style=\"fill:none;fill-rule:evenodd;stroke:#000000;stroke-width:2.0px;stroke-linecap:butt;stroke-linejoin:miter;stroke-opacity:1\"/>\n",
       "<path class=\"bond-4 atom-4 atom-5\" d=\"M 110.758,89.9139 L 122.64,95.3742\" style=\"fill:none;fill-rule:evenodd;stroke:#FF0000;stroke-width:2.0px;stroke-linecap:butt;stroke-linejoin:miter;stroke-opacity:1\"/>\n",
       "<path class=\"bond-5 atom-4 atom-6\" d=\"M 97.5591,87.3188 L 86.7822,94.9548\" style=\"fill:none;fill-rule:evenodd;stroke:#000000;stroke-width:2.0px;stroke-linecap:butt;stroke-linejoin:miter;stroke-opacity:1\"/>\n",
       "<path class=\"bond-5 atom-4 atom-6\" d=\"M 86.7822,94.9548 L 76.0054,102.591\" style=\"fill:none;fill-rule:evenodd;stroke:#0000FF;stroke-width:2.0px;stroke-linecap:butt;stroke-linejoin:miter;stroke-opacity:1\"/>\n",
       "<path class=\"bond-6 atom-6 atom-7\" d=\"M 71.2152,110.802 L 68.7621,131.746\" style=\"fill:none;fill-rule:evenodd;stroke:#0000FF;stroke-width:2.0px;stroke-linecap:butt;stroke-linejoin:miter;stroke-opacity:1\"/>\n",
       "<path class=\"bond-10 atom-10 atom-6\" d=\"M 43.1784,92.3824 L 55.417,98.0064\" style=\"fill:none;fill-rule:evenodd;stroke:#000000;stroke-width:2.0px;stroke-linecap:butt;stroke-linejoin:miter;stroke-opacity:1\"/>\n",
       "<path class=\"bond-10 atom-10 atom-6\" d=\"M 55.417,98.0064 L 67.6556,103.63\" style=\"fill:none;fill-rule:evenodd;stroke:#0000FF;stroke-width:2.0px;stroke-linecap:butt;stroke-linejoin:miter;stroke-opacity:1\"/>\n",
       "<path class=\"bond-7 atom-7 atom-8\" d=\"M 63.3685,134.611 L 39.4188,139.405\" style=\"fill:none;fill-rule:evenodd;stroke:#E5E5E5;stroke-width:1.7px;stroke-linecap:butt;stroke-linejoin:miter;stroke-opacity:1\"/>\n",
       "<path class=\"bond-7 atom-7 atom-8\" d=\"M 64.6063,140.795 L 40.6567,145.589\" style=\"fill:none;fill-rule:evenodd;stroke:#E5E5E5;stroke-width:1.7px;stroke-linecap:butt;stroke-linejoin:miter;stroke-opacity:1;stroke-dasharray:6,6\"/>\n",
       "<path class=\"bond-8 atom-9 atom-10\" d=\"M 24.7033,112.417 L 43.1784,92.3824\" style=\"fill:none;fill-rule:evenodd;stroke:#E5E5E5;stroke-width:1.7px;stroke-linecap:butt;stroke-linejoin:miter;stroke-opacity:1\"/>\n",
       "<path class=\"atom-0\" d=\"M 38.5711 59.9893 L 39.8829 58.6523 L 38.1423 58.2991 L 38.4072 57.4036 L 40.009 58.2108 L 39.782 56.4576 L 40.728 56.445 L 40.4631 58.1982 L 42.0902 57.4414 L 42.3677 58.2991 L 40.6018 58.627 L 41.8631 59.9766 L 41.0937 60.5316 L 40.2234 58.8667 L 39.3405 60.5316 L 38.5711 59.9893 \" fill=\"#191919\"/>\n",
       "<path class=\"atom-2\" d=\"M 61.3763 10.3624 L 62.6881 9.02546 L 60.9475 8.67229 L 61.2123 7.77677 L 62.8142 8.584 L 62.5872 6.83079 L 63.5331 6.81818 L 63.2683 8.57139 L 64.8953 7.81461 L 65.1728 8.67229 L 63.407 9.00023 L 64.6683 10.3498 L 63.8989 10.9048 L 63.0286 9.23988 L 62.1457 10.9048 L 61.3763 10.3624 \" fill=\"#191919\"/>\n",
       "<path class=\"atom-5\" d=\"M 122.112 100.511 Q 122.112 98.3664, 123.171 97.1682 Q 124.231 95.9699, 126.211 95.9699 Q 128.191 95.9699, 129.251 97.1682 Q 130.31 98.3664, 130.31 100.511 Q 130.31 102.68, 129.238 103.916 Q 128.166 105.14, 126.211 105.14 Q 124.244 105.14, 123.171 103.916 Q 122.112 102.693, 122.112 100.511 M 126.211 104.131 Q 127.573 104.131, 128.305 103.222 Q 129.049 102.302, 129.049 100.511 Q 129.049 98.7574, 128.305 97.8745 Q 127.573 96.979, 126.211 96.979 Q 124.849 96.979, 124.105 97.8619 Q 123.373 98.7448, 123.373 100.511 Q 123.373 102.314, 124.105 103.222 Q 124.849 104.131, 126.211 104.131 \" fill=\"#FF0000\"/>\n",
       "<path class=\"atom-6\" d=\"M 69.8565 101.084 L 72.7828 105.814 Q 73.0729 106.28, 73.5395 107.126 Q 74.0062 107.971, 74.0315 108.021 L 74.0315 101.084 L 75.2171 101.084 L 75.2171 110.014 L 73.9936 110.014 L 70.853 104.843 Q 70.4872 104.237, 70.0962 103.543 Q 69.7178 102.85, 69.6043 102.635 L 69.6043 110.014 L 68.4439 110.014 L 68.4439 101.084 L 69.8565 101.084 \" fill=\"#0000FF\"/>\n",
       "<path class=\"atom-7\" d=\"M 66.1884 132.402 L 69.1146 137.132 Q 69.4047 137.599, 69.8714 138.444 Q 70.338 139.289, 70.3633 139.339 L 70.3633 132.402 L 71.5489 132.402 L 71.5489 141.332 L 70.3254 141.332 L 67.1848 136.161 Q 66.819 135.556, 66.428 134.862 Q 66.0496 134.168, 65.9361 133.954 L 65.9361 141.332 L 64.7757 141.332 L 64.7757 132.402 L 66.1884 132.402 \" fill=\"#0000FF\"/>\n",
       "<path class=\"atom-8\" d=\"M 35.5594 142.06 L 36.8711 140.723 L 35.1305 140.37 L 35.3954 139.475 L 36.9972 140.282 L 36.7702 138.529 L 37.7162 138.516 L 37.4513 140.269 L 39.0784 139.512 L 39.3559 140.37 L 37.5901 140.698 L 38.8514 142.048 L 38.082 142.603 L 37.2117 140.938 L 36.3288 142.603 L 35.5594 142.06 \" fill=\"#191919\"/>\n",
       "<path class=\"atom-9\" d=\"M 20.1185 114.567 L 21.4302 113.23 L 19.6896 112.877 L 19.9545 111.981 L 21.5564 112.789 L 21.3293 111.035 L 22.2753 111.023 L 22.0104 112.776 L 23.6375 112.019 L 23.915 112.877 L 22.1492 113.205 L 23.4105 114.554 L 22.6411 115.109 L 21.7708 113.444 L 20.8879 115.109 L 20.1185 114.567 \" fill=\"#191919\"/>\n",
       "</svg>"
      ],
      "text/plain": [
       "<IPython.core.display.SVG object>"
      ]
     },
     "metadata": {},
     "output_type": "display_data"
    },
    {
     "name": "stdout",
     "output_type": "stream",
     "text": [
      "Bit 1185 ----------------------------------------------\n"
     ]
    },
    {
     "data": {
      "image/svg+xml": [
       "<svg xmlns=\"http://www.w3.org/2000/svg\" xmlns:rdkit=\"http://www.rdkit.org/xml\" xmlns:xlink=\"http://www.w3.org/1999/xlink\" version=\"1.1\" baseProfile=\"full\" xml:space=\"preserve\" width=\"150px\" height=\"150px\" viewBox=\"0 0 150 150\">\n",
       "<!-- END OF HEADER -->\n",
       "<rect style=\"opacity:1.0;fill:#FFFFFF;stroke:none\" width=\"150\" height=\"150\" x=\"0\" y=\"0\"> </rect>\n",
       "<ellipse cx=\"52.8824\" cy=\"96.0665\" rx=\"5.4594\" ry=\"5.4594\" style=\"fill:#E5E533;fill-rule:evenodd;stroke:#E5E533;stroke-width:2.0px;stroke-linecap:butt;stroke-linejoin:miter;stroke-opacity:1\"/>\n",
       "<ellipse cx=\"43.2452\" cy=\"70.5272\" rx=\"5.4594\" ry=\"5.4594\" style=\"fill:#E5E533;fill-rule:evenodd;stroke:#E5E533;stroke-width:2.0px;stroke-linecap:butt;stroke-linejoin:miter;stroke-opacity:1\"/>\n",
       "<ellipse cx=\"87.4805\" cy=\"53.8352\" rx=\"5.4594\" ry=\"5.4594\" style=\"fill:#E5E533;fill-rule:evenodd;stroke:#E5E533;stroke-width:2.0px;stroke-linecap:butt;stroke-linejoin:miter;stroke-opacity:1\"/>\n",
       "<ellipse cx=\"97.1176\" cy=\"79.3745\" rx=\"5.4594\" ry=\"5.4594\" style=\"fill:#E5E533;fill-rule:evenodd;stroke:#E5E533;stroke-width:2.0px;stroke-linecap:butt;stroke-linejoin:miter;stroke-opacity:1\"/>\n",
       "<ellipse cx=\"124.054\" cy=\"83.7981\" rx=\"5.4594\" ry=\"5.4594\" style=\"fill:#E5E533;fill-rule:evenodd;stroke:#E5E533;stroke-width:2.0px;stroke-linecap:butt;stroke-linejoin:miter;stroke-opacity:1\"/>\n",
       "<ellipse cx=\"79.8186\" cy=\"100.49\" rx=\"5.4594\" ry=\"5.4594\" style=\"fill:#9999E5;fill-rule:evenodd;stroke:#9999E5;stroke-width:2.0px;stroke-linecap:butt;stroke-linejoin:miter;stroke-opacity:1\"/>\n",
       "<path class=\"bond-0 atom-0 atom-1\" d=\"M 10.409,113.048 L 31.3969,116.495\" style=\"fill:none;fill-rule:evenodd;stroke:#E5E5E5;stroke-width:1.5px;stroke-linecap:butt;stroke-linejoin:miter;stroke-opacity:1\"/>\n",
       "<path class=\"bond-1 atom-1 atom-2\" d=\"M 39.3448,112.591 L 46.1136,104.329\" style=\"fill:none;fill-rule:evenodd;stroke:#FF0000;stroke-width:2.0px;stroke-linecap:butt;stroke-linejoin:miter;stroke-opacity:1\"/>\n",
       "<path class=\"bond-1 atom-1 atom-2\" d=\"M 46.1136,104.329 L 52.8824,96.0665\" style=\"fill:none;fill-rule:evenodd;stroke:#000000;stroke-width:2.0px;stroke-linecap:butt;stroke-linejoin:miter;stroke-opacity:1\"/>\n",
       "<path class=\"bond-2 atom-2 atom-3\" d=\"M 52.8824,96.0665 L 43.2452,70.5272\" style=\"fill:none;fill-rule:evenodd;stroke:#000000;stroke-width:2.0px;stroke-linecap:butt;stroke-linejoin:miter;stroke-opacity:1\"/>\n",
       "<path class=\"bond-2 atom-2 atom-3\" d=\"M 56.5446,90.3082 L 49.7987,72.4307\" style=\"fill:none;fill-rule:evenodd;stroke:#000000;stroke-width:2.0px;stroke-linecap:butt;stroke-linejoin:miter;stroke-opacity:1\"/>\n",
       "<path class=\"bond-10 atom-10 atom-2\" d=\"M 79.8186,100.49 L 52.8824,96.0665\" style=\"fill:none;fill-rule:evenodd;stroke:#000000;stroke-width:2.0px;stroke-linecap:butt;stroke-linejoin:miter;stroke-opacity:1\"/>\n",
       "<path class=\"bond-3 atom-3 atom-4\" d=\"M 43.2452,70.5272 L 60.3073,49.701\" style=\"fill:none;fill-rule:evenodd;stroke:#E5E5E5;stroke-width:1.5px;stroke-linecap:butt;stroke-linejoin:miter;stroke-opacity:1\"/>\n",
       "<path class=\"bond-4 atom-4 atom-5\" d=\"M 62.3062,49.701 L 87.4805,53.8352\" style=\"fill:none;fill-rule:evenodd;stroke:#E5E5E5;stroke-width:1.5px;stroke-linecap:butt;stroke-linejoin:miter;stroke-opacity:1\"/>\n",
       "<path class=\"bond-4 atom-4 atom-5\" d=\"M 65.1976,55.7083 L 82.8196,58.6023\" style=\"fill:none;fill-rule:evenodd;stroke:#E5E5E5;stroke-width:1.5px;stroke-linecap:butt;stroke-linejoin:miter;stroke-opacity:1\"/>\n",
       "<path class=\"bond-5 atom-5 atom-6\" d=\"M 87.4805,53.8352 L 104.543,33.009\" style=\"fill:none;fill-rule:evenodd;stroke:#E5E5E5;stroke-width:1.5px;stroke-linecap:butt;stroke-linejoin:miter;stroke-opacity:1\"/>\n",
       "<path class=\"bond-6 atom-5 atom-7\" d=\"M 87.4805,53.8352 L 97.1176,79.3745\" style=\"fill:none;fill-rule:evenodd;stroke:#000000;stroke-width:2.0px;stroke-linecap:butt;stroke-linejoin:miter;stroke-opacity:1\"/>\n",
       "<path class=\"bond-7 atom-7 atom-8\" d=\"M 97.1176,79.3745 L 124.054,83.7981\" style=\"fill:none;fill-rule:evenodd;stroke:#000000;stroke-width:2.0px;stroke-linecap:butt;stroke-linejoin:miter;stroke-opacity:1\"/>\n",
       "<path class=\"bond-9 atom-7 atom-10\" d=\"M 97.1176,79.3745 L 79.8186,100.49\" style=\"fill:none;fill-rule:evenodd;stroke:#000000;stroke-width:2.0px;stroke-linecap:butt;stroke-linejoin:miter;stroke-opacity:1\"/>\n",
       "<path class=\"bond-9 atom-7 atom-10\" d=\"M 90.2997,79.082 L 78.1903,93.863\" style=\"fill:none;fill-rule:evenodd;stroke:#000000;stroke-width:2.0px;stroke-linecap:butt;stroke-linejoin:miter;stroke-opacity:1\"/>\n",
       "<path class=\"bond-8 atom-8 atom-9\" d=\"M 126.165,85.528 L 143.227,64.7018\" style=\"fill:none;fill-rule:evenodd;stroke:#E5E5E5;stroke-width:1.5px;stroke-linecap:butt;stroke-linejoin:miter;stroke-opacity:1\"/>\n",
       "<path class=\"bond-8 atom-8 atom-9\" d=\"M 121.942,82.0682 L 139.004,61.2419\" style=\"fill:none;fill-rule:evenodd;stroke:#E5E5E5;stroke-width:1.5px;stroke-linecap:butt;stroke-linejoin:miter;stroke-opacity:1;stroke-dasharray:6,6\"/>\n",
       "<path class=\"bond-11 atom-11 atom-8\" d=\"M 134.504,103.76 L 126.608,82.8344\" style=\"fill:none;fill-rule:evenodd;stroke:#E5E5E5;stroke-width:1.5px;stroke-linecap:butt;stroke-linejoin:miter;stroke-opacity:1\"/>\n",
       "<path class=\"bond-11 atom-11 atom-8\" d=\"M 129.396,105.688 L 121.5,84.7618\" style=\"fill:none;fill-rule:evenodd;stroke:#E5E5E5;stroke-width:1.5px;stroke-linecap:butt;stroke-linejoin:miter;stroke-opacity:1;stroke-dasharray:6,6\"/>\n",
       "<path class=\"atom-0\" d=\"M 7.18942 111.896 L 8.32498 110.739 L 6.81818 110.433 L 7.04748 109.658 L 8.43417 110.356 L 8.23763 108.839 L 9.05654 108.828 L 8.82724 110.345 L 10.2358 109.69 L 10.476 110.433 L 8.94735 110.717 L 10.0392 111.885 L 9.37318 112.365 L 8.61979 110.924 L 7.85547 112.365 L 7.18942 111.896 \" fill=\"#191919\"/>\n",
       "<path class=\"atom-1\" d=\"M 32.0347 117.204 Q 32.0347 115.348, 32.9519 114.31 Q 33.869 113.273, 35.5833 113.273 Q 37.2975 113.273, 38.2147 114.31 Q 39.1319 115.348, 39.1319 117.204 Q 39.1319 119.082, 38.2038 120.152 Q 37.2757 121.211, 35.5833 121.211 Q 33.88 121.211, 32.9519 120.152 Q 32.0347 119.093, 32.0347 117.204 M 35.5833 120.338 Q 36.7625 120.338, 37.3958 119.551 Q 38.04 118.754, 38.04 117.204 Q 38.04 115.686, 37.3958 114.922 Q 36.7625 114.147, 35.5833 114.147 Q 34.4041 114.147, 33.7598 114.911 Q 33.1266 115.675, 33.1266 117.204 Q 33.1266 118.765, 33.7598 119.551 Q 34.4041 120.338, 35.5833 120.338 \" fill=\"#FF0000\"/>\n",
       "<path class=\"atom-4\" d=\"M 59.0866 48.549 L 60.2222 47.3916 L 58.7154 47.0859 L 58.9447 46.3107 L 60.3314 47.0095 L 60.1349 45.4918 L 60.9538 45.4808 L 60.7245 46.9986 L 62.133 46.3434 L 62.3732 47.0859 L 60.8446 47.3698 L 61.9365 48.5381 L 61.2704 49.0185 L 60.517 47.5773 L 59.7527 49.0185 L 59.0866 48.549 \" fill=\"#191919\"/>\n",
       "<path class=\"atom-6\" d=\"M 103.322 31.857 L 104.457 30.6996 L 102.951 30.3939 L 103.18 29.6187 L 104.567 30.3175 L 104.37 28.7998 L 105.189 28.7889 L 104.96 30.3066 L 106.368 29.6514 L 106.608 30.3939 L 105.08 30.6778 L 106.172 31.8461 L 105.506 32.3265 L 104.752 30.8853 L 103.988 32.3265 L 103.322 31.857 \" fill=\"#191919\"/>\n",
       "<path class=\"atom-9\" d=\"M 139.895 61.8199 L 141.031 60.6625 L 139.524 60.3568 L 139.753 59.5816 L 141.14 60.2804 L 140.943 58.7626 L 141.762 58.7517 L 141.533 60.2694 L 142.942 59.6143 L 143.182 60.3568 L 141.653 60.6407 L 142.745 61.809 L 142.079 62.2894 L 141.326 60.8481 L 140.561 62.2894 L 139.895 61.8199 \" fill=\"#191919\"/>\n",
       "<path class=\"atom-11\" d=\"M 132.233 108.475 L 133.369 107.317 L 131.862 107.012 L 132.091 106.236 L 133.478 106.935 L 133.282 105.418 L 134.1 105.407 L 133.871 106.924 L 135.28 106.269 L 135.52 107.012 L 133.991 107.296 L 135.083 108.464 L 134.417 108.944 L 133.664 107.503 L 132.899 108.944 L 132.233 108.475 \" fill=\"#191919\"/>\n",
       "</svg>"
      ],
      "text/plain": [
       "<IPython.core.display.SVG object>"
      ]
     },
     "metadata": {},
     "output_type": "display_data"
    },
    {
     "name": "stdout",
     "output_type": "stream",
     "text": [
      "Bit 1198 ----------------------------------------------\n"
     ]
    },
    {
     "data": {
      "image/svg+xml": [
       "<svg xmlns=\"http://www.w3.org/2000/svg\" xmlns:rdkit=\"http://www.rdkit.org/xml\" xmlns:xlink=\"http://www.w3.org/1999/xlink\" version=\"1.1\" baseProfile=\"full\" xml:space=\"preserve\" width=\"150px\" height=\"150px\" viewBox=\"0 0 150 150\">\n",
       "<!-- END OF HEADER -->\n",
       "<rect style=\"opacity:1.0;fill:#FFFFFF;stroke:none\" width=\"150\" height=\"150\" x=\"0\" y=\"0\"> </rect>\n",
       "<ellipse cx=\"113.976\" cy=\"111.608\" rx=\"5.48232\" ry=\"5.48232\" style=\"fill:#E5E533;fill-rule:evenodd;stroke:#E5E533;stroke-width:2.0px;stroke-linecap:butt;stroke-linejoin:miter;stroke-opacity:1\"/>\n",
       "<ellipse cx=\"111.33\" cy=\"64.2033\" rx=\"5.48232\" ry=\"5.48232\" style=\"fill:#E5E533;fill-rule:evenodd;stroke:#E5E533;stroke-width:2.0px;stroke-linecap:butt;stroke-linejoin:miter;stroke-opacity:1\"/>\n",
       "<ellipse cx=\"68.9539\" cy=\"42.7924\" rx=\"5.48232\" ry=\"5.48232\" style=\"fill:#E5E533;fill-rule:evenodd;stroke:#E5E533;stroke-width:2.0px;stroke-linecap:butt;stroke-linejoin:miter;stroke-opacity:1\"/>\n",
       "<ellipse cx=\"56.5923\" cy=\"67.2585\" rx=\"5.48232\" ry=\"5.48232\" style=\"fill:#E5E533;fill-rule:evenodd;stroke:#E5E533;stroke-width:2.0px;stroke-linecap:butt;stroke-linejoin:miter;stroke-opacity:1\"/>\n",
       "<ellipse cx=\"71.5998\" cy=\"90.1969\" rx=\"5.48232\" ry=\"5.48232\" style=\"fill:#9999E5;fill-rule:evenodd;stroke:#9999E5;stroke-width:2.0px;stroke-linecap:butt;stroke-linejoin:miter;stroke-opacity:1\"/>\n",
       "<ellipse cx=\"98.9688\" cy=\"88.6693\" rx=\"5.48232\" ry=\"5.48232\" style=\"fill:#E5E533;fill-rule:evenodd;stroke:#E5E533;stroke-width:2.0px;stroke-linecap:butt;stroke-linejoin:miter;stroke-opacity:1\"/>\n",
       "<ellipse cx=\"29.7567\" cy=\"72.8482\" rx=\"5.48232\" ry=\"5.48232\" style=\"fill:#CCCCCC;fill-rule:evenodd;stroke:#CCCCCC;stroke-width:2.0px;stroke-linecap:butt;stroke-linejoin:miter;stroke-opacity:1\"/>\n",
       "<path class=\"bond-0 atom-0 atom-1\" d=\"M 103.955,131.441 L 113.976,111.608\" style=\"fill:none;fill-rule:evenodd;stroke:#E5E5E5;stroke-width:1.5px;stroke-linecap:butt;stroke-linejoin:miter;stroke-opacity:1\"/>\n",
       "<path class=\"bond-1 atom-1 atom-2\" d=\"M 114.129,114.345 L 138.976,112.958\" style=\"fill:none;fill-rule:evenodd;stroke:#E5E5E5;stroke-width:1.5px;stroke-linecap:butt;stroke-linejoin:miter;stroke-opacity:1\"/>\n",
       "<path class=\"bond-1 atom-1 atom-2\" d=\"M 113.823,108.871 L 138.671,107.484\" style=\"fill:none;fill-rule:evenodd;stroke:#E5E5E5;stroke-width:1.5px;stroke-linecap:butt;stroke-linejoin:miter;stroke-opacity:1;stroke-dasharray:6,6\"/>\n",
       "<path class=\"bond-11 atom-9 atom-1\" d=\"M 98.9688,88.6693 L 113.976,111.608\" style=\"fill:none;fill-rule:evenodd;stroke:#000000;stroke-width:2.0px;stroke-linecap:butt;stroke-linejoin:miter;stroke-opacity:1\"/>\n",
       "<path class=\"bond-2 atom-3 atom-4\" d=\"M 136.177,62.8164 L 111.33,64.2033\" style=\"fill:none;fill-rule:evenodd;stroke:#E5E5E5;stroke-width:1.5px;stroke-linecap:butt;stroke-linejoin:miter;stroke-opacity:1\"/>\n",
       "<path class=\"bond-3 atom-4 atom-5\" d=\"M 111.33,64.2033 L 96.513,41.5554\" style=\"fill:none;fill-rule:evenodd;stroke:#E5E5E5;stroke-width:1.5px;stroke-linecap:butt;stroke-linejoin:miter;stroke-opacity:1\"/>\n",
       "<path class=\"bond-3 atom-4 atom-5\" d=\"M 104.52,63.8076 L 94.1479,47.9541\" style=\"fill:none;fill-rule:evenodd;stroke:#E5E5E5;stroke-width:1.5px;stroke-linecap:butt;stroke-linejoin:miter;stroke-opacity:1\"/>\n",
       "<path class=\"bond-12 atom-9 atom-4\" d=\"M 98.9688,88.6693 L 111.33,64.2033\" style=\"fill:none;fill-rule:evenodd;stroke:#000000;stroke-width:2.0px;stroke-linecap:butt;stroke-linejoin:miter;stroke-opacity:1\"/>\n",
       "<path class=\"bond-4 atom-5 atom-6\" d=\"M 93.801,41.4056 L 68.9539,42.7924\" style=\"fill:none;fill-rule:evenodd;stroke:#E5E5E5;stroke-width:1.5px;stroke-linecap:butt;stroke-linejoin:miter;stroke-opacity:1\"/>\n",
       "<path class=\"bond-5 atom-6 atom-7\" d=\"M 68.9539,42.7924 L 56.5923,67.2585\" style=\"fill:none;fill-rule:evenodd;stroke:#000000;stroke-width:2.0px;stroke-linecap:butt;stroke-linejoin:miter;stroke-opacity:1\"/>\n",
       "<path class=\"bond-5 atom-6 atom-7\" d=\"M 71.9928,48.9347 L 63.3398,66.0609\" style=\"fill:none;fill-rule:evenodd;stroke:#000000;stroke-width:2.0px;stroke-linecap:butt;stroke-linejoin:miter;stroke-opacity:1\"/>\n",
       "<path class=\"bond-13 atom-13 atom-6\" d=\"M 57.666,18.164 L 68.9539,42.7924\" style=\"fill:none;fill-rule:evenodd;stroke:#E5E5E5;stroke-width:1.5px;stroke-linecap:butt;stroke-linejoin:miter;stroke-opacity:1\"/>\n",
       "<path class=\"bond-6 atom-7 atom-8\" d=\"M 56.5923,67.2585 L 71.5998,90.1969\" style=\"fill:none;fill-rule:evenodd;stroke:#000000;stroke-width:2.0px;stroke-linecap:butt;stroke-linejoin:miter;stroke-opacity:1\"/>\n",
       "<path class=\"bond-8 atom-7 atom-10\" d=\"M 56.5923,67.2585 L 44.9892,69.6754\" style=\"fill:none;fill-rule:evenodd;stroke:#000000;stroke-width:2.0px;stroke-linecap:butt;stroke-linejoin:miter;stroke-opacity:1\"/>\n",
       "<path class=\"bond-8 atom-7 atom-10\" d=\"M 44.9892,69.6754 L 33.386,72.0922\" style=\"fill:none;fill-rule:evenodd;stroke:#0000FF;stroke-width:2.0px;stroke-linecap:butt;stroke-linejoin:miter;stroke-opacity:1\"/>\n",
       "<path class=\"bond-7 atom-8 atom-9\" d=\"M 71.5998,90.1969 L 98.9688,88.6693\" style=\"fill:none;fill-rule:evenodd;stroke:#000000;stroke-width:2.0px;stroke-linecap:butt;stroke-linejoin:miter;stroke-opacity:1\"/>\n",
       "<path class=\"bond-7 atom-8 atom-9\" d=\"M 75.3996,84.494 L 94.5579,83.4247\" style=\"fill:none;fill-rule:evenodd;stroke:#000000;stroke-width:2.0px;stroke-linecap:butt;stroke-linejoin:miter;stroke-opacity:1\"/>\n",
       "<path class=\"bond-9 atom-10 atom-11\" d=\"M 28.6225,77.415 L 24.2707,94.9366\" style=\"fill:none;fill-rule:evenodd;stroke:#E5E5E5;stroke-width:1.5px;stroke-linecap:butt;stroke-linejoin:miter;stroke-opacity:1\"/>\n",
       "<path class=\"bond-10 atom-10 atom-12\" d=\"M 26.1274,69.8391 L 8.86306,55.5251\" style=\"fill:none;fill-rule:evenodd;stroke:#E5E5E5;stroke-width:1.5px;stroke-linecap:butt;stroke-linejoin:miter;stroke-opacity:1\"/>\n",
       "<path class=\"atom-0\" d=\"M 100.151 135.208 L 101.291 134.045 L 99.7781 133.738 L 100.008 132.96 L 101.401 133.662 L 101.204 132.137 L 102.026 132.127 L 101.796 133.651 L 103.21 132.993 L 103.451 133.738 L 101.916 134.023 L 103.013 135.197 L 102.344 135.679 L 101.587 134.232 L 100.82 135.679 L 100.151 135.208 \" fill=\"#191919\"/>\n",
       "<path class=\"atom-2\" d=\"M 139.881 109.214 L 141.022 108.052 L 139.509 107.745 L 139.739 106.966 L 141.131 107.668 L 140.934 106.144 L 141.756 106.133 L 141.526 107.657 L 142.941 106.999 L 143.182 107.745 L 141.647 108.03 L 142.743 109.203 L 142.074 109.685 L 141.318 108.238 L 140.55 109.685 L 139.881 109.214 \" fill=\"#191919\"/>\n",
       "<path class=\"atom-3\" d=\"M 137.236 61.8094 L 138.376 60.6472 L 136.863 60.3402 L 137.093 59.5617 L 138.486 60.2634 L 138.288 58.7393 L 139.11 58.7284 L 138.88 60.2524 L 140.295 59.5946 L 140.536 60.3402 L 139.001 60.6252 L 140.097 61.7985 L 139.428 62.2809 L 138.672 60.8336 L 137.904 62.2809 L 137.236 61.8094 \" fill=\"#191919\"/>\n",
       "<path class=\"atom-5\" d=\"M 94.8591 40.3986 L 95.9994 39.2364 L 94.4863 38.9294 L 94.7165 38.1509 L 96.109 38.8526 L 95.9117 37.3285 L 96.734 37.3175 L 96.5038 38.8416 L 97.9182 38.1838 L 98.1594 38.9294 L 96.6244 39.2144 L 97.7208 40.3876 L 97.052 40.8701 L 96.2954 39.4228 L 95.5279 40.8701 L 94.8591 40.3986 \" fill=\"#191919\"/>\n",
       "<path class=\"atom-10\" d=\"M 28.0407 68.9667 L 30.5845 73.0785 Q 30.8367 73.4842, 31.2424 74.2188 Q 31.6481 74.9534, 31.67 74.9973 L 31.67 68.9667 L 32.7007 68.9667 L 32.7007 76.7297 L 31.6371 76.7297 L 28.9069 72.2342 Q 28.589 71.7079, 28.2491 71.1048 Q 27.9201 70.5018, 27.8214 70.3154 L 27.8214 76.7297 L 26.8127 76.7297 L 26.8127 68.9667 L 28.0407 68.9667 \" fill=\"#0000FF\"/>\n",
       "<path class=\"atom-11\" d=\"M 21.6855 98.5853 L 22.8259 97.4231 L 21.3127 97.1161 L 21.543 96.3376 L 22.9355 97.0393 L 22.7381 95.5152 L 23.5605 95.5043 L 23.3302 97.0284 L 24.7447 96.3705 L 24.9859 97.1161 L 23.4508 97.4012 L 24.5473 98.5744 L 23.8785 99.0568 L 23.1219 97.6095 L 22.3544 99.0568 L 21.6855 98.5853 \" fill=\"#191919\"/>\n",
       "<path class=\"atom-12\" d=\"M 7.19098 54.4862 L 8.3313 53.3239 L 6.81818 53.0169 L 7.04844 52.2384 L 8.44095 52.9402 L 8.24358 51.4161 L 9.06593 51.4051 L 8.83568 52.9292 L 10.2501 52.2713 L 10.4913 53.0169 L 8.95629 53.302 L 10.0528 54.4752 L 9.38391 54.9577 L 8.62735 53.5103 L 7.85982 54.9577 L 7.19098 54.4862 \" fill=\"#191919\"/>\n",
       "<path class=\"atom-13\" d=\"M 56.069 17.0073 L 57.2094 15.845 L 55.6962 15.538 L 55.9265 14.7595 L 57.319 15.4612 L 57.1216 13.9372 L 57.944 13.9262 L 57.7137 15.4503 L 59.1282 14.7924 L 59.3694 15.538 L 57.8343 15.8231 L 58.9308 16.9963 L 58.262 17.4787 L 57.5054 16.0314 L 56.7379 17.4787 L 56.069 17.0073 \" fill=\"#191919\"/>\n",
       "</svg>"
      ],
      "text/plain": [
       "<IPython.core.display.SVG object>"
      ]
     },
     "metadata": {},
     "output_type": "display_data"
    }
   ],
   "source": [
    "for bit_num in lower_10_bits:\n",
    "    search_bit = str(bit_num)\n",
    "    print('Bit {}'.format(search_bit), '-'*(50 - len(search_bit)))\n",
    "\n",
    "    # get bit info corresponding to it\n",
    "    chemblid, bi = [(_id, bit_info) for _id, bit_info in chembl_to_bitinfo.items()\n",
    "                    if search_bit in list(bit_info.keys())][0]\n",
    "    \n",
    "    search_mol = get_mol(chemblid, df_smiles)\n",
    "    bit_img = Draw.DrawMorganBit(search_mol, search_bit, bi, useSVG=True)\n",
    "    display(bit_img)"
   ]
  },
  {
   "cell_type": "code",
   "execution_count": 156,
   "id": "8ba496cb",
   "metadata": {},
   "outputs": [],
   "source": [
    "bits = range(0,2048)\n",
    "df_diff = pd.DataFrame({'bit':bits, 'inhibitor_incidence':inhibitor_incidence, \n",
    "                        'non_inhibitor_incidence':non_inhibitor_incidence,\n",
    "                       'incidence_ratio':incidence_ratio})"
   ]
  },
  {
   "cell_type": "code",
   "execution_count": 164,
   "id": "3fa59b67",
   "metadata": {},
   "outputs": [],
   "source": [
    "null_ratio_df = df_diff[(df_diff['incidence_ratio'] == 0)]\n",
    "sorted_null_ratio_df = null_ratio_df.sort_values(by= 'non_inhibitor_incidence', ascending = False, ignore_index = True)\n",
    "non_inhibiting_bits = sorted_null_ratio_df[0:10:1]['bit']"
   ]
  },
  {
   "cell_type": "code",
   "execution_count": 165,
   "id": "b5b16518",
   "metadata": {},
   "outputs": [
    {
     "name": "stdout",
     "output_type": "stream",
     "text": [
      "Bit 1247 ----------------------------------------------\n"
     ]
    },
    {
     "data": {
      "image/svg+xml": [
       "<svg xmlns=\"http://www.w3.org/2000/svg\" xmlns:rdkit=\"http://www.rdkit.org/xml\" xmlns:xlink=\"http://www.w3.org/1999/xlink\" version=\"1.1\" baseProfile=\"full\" xml:space=\"preserve\" width=\"150px\" height=\"150px\" viewBox=\"0 0 150 150\">\n",
       "<!-- END OF HEADER -->\n",
       "<rect style=\"opacity:1.0;fill:#FFFFFF;stroke:none\" width=\"150\" height=\"150\" x=\"0\" y=\"0\"> </rect>\n",
       "<ellipse cx=\"72.9684\" cy=\"106.346\" rx=\"6.34368\" ry=\"6.34368\" style=\"fill:#E5E533;fill-rule:evenodd;stroke:#E5E533;stroke-width:2.0px;stroke-linecap:butt;stroke-linejoin:miter;stroke-opacity:1\"/>\n",
       "<ellipse cx=\"97.6772\" cy=\"86.4584\" rx=\"6.34368\" ry=\"6.34368\" style=\"fill:#E5E533;fill-rule:evenodd;stroke:#E5E533;stroke-width:2.0px;stroke-linecap:butt;stroke-linejoin:miter;stroke-opacity:1\"/>\n",
       "<ellipse cx=\"92.808\" cy=\"55.116\" rx=\"6.34368\" ry=\"6.34368\" style=\"fill:#9999E5;fill-rule:evenodd;stroke:#9999E5;stroke-width:2.0px;stroke-linecap:butt;stroke-linejoin:miter;stroke-opacity:1\"/>\n",
       "<ellipse cx=\"63.23\" cy=\"43.6615\" rx=\"6.34368\" ry=\"6.34368\" style=\"fill:#E5E533;fill-rule:evenodd;stroke:#E5E533;stroke-width:2.0px;stroke-linecap:butt;stroke-linejoin:miter;stroke-opacity:1\"/>\n",
       "<ellipse cx=\"38.5213\" cy=\"63.5496\" rx=\"6.34368\" ry=\"6.34368\" style=\"fill:#E5E533;fill-rule:evenodd;stroke:#E5E533;stroke-width:2.0px;stroke-linecap:butt;stroke-linejoin:miter;stroke-opacity:1\"/>\n",
       "<path class=\"bond-0 atom-0 atom-1\" d=\"M 44.2586,95.2283 L 72.9684,106.346\" style=\"fill:none;fill-rule:evenodd;stroke:#E5E5E5;stroke-width:1.7px;stroke-linecap:butt;stroke-linejoin:miter;stroke-opacity:1\"/>\n",
       "<path class=\"bond-0 atom-0 atom-1\" d=\"M 50.856,90.9804 L 70.9528,98.7631\" style=\"fill:none;fill-rule:evenodd;stroke:#E5E5E5;stroke-width:1.7px;stroke-linecap:butt;stroke-linejoin:miter;stroke-opacity:1\"/>\n",
       "<path class=\"bond-7 atom-6 atom-0\" d=\"M 38.5213,63.5496 L 42.5577,89.5316\" style=\"fill:none;fill-rule:evenodd;stroke:#E5E5E5;stroke-width:1.7px;stroke-linecap:butt;stroke-linejoin:miter;stroke-opacity:1\"/>\n",
       "<path class=\"bond-1 atom-1 atom-2\" d=\"M 72.9684,106.346 L 97.6772,86.4584\" style=\"fill:none;fill-rule:evenodd;stroke:#000000;stroke-width:2.0px;stroke-linecap:butt;stroke-linejoin:miter;stroke-opacity:1\"/>\n",
       "<path class=\"bond-2 atom-2 atom-3\" d=\"M 97.6772,86.4584 L 110.366,91.3725\" style=\"fill:none;fill-rule:evenodd;stroke:#000000;stroke-width:2.0px;stroke-linecap:butt;stroke-linejoin:miter;stroke-opacity:1\"/>\n",
       "<path class=\"bond-2 atom-2 atom-3\" d=\"M 110.366,91.3725 L 123.056,96.2865\" style=\"fill:none;fill-rule:evenodd;stroke:#0000FF;stroke-width:2.0px;stroke-linecap:butt;stroke-linejoin:miter;stroke-opacity:1\"/>\n",
       "<path class=\"bond-3 atom-2 atom-4\" d=\"M 97.6772,86.4584 L 92.808,55.116\" style=\"fill:none;fill-rule:evenodd;stroke:#000000;stroke-width:2.0px;stroke-linecap:butt;stroke-linejoin:miter;stroke-opacity:1\"/>\n",
       "<path class=\"bond-3 atom-2 atom-4\" d=\"M 90.6783,82.7309 L 87.2699,60.7912\" style=\"fill:none;fill-rule:evenodd;stroke:#000000;stroke-width:2.0px;stroke-linecap:butt;stroke-linejoin:miter;stroke-opacity:1\"/>\n",
       "<path class=\"bond-4 atom-4 atom-5\" d=\"M 92.808,55.116 L 80.1188,50.2019\" style=\"fill:none;fill-rule:evenodd;stroke:#000000;stroke-width:2.0px;stroke-linecap:butt;stroke-linejoin:miter;stroke-opacity:1\"/>\n",
       "<path class=\"bond-4 atom-4 atom-5\" d=\"M 80.1188,50.2019 L 67.4296,45.2879\" style=\"fill:none;fill-rule:evenodd;stroke:#0000FF;stroke-width:2.0px;stroke-linecap:butt;stroke-linejoin:miter;stroke-opacity:1\"/>\n",
       "<path class=\"bond-5 atom-5 atom-6\" d=\"M 59.0305,47.0417 L 48.7759,55.2957\" style=\"fill:none;fill-rule:evenodd;stroke:#0000FF;stroke-width:2.0px;stroke-linecap:butt;stroke-linejoin:miter;stroke-opacity:1\"/>\n",
       "<path class=\"bond-5 atom-5 atom-6\" d=\"M 48.7759,55.2957 L 38.5213,63.5496\" style=\"fill:none;fill-rule:evenodd;stroke:#000000;stroke-width:2.0px;stroke-linecap:butt;stroke-linejoin:miter;stroke-opacity:1\"/>\n",
       "<path class=\"bond-5 atom-5 atom-6\" d=\"M 59.9317,54.4597 L 52.7535,60.2374\" style=\"fill:none;fill-rule:evenodd;stroke:#0000FF;stroke-width:2.0px;stroke-linecap:butt;stroke-linejoin:miter;stroke-opacity:1\"/>\n",
       "<path class=\"bond-5 atom-5 atom-6\" d=\"M 52.7535,60.2374 L 45.5753,66.0152\" style=\"fill:none;fill-rule:evenodd;stroke:#000000;stroke-width:2.0px;stroke-linecap:butt;stroke-linejoin:miter;stroke-opacity:1\"/>\n",
       "<path class=\"bond-6 atom-6 atom-7\" d=\"M 38.5213,63.5496 L 9.8115,52.4314\" style=\"fill:none;fill-rule:evenodd;stroke:#E5E5E5;stroke-width:1.7px;stroke-linecap:butt;stroke-linejoin:miter;stroke-opacity:1\"/>\n",
       "<path class=\"atom-0\" d=\"M 41.6967 93.8898 L 43.0162 92.5449 L 41.2653 92.1896 L 41.5317 91.2888 L 43.143 92.1008 L 42.9147 90.3373 L 43.8662 90.3246 L 43.5998 92.0881 L 45.2364 91.3269 L 45.5156 92.1896 L 43.7393 92.5195 L 45.0081 93.8771 L 44.2341 94.4353 L 43.3587 92.7606 L 42.4706 94.4353 L 41.6967 93.8898 \" fill=\"#191919\"/>\n",
       "<path class=\"atom-3\" d=\"M 125.27 93.4215 L 128.213 98.1793 Q 128.505 98.6487, 128.974 99.4987 Q 129.444 100.349, 129.469 100.4 L 129.469 93.4215 L 130.662 93.4215 L 130.662 102.404 L 129.431 102.404 L 126.272 97.2023 Q 125.904 96.5933, 125.511 95.8955 Q 125.13 95.1977, 125.016 94.982 L 125.016 102.404 L 123.849 102.404 L 123.849 93.4215 L 125.27 93.4215 \" fill=\"#0000FF\"/>\n",
       "<path class=\"atom-3\" d=\"M 131.74 93.4215 L 132.958 93.4215 L 132.958 97.2404 L 137.551 97.2404 L 137.551 93.4215 L 138.769 93.4215 L 138.769 102.404 L 137.551 102.404 L 137.551 98.2554 L 132.958 98.2554 L 132.958 102.404 L 131.74 102.404 L 131.74 93.4215 \" fill=\"#0000FF\"/>\n",
       "<path class=\"atom-3\" d=\"M 139.204 102.089 Q 139.422 101.528, 139.941 101.218 Q 140.46 100.9, 141.181 100.9 Q 142.076 100.9, 142.579 101.386 Q 143.081 101.871, 143.081 102.734 Q 143.081 103.613, 142.428 104.434 Q 141.783 105.254, 140.444 106.226 L 143.182 106.226 L 143.182 106.895 L 139.188 106.895 L 139.188 106.334 Q 140.293 105.547, 140.946 104.961 Q 141.608 104.375, 141.926 103.847 Q 142.244 103.32, 142.244 102.776 Q 142.244 102.206, 141.959 101.888 Q 141.675 101.57, 141.181 101.57 Q 140.703 101.57, 140.385 101.762 Q 140.067 101.955, 139.841 102.382 L 139.204 102.089 \" fill=\"#0000FF\"/>\n",
       "<path class=\"atom-5\" d=\"M 61.2445 39.1702 L 64.1879 43.928 Q 64.4798 44.3974, 64.9492 45.2475 Q 65.4186 46.0975, 65.444 46.1483 L 65.444 39.1702 L 66.6366 39.1702 L 66.6366 48.1529 L 65.4059 48.1529 L 62.2468 42.9511 Q 61.8788 42.3421, 61.4855 41.6443 Q 61.1049 40.9465, 60.9907 40.7308 L 60.9907 48.1529 L 59.8235 48.1529 L 59.8235 39.1702 L 61.2445 39.1702 \" fill=\"#0000FF\"/>\n",
       "<path class=\"atom-7\" d=\"M 7.24955 51.0929 L 8.56904 49.748 L 6.81818 49.3928 L 7.08462 48.492 L 8.69591 49.304 L 8.46754 47.5404 L 9.41909 47.5277 L 9.15266 49.2913 L 10.7893 48.53 L 11.0685 49.3928 L 9.29222 49.7227 L 10.561 51.0802 L 9.78703 51.6384 L 8.9116 49.9637 L 8.02348 51.6384 L 7.24955 51.0929 \" fill=\"#191919\"/>\n",
       "</svg>"
      ],
      "text/plain": [
       "<IPython.core.display.SVG object>"
      ]
     },
     "metadata": {},
     "output_type": "display_data"
    },
    {
     "name": "stdout",
     "output_type": "stream",
     "text": [
      "Bit 604 -----------------------------------------------\n"
     ]
    },
    {
     "data": {
      "image/svg+xml": [
       "<svg xmlns=\"http://www.w3.org/2000/svg\" xmlns:rdkit=\"http://www.rdkit.org/xml\" xmlns:xlink=\"http://www.w3.org/1999/xlink\" version=\"1.1\" baseProfile=\"full\" xml:space=\"preserve\" width=\"150px\" height=\"150px\" viewBox=\"0 0 150 150\">\n",
       "<!-- END OF HEADER -->\n",
       "<rect style=\"opacity:1.0;fill:#FFFFFF;stroke:none\" width=\"150\" height=\"150\" x=\"0\" y=\"0\"> </rect>\n",
       "<ellipse cx=\"100.72\" cy=\"70.8449\" rx=\"6.25266\" ry=\"6.25266\" style=\"fill:#CCCCCC;fill-rule:evenodd;stroke:#CCCCCC;stroke-width:2.0px;stroke-linecap:butt;stroke-linejoin:miter;stroke-opacity:1\"/>\n",
       "<ellipse cx=\"79.8821\" cy=\"47.5391\" rx=\"6.25266\" ry=\"6.25266\" style=\"fill:#9999E5;fill-rule:evenodd;stroke:#9999E5;stroke-width:2.0px;stroke-linecap:butt;stroke-linejoin:miter;stroke-opacity:1\"/>\n",
       "<ellipse cx=\"49.2796\" cy=\"53.9327\" rx=\"6.25266\" ry=\"6.25266\" style=\"fill:#CCCCCC;fill-rule:evenodd;stroke:#CCCCCC;stroke-width:2.0px;stroke-linecap:butt;stroke-linejoin:miter;stroke-opacity:1\"/>\n",
       "<ellipse cx=\"39.5153\" cy=\"83.632\" rx=\"6.25266\" ry=\"6.25266\" style=\"fill:#CCCCCC;fill-rule:evenodd;stroke:#CCCCCC;stroke-width:2.0px;stroke-linecap:butt;stroke-linejoin:miter;stroke-opacity:1\"/>\n",
       "<ellipse cx=\"90.9561\" cy=\"100.544\" rx=\"6.25266\" ry=\"6.25266\" style=\"fill:#CCCCCC;fill-rule:evenodd;stroke:#CCCCCC;stroke-width:2.0px;stroke-linecap:butt;stroke-linejoin:miter;stroke-opacity:1\"/>\n",
       "<path class=\"bond-0 atom-0 atom-1\" d=\"M 140.978,35.0833 L 131.323,64.4513\" style=\"fill:none;fill-rule:evenodd;stroke:#E5E5E5;stroke-width:1.7px;stroke-linecap:butt;stroke-linejoin:miter;stroke-opacity:1\"/>\n",
       "<path class=\"bond-1 atom-2 atom-1\" d=\"M 105.927,70.2893 L 105.714,69.2692\" style=\"fill:none;fill-rule:evenodd;stroke:#000000;stroke-width:1.0px;stroke-linecap:butt;stroke-linejoin:miter;stroke-opacity:1\"/>\n",
       "<path class=\"bond-1 atom-2 atom-1\" d=\"M 111.134,69.7338 L 110.708,67.6936\" style=\"fill:none;fill-rule:evenodd;stroke:#000000;stroke-width:1.0px;stroke-linecap:butt;stroke-linejoin:miter;stroke-opacity:1\"/>\n",
       "<path class=\"bond-1 atom-2 atom-1\" d=\"M 116.341,69.1782 L 115.702,66.118\" style=\"fill:none;fill-rule:evenodd;stroke:#000000;stroke-width:1.0px;stroke-linecap:butt;stroke-linejoin:miter;stroke-opacity:1\"/>\n",
       "<path class=\"bond-1 atom-2 atom-1\" d=\"M 121.548,68.6227 L 120.696,64.5423\" style=\"fill:none;fill-rule:evenodd;stroke:#000000;stroke-width:1.0px;stroke-linecap:butt;stroke-linejoin:miter;stroke-opacity:1\"/>\n",
       "<path class=\"bond-1 atom-2 atom-1\" d=\"M 126.755,68.0671 L 125.69,62.9667\" style=\"fill:none;fill-rule:evenodd;stroke:#000000;stroke-width:1.0px;stroke-linecap:butt;stroke-linejoin:miter;stroke-opacity:1\"/>\n",
       "<path class=\"bond-1 atom-2 atom-1\" d=\"M 131.962,67.5115 L 130.684,61.391\" style=\"fill:none;fill-rule:evenodd;stroke:#000000;stroke-width:1.0px;stroke-linecap:butt;stroke-linejoin:miter;stroke-opacity:1\"/>\n",
       "<path class=\"bond-2 atom-2 atom-3\" d=\"M 100.72,70.8449 L 92.7136,61.89\" style=\"fill:none;fill-rule:evenodd;stroke:#000000;stroke-width:2.0px;stroke-linecap:butt;stroke-linejoin:miter;stroke-opacity:1\"/>\n",
       "<path class=\"bond-2 atom-2 atom-3\" d=\"M 92.7136,61.89 L 84.7069,52.9351\" style=\"fill:none;fill-rule:evenodd;stroke:#FF0000;stroke-width:2.0px;stroke-linecap:butt;stroke-linejoin:miter;stroke-opacity:1\"/>\n",
       "<path class=\"bond-10 atom-10 atom-2\" d=\"M 90.9561,100.544 L 100.72,70.8449\" style=\"fill:none;fill-rule:evenodd;stroke:#000000;stroke-width:2.0px;stroke-linecap:butt;stroke-linejoin:miter;stroke-opacity:1\"/>\n",
       "<path class=\"bond-3 atom-3 atom-4\" d=\"M 75.0363,48.5515 L 62.158,51.2421\" style=\"fill:none;fill-rule:evenodd;stroke:#FF0000;stroke-width:2.0px;stroke-linecap:butt;stroke-linejoin:miter;stroke-opacity:1\"/>\n",
       "<path class=\"bond-3 atom-3 atom-4\" d=\"M 62.158,51.2421 L 49.2796,53.9327\" style=\"fill:none;fill-rule:evenodd;stroke:#000000;stroke-width:2.0px;stroke-linecap:butt;stroke-linejoin:miter;stroke-opacity:1\"/>\n",
       "<path class=\"bond-4 atom-4 atom-5\" d=\"M 51.6102,51.8489 L 43.6034,42.894\" style=\"fill:none;fill-rule:evenodd;stroke:#000000;stroke-width:2.0px;stroke-linecap:butt;stroke-linejoin:miter;stroke-opacity:1\"/>\n",
       "<path class=\"bond-4 atom-4 atom-5\" d=\"M 43.6034,42.894 L 35.5967,33.9391\" style=\"fill:none;fill-rule:evenodd;stroke:#FF0000;stroke-width:2.0px;stroke-linecap:butt;stroke-linejoin:miter;stroke-opacity:1\"/>\n",
       "<path class=\"bond-4 atom-4 atom-5\" d=\"M 46.949,56.0165 L 38.9423,47.0616\" style=\"fill:none;fill-rule:evenodd;stroke:#000000;stroke-width:2.0px;stroke-linecap:butt;stroke-linejoin:miter;stroke-opacity:1\"/>\n",
       "<path class=\"bond-4 atom-4 atom-5\" d=\"M 38.9423,47.0616 L 30.9355,38.1068\" style=\"fill:none;fill-rule:evenodd;stroke:#FF0000;stroke-width:2.0px;stroke-linecap:butt;stroke-linejoin:miter;stroke-opacity:1\"/>\n",
       "<path class=\"bond-5 atom-4 atom-6\" d=\"M 49.2796,53.9327 L 39.5153,83.632\" style=\"fill:none;fill-rule:evenodd;stroke:#000000;stroke-width:2.0px;stroke-linecap:butt;stroke-linejoin:miter;stroke-opacity:1\"/>\n",
       "<path class=\"bond-6 atom-6 atom-7\" d=\"M 38.876,80.5718 L 11.1497,86.3644\" style=\"fill:none;fill-rule:evenodd;stroke:#E5E5E5;stroke-width:1.7px;stroke-linecap:butt;stroke-linejoin:miter;stroke-opacity:1\"/>\n",
       "<path class=\"bond-6 atom-6 atom-7\" d=\"M 40.1547,86.6923 L 12.4284,92.485\" style=\"fill:none;fill-rule:evenodd;stroke:#E5E5E5;stroke-width:1.7px;stroke-linecap:butt;stroke-linejoin:miter;stroke-opacity:1\"/>\n",
       "<path class=\"bond-7 atom-6 atom-8\" d=\"M 39.5153,83.632 L 57.4774,103.721\" style=\"fill:none;fill-rule:evenodd;stroke:#E5E5E5;stroke-width:1.7px;stroke-linecap:butt;stroke-linejoin:miter;stroke-opacity:1\"/>\n",
       "<path class=\"bond-11 atom-10 atom-8\" d=\"M 90.9561,100.544 L 63.2298,106.337\" style=\"fill:none;fill-rule:evenodd;stroke:#E5E5E5;stroke-width:1.7px;stroke-linecap:butt;stroke-linejoin:miter;stroke-opacity:1\"/>\n",
       "<path class=\"bond-8 atom-10 atom-9\" d=\"M 94.0824,104.979 L 95.0147,104.145\" style=\"fill:none;fill-rule:evenodd;stroke:#E5E5E5;stroke-width:1.0px;stroke-linecap:butt;stroke-linejoin:miter;stroke-opacity:1\"/>\n",
       "<path class=\"bond-8 atom-10 atom-9\" d=\"M 97.2087,109.413 L 99.0732,107.746\" style=\"fill:none;fill-rule:evenodd;stroke:#E5E5E5;stroke-width:1.0px;stroke-linecap:butt;stroke-linejoin:miter;stroke-opacity:1\"/>\n",
       "<path class=\"bond-8 atom-10 atom-9\" d=\"M 100.335,113.848 L 103.132,111.347\" style=\"fill:none;fill-rule:evenodd;stroke:#E5E5E5;stroke-width:1.0px;stroke-linecap:butt;stroke-linejoin:miter;stroke-opacity:1\"/>\n",
       "<path class=\"bond-8 atom-10 atom-9\" d=\"M 103.461,118.282 L 107.19,114.948\" style=\"fill:none;fill-rule:evenodd;stroke:#E5E5E5;stroke-width:1.0px;stroke-linecap:butt;stroke-linejoin:miter;stroke-opacity:1\"/>\n",
       "<path class=\"bond-8 atom-10 atom-9\" d=\"M 106.588,122.717 L 111.249,118.549\" style=\"fill:none;fill-rule:evenodd;stroke:#E5E5E5;stroke-width:1.0px;stroke-linecap:butt;stroke-linejoin:miter;stroke-opacity:1\"/>\n",
       "<path class=\"bond-9 atom-10 atom-11\" d=\"M 90.9561,100.544 L 119.972,94.482\" style=\"fill:none;fill-rule:evenodd;stroke:#E5E5E5;stroke-width:1.7px;stroke-linecap:butt;stroke-linejoin:miter;stroke-opacity:1\"/>\n",
       "<path class=\"atom-0\" d=\"M 139.418 33.764 L 140.718 32.4385 L 138.993 32.0883 L 139.255 31.2004 L 140.843 32.0008 L 140.618 30.2625 L 141.556 30.25 L 141.294 31.9883 L 142.907 31.2379 L 143.182 32.0883 L 141.431 32.4134 L 142.682 33.7515 L 141.919 34.3017 L 141.056 32.651 L 140.181 34.3017 L 139.418 33.764 \" fill=\"#191919\"/>\n",
       "<path class=\"atom-3\" d=\"M 75.8179 47.5641 Q 75.8179 45.4382, 76.8683 44.2502 Q 77.9188 43.0622, 79.8821 43.0622 Q 81.8455 43.0622, 82.8959 44.2502 Q 83.9464 45.4382, 83.9464 47.5641 Q 83.9464 49.715, 82.8834 50.9405 Q 81.8205 52.1536, 79.8821 52.1536 Q 77.9313 52.1536, 76.8683 50.9405 Q 75.8179 49.7275, 75.8179 47.5641 M 79.8821 51.1531 Q 81.2327 51.1531, 81.958 50.2527 Q 82.6958 49.3399, 82.6958 47.5641 Q 82.6958 45.8259, 81.958 44.9505 Q 81.2327 44.0626, 79.8821 44.0626 Q 78.5316 44.0626, 77.7937 44.938 Q 77.0684 45.8134, 77.0684 47.5641 Q 77.0684 49.3524, 77.7937 50.2527 Q 78.5316 51.1531, 79.8821 51.1531 \" fill=\"#FF0000\"/>\n",
       "<path class=\"atom-5\" d=\"M 24.3771 30.6519 Q 24.3771 28.526, 25.4276 27.338 Q 26.478 26.15, 28.4413 26.15 Q 30.4047 26.15, 31.4551 27.338 Q 32.5056 28.526, 32.5056 30.6519 Q 32.5056 32.8028, 31.4426 34.0283 Q 30.3797 35.2414, 28.4413 35.2414 Q 26.4905 35.2414, 25.4276 34.0283 Q 24.3771 32.8153, 24.3771 30.6519 M 28.4413 34.2409 Q 29.7919 34.2409, 30.5172 33.3406 Q 31.255 32.4277, 31.255 30.6519 Q 31.255 28.9137, 30.5172 28.0383 Q 29.7919 27.1504, 28.4413 27.1504 Q 27.0908 27.1504, 26.353 28.0258 Q 25.6276 28.9012, 25.6276 30.6519 Q 25.6276 32.4402, 26.353 33.3406 Q 27.0908 34.2409, 28.4413 34.2409 \" fill=\"#FF0000\"/>\n",
       "<path class=\"atom-7\" d=\"M 7.24336 89.0377 L 8.54391 87.7121 L 6.81818 87.362 L 7.08079 86.4741 L 8.66897 87.2744 L 8.44387 85.5362 L 9.38177 85.5237 L 9.11916 87.2619 L 10.7323 86.5116 L 11.0075 87.362 L 9.25672 87.6871 L 10.5072 89.0252 L 9.74442 89.5754 L 8.88156 87.9247 L 8.00619 89.5754 L 7.24336 89.0377 \" fill=\"#191919\"/>\n",
       "<path class=\"atom-8\" d=\"M 58.6842 105.95 L 59.9847 104.624 L 58.259 104.274 L 58.5216 103.386 L 60.1098 104.187 L 59.8847 102.448 L 60.8226 102.436 L 60.5599 104.174 L 62.1731 103.424 L 62.4483 104.274 L 60.6975 104.599 L 61.948 105.937 L 61.1852 106.488 L 60.3223 104.837 L 59.447 106.488 L 58.6842 105.95 \" fill=\"#191919\"/>\n",
       "<path class=\"atom-9\" d=\"M 110.125 122.862 L 111.425 121.537 L 109.7 121.186 L 109.962 120.298 L 111.551 121.099 L 111.325 119.361 L 112.263 119.348 L 112.001 121.086 L 113.614 120.336 L 113.889 121.186 L 112.138 121.512 L 113.389 122.85 L 112.626 123.4 L 111.763 121.749 L 110.888 123.4 L 110.125 122.862 \" fill=\"#191919\"/>\n",
       "<path class=\"atom-11\" d=\"M 119.889 93.1627 L 121.19 91.8372 L 119.464 91.487 L 119.727 90.5991 L 121.315 91.3995 L 121.09 89.6612 L 122.028 89.6487 L 121.765 91.387 L 123.378 90.6367 L 123.653 91.487 L 121.903 91.8122 L 123.153 93.1502 L 122.39 93.7005 L 121.527 92.0498 L 120.652 93.7005 L 119.889 93.1627 \" fill=\"#191919\"/>\n",
       "</svg>"
      ],
      "text/plain": [
       "<IPython.core.display.SVG object>"
      ]
     },
     "metadata": {},
     "output_type": "display_data"
    },
    {
     "name": "stdout",
     "output_type": "stream",
     "text": [
      "Bit 1904 ----------------------------------------------\n"
     ]
    },
    {
     "data": {
      "image/svg+xml": [
       "<svg xmlns=\"http://www.w3.org/2000/svg\" xmlns:rdkit=\"http://www.rdkit.org/xml\" xmlns:xlink=\"http://www.w3.org/1999/xlink\" version=\"1.1\" baseProfile=\"full\" xml:space=\"preserve\" width=\"150px\" height=\"150px\" viewBox=\"0 0 150 150\">\n",
       "<!-- END OF HEADER -->\n",
       "<rect style=\"opacity:1.0;fill:#FFFFFF;stroke:none\" width=\"150\" height=\"150\" x=\"0\" y=\"0\"> </rect>\n",
       "<ellipse cx=\"66.5119\" cy=\"54.4936\" rx=\"10.2557\" ry=\"10.2557\" style=\"fill:#CCCCCC;fill-rule:evenodd;stroke:#CCCCCC;stroke-width:2.0px;stroke-linecap:butt;stroke-linejoin:miter;stroke-opacity:1\"/>\n",
       "<ellipse cx=\"102.838\" cy=\"129.089\" rx=\"10.2557\" ry=\"10.2557\" style=\"fill:#CCCCCC;fill-rule:evenodd;stroke:#CCCCCC;stroke-width:2.0px;stroke-linecap:butt;stroke-linejoin:miter;stroke-opacity:1\"/>\n",
       "<ellipse cx=\"57.5766\" cy=\"104.987\" rx=\"10.2557\" ry=\"10.2557\" style=\"fill:#9999E5;fill-rule:evenodd;stroke:#9999E5;stroke-width:2.0px;stroke-linecap:butt;stroke-linejoin:miter;stroke-opacity:1\"/>\n",
       "<path class=\"bond-0 atom-0 atom-1\" d=\"M 31.4379,18.1288 L 59.7415,47.4741\" style=\"fill:none;fill-rule:evenodd;stroke:#E5E5E5;stroke-width:2.7px;stroke-linecap:butt;stroke-linejoin:miter;stroke-opacity:1\"/>\n",
       "<path class=\"bond-1 atom-1 atom-2\" d=\"M 73.3012,53.5437 L 114.636,47.7603\" style=\"fill:none;fill-rule:evenodd;stroke:#E5E5E5;stroke-width:2.7px;stroke-linecap:butt;stroke-linejoin:miter;stroke-opacity:1\"/>\n",
       "<path class=\"bond-5 atom-5 atom-1\" d=\"M 57.5766,104.987 L 61.2884,84.0119\" style=\"fill:none;fill-rule:evenodd;stroke:#000000;stroke-width:2.0px;stroke-linecap:butt;stroke-linejoin:miter;stroke-opacity:1\"/>\n",
       "<path class=\"bond-5 atom-5 atom-1\" d=\"M 61.2884,84.0119 L 65.0002,63.0365\" style=\"fill:none;fill-rule:evenodd;stroke:#0000FF;stroke-width:2.0px;stroke-linecap:butt;stroke-linejoin:miter;stroke-opacity:1\"/>\n",
       "<path class=\"bond-2 atom-3 atom-4\" d=\"M 139.183,94.034 L 108.756,123.38\" style=\"fill:none;fill-rule:evenodd;stroke:#E5E5E5;stroke-width:2.7px;stroke-linecap:butt;stroke-linejoin:miter;stroke-opacity:1\"/>\n",
       "<path class=\"bond-3 atom-4 atom-5\" d=\"M 96.8998,125.927 L 77.2382,115.457\" style=\"fill:none;fill-rule:evenodd;stroke:#CCCC00;stroke-width:2.0px;stroke-linecap:butt;stroke-linejoin:miter;stroke-opacity:1\"/>\n",
       "<path class=\"bond-3 atom-4 atom-5\" d=\"M 77.2382,115.457 L 57.5766,104.987\" style=\"fill:none;fill-rule:evenodd;stroke:#000000;stroke-width:2.0px;stroke-linecap:butt;stroke-linejoin:miter;stroke-opacity:1\"/>\n",
       "<path class=\"bond-4 atom-5 atom-6\" d=\"M 55.3315,100.377 L 35.2494,110.157\" style=\"fill:none;fill-rule:evenodd;stroke:#000000;stroke-width:2.0px;stroke-linecap:butt;stroke-linejoin:miter;stroke-opacity:1\"/>\n",
       "<path class=\"bond-4 atom-5 atom-6\" d=\"M 35.2494,110.157 L 15.1672,119.936\" style=\"fill:none;fill-rule:evenodd;stroke:#CCCC00;stroke-width:2.0px;stroke-linecap:butt;stroke-linejoin:miter;stroke-opacity:1\"/>\n",
       "<path class=\"bond-4 atom-5 atom-6\" d=\"M 59.8217,109.598 L 39.7395,119.377\" style=\"fill:none;fill-rule:evenodd;stroke:#000000;stroke-width:2.0px;stroke-linecap:butt;stroke-linejoin:miter;stroke-opacity:1\"/>\n",
       "<path class=\"bond-4 atom-5 atom-6\" d=\"M 39.7395,119.377 L 19.6573,129.157\" style=\"fill:none;fill-rule:evenodd;stroke:#CCCC00;stroke-width:2.0px;stroke-linecap:butt;stroke-linejoin:miter;stroke-opacity:1\"/>\n",
       "<path class=\"atom-0\" d=\"M 28.1754 15.9649 L 30.3085 13.7907 L 27.478 13.2164 L 27.9087 11.7601 L 30.5137 13.0728 L 30.1445 10.2217 L 31.6828 10.2012 L 31.2521 13.0523 L 33.898 11.8216 L 34.3493 13.2164 L 31.4777 13.7497 L 33.5288 15.9444 L 32.2776 16.8469 L 30.8624 14.1394 L 29.4266 16.8469 L 28.1754 15.9649 \" fill=\"#191919\"/>\n",
       "<path class=\"atom-1\" d=\"M 63.3019 47.2326 L 68.0605 54.9243 Q 68.5323 55.6832, 69.2912 57.0575 Q 70.0501 58.4318, 70.0911 58.5138 L 70.0911 47.2326 L 72.0192 47.2326 L 72.0192 61.7546 L 70.0296 61.7546 L 64.9223 53.345 Q 64.3275 52.3604, 63.6916 51.2323 Q 63.0763 50.1042, 62.8917 49.7555 L 62.8917 61.7546 L 61.0046 61.7546 L 61.0046 47.2326 L 63.3019 47.2326 \" fill=\"#0000FF\"/>\n",
       "<path class=\"atom-2\" d=\"M 114.557 45.7677 L 116.69 43.5935 L 113.86 43.0192 L 114.291 41.5629 L 116.896 42.8756 L 116.526 40.0246 L 118.065 40.0041 L 117.634 42.8551 L 120.28 41.6245 L 120.731 43.0192 L 117.86 43.5525 L 119.911 45.7472 L 118.659 46.6497 L 117.244 43.9422 L 115.808 46.6497 L 114.557 45.7677 \" fill=\"#191919\"/>\n",
       "<path class=\"atom-3\" d=\"M 137.008 91.8701 L 139.141 89.6959 L 136.311 89.1216 L 136.741 87.6653 L 139.346 88.978 L 138.977 86.1269 L 140.515 86.1064 L 140.085 88.9575 L 142.731 87.7268 L 143.182 89.1216 L 140.31 89.6549 L 142.361 91.8496 L 141.11 92.7521 L 139.695 90.0446 L 138.259 92.7521 L 137.008 91.8701 \" fill=\"#191919\"/>\n",
       "<path class=\"atom-4\" d=\"M 98.7356 134.073 Q 98.8997 134.135, 99.5766 134.422 Q 100.253 134.709, 100.992 134.893 Q 101.751 135.058, 102.489 135.058 Q 103.863 135.058, 104.663 134.401 Q 105.463 133.724, 105.463 132.555 Q 105.463 131.755, 105.053 131.263 Q 104.663 130.771, 104.048 130.504 Q 103.433 130.237, 102.407 129.93 Q 101.115 129.54, 100.335 129.171 Q 99.5766 128.802, 99.0228 128.022 Q 98.4895 127.243, 98.4895 125.93 Q 98.4895 124.105, 99.7202 122.976 Q 100.971 121.848, 103.433 121.848 Q 105.115 121.848, 107.022 122.648 L 106.55 124.228 Q 104.807 123.51, 103.494 123.51 Q 102.079 123.51, 101.3 124.105 Q 100.52 124.679, 100.541 125.684 Q 100.541 126.463, 100.93 126.935 Q 101.341 127.407, 101.915 127.673 Q 102.51 127.94, 103.494 128.248 Q 104.807 128.658, 105.586 129.068 Q 106.366 129.478, 106.92 130.319 Q 107.494 131.14, 107.494 132.555 Q 107.494 134.565, 106.14 135.652 Q 104.807 136.719, 102.571 136.719 Q 101.279 136.719, 100.294 136.432 Q 99.3304 136.165, 98.1818 135.693 L 98.7356 134.073 \" fill=\"#CCCC00\"/>\n",
       "<path class=\"atom-6\" d=\"M 7.37199 132.422 Q 7.53608 132.484, 8.21295 132.771 Q 8.88982 133.058, 9.62823 133.243 Q 10.3871 133.407, 11.1256 133.407 Q 12.4998 133.407, 13.2998 132.75 Q 14.0997 132.074, 14.0997 130.904 Q 14.0997 130.105, 13.6895 129.612 Q 13.2998 129.12, 12.6844 128.853 Q 12.0691 128.587, 11.0435 128.279 Q 9.7513 127.889, 8.97187 127.52 Q 8.21295 127.151, 7.65915 126.371 Q 7.12585 125.592, 7.12585 124.279 Q 7.12585 122.454, 8.35653 121.326 Q 9.60772 120.198, 12.0691 120.198 Q 13.751 120.198, 15.6586 120.997 L 15.1868 122.577 Q 13.4433 121.859, 12.1306 121.859 Q 10.7153 121.859, 9.9359 122.454 Q 9.15647 123.028, 9.17698 124.033 Q 9.17698 124.813, 9.5667 125.284 Q 9.97692 125.756, 10.5512 126.023 Q 11.1461 126.289, 12.1306 126.597 Q 13.4433 127.007, 14.2228 127.418 Q 15.0022 127.828, 15.556 128.669 Q 16.1303 129.489, 16.1303 130.904 Q 16.1303 132.915, 14.7766 134.002 Q 13.4433 135.068, 11.2076 135.068 Q 9.91539 135.068, 8.93085 134.781 Q 7.96681 134.514, 6.81818 134.043 L 7.37199 132.422 \" fill=\"#CCCC00\"/>\n",
       "</svg>"
      ],
      "text/plain": [
       "<IPython.core.display.SVG object>"
      ]
     },
     "metadata": {},
     "output_type": "display_data"
    },
    {
     "name": "stdout",
     "output_type": "stream",
     "text": [
      "Bit 1115 ----------------------------------------------\n"
     ]
    },
    {
     "data": {
      "image/svg+xml": [
       "<svg xmlns=\"http://www.w3.org/2000/svg\" xmlns:rdkit=\"http://www.rdkit.org/xml\" xmlns:xlink=\"http://www.w3.org/1999/xlink\" version=\"1.1\" baseProfile=\"full\" xml:space=\"preserve\" width=\"150px\" height=\"150px\" viewBox=\"0 0 150 150\">\n",
       "<!-- END OF HEADER -->\n",
       "<rect style=\"opacity:1.0;fill:#FFFFFF;stroke:none\" width=\"150\" height=\"150\" x=\"0\" y=\"0\"> </rect>\n",
       "<ellipse cx=\"77.547\" cy=\"89.2693\" rx=\"7.32196\" ry=\"7.32196\" style=\"fill:#E5E533;fill-rule:evenodd;stroke:#E5E533;stroke-width:2.0px;stroke-linecap:butt;stroke-linejoin:miter;stroke-opacity:1\"/>\n",
       "<ellipse cx=\"104.997\" cy=\"65.046\" rx=\"7.32196\" ry=\"7.32196\" style=\"fill:#E5E533;fill-rule:evenodd;stroke:#E5E533;stroke-width:2.0px;stroke-linecap:butt;stroke-linejoin:miter;stroke-opacity:1\"/>\n",
       "<ellipse cx=\"90.442\" cy=\"31.454\" rx=\"7.32196\" ry=\"7.32196\" style=\"fill:#E5E533;fill-rule:evenodd;stroke:#E5E533;stroke-width:2.0px;stroke-linecap:butt;stroke-linejoin:miter;stroke-opacity:1\"/>\n",
       "<ellipse cx=\"53.9963\" cy=\"34.9162\" rx=\"7.32196\" ry=\"7.32196\" style=\"fill:#9999E5;fill-rule:evenodd;stroke:#9999E5;stroke-width:2.0px;stroke-linecap:butt;stroke-linejoin:miter;stroke-opacity:1\"/>\n",
       "<ellipse cx=\"46.0267\" cy=\"70.6481\" rx=\"7.32196\" ry=\"7.32196\" style=\"fill:#E5E533;fill-rule:evenodd;stroke:#E5E533;stroke-width:2.0px;stroke-linecap:butt;stroke-linejoin:miter;stroke-opacity:1\"/>\n",
       "<ellipse cx=\"14.1401\" cy=\"88.6348\" rx=\"7.32196\" ry=\"7.32196\" style=\"fill:#E5E533;fill-rule:evenodd;stroke:#E5E533;stroke-width:2.0px;stroke-linecap:butt;stroke-linejoin:miter;stroke-opacity:1\"/>\n",
       "<path class=\"bond-0 atom-0 atom-1\" d=\"M 77.2426,119.69 L 77.547,89.2693\" style=\"fill:none;fill-rule:evenodd;stroke:#E5E5E5;stroke-width:2.0px;stroke-linecap:butt;stroke-linejoin:miter;stroke-opacity:1\"/>\n",
       "<path class=\"bond-1 atom-1 atom-2\" d=\"M 77.547,89.2693 L 104.997,65.046\" style=\"fill:none;fill-rule:evenodd;stroke:#E5E5E5;stroke-width:2.0px;stroke-linecap:butt;stroke-linejoin:miter;stroke-opacity:1\"/>\n",
       "<path class=\"bond-8 atom-6 atom-1\" d=\"M 46.0267,70.6481 L 77.547,89.2693\" style=\"fill:none;fill-rule:evenodd;stroke:#000000;stroke-width:2.0px;stroke-linecap:butt;stroke-linejoin:miter;stroke-opacity:1\"/>\n",
       "<path class=\"bond-8 atom-6 atom-1\" d=\"M 54.479,67.1372 L 76.5432,80.172\" style=\"fill:none;fill-rule:evenodd;stroke:#000000;stroke-width:2.0px;stroke-linecap:butt;stroke-linejoin:miter;stroke-opacity:1\"/>\n",
       "<path class=\"bond-2 atom-2 atom-3\" d=\"M 104.997,65.046 L 137.361,72.2643\" style=\"fill:none;fill-rule:evenodd;stroke:#E5E5E5;stroke-width:2.0px;stroke-linecap:butt;stroke-linejoin:miter;stroke-opacity:1\"/>\n",
       "<path class=\"bond-3 atom-2 atom-4\" d=\"M 104.997,65.046 L 99.0409,51.2996\" style=\"fill:none;fill-rule:evenodd;stroke:#000000;stroke-width:2.0px;stroke-linecap:butt;stroke-linejoin:miter;stroke-opacity:1\"/>\n",
       "<path class=\"bond-3 atom-2 atom-4\" d=\"M 99.0409,51.2996 L 93.0847,37.5532\" style=\"fill:none;fill-rule:evenodd;stroke:#0000FF;stroke-width:2.0px;stroke-linecap:butt;stroke-linejoin:miter;stroke-opacity:1\"/>\n",
       "<path class=\"bond-3 atom-2 atom-4\" d=\"M 96.4919,63.8331 L 92.3225,54.2106\" style=\"fill:none;fill-rule:evenodd;stroke:#000000;stroke-width:2.0px;stroke-linecap:butt;stroke-linejoin:miter;stroke-opacity:1\"/>\n",
       "<path class=\"bond-3 atom-2 atom-4\" d=\"M 92.3225,54.2106 L 88.1532,44.5881\" style=\"fill:none;fill-rule:evenodd;stroke:#0000FF;stroke-width:2.0px;stroke-linecap:butt;stroke-linejoin:miter;stroke-opacity:1\"/>\n",
       "<path class=\"bond-4 atom-4 atom-5\" d=\"M 85.5948,31.9144 L 72.5719,33.1516\" style=\"fill:none;fill-rule:evenodd;stroke:#0000FF;stroke-width:2.0px;stroke-linecap:butt;stroke-linejoin:miter;stroke-opacity:1\"/>\n",
       "<path class=\"bond-4 atom-4 atom-5\" d=\"M 72.5719,33.1516 L 59.5491,34.3887\" style=\"fill:none;fill-rule:evenodd;stroke:#FF0000;stroke-width:2.0px;stroke-linecap:butt;stroke-linejoin:miter;stroke-opacity:1\"/>\n",
       "<path class=\"bond-5 atom-5 atom-6\" d=\"M 52.5869,41.2351 L 49.3068,55.9416\" style=\"fill:none;fill-rule:evenodd;stroke:#FF0000;stroke-width:2.0px;stroke-linecap:butt;stroke-linejoin:miter;stroke-opacity:1\"/>\n",
       "<path class=\"bond-5 atom-5 atom-6\" d=\"M 49.3068,55.9416 L 46.0267,70.6481\" style=\"fill:none;fill-rule:evenodd;stroke:#000000;stroke-width:2.0px;stroke-linecap:butt;stroke-linejoin:miter;stroke-opacity:1\"/>\n",
       "<path class=\"bond-6 atom-6 atom-7\" d=\"M 46.0267,70.6481 L 14.1401,88.6348\" style=\"fill:none;fill-rule:evenodd;stroke:#000000;stroke-width:2.0px;stroke-linecap:butt;stroke-linejoin:miter;stroke-opacity:1\"/>\n",
       "<path class=\"bond-7 atom-7 atom-8\" d=\"M 10.4793,88.5982 L 10.1749,119.019\" style=\"fill:none;fill-rule:evenodd;stroke:#E5E5E5;stroke-width:2.0px;stroke-linecap:butt;stroke-linejoin:miter;stroke-opacity:1\"/>\n",
       "<path class=\"bond-7 atom-7 atom-8\" d=\"M 17.8009,88.6714 L 17.4965,119.092\" style=\"fill:none;fill-rule:evenodd;stroke:#E5E5E5;stroke-width:2.0px;stroke-linecap:butt;stroke-linejoin:miter;stroke-opacity:1;stroke-dasharray:6,6\"/>\n",
       "<path class=\"atom-0\" d=\"M 75.2257 124.72 L 76.7487 123.168 L 74.7278 122.758 L 75.0353 121.718 L 76.8951 122.656 L 76.6315 120.62 L 77.7298 120.605 L 77.4223 122.641 L 79.3114 121.762 L 79.6335 122.758 L 77.5834 123.139 L 79.0478 124.706 L 78.1545 125.35 L 77.1441 123.417 L 76.119 125.35 L 75.2257 124.72 \" fill=\"#191919\"/>\n",
       "<path class=\"atom-3\" d=\"M 138.774 71.8587 L 140.297 70.3064 L 138.276 69.8964 L 138.584 68.8567 L 140.443 69.7939 L 140.18 67.7584 L 141.278 67.7437 L 140.971 69.7792 L 142.86 68.9006 L 143.182 69.8964 L 141.132 70.2771 L 142.596 71.844 L 141.703 72.4883 L 140.692 70.5554 L 139.667 72.4883 L 138.774 71.8587 \" fill=\"#191919\"/>\n",
       "<path class=\"atom-4\" d=\"M 88.1502 26.27 L 91.5476 31.7615 Q 91.8844 32.3033, 92.4262 33.2845 Q 92.968 34.2656, 92.9973 34.3242 L 92.9973 26.27 L 94.3739 26.27 L 94.3739 36.6379 L 92.9534 36.6379 L 89.3071 30.6339 Q 88.8824 29.931, 88.4284 29.1256 Q 87.9891 28.3202, 87.8573 28.0712 L 87.8573 36.6379 L 86.5101 36.6379 L 86.5101 26.27 L 88.1502 26.27 \" fill=\"#0000FF\"/>\n",
       "<path class=\"atom-5\" d=\"M 49.237 34.9455 Q 49.237 32.4561, 50.4671 31.0649 Q 51.6972 29.6737, 53.9963 29.6737 Q 56.2954 29.6737, 57.5254 31.0649 Q 58.7555 32.4561, 58.7555 34.9455 Q 58.7555 37.4643, 57.5108 38.8994 Q 56.2661 40.3198, 53.9963 40.3198 Q 51.7118 40.3198, 50.4671 38.8994 Q 49.237 37.4789, 49.237 34.9455 M 53.9963 39.1483 Q 55.5778 39.1483, 56.4272 38.094 Q 57.2911 37.025, 57.2911 34.9455 Q 57.2911 32.91, 56.4272 31.8849 Q 55.5778 30.8452, 53.9963 30.8452 Q 52.4147 30.8452, 51.5507 31.8703 Q 50.7014 32.8954, 50.7014 34.9455 Q 50.7014 37.0396, 51.5507 38.094 Q 52.4147 39.1483, 53.9963 39.1483 \" fill=\"#FF0000\"/>\n",
       "<path class=\"atom-8\" d=\"M 11.8189 124.086 L 13.3418 122.534 L 11.321 122.124 L 11.6285 121.084 L 13.4883 122.021 L 13.2247 119.986 L 14.323 119.971 L 14.0155 122.006 L 15.9045 121.128 L 16.2267 122.124 L 14.1765 122.504 L 15.6409 124.071 L 14.7476 124.716 L 13.7372 122.783 L 12.7121 124.716 L 11.8189 124.086 \" fill=\"#191919\"/>\n",
       "</svg>"
      ],
      "text/plain": [
       "<IPython.core.display.SVG object>"
      ]
     },
     "metadata": {},
     "output_type": "display_data"
    },
    {
     "name": "stdout",
     "output_type": "stream",
     "text": [
      "Bit 17 ------------------------------------------------\n"
     ]
    },
    {
     "data": {
      "image/svg+xml": [
       "<svg xmlns=\"http://www.w3.org/2000/svg\" xmlns:rdkit=\"http://www.rdkit.org/xml\" xmlns:xlink=\"http://www.w3.org/1999/xlink\" version=\"1.1\" baseProfile=\"full\" xml:space=\"preserve\" width=\"150px\" height=\"150px\" viewBox=\"0 0 150 150\">\n",
       "<!-- END OF HEADER -->\n",
       "<rect style=\"opacity:1.0;fill:#FFFFFF;stroke:none\" width=\"150\" height=\"150\" x=\"0\" y=\"0\"> </rect>\n",
       "<ellipse cx=\"114.059\" cy=\"86.8628\" rx=\"5.92352\" ry=\"5.92352\" style=\"fill:#CCCCCC;fill-rule:evenodd;stroke:#CCCCCC;stroke-width:2.0px;stroke-linecap:butt;stroke-linejoin:miter;stroke-opacity:1\"/>\n",
       "<ellipse cx=\"90.2168\" cy=\"104.434\" rx=\"5.92352\" ry=\"5.92352\" style=\"fill:#CCCCCC;fill-rule:evenodd;stroke:#CCCCCC;stroke-width:2.0px;stroke-linecap:butt;stroke-linejoin:miter;stroke-opacity:1\"/>\n",
       "<ellipse cx=\"63.0787\" cy=\"92.5709\" rx=\"5.92352\" ry=\"5.92352\" style=\"fill:#9999E5;fill-rule:evenodd;stroke:#9999E5;stroke-width:2.0px;stroke-linecap:butt;stroke-linejoin:miter;stroke-opacity:1\"/>\n",
       "<ellipse cx=\"59.7832\" cy=\"63.1372\" rx=\"5.92352\" ry=\"5.92352\" style=\"fill:#CCCCCC;fill-rule:evenodd;stroke:#CCCCCC;stroke-width:2.0px;stroke-linecap:butt;stroke-linejoin:miter;stroke-opacity:1\"/>\n",
       "<ellipse cx=\"83.6257\" cy=\"45.5663\" rx=\"5.92352\" ry=\"5.92352\" style=\"fill:#CCCCCC;fill-rule:evenodd;stroke:#CCCCCC;stroke-width:2.0px;stroke-linecap:butt;stroke-linejoin:miter;stroke-opacity:1\"/>\n",
       "<path class=\"bond-0 atom-0 atom-1\" d=\"M 139.659,94.8206 L 115.246,84.149\" style=\"fill:none;fill-rule:evenodd;stroke:#E5E5E5;stroke-width:1.6px;stroke-linecap:butt;stroke-linejoin:miter;stroke-opacity:1\"/>\n",
       "<path class=\"bond-0 atom-0 atom-1\" d=\"M 137.286,100.248 L 112.873,89.5766\" style=\"fill:none;fill-rule:evenodd;stroke:#E5E5E5;stroke-width:1.6px;stroke-linecap:butt;stroke-linejoin:miter;stroke-opacity:1\"/>\n",
       "<path class=\"bond-1 atom-1 atom-2\" d=\"M 114.059,86.8628 L 90.2168,104.434\" style=\"fill:none;fill-rule:evenodd;stroke:#000000;stroke-width:2.0px;stroke-linecap:butt;stroke-linejoin:miter;stroke-opacity:1\"/>\n",
       "<path class=\"bond-9 atom-9 atom-1\" d=\"M 110.799,57.7431 L 114.059,86.8628\" style=\"fill:none;fill-rule:evenodd;stroke:#E5E5E5;stroke-width:1.6px;stroke-linecap:butt;stroke-linejoin:miter;stroke-opacity:1\"/>\n",
       "<path class=\"bond-2 atom-2 atom-3\" d=\"M 90.2168,104.434 L 63.0787,92.5709\" style=\"fill:none;fill-rule:evenodd;stroke:#000000;stroke-width:2.0px;stroke-linecap:butt;stroke-linejoin:miter;stroke-opacity:1\"/>\n",
       "<path class=\"bond-2 atom-2 atom-3\" d=\"M 88.5187,97.2266 L 69.522,88.9227\" style=\"fill:none;fill-rule:evenodd;stroke:#000000;stroke-width:2.0px;stroke-linecap:butt;stroke-linejoin:miter;stroke-opacity:1\"/>\n",
       "<path class=\"bond-3 atom-3 atom-4\" d=\"M 63.0787,92.5709 L 58.1862,97.1959\" style=\"fill:none;fill-rule:evenodd;stroke:#000000;stroke-width:2.0px;stroke-linecap:butt;stroke-linejoin:miter;stroke-opacity:1\"/>\n",
       "<path class=\"bond-3 atom-3 atom-4\" d=\"M 58.1862,97.1959 L 53.2937,101.821\" style=\"fill:none;fill-rule:evenodd;stroke:#FF0000;stroke-width:2.0px;stroke-linecap:butt;stroke-linejoin:miter;stroke-opacity:1\"/>\n",
       "<path class=\"bond-4 atom-3 atom-5\" d=\"M 63.0787,92.5709 L 59.7832,63.1372\" style=\"fill:none;fill-rule:evenodd;stroke:#000000;stroke-width:2.0px;stroke-linecap:butt;stroke-linejoin:miter;stroke-opacity:1\"/>\n",
       "<path class=\"bond-5 atom-5 atom-6\" d=\"M 59.7832,63.1372 L 48.1748,58.0629\" style=\"fill:none;fill-rule:evenodd;stroke:#000000;stroke-width:2.0px;stroke-linecap:butt;stroke-linejoin:miter;stroke-opacity:1\"/>\n",
       "<path class=\"bond-5 atom-5 atom-6\" d=\"M 48.1748,58.0629 L 36.5664,52.9886\" style=\"fill:none;fill-rule:evenodd;stroke:#0000FF;stroke-width:2.0px;stroke-linecap:butt;stroke-linejoin:miter;stroke-opacity:1\"/>\n",
       "<path class=\"bond-5 atom-5 atom-6\" d=\"M 53.9281,67.0426 L 45.8022,63.4905\" style=\"fill:none;fill-rule:evenodd;stroke:#000000;stroke-width:2.0px;stroke-linecap:butt;stroke-linejoin:miter;stroke-opacity:1\"/>\n",
       "<path class=\"bond-5 atom-5 atom-6\" d=\"M 45.8022,63.4905 L 37.6764,59.9385\" style=\"fill:none;fill-rule:evenodd;stroke:#0000FF;stroke-width:2.0px;stroke-linecap:butt;stroke-linejoin:miter;stroke-opacity:1\"/>\n",
       "<path class=\"bond-7 atom-5 atom-8\" d=\"M 59.7832,63.1372 L 83.6257,45.5663\" style=\"fill:none;fill-rule:evenodd;stroke:#000000;stroke-width:2.0px;stroke-linecap:butt;stroke-linejoin:miter;stroke-opacity:1\"/>\n",
       "<path class=\"bond-6 atom-6 atom-7\" d=\"M 28.7237,54.1643 L 11.4056,66.927\" style=\"fill:none;fill-rule:evenodd;stroke:#E5E5E5;stroke-width:1.6px;stroke-linecap:butt;stroke-linejoin:miter;stroke-opacity:1\"/>\n",
       "<path class=\"bond-8 atom-8 atom-9\" d=\"M 83.6257,45.5663 L 108.039,56.238\" style=\"fill:none;fill-rule:evenodd;stroke:#E5E5E5;stroke-width:1.6px;stroke-linecap:butt;stroke-linejoin:miter;stroke-opacity:1\"/>\n",
       "<path class=\"bond-8 atom-8 atom-9\" d=\"M 84.9151,52.5947 L 102.004,60.0649\" style=\"fill:none;fill-rule:evenodd;stroke:#E5E5E5;stroke-width:1.6px;stroke-linecap:butt;stroke-linejoin:miter;stroke-opacity:1\"/>\n",
       "<path class=\"atom-0\" d=\"M 139.616 97.7896 L 140.848 96.5338 L 139.213 96.2021 L 139.462 95.361 L 140.966 96.1192 L 140.753 94.4724 L 141.642 94.4606 L 141.393 96.1073 L 142.921 95.3965 L 143.182 96.2021 L 141.523 96.5101 L 142.708 97.7778 L 141.985 98.299 L 141.168 96.7352 L 140.339 98.299 L 139.616 97.7896 \" fill=\"#191919\"/>\n",
       "<path class=\"atom-4\" d=\"M 37.9517 101.774 L 39.089 101.774 L 39.089 105.34 L 43.3776 105.34 L 43.3776 101.774 L 44.5149 101.774 L 44.5149 110.161 L 43.3776 110.161 L 43.3776 106.287 L 39.089 106.287 L 39.089 110.161 L 37.9517 110.161 L 37.9517 101.774 \" fill=\"#FF0000\"/>\n",
       "<path class=\"atom-4\" d=\"M 45.1073 105.944 Q 45.1073 103.93, 46.1024 102.804 Q 47.0976 101.679, 48.9576 101.679 Q 50.8176 101.679, 51.8127 102.804 Q 52.8079 103.93, 52.8079 105.944 Q 52.8079 107.981, 51.8009 109.142 Q 50.7939 110.292, 48.9576 110.292 Q 47.1094 110.292, 46.1024 109.142 Q 45.1073 107.993, 45.1073 105.944 M 48.9576 109.344 Q 50.2371 109.344, 50.9242 108.491 Q 51.6232 107.626, 51.6232 105.944 Q 51.6232 104.297, 50.9242 103.468 Q 50.2371 102.627, 48.9576 102.627 Q 47.6781 102.627, 46.9791 103.456 Q 46.292 104.285, 46.292 105.944 Q 46.292 107.638, 46.9791 108.491 Q 47.6781 109.344, 48.9576 109.344 \" fill=\"#FF0000\"/>\n",
       "<path class=\"atom-6\" d=\"M 30.791 47.0806 L 33.5395 51.5233 Q 33.812 51.9616, 34.2503 52.7553 Q 34.6887 53.5491, 34.7124 53.5965 L 34.7124 47.0806 L 35.826 47.0806 L 35.826 55.4683 L 34.6768 55.4683 L 31.7269 50.611 Q 31.3834 50.0424, 31.0161 49.3908 Q 30.6607 48.7392, 30.5541 48.5378 L 30.5541 55.4683 L 29.4641 55.4683 L 29.4641 47.0806 L 30.791 47.0806 \" fill=\"#0000FF\"/>\n",
       "<path class=\"atom-7\" d=\"M 7.22098 67.9094 L 8.45307 66.6537 L 6.81818 66.3219 L 7.06697 65.4808 L 8.57154 66.239 L 8.3583 64.5923 L 9.24682 64.5804 L 8.99804 66.2272 L 10.5263 65.5163 L 10.7869 66.3219 L 9.12835 66.63 L 10.3131 67.8976 L 9.59039 68.4189 L 8.77294 66.8551 L 7.94365 68.4189 L 7.22098 67.9094 \" fill=\"#191919\"/>\n",
       "<path class=\"atom-9\" d=\"M 109.182 56.4932 L 110.414 55.2374 L 108.779 54.9057 L 109.028 54.0645 L 110.533 54.8228 L 110.319 53.176 L 111.208 53.1642 L 110.959 54.8109 L 112.487 54.1001 L 112.748 54.9057 L 111.09 55.2137 L 112.274 56.4813 L 111.552 57.0026 L 110.734 55.4388 L 109.905 57.0026 L 109.182 56.4932 \" fill=\"#191919\"/>\n",
       "</svg>"
      ],
      "text/plain": [
       "<IPython.core.display.SVG object>"
      ]
     },
     "metadata": {},
     "output_type": "display_data"
    },
    {
     "name": "stdout",
     "output_type": "stream",
     "text": [
      "Bit 1371 ----------------------------------------------\n"
     ]
    },
    {
     "data": {
      "image/svg+xml": [
       "<svg xmlns=\"http://www.w3.org/2000/svg\" xmlns:rdkit=\"http://www.rdkit.org/xml\" xmlns:xlink=\"http://www.w3.org/1999/xlink\" version=\"1.1\" baseProfile=\"full\" xml:space=\"preserve\" width=\"150px\" height=\"150px\" viewBox=\"0 0 150 150\">\n",
       "<!-- END OF HEADER -->\n",
       "<rect style=\"opacity:1.0;fill:#FFFFFF;stroke:none\" width=\"150\" height=\"150\" x=\"0\" y=\"0\"> </rect>\n",
       "<ellipse cx=\"88.4573\" cy=\"69.4243\" rx=\"6.02019\" ry=\"6.02019\" style=\"fill:#9999E5;fill-rule:evenodd;stroke:#9999E5;stroke-width:2.0px;stroke-linecap:butt;stroke-linejoin:miter;stroke-opacity:1\"/>\n",
       "<ellipse cx=\"112.783\" cy=\"51.6952\" rx=\"6.02019\" ry=\"6.02019\" style=\"fill:#E5E533;fill-rule:evenodd;stroke:#E5E533;stroke-width:2.0px;stroke-linecap:butt;stroke-linejoin:miter;stroke-opacity:1\"/>\n",
       "<ellipse cx=\"137.162\" cy=\"69.3518\" rx=\"6.02019\" ry=\"6.02019\" style=\"fill:#E5E533;fill-rule:evenodd;stroke:#E5E533;stroke-width:2.0px;stroke-linecap:butt;stroke-linejoin:miter;stroke-opacity:1\"/>\n",
       "<ellipse cx=\"127.903\" cy=\"97.9933\" rx=\"6.02019\" ry=\"6.02019\" style=\"fill:#E5E533;fill-rule:evenodd;stroke:#E5E533;stroke-width:2.0px;stroke-linecap:butt;stroke-linejoin:miter;stroke-opacity:1\"/>\n",
       "<ellipse cx=\"97.8017\" cy=\"98.0381\" rx=\"6.02019\" ry=\"6.02019\" style=\"fill:#E5E533;fill-rule:evenodd;stroke:#E5E533;stroke-width:2.0px;stroke-linecap:butt;stroke-linejoin:miter;stroke-opacity:1\"/>\n",
       "<path class=\"bond-0 atom-0 atom-1\" d=\"M 9.82194,71.4 L 33.517,79.06\" style=\"fill:none;fill-rule:evenodd;stroke:#E5E5E5;stroke-width:1.6px;stroke-linecap:butt;stroke-linejoin:miter;stroke-opacity:1\"/>\n",
       "<path class=\"bond-1 atom-1 atom-2\" d=\"M 41.4618,76.7408 L 50.6388,68.453\" style=\"fill:none;fill-rule:evenodd;stroke:#0000FF;stroke-width:2.0px;stroke-linecap:butt;stroke-linejoin:miter;stroke-opacity:1\"/>\n",
       "<path class=\"bond-1 atom-1 atom-2\" d=\"M 50.6388,68.453 L 59.8158,60.1653\" style=\"fill:none;fill-rule:evenodd;stroke:#000000;stroke-width:2.0px;stroke-linecap:butt;stroke-linejoin:miter;stroke-opacity:1\"/>\n",
       "<path class=\"bond-1 atom-1 atom-2\" d=\"M 40.18,69.7866 L 46.6039,63.9852\" style=\"fill:none;fill-rule:evenodd;stroke:#0000FF;stroke-width:2.0px;stroke-linecap:butt;stroke-linejoin:miter;stroke-opacity:1\"/>\n",
       "<path class=\"bond-1 atom-1 atom-2\" d=\"M 46.6039,63.9852 L 53.0278,58.1837\" style=\"fill:none;fill-rule:evenodd;stroke:#000000;stroke-width:2.0px;stroke-linecap:butt;stroke-linejoin:miter;stroke-opacity:1\"/>\n",
       "<path class=\"bond-2 atom-2 atom-3\" d=\"M 59.8158,60.1653 L 88.4573,69.4243\" style=\"fill:none;fill-rule:evenodd;stroke:#000000;stroke-width:2.0px;stroke-linecap:butt;stroke-linejoin:miter;stroke-opacity:1\"/>\n",
       "<path class=\"bond-3 atom-3 atom-4\" d=\"M 88.4573,69.4243 L 112.783,51.6952\" style=\"fill:none;fill-rule:evenodd;stroke:#000000;stroke-width:2.0px;stroke-linecap:butt;stroke-linejoin:miter;stroke-opacity:1\"/>\n",
       "<path class=\"bond-3 atom-3 atom-4\" d=\"M 95.652,71.6301 L 112.68,59.2197\" style=\"fill:none;fill-rule:evenodd;stroke:#000000;stroke-width:2.0px;stroke-linecap:butt;stroke-linejoin:miter;stroke-opacity:1\"/>\n",
       "<path class=\"bond-7 atom-7 atom-3\" d=\"M 96.1679,93.0353 L 92.3126,81.2298\" style=\"fill:none;fill-rule:evenodd;stroke:#CCCC00;stroke-width:2.0px;stroke-linecap:butt;stroke-linejoin:miter;stroke-opacity:1\"/>\n",
       "<path class=\"bond-7 atom-7 atom-3\" d=\"M 92.3126,81.2298 L 88.4573,69.4243\" style=\"fill:none;fill-rule:evenodd;stroke:#000000;stroke-width:2.0px;stroke-linecap:butt;stroke-linejoin:miter;stroke-opacity:1\"/>\n",
       "<path class=\"bond-4 atom-4 atom-5\" d=\"M 112.783,51.6952 L 137.162,69.3518\" style=\"fill:none;fill-rule:evenodd;stroke:#000000;stroke-width:2.0px;stroke-linecap:butt;stroke-linejoin:miter;stroke-opacity:1\"/>\n",
       "<path class=\"bond-5 atom-5 atom-6\" d=\"M 137.162,69.3518 L 127.903,97.9933\" style=\"fill:none;fill-rule:evenodd;stroke:#E5E5E5;stroke-width:1.6px;stroke-linecap:butt;stroke-linejoin:miter;stroke-opacity:1\"/>\n",
       "<path class=\"bond-5 atom-5 atom-6\" d=\"M 130.044,71.7962 L 123.563,91.8452\" style=\"fill:none;fill-rule:evenodd;stroke:#E5E5E5;stroke-width:1.6px;stroke-linecap:butt;stroke-linejoin:miter;stroke-opacity:1\"/>\n",
       "<path class=\"bond-6 atom-6 atom-7\" d=\"M 127.903,97.9933 L 114.595,98.0131\" style=\"fill:none;fill-rule:evenodd;stroke:#000000;stroke-width:2.0px;stroke-linecap:butt;stroke-linejoin:miter;stroke-opacity:1\"/>\n",
       "<path class=\"bond-6 atom-6 atom-7\" d=\"M 114.595,98.0131 L 101.287,98.0329\" style=\"fill:none;fill-rule:evenodd;stroke:#CCCC00;stroke-width:2.0px;stroke-linecap:butt;stroke-linejoin:miter;stroke-opacity:1\"/>\n",
       "<path class=\"atom-0\" d=\"M 7.22755 70.1298 L 8.47975 68.8535 L 6.81818 68.5164 L 7.07103 67.6615 L 8.60016 68.4321 L 8.38343 66.7585 L 9.28646 66.7464 L 9.03361 68.4201 L 10.5868 67.6976 L 10.8517 68.5164 L 9.16606 68.8294 L 10.3701 70.1177 L 9.63563 70.6475 L 8.80484 69.0582 L 7.96202 70.6475 L 7.22755 70.1298 \" fill=\"#191919\"/>\n",
       "<path class=\"atom-1\" d=\"M 35.5922 76.0777 L 38.3855 80.5929 Q 38.6624 81.0384, 39.1079 81.8451 Q 39.5534 82.6518, 39.5775 82.6999 L 39.5775 76.0777 L 40.7093 76.0777 L 40.7093 84.6023 L 39.5414 84.6023 L 36.5433 79.6658 Q 36.1942 79.0878, 35.8209 78.4256 Q 35.4597 77.7634, 35.3513 77.5587 L 35.3513 84.6023 L 34.2436 84.6023 L 34.2436 76.0777 L 35.5922 76.0777 \" fill=\"#0000FF\"/>\n",
       "<path class=\"atom-7\" d=\"M 95.3936 100.964 Q 95.4899 101, 95.8872 101.169 Q 96.2846 101.337, 96.718 101.446 Q 97.1635 101.542, 97.597 101.542 Q 98.4037 101.542, 98.8733 101.157 Q 99.3428 100.759, 99.3428 100.073 Q 99.3428 99.6034, 99.102 99.3144 Q 98.8733 99.0254, 98.5121 98.8689 Q 98.1508 98.7124, 97.5488 98.5318 Q 96.7903 98.303, 96.3327 98.0863 Q 95.8872 97.8696, 95.5622 97.412 Q 95.2491 96.9545, 95.2491 96.1839 Q 95.2491 95.1123, 95.9715 94.4501 Q 96.706 93.7879, 98.1508 93.7879 Q 99.1382 93.7879, 100.258 94.2574 L 99.981 95.1845 Q 98.9575 94.7631, 98.187 94.7631 Q 97.3562 94.7631, 96.8986 95.1123 Q 96.4411 95.4494, 96.4531 96.0394 Q 96.4531 96.497, 96.6819 96.7739 Q 96.9227 97.0508, 97.2599 97.2073 Q 97.609 97.3639, 98.187 97.5445 Q 98.9575 97.7853, 99.4151 98.0261 Q 99.8726 98.2669, 100.198 98.7605 Q 100.535 99.2422, 100.535 100.073 Q 100.535 101.253, 99.7402 101.891 Q 98.9575 102.517, 97.6451 102.517 Q 96.8866 102.517, 96.3087 102.349 Q 95.7428 102.192, 95.0685 101.915 L 95.3936 100.964 \" fill=\"#CCCC00\"/>\n",
       "</svg>"
      ],
      "text/plain": [
       "<IPython.core.display.SVG object>"
      ]
     },
     "metadata": {},
     "output_type": "display_data"
    },
    {
     "name": "stdout",
     "output_type": "stream",
     "text": [
      "Bit 1438 ----------------------------------------------\n"
     ]
    },
    {
     "data": {
      "image/svg+xml": [
       "<svg xmlns=\"http://www.w3.org/2000/svg\" xmlns:rdkit=\"http://www.rdkit.org/xml\" xmlns:xlink=\"http://www.w3.org/1999/xlink\" version=\"1.1\" baseProfile=\"full\" xml:space=\"preserve\" width=\"150px\" height=\"150px\" viewBox=\"0 0 150 150\">\n",
       "<!-- END OF HEADER -->\n",
       "<rect style=\"opacity:1.0;fill:#FFFFFF;stroke:none\" width=\"150\" height=\"150\" x=\"0\" y=\"0\"> </rect>\n",
       "<ellipse cx=\"63.4232\" cy=\"110.212\" rx=\"7.41331\" ry=\"7.41331\" style=\"fill:#CCCCCC;fill-rule:evenodd;stroke:#CCCCCC;stroke-width:2.0px;stroke-linecap:butt;stroke-linejoin:miter;stroke-opacity:1\"/>\n",
       "<ellipse cx=\"75\" cy=\"75\" rx=\"7.41331\" ry=\"7.41331\" style=\"fill:#9999E5;fill-rule:evenodd;stroke:#9999E5;stroke-width:2.0px;stroke-linecap:butt;stroke-linejoin:miter;stroke-opacity:1\"/>\n",
       "<ellipse cx=\"111.283\" cy=\"67.4196\" rx=\"7.41331\" ry=\"7.41331\" style=\"fill:#CCCCCC;fill-rule:evenodd;stroke:#CCCCCC;stroke-width:2.0px;stroke-linecap:butt;stroke-linejoin:miter;stroke-opacity:1\"/>\n",
       "<ellipse cx=\"50.2936\" cy=\"47.3681\" rx=\"7.41331\" ry=\"7.41331\" style=\"fill:#CCCCCC;fill-rule:evenodd;stroke:#CCCCCC;stroke-width:2.0px;stroke-linecap:butt;stroke-linejoin:miter;stroke-opacity:1\"/>\n",
       "<path class=\"bond-0 atom-0 atom-1\" d=\"M 30.5502,117.08 L 63.4232,110.212\" style=\"fill:none;fill-rule:evenodd;stroke:#E5E5E5;stroke-width:2.0px;stroke-linecap:butt;stroke-linejoin:miter;stroke-opacity:1\"/>\n",
       "<path class=\"bond-1 atom-1 atom-2\" d=\"M 63.4232,110.212 L 75,75\" style=\"fill:none;fill-rule:evenodd;stroke:#000000;stroke-width:2.0px;stroke-linecap:butt;stroke-linejoin:miter;stroke-opacity:1\"/>\n",
       "<path class=\"bond-1 atom-1 atom-2\" d=\"M 58.1173,102.615 L 66.221,77.9665\" style=\"fill:none;fill-rule:evenodd;stroke:#000000;stroke-width:2.0px;stroke-linecap:butt;stroke-linejoin:miter;stroke-opacity:1\"/>\n",
       "<path class=\"bond-9 atom-10 atom-1\" d=\"M 81.0129,128.773 L 79.9076,129.761\" style=\"fill:none;fill-rule:evenodd;stroke:#E5E5E5;stroke-width:1.0px;stroke-linecap:butt;stroke-linejoin:miter;stroke-opacity:1\"/>\n",
       "<path class=\"bond-9 atom-10 atom-1\" d=\"M 77.3063,123.515 L 75.0957,125.491\" style=\"fill:none;fill-rule:evenodd;stroke:#E5E5E5;stroke-width:1.0px;stroke-linecap:butt;stroke-linejoin:miter;stroke-opacity:1\"/>\n",
       "<path class=\"bond-9 atom-10 atom-1\" d=\"M 73.5997,118.257 L 70.2838,121.222\" style=\"fill:none;fill-rule:evenodd;stroke:#E5E5E5;stroke-width:1.0px;stroke-linecap:butt;stroke-linejoin:miter;stroke-opacity:1\"/>\n",
       "<path class=\"bond-9 atom-10 atom-1\" d=\"M 69.893,112.999 L 65.4719,116.952\" style=\"fill:none;fill-rule:evenodd;stroke:#E5E5E5;stroke-width:1.0px;stroke-linecap:butt;stroke-linejoin:miter;stroke-opacity:1\"/>\n",
       "<path class=\"bond-9 atom-10 atom-1\" d=\"M 66.1864,107.742 L 60.6601,112.683\" style=\"fill:none;fill-rule:evenodd;stroke:#E5E5E5;stroke-width:1.0px;stroke-linecap:butt;stroke-linejoin:miter;stroke-opacity:1\"/>\n",
       "<path class=\"bond-2 atom-2 atom-3\" d=\"M 75,75 L 111.283,67.4196\" style=\"fill:none;fill-rule:evenodd;stroke:#000000;stroke-width:2.0px;stroke-linecap:butt;stroke-linejoin:miter;stroke-opacity:1\"/>\n",
       "<path class=\"bond-5 atom-2 atom-6\" d=\"M 75,75 L 50.2936,47.3681\" style=\"fill:none;fill-rule:evenodd;stroke:#000000;stroke-width:2.0px;stroke-linecap:butt;stroke-linejoin:miter;stroke-opacity:1\"/>\n",
       "<path class=\"bond-3 atom-3 atom-4\" d=\"M 113.778,61.8093 L 112.604,61.4234\" style=\"fill:none;fill-rule:evenodd;stroke:#E5E5E5;stroke-width:1.0px;stroke-linecap:butt;stroke-linejoin:miter;stroke-opacity:1\"/>\n",
       "<path class=\"bond-3 atom-3 atom-4\" d=\"M 116.273,56.199 L 113.925,55.4272\" style=\"fill:none;fill-rule:evenodd;stroke:#E5E5E5;stroke-width:1.0px;stroke-linecap:butt;stroke-linejoin:miter;stroke-opacity:1\"/>\n",
       "<path class=\"bond-3 atom-3 atom-4\" d=\"M 118.768,50.5887 L 115.246,49.4311\" style=\"fill:none;fill-rule:evenodd;stroke:#E5E5E5;stroke-width:1.0px;stroke-linecap:butt;stroke-linejoin:miter;stroke-opacity:1\"/>\n",
       "<path class=\"bond-3 atom-3 atom-4\" d=\"M 121.262,44.9785 L 116.567,43.4349\" style=\"fill:none;fill-rule:evenodd;stroke:#E5E5E5;stroke-width:1.0px;stroke-linecap:butt;stroke-linejoin:miter;stroke-opacity:1\"/>\n",
       "<path class=\"bond-3 atom-3 atom-4\" d=\"M 123.757,39.3682 L 117.888,37.4387\" style=\"fill:none;fill-rule:evenodd;stroke:#E5E5E5;stroke-width:1.0px;stroke-linecap:butt;stroke-linejoin:miter;stroke-opacity:1\"/>\n",
       "<path class=\"bond-3 atom-3 atom-4\" d=\"M 126.252,33.7579 L 119.209,31.4425\" style=\"fill:none;fill-rule:evenodd;stroke:#E5E5E5;stroke-width:1.0px;stroke-linecap:butt;stroke-linejoin:miter;stroke-opacity:1\"/>\n",
       "<path class=\"bond-4 atom-3 atom-5\" d=\"M 111.283,67.4196 L 132.579,91.2376\" style=\"fill:none;fill-rule:evenodd;stroke:#E5E5E5;stroke-width:2.0px;stroke-linecap:butt;stroke-linejoin:miter;stroke-opacity:1\"/>\n",
       "<path class=\"bond-6 atom-6 atom-7\" d=\"M 50.2936,47.3681 L 85.4542,43.8089 L 83.9381,36.5523 Z\" style=\"fill:#E5E5E5;fill-rule:evenodd;fill-opacity:1;stroke:#E5E5E5;stroke-width:4.0px;stroke-linecap:butt;stroke-linejoin:miter;stroke-opacity:1;\"/>\n",
       "<path class=\"bond-7 atom-8 atom-6\" d=\"M 59.2464,18.159 L 60.4201,18.5448\" style=\"fill:none;fill-rule:evenodd;stroke:#E5E5E5;stroke-width:1.0px;stroke-linecap:butt;stroke-linejoin:miter;stroke-opacity:1\"/>\n",
       "<path class=\"bond-7 atom-8 atom-6\" d=\"M 56.7516,23.7692 L 59.0991,24.541\" style=\"fill:none;fill-rule:evenodd;stroke:#E5E5E5;stroke-width:1.0px;stroke-linecap:butt;stroke-linejoin:miter;stroke-opacity:1\"/>\n",
       "<path class=\"bond-7 atom-8 atom-6\" d=\"M 54.2568,29.3795 L 57.778,30.5372\" style=\"fill:none;fill-rule:evenodd;stroke:#E5E5E5;stroke-width:1.0px;stroke-linecap:butt;stroke-linejoin:miter;stroke-opacity:1\"/>\n",
       "<path class=\"bond-7 atom-8 atom-6\" d=\"M 51.762,34.9898 L 56.457,36.5334\" style=\"fill:none;fill-rule:evenodd;stroke:#E5E5E5;stroke-width:1.0px;stroke-linecap:butt;stroke-linejoin:miter;stroke-opacity:1\"/>\n",
       "<path class=\"bond-7 atom-8 atom-6\" d=\"M 49.2672,40.6001 L 55.1359,42.5296\" style=\"fill:none;fill-rule:evenodd;stroke:#E5E5E5;stroke-width:1.0px;stroke-linecap:butt;stroke-linejoin:miter;stroke-opacity:1\"/>\n",
       "<path class=\"bond-7 atom-8 atom-6\" d=\"M 46.7724,46.2104 L 53.8149,48.5258\" style=\"fill:none;fill-rule:evenodd;stroke:#E5E5E5;stroke-width:1.0px;stroke-linecap:butt;stroke-linejoin:miter;stroke-opacity:1\"/>\n",
       "<path class=\"bond-8 atom-6 atom-9\" d=\"M 50.2936,47.3681 L 17.4206,54.236\" style=\"fill:none;fill-rule:evenodd;stroke:#E5E5E5;stroke-width:2.0px;stroke-linecap:butt;stroke-linejoin:miter;stroke-opacity:1\"/>\n",
       "<path class=\"atom-0\" d=\"M 25.1608 116.621 L 26.7027 115.05 L 24.6566 114.635 L 24.968 113.582 L 26.851 114.531 L 26.5841 112.47 L 27.6961 112.455 L 27.3847 114.516 L 29.2974 113.626 L 29.6236 114.635 L 27.5478 115.02 L 29.0305 116.607 L 28.1261 117.259 L 27.103 115.302 L 26.0652 117.259 L 25.1608 116.621 \" fill=\"#191919\"/>\n",
       "<path class=\"atom-4\" d=\"M 120.881 31.036 L 122.423 29.4644 L 120.376 29.0492 L 120.688 27.9965 L 122.571 28.9454 L 122.304 26.8845 L 123.416 26.8697 L 123.105 28.9306 L 125.017 28.041 L 125.343 29.0492 L 123.268 29.4347 L 124.75 31.0212 L 123.846 31.6735 L 122.823 29.7164 L 121.785 31.6735 L 120.881 31.036 \" fill=\"#191919\"/>\n",
       "<path class=\"atom-5\" d=\"M 134.01 93.8802 L 135.552 92.3086 L 133.506 91.8935 L 133.817 90.8408 L 135.7 91.7897 L 135.434 89.7288 L 136.546 89.7139 L 136.234 91.7748 L 138.147 90.8853 L 138.473 91.8935 L 136.397 92.279 L 137.88 93.8654 L 136.975 94.5178 L 135.952 92.5607 L 134.915 94.5178 L 134.01 93.8802 \" fill=\"#191919\"/>\n",
       "<path class=\"atom-7\" d=\"M 84.5974 38.6164 L 86.1394 37.0448 L 84.0933 36.6296 L 84.4047 35.5769 L 86.2876 36.5258 L 86.0208 34.4649 L 87.1328 34.4501 L 86.8214 36.511 L 88.734 35.6214 L 89.0602 36.6296 L 86.9845 37.0151 L 88.4671 38.6016 L 87.5627 39.2539 L 86.5397 37.2968 L 85.5018 39.2539 L 84.5974 38.6164 \" fill=\"#191919\"/>\n",
       "<path class=\"atom-8\" d=\"M 59.891 10.9845 L 61.433 9.41284 L 59.3869 8.99769 L 59.6983 7.945 L 61.5813 8.89391 L 61.3144 6.83301 L 62.4264 6.81818 L 62.115 8.87908 L 64.0276 7.98948 L 64.3538 8.99769 L 62.2781 9.38319 L 63.7608 10.9696 L 62.8563 11.622 L 61.8333 9.66489 L 60.7954 11.622 L 59.891 10.9845 \" fill=\"#191919\"/>\n",
       "<path class=\"atom-8\" d=\"M 65.6141 6.9961 L 67.0375 6.9961 L 67.0375 11.4589 L 72.4047 11.4589 L 72.4047 6.9961 L 73.828 6.9961 L 73.828 17.4933 L 72.4047 17.4933 L 72.4047 12.645 L 67.0375 12.645 L 67.0375 17.4933 L 65.6141 17.4933 L 65.6141 6.9961 \" fill=\"#191919\"/>\n",
       "<path class=\"atom-9\" d=\"M 12.0311 53.7772 L 13.5731 52.2055 L 11.527 51.7904 L 11.8384 50.7377 L 13.7214 51.6866 L 13.4545 49.6257 L 14.5665 49.6109 L 14.2551 51.6718 L 16.1678 50.7822 L 16.4939 51.7904 L 14.4182 52.1759 L 15.9009 53.7623 L 14.9965 54.4147 L 13.9734 52.4576 L 12.9356 54.4147 L 12.0311 53.7772 \" fill=\"#191919\"/>\n",
       "<path class=\"atom-10\" d=\"M 86.1503 136.673 L 87.6922 135.101 L 85.6462 134.686 L 85.9575 133.633 L 87.8405 134.582 L 87.5736 132.521 L 88.6856 132.507 L 88.3743 134.568 L 90.2869 133.678 L 90.6131 134.686 L 88.5374 135.072 L 90.02 136.658 L 89.1156 137.31 L 88.0926 135.353 L 87.0547 137.31 L 86.1503 136.673 \" fill=\"#191919\"/>\n",
       "<path class=\"atom-10\" d=\"M 91.8733 132.685 L 93.2967 132.685 L 93.2967 137.147 L 98.6639 137.147 L 98.6639 132.685 L 100.087 132.685 L 100.087 143.182 L 98.6639 143.182 L 98.6639 138.334 L 93.2967 138.334 L 93.2967 143.182 L 91.8733 143.182 L 91.8733 132.685 \" fill=\"#191919\"/>\n",
       "</svg>"
      ],
      "text/plain": [
       "<IPython.core.display.SVG object>"
      ]
     },
     "metadata": {},
     "output_type": "display_data"
    },
    {
     "name": "stdout",
     "output_type": "stream",
     "text": [
      "Bit 545 -----------------------------------------------\n"
     ]
    },
    {
     "data": {
      "image/svg+xml": [
       "<svg xmlns=\"http://www.w3.org/2000/svg\" xmlns:rdkit=\"http://www.rdkit.org/xml\" xmlns:xlink=\"http://www.w3.org/1999/xlink\" version=\"1.1\" baseProfile=\"full\" xml:space=\"preserve\" width=\"150px\" height=\"150px\" viewBox=\"0 0 150 150\">\n",
       "<!-- END OF HEADER -->\n",
       "<rect style=\"opacity:1.0;fill:#FFFFFF;stroke:none\" width=\"150\" height=\"150\" x=\"0\" y=\"0\"> </rect>\n",
       "<ellipse cx=\"53.4203\" cy=\"81.3983\" rx=\"6.76467\" ry=\"6.76467\" style=\"fill:#9999E5;fill-rule:evenodd;stroke:#9999E5;stroke-width:2.0px;stroke-linecap:butt;stroke-linejoin:miter;stroke-opacity:1\"/>\n",
       "<path class=\"bond-0 atom-0 atom-1\" d=\"M 28.253,95.2223 L 40.8366,88.3103\" style=\"fill:none;fill-rule:evenodd;stroke:#0000FF;stroke-width:2.0px;stroke-linecap:butt;stroke-linejoin:miter;stroke-opacity:1\"/>\n",
       "<path class=\"bond-0 atom-0 atom-1\" d=\"M 40.8366,88.3103 L 53.4203,81.3983\" style=\"fill:none;fill-rule:evenodd;stroke:#000000;stroke-width:2.0px;stroke-linecap:butt;stroke-linejoin:miter;stroke-opacity:1\"/>\n",
       "<path class=\"bond-1 atom-1 atom-2\" d=\"M 56.8018,81.4704 L 57.0999,67.4815\" style=\"fill:none;fill-rule:evenodd;stroke:#000000;stroke-width:2.0px;stroke-linecap:butt;stroke-linejoin:miter;stroke-opacity:1\"/>\n",
       "<path class=\"bond-1 atom-1 atom-2\" d=\"M 57.0999,67.4815 L 57.398,53.4926\" style=\"fill:none;fill-rule:evenodd;stroke:#FF0000;stroke-width:2.0px;stroke-linecap:butt;stroke-linejoin:miter;stroke-opacity:1\"/>\n",
       "<path class=\"bond-1 atom-1 atom-2\" d=\"M 50.0387,81.3262 L 50.3368,67.3374\" style=\"fill:none;fill-rule:evenodd;stroke:#000000;stroke-width:2.0px;stroke-linecap:butt;stroke-linejoin:miter;stroke-opacity:1\"/>\n",
       "<path class=\"bond-1 atom-1 atom-2\" d=\"M 50.3368,67.3374 L 50.6349,53.3485\" style=\"fill:none;fill-rule:evenodd;stroke:#FF0000;stroke-width:2.0px;stroke-linecap:butt;stroke-linejoin:miter;stroke-opacity:1\"/>\n",
       "<path class=\"bond-2 atom-1 atom-3\" d=\"M 53.4203,81.3983 L 82.3452,98.9302\" style=\"fill:none;fill-rule:evenodd;stroke:#000000;stroke-width:2.0px;stroke-linecap:butt;stroke-linejoin:miter;stroke-opacity:1\"/>\n",
       "<path class=\"bond-3 atom-3 atom-4\" d=\"M 82.3452,98.9302 L 111.991,82.6464\" style=\"fill:none;fill-rule:evenodd;stroke:#000000;stroke-width:2.0px;stroke-linecap:butt;stroke-linejoin:miter;stroke-opacity:1\"/>\n",
       "<path class=\"bond-4 atom-4 atom-5\" d=\"M 111.991,82.6464 L 137.804,98.2921\" style=\"fill:none;fill-rule:evenodd;stroke:#E5E5E5;stroke-width:1.8px;stroke-linecap:butt;stroke-linejoin:miter;stroke-opacity:1\"/>\n",
       "<path class=\"atom-0\" d=\"M 6.81818 92.8927 L 8.117 92.8927 L 8.117 96.965 L 13.0146 96.965 L 13.0146 92.8927 L 14.3134 92.8927 L 14.3134 102.471 L 13.0146 102.471 L 13.0146 98.0474 L 8.117 98.0474 L 8.117 102.471 L 6.81818 102.471 L 6.81818 92.8927 \" fill=\"#0000FF\"/>\n",
       "<path class=\"atom-0\" d=\"M 14.7778 102.135 Q 15.0099 101.537, 15.5635 101.207 Q 16.1172 100.867, 16.8851 100.867 Q 17.8405 100.867, 18.3763 101.385 Q 18.9121 101.903, 18.9121 102.823 Q 18.9121 103.761, 18.2156 104.636 Q 17.528 105.511, 16.0993 106.547 L 19.0192 106.547 L 19.0192 107.261 L 14.7599 107.261 L 14.7599 106.663 Q 15.9386 105.823, 16.6351 105.198 Q 17.3405 104.573, 17.6798 104.011 Q 18.0191 103.448, 18.0191 102.868 Q 18.0191 102.26, 17.7155 101.921 Q 17.4119 101.582, 16.8851 101.582 Q 16.3761 101.582, 16.0368 101.787 Q 15.6975 101.993, 15.4564 102.448 L 14.7778 102.135 \" fill=\"#0000FF\"/>\n",
       "<path class=\"atom-0\" d=\"M 21.6574 92.8927 L 24.7962 97.9662 Q 25.1074 98.4668, 25.608 99.3733 Q 26.1086 100.28, 26.1356 100.334 L 26.1356 92.8927 L 27.4074 92.8927 L 27.4074 102.471 L 26.095 102.471 L 22.7262 96.9245 Q 22.3339 96.275, 21.9145 95.5309 Q 21.5086 94.7868, 21.3868 94.5568 L 21.3868 102.471 L 20.1421 102.471 L 20.1421 92.8927 L 21.6574 92.8927 \" fill=\"#0000FF\"/>\n",
       "<path class=\"atom-2\" d=\"M 49.7438 47.6097 Q 49.7438 45.3097, 50.8803 44.0244 Q 52.0167 42.7391, 54.1408 42.7391 Q 56.265 42.7391, 57.4014 44.0244 Q 58.5379 45.3097, 58.5379 47.6097 Q 58.5379 49.9367, 57.3879 51.2626 Q 56.2379 52.575, 54.1408 52.575 Q 52.0303 52.575, 50.8803 51.2626 Q 49.7438 49.9503, 49.7438 47.6097 M 54.1408 51.4926 Q 55.602 51.4926, 56.3867 50.5185 Q 57.1849 49.5309, 57.1849 47.6097 Q 57.1849 45.7291, 56.3867 44.7821 Q 55.602 43.8215, 54.1408 43.8215 Q 52.6797 43.8215, 51.8814 44.7685 Q 51.0967 45.7156, 51.0967 47.6097 Q 51.0967 49.5444, 51.8814 50.5185 Q 52.6797 51.4926, 54.1408 51.4926 \" fill=\"#FF0000\"/>\n",
       "<path class=\"atom-5\" d=\"M 139.109 99.1094 L 140.517 97.6753 L 138.649 97.2965 L 138.934 96.3359 L 140.652 97.2018 L 140.408 95.3212 L 141.423 95.3077 L 141.139 97.1882 L 142.884 96.3765 L 143.182 97.2965 L 141.288 97.6482 L 142.641 99.0959 L 141.815 99.6912 L 140.882 97.9053 L 139.935 99.6912 L 139.109 99.1094 \" fill=\"#191919\"/>\n",
       "</svg>"
      ],
      "text/plain": [
       "<IPython.core.display.SVG object>"
      ]
     },
     "metadata": {},
     "output_type": "display_data"
    },
    {
     "name": "stdout",
     "output_type": "stream",
     "text": [
      "Bit 856 -----------------------------------------------\n",
      "Bit 1606 ----------------------------------------------\n"
     ]
    },
    {
     "data": {
      "image/svg+xml": [
       "<svg xmlns=\"http://www.w3.org/2000/svg\" xmlns:rdkit=\"http://www.rdkit.org/xml\" xmlns:xlink=\"http://www.w3.org/1999/xlink\" version=\"1.1\" baseProfile=\"full\" xml:space=\"preserve\" width=\"150px\" height=\"150px\" viewBox=\"0 0 150 150\">\n",
       "<!-- END OF HEADER -->\n",
       "<rect style=\"opacity:1.0;fill:#FFFFFF;stroke:none\" width=\"150\" height=\"150\" x=\"0\" y=\"0\"> </rect>\n",
       "<ellipse cx=\"87.5999\" cy=\"44.9259\" rx=\"5.379\" ry=\"5.379\" style=\"fill:#CCCCCC;fill-rule:evenodd;stroke:#CCCCCC;stroke-width:2.0px;stroke-linecap:butt;stroke-linejoin:miter;stroke-opacity:1\"/>\n",
       "<ellipse cx=\"69.6733\" cy=\"24.8766\" rx=\"5.379\" ry=\"5.379\" style=\"fill:#CCCCCC;fill-rule:evenodd;stroke:#CCCCCC;stroke-width:2.0px;stroke-linecap:butt;stroke-linejoin:miter;stroke-opacity:1\"/>\n",
       "<ellipse cx=\"34.9467\" cy=\"55.9264\" rx=\"5.379\" ry=\"5.379\" style=\"fill:#CCCCCC;fill-rule:evenodd;stroke:#CCCCCC;stroke-width:2.0px;stroke-linecap:butt;stroke-linejoin:miter;stroke-opacity:1\"/>\n",
       "<ellipse cx=\"52.8734\" cy=\"75.9758\" rx=\"5.379\" ry=\"5.379\" style=\"fill:#CCCCCC;fill-rule:evenodd;stroke:#CCCCCC;stroke-width:2.0px;stroke-linecap:butt;stroke-linejoin:miter;stroke-opacity:1\"/>\n",
       "<ellipse cx=\"44.4734\" cy=\"101.525\" rx=\"5.379\" ry=\"5.379\" style=\"fill:#CCCCCC;fill-rule:evenodd;stroke:#CCCCCC;stroke-width:2.0px;stroke-linecap:butt;stroke-linejoin:miter;stroke-opacity:1\"/>\n",
       "<ellipse cx=\"88.7267\" cy=\"116.075\" rx=\"5.379\" ry=\"5.379\" style=\"fill:#CCCCCC;fill-rule:evenodd;stroke:#CCCCCC;stroke-width:2.0px;stroke-linecap:butt;stroke-linejoin:miter;stroke-opacity:1\"/>\n",
       "<ellipse cx=\"97.1266\" cy=\"90.5249\" rx=\"5.379\" ry=\"5.379\" style=\"fill:#CCCCCC;fill-rule:evenodd;stroke:#CCCCCC;stroke-width:2.0px;stroke-linecap:butt;stroke-linejoin:miter;stroke-opacity:1\"/>\n",
       "<ellipse cx=\"123.453\" cy=\"85.0247\" rx=\"5.379\" ry=\"5.379\" style=\"fill:#CCCCCC;fill-rule:evenodd;stroke:#CCCCCC;stroke-width:2.0px;stroke-linecap:butt;stroke-linejoin:miter;stroke-opacity:1\"/>\n",
       "<ellipse cx=\"79.2\" cy=\"70.4755\" rx=\"5.379\" ry=\"5.379\" style=\"fill:#9999E5;fill-rule:evenodd;stroke:#9999E5;stroke-width:2.0px;stroke-linecap:butt;stroke-linejoin:miter;stroke-opacity:1\"/>\n",
       "<path class=\"bond-0 atom-0 atom-1\" d=\"M 122.233,14.1612 L 113.927,39.4257\" style=\"fill:none;fill-rule:evenodd;stroke:#E5E5E5;stroke-width:1.4px;stroke-linecap:butt;stroke-linejoin:miter;stroke-opacity:1\"/>\n",
       "<path class=\"bond-1 atom-2 atom-1\" d=\"M 92.9752,44.3524 L 92.7552,43.2994\" style=\"fill:none;fill-rule:evenodd;stroke:#000000;stroke-width:1.0px;stroke-linecap:butt;stroke-linejoin:miter;stroke-opacity:1\"/>\n",
       "<path class=\"bond-1 atom-2 atom-1\" d=\"M 98.3506,43.7789 L 97.9106,41.6728\" style=\"fill:none;fill-rule:evenodd;stroke:#000000;stroke-width:1.0px;stroke-linecap:butt;stroke-linejoin:miter;stroke-opacity:1\"/>\n",
       "<path class=\"bond-1 atom-2 atom-1\" d=\"M 103.726,43.2054 L 103.066,40.0462\" style=\"fill:none;fill-rule:evenodd;stroke:#000000;stroke-width:1.0px;stroke-linecap:butt;stroke-linejoin:miter;stroke-opacity:1\"/>\n",
       "<path class=\"bond-1 atom-2 atom-1\" d=\"M 109.101,42.6319 L 108.221,38.4196\" style=\"fill:none;fill-rule:evenodd;stroke:#000000;stroke-width:1.0px;stroke-linecap:butt;stroke-linejoin:miter;stroke-opacity:1\"/>\n",
       "<path class=\"bond-1 atom-2 atom-1\" d=\"M 114.477,42.0584 L 113.376,36.793\" style=\"fill:none;fill-rule:evenodd;stroke:#000000;stroke-width:1.0px;stroke-linecap:butt;stroke-linejoin:miter;stroke-opacity:1\"/>\n",
       "<path class=\"bond-2 atom-2 atom-3\" d=\"M 87.5999,44.9259 L 80.7119,37.2223\" style=\"fill:none;fill-rule:evenodd;stroke:#000000;stroke-width:2.0px;stroke-linecap:butt;stroke-linejoin:miter;stroke-opacity:1\"/>\n",
       "<path class=\"bond-2 atom-2 atom-3\" d=\"M 80.7119,37.2223 L 73.8239,29.5186\" style=\"fill:none;fill-rule:evenodd;stroke:#FF0000;stroke-width:2.0px;stroke-linecap:butt;stroke-linejoin:miter;stroke-opacity:1\"/>\n",
       "<path class=\"bond-17 atom-16 atom-2\" d=\"M 79.2,70.4755 L 87.5999,44.9259\" style=\"fill:none;fill-rule:evenodd;stroke:#000000;stroke-width:2.0px;stroke-linecap:butt;stroke-linejoin:miter;stroke-opacity:1\"/>\n",
       "<path class=\"bond-3 atom-3 atom-4\" d=\"M 65.5046,25.7475 L 45.7146,29.8821\" style=\"fill:none;fill-rule:evenodd;stroke:#E5E5E5;stroke-width:1.4px;stroke-linecap:butt;stroke-linejoin:miter;stroke-opacity:1\"/>\n",
       "<path class=\"bond-4 atom-4 atom-5\" d=\"M 43.253,30.6619 L 34.9467,55.9264\" style=\"fill:none;fill-rule:evenodd;stroke:#E5E5E5;stroke-width:1.4px;stroke-linecap:butt;stroke-linejoin:miter;stroke-opacity:1\"/>\n",
       "<path class=\"bond-5 atom-5 atom-6\" d=\"M 34.3967,53.2938 L 10.5445,58.277\" style=\"fill:none;fill-rule:evenodd;stroke:#E5E5E5;stroke-width:1.4px;stroke-linecap:butt;stroke-linejoin:miter;stroke-opacity:1\"/>\n",
       "<path class=\"bond-5 atom-5 atom-6\" d=\"M 35.4968,58.5591 L 11.6445,63.5424\" style=\"fill:none;fill-rule:evenodd;stroke:#E5E5E5;stroke-width:1.4px;stroke-linecap:butt;stroke-linejoin:miter;stroke-opacity:1\"/>\n",
       "<path class=\"bond-6 atom-5 atom-7\" d=\"M 34.9467,55.9264 L 52.8734,75.9758\" style=\"fill:none;fill-rule:evenodd;stroke:#000000;stroke-width:2.0px;stroke-linecap:butt;stroke-linejoin:miter;stroke-opacity:1\"/>\n",
       "<path class=\"bond-7 atom-7 atom-8\" d=\"M 52.8734,75.9758 L 44.4734,101.525\" style=\"fill:none;fill-rule:evenodd;stroke:#000000;stroke-width:2.0px;stroke-linecap:butt;stroke-linejoin:miter;stroke-opacity:1\"/>\n",
       "<path class=\"bond-7 atom-7 atom-8\" d=\"M 46.5035,78.1282 L 40.6235,96.013\" style=\"fill:none;fill-rule:evenodd;stroke:#000000;stroke-width:2.0px;stroke-linecap:butt;stroke-linejoin:miter;stroke-opacity:1\"/>\n",
       "<path class=\"bond-18 atom-16 atom-7\" d=\"M 79.2,70.4755 L 52.8734,75.9758\" style=\"fill:none;fill-rule:evenodd;stroke:#000000;stroke-width:2.0px;stroke-linecap:butt;stroke-linejoin:miter;stroke-opacity:1\"/>\n",
       "<path class=\"bond-8 atom-8 atom-9\" d=\"M 44.4734,101.525 L 33.7648,106.703\" style=\"fill:none;fill-rule:evenodd;stroke:#E5E5E5;stroke-width:1.4px;stroke-linecap:butt;stroke-linejoin:miter;stroke-opacity:1\"/>\n",
       "<path class=\"bond-9 atom-8 atom-10\" d=\"M 44.4734,101.525 L 59.9257,118.807\" style=\"fill:none;fill-rule:evenodd;stroke:#E5E5E5;stroke-width:1.4px;stroke-linecap:butt;stroke-linejoin:miter;stroke-opacity:1\"/>\n",
       "<path class=\"bond-10 atom-10 atom-11\" d=\"M 64.8744,121.058 L 88.7267,116.075\" style=\"fill:none;fill-rule:evenodd;stroke:#E5E5E5;stroke-width:1.4px;stroke-linecap:butt;stroke-linejoin:miter;stroke-opacity:1\"/>\n",
       "<path class=\"bond-11 atom-11 atom-12\" d=\"M 88.7267,116.075 L 97.1266,90.5249\" style=\"fill:none;fill-rule:evenodd;stroke:#000000;stroke-width:2.0px;stroke-linecap:butt;stroke-linejoin:miter;stroke-opacity:1\"/>\n",
       "<path class=\"bond-11 atom-11 atom-12\" d=\"M 84.8767,110.562 L 90.7567,92.6774\" style=\"fill:none;fill-rule:evenodd;stroke:#000000;stroke-width:2.0px;stroke-linecap:butt;stroke-linejoin:miter;stroke-opacity:1\"/>\n",
       "<path class=\"bond-19 atom-18 atom-11\" d=\"M 100.817,128.588 L 99.8147,129.484\" style=\"fill:none;fill-rule:evenodd;stroke:#E5E5E5;stroke-width:1.0px;stroke-linecap:butt;stroke-linejoin:miter;stroke-opacity:1\"/>\n",
       "<path class=\"bond-19 atom-18 atom-11\" d=\"M 97.4553,123.819 L 95.4503,125.612\" style=\"fill:none;fill-rule:evenodd;stroke:#E5E5E5;stroke-width:1.0px;stroke-linecap:butt;stroke-linejoin:miter;stroke-opacity:1\"/>\n",
       "<path class=\"bond-19 atom-18 atom-11\" d=\"M 94.0934,119.051 L 91.086,121.74\" style=\"fill:none;fill-rule:evenodd;stroke:#E5E5E5;stroke-width:1.0px;stroke-linecap:butt;stroke-linejoin:miter;stroke-opacity:1\"/>\n",
       "<path class=\"bond-19 atom-18 atom-11\" d=\"M 90.7316,114.282 L 86.7217,117.867\" style=\"fill:none;fill-rule:evenodd;stroke:#E5E5E5;stroke-width:1.0px;stroke-linecap:butt;stroke-linejoin:miter;stroke-opacity:1\"/>\n",
       "<path class=\"bond-12 atom-12 atom-13\" d=\"M 97.1266,90.5249 L 123.453,85.0247\" style=\"fill:none;fill-rule:evenodd;stroke:#000000;stroke-width:2.0px;stroke-linecap:butt;stroke-linejoin:miter;stroke-opacity:1\"/>\n",
       "<path class=\"bond-15 atom-12 atom-16\" d=\"M 97.1266,90.5249 L 79.2,70.4755\" style=\"fill:none;fill-rule:evenodd;stroke:#000000;stroke-width:2.0px;stroke-linecap:butt;stroke-linejoin:miter;stroke-opacity:1\"/>\n",
       "<path class=\"bond-13 atom-13 atom-14\" d=\"M 125.625,80.1398 L 124.603,79.8038\" style=\"fill:none;fill-rule:evenodd;stroke:#E5E5E5;stroke-width:1.0px;stroke-linecap:butt;stroke-linejoin:miter;stroke-opacity:1\"/>\n",
       "<path class=\"bond-13 atom-13 atom-14\" d=\"M 127.798,75.2549 L 125.754,74.5829\" style=\"fill:none;fill-rule:evenodd;stroke:#E5E5E5;stroke-width:1.0px;stroke-linecap:butt;stroke-linejoin:miter;stroke-opacity:1\"/>\n",
       "<path class=\"bond-13 atom-13 atom-14\" d=\"M 129.97,70.37 L 126.904,69.362\" style=\"fill:none;fill-rule:evenodd;stroke:#E5E5E5;stroke-width:1.0px;stroke-linecap:butt;stroke-linejoin:miter;stroke-opacity:1\"/>\n",
       "<path class=\"bond-13 atom-13 atom-14\" d=\"M 132.142,65.4851 L 128.054,64.1411\" style=\"fill:none;fill-rule:evenodd;stroke:#E5E5E5;stroke-width:1.0px;stroke-linecap:butt;stroke-linejoin:miter;stroke-opacity:1\"/>\n",
       "<path class=\"bond-13 atom-13 atom-14\" d=\"M 134.314,60.6002 L 129.204,58.9202\" style=\"fill:none;fill-rule:evenodd;stroke:#E5E5E5;stroke-width:1.0px;stroke-linecap:butt;stroke-linejoin:miter;stroke-opacity:1\"/>\n",
       "<path class=\"bond-14 atom-13 atom-15\" d=\"M 123.453,85.0247 L 138.906,102.307\" style=\"fill:none;fill-rule:evenodd;stroke:#E5E5E5;stroke-width:1.4px;stroke-linecap:butt;stroke-linejoin:miter;stroke-opacity:1\"/>\n",
       "<path class=\"bond-16 atom-16 atom-17\" d=\"M 79.2,70.4755 L 106.077,67.608 L 104.977,62.3427 Z\" style=\"fill:#000000;fill-rule:evenodd;fill-opacity:1;stroke:#000000;stroke-width:2.0px;stroke-linecap:butt;stroke-linejoin:miter;stroke-opacity:1;\"/>\n",
       "<path class=\"atom-0\" d=\"M 120.89 13.0262 L 122.009 11.8858 L 120.525 11.5846 L 120.75 10.8208 L 122.117 11.5093 L 121.923 10.014 L 122.73 10.0032 L 122.504 11.4986 L 123.892 10.8531 L 124.128 11.5846 L 122.622 11.8643 L 123.698 13.0154 L 123.042 13.4888 L 122.3 12.0687 L 121.547 13.4888 L 120.89 13.0262 \" fill=\"#191919\"/>\n",
       "<path class=\"atom-3\" d=\"M 66.1769 24.8981 Q 66.1769 23.0692, 67.0806 22.0472 Q 67.9843 21.0252, 69.6733 21.0252 Q 71.3623 21.0252, 72.266 22.0472 Q 73.1696 23.0692, 73.1696 24.8981 Q 73.1696 26.7484, 72.2552 27.8027 Q 71.3408 28.8463, 69.6733 28.8463 Q 67.995 28.8463, 67.0806 27.8027 Q 66.1769 26.7592, 66.1769 24.8981 M 69.6733 27.9856 Q 70.8351 27.9856, 71.4591 27.211 Q 72.0938 26.4257, 72.0938 24.8981 Q 72.0938 23.4027, 71.4591 22.6496 Q 70.8351 21.8858, 69.6733 21.8858 Q 68.5114 21.8858, 67.8767 22.6389 Q 67.2527 23.3919, 67.2527 24.8981 Q 67.2527 26.4365, 67.8767 27.211 Q 68.5114 27.9856, 69.6733 27.9856 \" fill=\"#FF0000\"/>\n",
       "<path class=\"atom-4\" d=\"M 41.9105 29.5269 L 43.0293 28.3866 L 41.5447 28.0853 L 41.7706 27.3215 L 43.1369 28.01 L 42.9433 26.5147 L 43.7501 26.5039 L 43.5242 27.9993 L 44.912 27.3538 L 45.1487 28.0853 L 43.6425 28.365 L 44.7183 29.5162 L 44.0621 29.9895 L 43.3198 28.5694 L 42.5667 29.9895 L 41.9105 29.5269 \" fill=\"#191919\"/>\n",
       "<path class=\"atom-6\" d=\"M 7.18395 60.5768 L 8.30279 59.4364 L 6.81818 59.1352 L 7.0441 58.3714 L 8.41037 59.0599 L 8.21672 57.5645 L 9.02357 57.5538 L 8.79766 59.0491 L 10.1854 58.4036 L 10.4221 59.1352 L 8.91599 59.4149 L 9.99179 60.566 L 9.33556 61.0394 L 8.59325 59.6193 L 7.84019 61.0394 L 7.18395 60.5768 \" fill=\"#191919\"/>\n",
       "<path class=\"atom-9\" d=\"M 30.1693 106.897 L 31.2881 105.757 L 29.8035 105.456 L 30.0294 104.692 L 31.3957 105.38 L 31.2021 103.885 L 32.0089 103.874 L 31.783 105.37 L 33.1708 104.724 L 33.4074 105.456 L 31.9013 105.735 L 32.9771 106.886 L 32.3209 107.36 L 31.5786 105.94 L 30.8255 107.36 L 30.1693 106.897 \" fill=\"#191919\"/>\n",
       "<path class=\"atom-10\" d=\"M 60.9639 120.725 L 62.0827 119.585 L 60.5981 119.283 L 60.824 118.52 L 62.1903 119.208 L 61.9966 117.713 L 62.8035 117.702 L 62.5776 119.197 L 63.9654 118.552 L 64.202 119.283 L 62.6959 119.563 L 63.7717 120.714 L 63.1155 121.187 L 62.3732 119.767 L 61.6201 121.187 L 60.9639 120.725 \" fill=\"#191919\"/>\n",
       "<path class=\"atom-14\" d=\"M 130.417 58.6252 L 131.536 57.4848 L 130.051 57.1836 L 130.277 56.4198 L 131.643 57.1083 L 131.45 55.6129 L 132.257 55.6022 L 132.031 57.0976 L 133.418 56.4521 L 133.655 57.1836 L 132.149 57.4633 L 133.225 58.6144 L 132.569 59.0878 L 131.826 57.6677 L 131.073 59.0878 L 130.417 58.6252 \" fill=\"#191919\"/>\n",
       "<path class=\"atom-15\" d=\"M 139.944 104.224 L 141.062 103.084 L 139.578 102.783 L 139.804 102.019 L 141.17 102.707 L 140.976 101.212 L 141.783 101.201 L 141.557 102.697 L 142.945 102.051 L 143.182 102.783 L 141.676 103.062 L 142.751 104.213 L 142.095 104.687 L 141.353 103.267 L 140.6 104.687 L 139.944 104.224 \" fill=\"#191919\"/>\n",
       "<path class=\"atom-18\" d=\"M 105.217 135.274 L 106.336 134.134 L 104.851 133.832 L 105.077 133.069 L 106.444 133.757 L 106.25 132.262 L 107.057 132.251 L 106.831 133.746 L 108.219 133.101 L 108.455 133.832 L 106.949 134.112 L 108.025 135.263 L 107.369 135.737 L 106.626 134.317 L 105.873 135.737 L 105.217 135.274 \" fill=\"#191919\"/>\n",
       "<path class=\"atom-18\" d=\"M 109.37 132.38 L 110.402 132.38 L 110.402 135.618 L 114.297 135.618 L 114.297 132.38 L 115.33 132.38 L 115.33 139.997 L 114.297 139.997 L 114.297 136.479 L 110.402 136.479 L 110.402 139.997 L 109.37 139.997 L 109.37 132.38 \" fill=\"#191919\"/>\n",
       "</svg>"
      ],
      "text/plain": [
       "<IPython.core.display.SVG object>"
      ]
     },
     "metadata": {},
     "output_type": "display_data"
    }
   ],
   "source": [
    "for bit_num in non_inhibiting_bits:\n",
    "    search_bit = str(bit_num)\n",
    "    print('Bit {}'.format(search_bit), '-'*(50 - len(search_bit)))\n",
    "\n",
    "    # get bit info corresponding to it\n",
    "    chemblid, bi = [(_id, bit_info) for _id, bit_info in chembl_to_bitinfo.items()\n",
    "                    if search_bit in list(bit_info.keys())][0]\n",
    "    \n",
    "    search_mol = get_mol(chemblid, df_smiles)\n",
    "    try:\n",
    "        bit_img = Draw.DrawMorganBit(search_mol, search_bit, bi, useSVG=True)\n",
    "        display(bit_img)\n",
    "    except:\n",
    "        pass"
   ]
  },
  {
   "cell_type": "code",
   "execution_count": null,
   "id": "46de211e",
   "metadata": {},
   "outputs": [],
   "source": []
  },
  {
   "cell_type": "code",
   "execution_count": null,
   "id": "eccfa051",
   "metadata": {},
   "outputs": [],
   "source": []
  }
 ],
 "metadata": {
  "kernelspec": {
   "display_name": "Python 3",
   "language": "python",
   "name": "python3"
  },
  "language_info": {
   "codemirror_mode": {
    "name": "ipython",
    "version": 3
   },
   "file_extension": ".py",
   "mimetype": "text/x-python",
   "name": "python",
   "nbconvert_exporter": "python",
   "pygments_lexer": "ipython3",
   "version": "3.9.2"
  }
 },
 "nbformat": 4,
 "nbformat_minor": 5
}
