{
 "cells": [
  {
   "cell_type": "code",
   "execution_count": 1,
   "id": "7dc19b8f-841a-47b4-b534-39bf07a03f19",
   "metadata": {},
   "outputs": [],
   "source": [
    "from scipy import stats, sparse\n",
    "import numpy as np\n",
    "import pandas as pd\n",
    "import matplotlib.pyplot as plt\n",
    "from pathlib import Path"
   ]
  },
  {
   "cell_type": "code",
   "execution_count": 2,
   "id": "5e989876-e450-47a7-9eef-1076a57286ea",
   "metadata": {},
   "outputs": [],
   "source": [
    "ROOT = Path('.').absolute().parent\n",
    "DATA_DIR = ROOT / 'data'\n",
    "RAW_DATA_DIR = DATA_DIR / 'raw'"
   ]
  },
  {
   "cell_type": "code",
   "execution_count": 3,
   "id": "1075ae56-9430-4c66-9ab5-ef85ec1626df",
   "metadata": {},
   "outputs": [
    {
     "data": {
      "text/plain": [
       "[PosixPath('/home/acapelo/Projects/datasci4health/data/raw/train'),\n",
       " PosixPath('/home/acapelo/Projects/datasci4health/data/raw/.ipynb_checkpoints'),\n",
       " PosixPath('/home/acapelo/Projects/datasci4health/data/raw/test'),\n",
       " PosixPath('/home/acapelo/Projects/datasci4health/data/raw/egfr_erbB1.h5'),\n",
       " PosixPath('/home/acapelo/Projects/datasci4health/data/raw/train/sparse_train_X.npz'),\n",
       " PosixPath('/home/acapelo/Projects/datasci4health/data/raw/train/sparse_train_y.npz'),\n",
       " PosixPath('/home/acapelo/Projects/datasci4health/data/raw/test/sparse_test_y.npz'),\n",
       " PosixPath('/home/acapelo/Projects/datasci4health/data/raw/test/sparse_test_X.npz')]"
      ]
     },
     "execution_count": 3,
     "metadata": {},
     "output_type": "execute_result"
    }
   ],
   "source": [
    "[*RAW_DATA_DIR.rglob('*')]"
   ]
  },
  {
   "cell_type": "markdown",
   "id": "9e42e037-b968-4341-ac08-a63d4fb5bbf1",
   "metadata": {},
   "source": [
    "# Load raw data"
   ]
  },
  {
   "cell_type": "code",
   "execution_count": 4,
   "id": "a49e28a7-314f-4aa9-904a-bd1e5d5b3c70",
   "metadata": {},
   "outputs": [],
   "source": [
    "train_X_csr = sparse.load_npz(RAW_DATA_DIR / 'train' / 'sparse_train_X.npz')\n",
    "train_y_csr = sparse.load_npz(RAW_DATA_DIR / 'train' / 'sparse_train_y.npz')"
   ]
  },
  {
   "cell_type": "markdown",
   "id": "4756e0c3-211d-43c6-b43a-afbf0941b36f",
   "metadata": {},
   "source": [
    "**To numpy arrays**"
   ]
  },
  {
   "cell_type": "code",
   "execution_count": 5,
   "id": "91c57445-17bb-4901-bdb7-267184957d10",
   "metadata": {},
   "outputs": [],
   "source": [
    "train_X = train_X_csr.toarray()\n",
    "train_y = train_y_csr.toarray().squeeze()"
   ]
  },
  {
   "cell_type": "markdown",
   "id": "aedb92f1-0163-4d9a-86d4-f9f67855fd0b",
   "metadata": {},
   "source": [
    "# Modelling pipelines"
   ]
  },
  {
   "cell_type": "markdown",
   "id": "df4e84ed-c93c-4476-9998-48df18d23f63",
   "metadata": {},
   "source": [
    "## Try different tree based algorithms"
   ]
  },
  {
   "cell_type": "code",
   "execution_count": 6,
   "id": "5cd47c95-4e06-4216-ba96-f94a774715c6",
   "metadata": {},
   "outputs": [],
   "source": [
    "from sklearn.ensemble import (\n",
    "    ExtraTreesClassifier,\n",
    "    RandomForestClassifier,\n",
    "    AdaBoostClassifier)\n",
    "from sklearn.model_selection import RandomizedSearchCV"
   ]
  },
  {
   "cell_type": "markdown",
   "id": "ab70053f-8431-45d8-9bdc-22cb15db43de",
   "metadata": {},
   "source": [
    "### Based on Bagging"
   ]
  },
  {
   "cell_type": "code",
   "execution_count": 28,
   "id": "22d648ff-8329-4024-a23e-ca4c415b71e0",
   "metadata": {},
   "outputs": [],
   "source": [
    "bagging_param_distribs = {\n",
    "    'n_estimators': stats.randint(50, 250),\n",
    "    'criterion': ['gini', 'entropy'],\n",
    "    'max_depth': stats.randint(1, 20),\n",
    "    'min_samples_leaf': stats.randint(5, 50),\n",
    "    'max_samples': stats.loguniform(3e-1, 1)\n",
    "}"
   ]
  },
  {
   "cell_type": "code",
   "execution_count": 29,
   "id": "7010e894-ce86-4fd2-a2d3-01712277ba79",
   "metadata": {},
   "outputs": [
    {
     "name": "stdout",
     "output_type": "stream",
     "text": [
      "Fitting 5 folds for each of 50 candidates, totalling 250 fits\n",
      "Fitting 5 folds for each of 50 candidates, totalling 250 fits\n"
     ]
    }
   ],
   "source": [
    "bagging_estimators = {\n",
    "    'xtrees': ExtraTreesClassifier(random_state=123),\n",
    "    'rf': RandomForestClassifier(random_state=123)\n",
    "}\n",
    "search_objs = {}\n",
    "\n",
    "for name, estimator in bagging_estimators.items():\n",
    "    rnd_search_cv = RandomizedSearchCV(estimator,\n",
    "                                       param_distributions=bagging_param_distribs,\n",
    "                                       scoring='accuracy', cv=5, n_iter=50, random_state=123,\n",
    "                                       return_train_score=True, verbose=2, n_jobs=-1)\n",
    "    rnd_search_cv.fit(train_X, train_y)\n",
    "    search_objs[name] = rnd_search_cv"
   ]
  },
  {
   "cell_type": "code",
   "execution_count": 30,
   "id": "08f4d89e-4a56-41ab-9036-ea88f8e1600f",
   "metadata": {},
   "outputs": [
    {
     "data": {
      "text/plain": [
       "dict_keys(['mean_fit_time', 'std_fit_time', 'mean_score_time', 'std_score_time', 'param_criterion', 'param_max_depth', 'param_max_samples', 'param_min_samples_leaf', 'param_n_estimators', 'params', 'split0_test_score', 'split1_test_score', 'split2_test_score', 'split3_test_score', 'split4_test_score', 'mean_test_score', 'std_test_score', 'rank_test_score', 'split0_train_score', 'split1_train_score', 'split2_train_score', 'split3_train_score', 'split4_train_score', 'mean_train_score', 'std_train_score'])"
      ]
     },
     "execution_count": 30,
     "metadata": {},
     "output_type": "execute_result"
    }
   ],
   "source": [
    "search_objs['rf'].cv_results_.keys()"
   ]
  },
  {
   "cell_type": "code",
   "execution_count": 31,
   "id": "8b27e768-9914-405f-a7ea-4ca83650f08e",
   "metadata": {},
   "outputs": [
    {
     "name": "stdout",
     "output_type": "stream",
     "text": [
      "xtrees --------------------------------------------------\n",
      "# 0\n",
      "test_score: 0.8232\n",
      "n_estimators:  189\n",
      "criterion:  gini\n",
      "max_depth:  18\n",
      "min_samples_leaf:  8\n",
      "max_samples:  0.6879025773510774\n",
      "# 1\n",
      "test_score: 0.8114\n",
      "n_estimators:  155\n",
      "criterion:  gini\n",
      "max_depth:  16\n",
      "min_samples_leaf:  12\n",
      "max_samples:  0.6439261050375636\n",
      "# 2\n",
      "test_score: 0.8111\n",
      "n_estimators:  159\n",
      "criterion:  entropy\n",
      "max_depth:  13\n",
      "min_samples_leaf:  11\n",
      "max_samples:  0.9349802999603081\n",
      "# 3\n",
      "test_score: 0.8099\n",
      "n_estimators:  186\n",
      "criterion:  entropy\n",
      "max_depth:  18\n",
      "min_samples_leaf:  15\n",
      "max_samples:  0.6679884088472051\n",
      "# 4\n",
      "test_score: 0.8056\n",
      "n_estimators:  138\n",
      "criterion:  entropy\n",
      "max_depth:  13\n",
      "min_samples_leaf:  12\n",
      "max_samples:  0.47413993117704734\n",
      "rf --------------------------------------------------\n",
      "# 0\n",
      "test_score: 0.8114\n",
      "n_estimators:  189\n",
      "criterion:  gini\n",
      "max_depth:  18\n",
      "min_samples_leaf:  8\n",
      "max_samples:  0.6879025773510774\n",
      "# 1\n",
      "test_score: 0.7971\n",
      "n_estimators:  73\n",
      "criterion:  gini\n",
      "max_depth:  11\n",
      "min_samples_leaf:  8\n",
      "max_samples:  0.824031404652013\n",
      "# 2\n",
      "test_score: 0.7971\n",
      "n_estimators:  155\n",
      "criterion:  gini\n",
      "max_depth:  16\n",
      "min_samples_leaf:  12\n",
      "max_samples:  0.6439261050375636\n",
      "# 3\n",
      "test_score: 0.7971\n",
      "n_estimators:  159\n",
      "criterion:  entropy\n",
      "max_depth:  13\n",
      "min_samples_leaf:  11\n",
      "max_samples:  0.9349802999603081\n",
      "# 4\n",
      "test_score: 0.7867\n",
      "n_estimators:  63\n",
      "criterion:  gini\n",
      "max_depth:  11\n",
      "min_samples_leaf:  12\n",
      "max_samples:  0.8031527746877253\n"
     ]
    }
   ],
   "source": [
    "top_n = 5\n",
    "\n",
    "for name in bagging_estimators:\n",
    "    print(name, '-'*50)\n",
    "    cv_test_scores = search_objs[name].cv_results_['mean_test_score']\n",
    "    top_results_idx = [*reversed(np.argsort(cv_test_scores))][:top_n]\n",
    "    for i, idx in enumerate(top_results_idx):\n",
    "        print(f'# {i}')\n",
    "        print('test_score: {:.4f}'.format(cv_test_scores[idx]))\n",
    "        for param in bagging_param_distribs:\n",
    "            param_samples = search_objs[name].cv_results_[f'param_{param}']\n",
    "            print(f'{param}: ', param_samples[idx])"
   ]
  },
  {
   "cell_type": "markdown",
   "id": "1d68e58f-5ee5-4fed-bb7f-938ddc588be8",
   "metadata": {},
   "source": [
    "## Get best model"
   ]
  },
  {
   "cell_type": "code",
   "execution_count": 35,
   "id": "fd078969-ba6c-40fc-bcfc-36c479c9b406",
   "metadata": {},
   "outputs": [
    {
     "data": {
      "image/png": "[encoded data removed]",
      "text/plain": [
       "<Figure size 1008x576 with 1 Axes>"
      ]
     },
     "metadata": {
      "needs_background": "light"
     },
     "output_type": "display_data"
    }
   ],
   "source": [
    "plt.figure(figsize=(14,8))\n",
    "plt.bar(range(2048), search_objs['xtrees'].best_estimator_.feature_importances_)\n",
    "plt.title('Feature importances: Best ExtraTreesClassifier');"
   ]
  },
  {
   "cell_type": "code",
   "execution_count": 37,
   "id": "9d70a5bd-f967-4165-bb4c-0f4e2ca353d4",
   "metadata": {},
   "outputs": [
    {
     "data": {
      "image/png": "[encoded data removed]",
      "text/plain": [
       "<Figure size 1008x576 with 1 Axes>"
      ]
     },
     "metadata": {
      "needs_background": "light"
     },
     "output_type": "display_data"
    }
   ],
   "source": [
    "plt.figure(figsize=(14,8))\n",
    "plt.bar(range(2048), search_objs['rf'].best_estimator_.feature_importances_)\n",
    "plt.title('Feature importances: Best RandomForestClassifier');"
   ]
  },
  {
   "cell_type": "markdown",
   "id": "85778da7-e84f-48b0-a65e-3160c6420f06",
   "metadata": {},
   "source": [
    "## Save best model"
   ]
  },
  {
   "cell_type": "code",
   "execution_count": 38,
   "id": "9ed5b584-9824-4c19-92a7-cba1b06aa68b",
   "metadata": {},
   "outputs": [],
   "source": [
    "import joblib"
   ]
  },
  {
   "cell_type": "code",
   "execution_count": 39,
   "id": "0bbe8f24-4116-4d34-a693-7c90dd56de4c",
   "metadata": {},
   "outputs": [
    {
     "data": {
      "text/plain": [
       "['/home/acapelo/Projects/datasci4health/models/sample_xtrees.joblib']"
      ]
     },
     "execution_count": 39,
     "metadata": {},
     "output_type": "execute_result"
    }
   ],
   "source": [
    "best_xtrees_model = search_objs['xtrees'].best_estimator_\n",
    "best_xtrees_model_path = ROOT / 'models' / 'sample_xtrees.joblib'\n",
    "joblib.dump(best_xtrees_model, best_xtrees_model_path)"
   ]
  },
  {
   "cell_type": "code",
   "execution_count": 40,
   "id": "4d64bfcf-cb2c-4fe0-abdd-e4bb7af232fa",
   "metadata": {},
   "outputs": [
    {
     "data": {
      "text/plain": [
       "['/home/acapelo/Projects/datasci4health/models/sample_rf.joblib']"
      ]
     },
     "execution_count": 40,
     "metadata": {},
     "output_type": "execute_result"
    }
   ],
   "source": [
    "best_rf_model = search_objs['rf'].best_estimator_\n",
    "best_rf_model_path = ROOT / 'models' / 'sample_rf.joblib'\n",
    "joblib.dump(best_rf_model, best_rf_model_path)"
   ]
  },
  {
   "cell_type": "markdown",
   "id": "c2ff8d4f-79a3-4ff1-8a94-3daebe5cccc7",
   "metadata": {},
   "source": [
    "### Based on Boosting"
   ]
  },
  {
   "cell_type": "code",
   "execution_count": null,
   "id": "b1c3385b-405a-46a7-81e1-c64e81aae923",
   "metadata": {},
   "outputs": [],
   "source": [
    "estimator_params = {\n",
    "    'xtrees': ['n_estimators', 'criterion', 'max_depth', 'min_samples_leaf', 'max_features', 'max_samples', 'warm_start'],\n",
    "    'rf': ['n_estimators', 'criterion', 'max_depth', 'min_samples_leaf', 'max_features', 'max_samples', 'warm_start'],\n",
    "    'adaboost': ['n_estimators', 'learning_rate']\n",
    "    'lightgbm': ['learning_rate', 'max_depth', 'n_estimators', 'min_child_samples', ]\n",
    "}\n",
    "\n",
    "boosting_parm_distribs = {\n",
    "    'learning_rate'\n",
    "}"
   ]
  }
 ],
 "metadata": {
  "kernelspec": {
   "display_name": "Python 3",
   "language": "python",
   "name": "python3"
  },
  "language_info": {
   "codemirror_mode": {
    "name": "ipython",
    "version": 3
   },
   "file_extension": ".py",
   "mimetype": "text/x-python",
   "name": "python",
   "nbconvert_exporter": "python",
   "pygments_lexer": "ipython3",
   "version": "3.7.9"
  }
 },
 "nbformat": 4,
 "nbformat_minor": 5
}
