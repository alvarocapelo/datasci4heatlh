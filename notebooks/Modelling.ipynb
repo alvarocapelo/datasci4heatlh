{
 "cells": [
  {
   "cell_type": "code",
   "execution_count": 25,
   "id": "7dc19b8f-841a-47b4-b534-39bf07a03f19",
   "metadata": {},
   "outputs": [],
   "source": [
    "from scipy import stats, sparse\n",
    "import numpy as np\n",
    "import pandas as pd\n",
    "import matplotlib.pyplot as plt\n",
    "from pathlib import Path"
   ]
  },
  {
   "cell_type": "code",
   "execution_count": 13,
   "id": "5e989876-e450-47a7-9eef-1076a57286ea",
   "metadata": {},
   "outputs": [],
   "source": [
    "ROOT = Path('.').absolute().parent\n",
    "DATA_DIR = ROOT / 'data'\n",
    "RAW_DATA_DIR = DATA_DIR / 'raw'"
   ]
  },
  {
   "cell_type": "code",
   "execution_count": 14,
   "id": "1075ae56-9430-4c66-9ab5-ef85ec1626df",
   "metadata": {},
   "outputs": [
    {
     "data": {
      "text/plain": [
       "[PosixPath('/home/acapelo/Projects/datasci4health/data/raw/train'),\n",
       " PosixPath('/home/acapelo/Projects/datasci4health/data/raw/.ipynb_checkpoints'),\n",
       " PosixPath('/home/acapelo/Projects/datasci4health/data/raw/test'),\n",
       " PosixPath('/home/acapelo/Projects/datasci4health/data/raw/egfr_erbB1.h5'),\n",
       " PosixPath('/home/acapelo/Projects/datasci4health/data/raw/train/sparse_train_X.npz'),\n",
       " PosixPath('/home/acapelo/Projects/datasci4health/data/raw/train/sparse_train_y.npz'),\n",
       " PosixPath('/home/acapelo/Projects/datasci4health/data/raw/test/sparse_test_y.npz'),\n",
       " PosixPath('/home/acapelo/Projects/datasci4health/data/raw/test/sparse_test_X.npz')]"
      ]
     },
     "execution_count": 14,
     "metadata": {},
     "output_type": "execute_result"
    }
   ],
   "source": [
    "[*RAW_DATA_DIR.rglob('*')]"
   ]
  },
  {
   "cell_type": "markdown",
   "id": "9e42e037-b968-4341-ac08-a63d4fb5bbf1",
   "metadata": {},
   "source": [
    "# Load raw data"
   ]
  },
  {
   "cell_type": "code",
   "execution_count": 89,
   "id": "a49e28a7-314f-4aa9-904a-bd1e5d5b3c70",
   "metadata": {},
   "outputs": [],
   "source": [
    "train_X_csr = sparse.load_npz(RAW_DATA_DIR / 'train' / 'sparse_train_X.npz')\n",
    "train_y_csr = sparse.load_npz(RAW_DATA_DIR / 'train' / 'sparse_train_y.npz')"
   ]
  },
  {
   "cell_type": "markdown",
   "id": "4756e0c3-211d-43c6-b43a-afbf0941b36f",
   "metadata": {},
   "source": [
    "**To numpy arrays**"
   ]
  },
  {
   "cell_type": "code",
   "execution_count": 97,
   "id": "91c57445-17bb-4901-bdb7-267184957d10",
   "metadata": {},
   "outputs": [],
   "source": [
    "train_X = train_X_csr.toarray()\n",
    "train_y = train_y_csr.toarray().squeeze()"
   ]
  },
  {
   "cell_type": "markdown",
   "id": "df4e84ed-c93c-4476-9998-48df18d23f63",
   "metadata": {},
   "source": [
    "# Try different tree based algorithms"
   ]
  },
  {
   "cell_type": "code",
   "execution_count": 64,
   "id": "5cd47c95-4e06-4216-ba96-f94a774715c6",
   "metadata": {},
   "outputs": [],
   "source": [
    "from sklearn.ensemble import ExtraTreesClassifier, RandomForestClassifier\n",
    "from sklearn.model_selection import RandomizedSearchCV"
   ]
  },
  {
   "cell_type": "code",
   "execution_count": 87,
   "id": "e4189975-ec22-435a-b2c4-ba972422f5d4",
   "metadata": {},
   "outputs": [],
   "source": [
    "param_distributions = {\n",
    "    'n_estimators': stats.randint(50, 250),\n",
    "    'criterion': ['gini', 'entropy'],\n",
    "    'max_depth': stats.randint(1, 15),\n",
    "    'min_samples_leaf': stats.randint(5, 50),\n",
    "    'max_features': ['sqrt', 'log2']\n",
    "}"
   ]
  },
  {
   "cell_type": "code",
   "execution_count": 119,
   "id": "7010e894-ce86-4fd2-a2d3-01712277ba79",
   "metadata": {},
   "outputs": [],
   "source": [
    "rndcv_rf = RandomizedSearchCV(RandomForestClassifier(), param_distributions=param_distributions,\n",
    "                              n_iter=50, scoring='recall', cv=5, random_state=123,\n",
    "                             return_train_score=True, verbose=2, n_jobs=-1)"
   ]
  },
  {
   "cell_type": "code",
   "execution_count": 120,
   "id": "6734b9d8-5cc6-4ae5-bd56-814e369ad641",
   "metadata": {},
   "outputs": [
    {
     "name": "stdout",
     "output_type": "stream",
     "text": [
      "Fitting 5 folds for each of 50 candidates, totalling 250 fits\n"
     ]
    },
    {
     "data": {
      "text/plain": [
       "RandomizedSearchCV(cv=5, estimator=RandomForestClassifier(), n_iter=50,\n",
       "                   n_jobs=-1,\n",
       "                   param_distributions={'criterion': ['gini', 'entropy'],\n",
       "                                        'max_depth': <scipy.stats._distn_infrastructure.rv_frozen object at 0x7f818ce1b710>,\n",
       "                                        'max_features': ['sqrt', 'log2'],\n",
       "                                        'min_samples_leaf': <scipy.stats._distn_infrastructure.rv_frozen object at 0x7f818ce15810>,\n",
       "                                        'n_estimators': <scipy.stats._distn_infrastructure.rv_frozen object at 0x7f818ce1b690>},\n",
       "                   random_state=123, return_train_score=True, scoring='recall',\n",
       "                   verbose=2)"
      ]
     },
     "execution_count": 120,
     "metadata": {},
     "output_type": "execute_result"
    }
   ],
   "source": [
    "rndcv_rf.fit(train_X, train_y)"
   ]
  },
  {
   "cell_type": "code",
   "execution_count": 121,
   "id": "c8b59109-ab8a-469f-9bd3-bc7f6e9eb6da",
   "metadata": {},
   "outputs": [
    {
     "data": {
      "text/plain": [
       "dict_keys(['mean_fit_time', 'std_fit_time', 'mean_score_time', 'std_score_time', 'param_criterion', 'param_max_depth', 'param_max_features', 'param_min_samples_leaf', 'param_n_estimators', 'params', 'split0_test_score', 'split1_test_score', 'split2_test_score', 'split3_test_score', 'split4_test_score', 'mean_test_score', 'std_test_score', 'rank_test_score', 'split0_train_score', 'split1_train_score', 'split2_train_score', 'split3_train_score', 'split4_train_score', 'mean_train_score', 'std_train_score'])"
      ]
     },
     "execution_count": 121,
     "metadata": {},
     "output_type": "execute_result"
    }
   ],
   "source": [
    "rndcv_rf.cv_results_.keys()"
   ]
  },
  {
   "cell_type": "code",
   "execution_count": 122,
   "id": "843ae85b-4e1c-49df-a99a-3cafc1417d3f",
   "metadata": {},
   "outputs": [
    {
     "data": {
      "text/plain": [
       "array([0.92012674, 1.        , 1.        , 0.93419453, 0.99648135,\n",
       "       1.        , 0.95002104, 0.92117689, 0.94475482, 0.95811839,\n",
       "       0.92329266, 1.        , 0.99964789, 1.        , 1.        ,\n",
       "       0.99964851, 1.        , 0.99824067, 1.        , 1.        ,\n",
       "       1.        , 1.        , 1.        , 0.96164323, 0.92821666,\n",
       "       0.92153333, 1.        , 0.92188297, 0.99577589, 1.        ,\n",
       "       0.91836493, 1.        , 0.97219548, 0.99859279, 1.        ,\n",
       "       0.99683346, 1.        , 0.95566289, 0.99331419, 1.        ,\n",
       "       1.        , 1.        , 0.99824129, 0.99824067, 0.92926805,\n",
       "       0.92646105, 0.93454603, 1.        , 1.        , 1.        ])"
      ]
     },
     "execution_count": 122,
     "metadata": {},
     "output_type": "execute_result"
    }
   ],
   "source": [
    "rndcv_rf.cv_results_['mean_test_score']"
   ]
  },
  {
   "cell_type": "code",
   "execution_count": 107,
   "id": "05bfb811-ed5f-4a16-9a1b-3eed90ed68eb",
   "metadata": {},
   "outputs": [
    {
     "data": {
      "text/plain": [
       "array([0.00523189, 0.00041599, 0.00041599, 0.00677395, 0.00137573,\n",
       "       0.00219774, 0.00777858, 0.00613339, 0.00494254, 0.00461301,\n",
       "       0.00420046, 0.00041599, 0.00038502, 0.00041599, 0.00164587,\n",
       "       0.0004822 , 0.00041599, 0.00152916, 0.00041599, 0.00041599])"
      ]
     },
     "execution_count": 107,
     "metadata": {},
     "output_type": "execute_result"
    }
   ],
   "source": [
    "rndcv_rf.cv_results_['std_test_score']"
   ]
  },
  {
   "cell_type": "code",
   "execution_count": 115,
   "id": "94ac02aa-2597-4418-a366-a8977c2ff245",
   "metadata": {},
   "outputs": [],
   "source": [
    "best_results_mask = rndcv_rf.cv_results_['mean_test_score'] > 0.85"
   ]
  },
  {
   "cell_type": "code",
   "execution_count": 116,
   "id": "3a51063c-7a63-4404-888f-bcc1d8844658",
   "metadata": {},
   "outputs": [
    {
     "data": {
      "text/plain": [
       "masked_array(data=['gini', 'gini', 'entropy'],\n",
       "             mask=[False, False, False],\n",
       "       fill_value='?',\n",
       "            dtype=object)"
      ]
     },
     "execution_count": 116,
     "metadata": {},
     "output_type": "execute_result"
    }
   ],
   "source": [
    "rndcv_rf.cv_results_['param_criterion'][best_results_mask]"
   ]
  },
  {
   "cell_type": "code",
   "execution_count": 117,
   "id": "69d3db03-cd15-4a27-8a8f-bb992ae6c1c6",
   "metadata": {},
   "outputs": [
    {
     "data": {
      "text/plain": [
       "masked_array(data=[14, 14, 13],\n",
       "             mask=[False, False, False],\n",
       "       fill_value='?',\n",
       "            dtype=object)"
      ]
     },
     "execution_count": 117,
     "metadata": {},
     "output_type": "execute_result"
    }
   ],
   "source": [
    "rndcv_rf.cv_results_['param_max_depth'][best_results_mask]"
   ]
  },
  {
   "cell_type": "code",
   "execution_count": null,
   "id": "a08d125e-8895-4435-8487-eeb5deeaf8b5",
   "metadata": {},
   "outputs": [],
   "source": []
  },
  {
   "cell_type": "code",
   "execution_count": null,
   "id": "b1c3385b-405a-46a7-81e1-c64e81aae923",
   "metadata": {},
   "outputs": [],
   "source": []
  },
  {
   "cell_type": "markdown",
   "id": "ab8ee1cc-a537-4937-ba81-736431e89982",
   "metadata": {},
   "source": [
    "**Parameter distributions**"
   ]
  },
  {
   "cell_type": "code",
   "execution_count": 34,
   "id": "d17dc1fa-67b7-4207-b0ce-df3fbe2304b7",
   "metadata": {},
   "outputs": [
    {
     "data": {
      "image/png": "[encoded data removed]",
      "text/plain": [
       "<Figure size 432x288 with 1 Axes>"
      ]
     },
     "metadata": {
      "needs_background": "light"
     },
     "output_type": "display_data"
    }
   ],
   "source": [
    "x = stats.uniform(loc=0, scale=4).rvs(5000)\n",
    "plt.hist(x, bins=50);"
   ]
  },
  {
   "cell_type": "code",
   "execution_count": 74,
   "id": "0eca02c6-32fb-4c93-a1e6-a5832ed3c2ed",
   "metadata": {},
   "outputs": [
    {
     "data": {
      "image/png": "[encoded data removed]",
      "text/plain": [
       "<Figure size 432x288 with 1 Axes>"
      ]
     },
     "metadata": {
      "needs_background": "light"
     },
     "output_type": "display_data"
    }
   ],
   "source": [
    "x = stats.randint(50, 250).rvs(5000)\n",
    "plt.hist(x, bins=50);"
   ]
  },
  {
   "cell_type": "code",
   "execution_count": 35,
   "id": "1dbbe019-6c3f-4a01-a0f2-5df997ef2ad9",
   "metadata": {},
   "outputs": [
    {
     "data": {
      "image/png": "[encoded data removed]",
      "text/plain": [
       "<Figure size 432x288 with 1 Axes>"
      ]
     },
     "metadata": {
      "needs_background": "light"
     },
     "output_type": "display_data"
    }
   ],
   "source": [
    "x = stats.norm(loc=0, scale=2).rvs(5000)\n",
    "plt.hist(x, bins=50);"
   ]
  },
  {
   "cell_type": "code",
   "execution_count": 32,
   "id": "c2faa53f-1514-481f-852e-bf95f890eb40",
   "metadata": {},
   "outputs": [
    {
     "data": {
      "image/png": "[encoded data removed]",
      "text/plain": [
       "<Figure size 432x288 with 1 Axes>"
      ]
     },
     "metadata": {
      "needs_background": "light"
     },
     "output_type": "display_data"
    }
   ],
   "source": [
    "x = stats.gamma(1.99).rvs(5000)\n",
    "plt.hist(x, bins=50);"
   ]
  },
  {
   "cell_type": "code",
   "execution_count": 42,
   "id": "4c00ba73-2f1b-4eae-90e3-41b3e989162f",
   "metadata": {},
   "outputs": [
    {
     "data": {
      "image/png": "[encoded data removed]",
      "text/plain": [
       "<Figure size 1152x288 with 4 Axes>"
      ]
     },
     "metadata": {
      "needs_background": "light"
     },
     "output_type": "display_data"
    }
   ],
   "source": [
    "fig, axs = plt.subplots(figsize=(16,4), ncols=4)\n",
    "\n",
    "x = stats.lognorm(s=.5).rvs(5000)\n",
    "axs[0].hist(x, bins=50)\n",
    "\n",
    "x = stats.lognorm(s=1.).rvs(5000)\n",
    "axs[1].hist(x, bins=50)\n",
    "\n",
    "x = stats.lognorm(s=.5, loc=1., scale=2).rvs(5000)\n",
    "axs[2].hist(x, bins=50)\n",
    "\n",
    "x = stats.lognorm(s=.5, loc=1., scale=.5).rvs(5000)\n",
    "axs[3].hist(x, bins=50);"
   ]
  },
  {
   "cell_type": "code",
   "execution_count": 62,
   "id": "90ac331d-d862-4678-a519-3ee42ad06207",
   "metadata": {},
   "outputs": [
    {
     "data": {
      "image/png": "[encoded data removed]",
      "text/plain": [
       "<Figure size 1728x432 with 4 Axes>"
      ]
     },
     "metadata": {
      "needs_background": "light"
     },
     "output_type": "display_data"
    }
   ],
   "source": [
    "fig, axs = plt.subplots(figsize=(24,6), ncols=4)\n",
    "\n",
    "x = stats.poisson(mu=1).rvs(5000)\n",
    "axs[0].hist(x, bins=50)\n",
    "axs[0].plot([x.mean()]*500, np.arange(0, 2000, 4), lw=3., color='red', linestyle='-.');\n",
    "\n",
    "x = stats.poisson(mu=2).rvs(5000)\n",
    "axs[1].hist(x, bins=50)\n",
    "axs[1].plot([x.mean()]*500, np.arange(0, 2000, 4), lw=3., color='red', linestyle='-.');\n",
    "\n",
    "x = stats.poisson(mu=1, loc=1.).rvs(5000)\n",
    "axs[2].hist(x, bins=50)\n",
    "axs[2].plot([x.mean()]*500, np.arange(0, 2000, 4), lw=3., color='red', linestyle='-.');\n",
    "\n",
    "x = stats.poisson(mu=1, loc=2.).rvs(5000)\n",
    "axs[3].hist(x, bins=50);\n",
    "axs[3].plot([x.mean()]*500, np.arange(0, 2000, 4), lw=3., color='red', linestyle='-.');"
   ]
  },
  {
   "cell_type": "code",
   "execution_count": 83,
   "id": "2d876aa8-3737-42c0-881e-44db22b72f47",
   "metadata": {},
   "outputs": [
    {
     "data": {
      "image/png": "[encoded data removed]",
      "text/plain": [
       "<Figure size 432x288 with 1 Axes>"
      ]
     },
     "metadata": {
      "needs_background": "light"
     },
     "output_type": "display_data"
    }
   ],
   "source": [
    "a, b = 1, 10\n",
    "x = stats.loguniform(a, b).rvs(5000)\n",
    "plt.hist(x, bins=50);"
   ]
  },
  {
   "cell_type": "code",
   "execution_count": null,
   "id": "abae72d2-1a53-42e9-b647-7876a8778b45",
   "metadata": {},
   "outputs": [],
   "source": []
  }
 ],
 "metadata": {
  "kernelspec": {
   "display_name": "Python 3",
   "language": "python",
   "name": "python3"
  },
  "language_info": {
   "codemirror_mode": {
    "name": "ipython",
    "version": 3
   },
   "file_extension": ".py",
   "mimetype": "text/x-python",
   "name": "python",
   "nbconvert_exporter": "python",
   "pygments_lexer": "ipython3",
   "version": "3.7.9"
  }
 },
 "nbformat": 4,
 "nbformat_minor": 5
}
