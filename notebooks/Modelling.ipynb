{
 "cells": [
  {
   "cell_type": "code",
   "execution_count": 1,
   "id": "7dc19b8f-841a-47b4-b534-39bf07a03f19",
   "metadata": {},
   "outputs": [],
   "source": [
    "from scipy import stats, sparse\n",
    "import numpy as np\n",
    "import pandas as pd\n",
    "import matplotlib.pyplot as plt\n",
    "from pathlib import Path\n",
    "\n",
    "import sys\n",
    "\n",
    "sys.path.append(str(Path('').absolute().parent))"
   ]
  },
  {
   "cell_type": "code",
   "execution_count": 2,
   "id": "5e989876-e450-47a7-9eef-1076a57286ea",
   "metadata": {},
   "outputs": [],
   "source": [
    "ROOT = Path('.').absolute().parent\n",
    "DATA_DIR = ROOT / 'data'\n",
    "RAW_DATA_DIR = DATA_DIR / 'raw'"
   ]
  },
  {
   "cell_type": "code",
   "execution_count": 3,
   "id": "1075ae56-9430-4c66-9ab5-ef85ec1626df",
   "metadata": {},
   "outputs": [
    {
     "data": {
      "text/plain": [
       "[PosixPath('/home/gabriel/Documents/2021_1sem/datasci4heatlh/data/raw/egfr_erbB1.h5'),\n",
       " PosixPath('/home/gabriel/Documents/2021_1sem/datasci4heatlh/data/raw/test'),\n",
       " PosixPath('/home/gabriel/Documents/2021_1sem/datasci4heatlh/data/raw/train'),\n",
       " PosixPath('/home/gabriel/Documents/2021_1sem/datasci4heatlh/data/raw/test/sparse_test_y.npz'),\n",
       " PosixPath('/home/gabriel/Documents/2021_1sem/datasci4heatlh/data/raw/test/sparse_test_X.npz'),\n",
       " PosixPath('/home/gabriel/Documents/2021_1sem/datasci4heatlh/data/raw/train/sparse_train_X.npz'),\n",
       " PosixPath('/home/gabriel/Documents/2021_1sem/datasci4heatlh/data/raw/train/sparse_train_y.npz')]"
      ]
     },
     "execution_count": 3,
     "metadata": {},
     "output_type": "execute_result"
    }
   ],
   "source": [
    "[*RAW_DATA_DIR.rglob('*')]"
   ]
  },
  {
   "cell_type": "markdown",
   "id": "9e42e037-b968-4341-ac08-a63d4fb5bbf1",
   "metadata": {},
   "source": [
    "# Carregar dados"
   ]
  },
  {
   "cell_type": "code",
   "execution_count": 4,
   "id": "a49e28a7-314f-4aa9-904a-bd1e5d5b3c70",
   "metadata": {},
   "outputs": [],
   "source": [
    "train_X_csr = sparse.load_npz(RAW_DATA_DIR / 'train' / 'sparse_train_X.npz')\n",
    "train_y_csr = sparse.load_npz(RAW_DATA_DIR / 'train' / 'sparse_train_y.npz')"
   ]
  },
  {
   "cell_type": "markdown",
   "id": "4756e0c3-211d-43c6-b43a-afbf0941b36f",
   "metadata": {},
   "source": [
    "**Para numpy arrays**"
   ]
  },
  {
   "cell_type": "code",
   "execution_count": 5,
   "id": "91c57445-17bb-4901-bdb7-267184957d10",
   "metadata": {},
   "outputs": [],
   "source": [
    "train_X = train_X_csr.toarray()\n",
    "train_y = train_y_csr.toarray().squeeze()"
   ]
  },
  {
   "cell_type": "markdown",
   "id": "aedb92f1-0163-4d9a-86d4-f9f67855fd0b",
   "metadata": {},
   "source": [
    "# Pipelines de modelagem"
   ]
  },
  {
   "cell_type": "markdown",
   "id": "df4e84ed-c93c-4476-9998-48df18d23f63",
   "metadata": {},
   "source": [
    "## Algoritmos baseados em árvores de decisão"
   ]
  },
  {
   "cell_type": "code",
   "execution_count": 6,
   "id": "5cd47c95-4e06-4216-ba96-f94a774715c6",
   "metadata": {},
   "outputs": [],
   "source": [
    "from sklearn.ensemble import (\n",
    "    ExtraTreesClassifier,\n",
    "    RandomForestClassifier,\n",
    "    GradientBoostingClassifier,\n",
    "    AdaBoostClassifier)\n",
    "from sklearn.model_selection import RandomizedSearchCV"
   ]
  },
  {
   "cell_type": "markdown",
   "id": "a93258e3",
   "metadata": {},
   "source": [
    "### Baseados em Bagging"
   ]
  },
  {
   "cell_type": "code",
   "execution_count": 32,
   "id": "22d648ff-8329-4024-a23e-ca4c415b71e0",
   "metadata": {},
   "outputs": [],
   "source": [
    "bagging_param_distribs = {\n",
    "    'n_estimators': stats.randint(50, 250),\n",
    "    'criterion': ['gini', 'entropy'],\n",
    "    'max_depth': stats.randint(1, 20),\n",
    "    'min_samples_leaf': stats.randint(5, 50),\n",
    "    'max_samples': stats.loguniform(3e-1, 1)\n",
    "}"
   ]
  },
  {
   "cell_type": "code",
   "execution_count": 33,
   "id": "7010e894-ce86-4fd2-a2d3-01712277ba79",
   "metadata": {},
   "outputs": [
    {
     "name": "stdout",
     "output_type": "stream",
     "text": [
      "Fitting 5 folds for each of 50 candidates, totalling 250 fits\n",
      "Fitting 5 folds for each of 50 candidates, totalling 250 fits\n"
     ]
    }
   ],
   "source": [
    "bagging_estimators = {\n",
    "    'xtrees': ExtraTreesClassifier(random_state=123),\n",
    "    'rf': RandomForestClassifier(random_state=123)\n",
    "}\n",
    "search_objs = {}\n",
    "\n",
    "for name, estimator in bagging_estimators.items():\n",
    "    rnd_search_cv = RandomizedSearchCV(estimator,\n",
    "                                       param_distributions=bagging_param_distribs,\n",
    "                                       scoring='accuracy', cv=5, n_iter=50, random_state=123,\n",
    "                                       return_train_score=True, verbose=2, n_jobs=-1)\n",
    "    rnd_search_cv.fit(train_X, train_y)\n",
    "    search_objs[name] = rnd_search_cv"
   ]
  },
  {
   "cell_type": "code",
   "execution_count": 34,
   "id": "08f4d89e-4a56-41ab-9036-ea88f8e1600f",
   "metadata": {},
   "outputs": [
    {
     "data": {
      "text/plain": [
       "dict_keys(['mean_fit_time', 'std_fit_time', 'mean_score_time', 'std_score_time', 'param_criterion', 'param_max_depth', 'param_max_samples', 'param_min_samples_leaf', 'param_n_estimators', 'params', 'split0_test_score', 'split1_test_score', 'split2_test_score', 'split3_test_score', 'split4_test_score', 'mean_test_score', 'std_test_score', 'rank_test_score', 'split0_train_score', 'split1_train_score', 'split2_train_score', 'split3_train_score', 'split4_train_score', 'mean_train_score', 'std_train_score'])"
      ]
     },
     "execution_count": 34,
     "metadata": {},
     "output_type": "execute_result"
    }
   ],
   "source": [
    "search_objs['rf'].cv_results_.keys()"
   ]
  },
  {
   "cell_type": "code",
   "execution_count": 35,
   "id": "8b27e768-9914-405f-a7ea-4ca83650f08e",
   "metadata": {},
   "outputs": [
    {
     "name": "stdout",
     "output_type": "stream",
     "text": [
      "xtrees --------------------------------------------------\n",
      "# 0\n",
      "test_score: 0.8232\n",
      "n_estimators:  189\n",
      "criterion:  gini\n",
      "max_depth:  18\n",
      "min_samples_leaf:  8\n",
      "max_samples:  0.6879025773510774\n",
      "# 1\n",
      "test_score: 0.8114\n",
      "n_estimators:  155\n",
      "criterion:  gini\n",
      "max_depth:  16\n",
      "min_samples_leaf:  12\n",
      "max_samples:  0.6439261050375636\n",
      "# 2\n",
      "test_score: 0.8111\n",
      "n_estimators:  159\n",
      "criterion:  entropy\n",
      "max_depth:  13\n",
      "min_samples_leaf:  11\n",
      "max_samples:  0.9349802999603081\n",
      "# 3\n",
      "test_score: 0.8099\n",
      "n_estimators:  186\n",
      "criterion:  entropy\n",
      "max_depth:  18\n",
      "min_samples_leaf:  15\n",
      "max_samples:  0.6679884088472051\n",
      "# 4\n",
      "test_score: 0.8056\n",
      "n_estimators:  138\n",
      "criterion:  entropy\n",
      "max_depth:  13\n",
      "min_samples_leaf:  12\n",
      "max_samples:  0.47413993117704734\n",
      "rf --------------------------------------------------\n",
      "# 0\n",
      "test_score: 0.8114\n",
      "n_estimators:  189\n",
      "criterion:  gini\n",
      "max_depth:  18\n",
      "min_samples_leaf:  8\n",
      "max_samples:  0.6879025773510774\n",
      "# 1\n",
      "test_score: 0.7971\n",
      "n_estimators:  73\n",
      "criterion:  gini\n",
      "max_depth:  11\n",
      "min_samples_leaf:  8\n",
      "max_samples:  0.824031404652013\n",
      "# 2\n",
      "test_score: 0.7971\n",
      "n_estimators:  155\n",
      "criterion:  gini\n",
      "max_depth:  16\n",
      "min_samples_leaf:  12\n",
      "max_samples:  0.6439261050375636\n",
      "# 3\n",
      "test_score: 0.7971\n",
      "n_estimators:  159\n",
      "criterion:  entropy\n",
      "max_depth:  13\n",
      "min_samples_leaf:  11\n",
      "max_samples:  0.9349802999603081\n",
      "# 4\n",
      "test_score: 0.7867\n",
      "n_estimators:  63\n",
      "criterion:  gini\n",
      "max_depth:  11\n",
      "min_samples_leaf:  12\n",
      "max_samples:  0.8031527746877253\n"
     ]
    }
   ],
   "source": [
    "top_n = 5\n",
    "\n",
    "for name in bagging_estimators:\n",
    "    print(name, '-'*50)\n",
    "    cv_test_scores = search_objs[name].cv_results_['mean_test_score']\n",
    "    top_results_idx = [*reversed(np.argsort(cv_test_scores))][:top_n]\n",
    "    for i, idx in enumerate(top_results_idx):\n",
    "        print(f'# {i}')\n",
    "        print('test_score: {:.4f}'.format(cv_test_scores[idx]))\n",
    "        for param in bagging_param_distribs:\n",
    "            param_samples = search_objs[name].cv_results_[f'param_{param}']\n",
    "            print(f'{param}: ', param_samples[idx])"
   ]
  },
  {
   "cell_type": "markdown",
   "id": "55d41161",
   "metadata": {},
   "source": [
    "Como observado acima, em geral, os melhores modelos apresentam número de estimadores (árvores de decisão) maior que 150. Ainda, os parâmetros `max_depth` e `min_samples_leaf` costumam ser maiores que 10. Portanto, é interessante explorar mais outros intervalos de valores para esses parâmetros."
   ]
  },
  {
   "cell_type": "code",
   "execution_count": 37,
   "id": "f947a2c9",
   "metadata": {},
   "outputs": [
    {
     "name": "stdout",
     "output_type": "stream",
     "text": [
      "Fitting 5 folds for each of 50 candidates, totalling 250 fits\n",
      "Fitting 5 folds for each of 50 candidates, totalling 250 fits\n",
      "xtrees --------------------------------------------------\n",
      "# 0\n",
      "test_score: 0.8147\n",
      "n_estimators:  195\n",
      "criterion:  gini\n",
      "max_depth:  18\n",
      "min_samples_leaf:  13\n",
      "max_samples:  0.45834916482126054\n",
      "# 1\n",
      "test_score: 0.8145\n",
      "n_estimators:  226\n",
      "criterion:  gini\n",
      "max_depth:  17\n",
      "min_samples_leaf:  11\n",
      "max_samples:  0.8264424312343538\n",
      "# 2\n",
      "test_score: 0.8138\n",
      "n_estimators:  249\n",
      "criterion:  gini\n",
      "max_depth:  17\n",
      "min_samples_leaf:  13\n",
      "max_samples:  0.9850373109033966\n",
      "# 3\n",
      "test_score: 0.8118\n",
      "n_estimators:  161\n",
      "criterion:  gini\n",
      "max_depth:  17\n",
      "min_samples_leaf:  13\n",
      "max_samples:  0.4283796197345893\n",
      "# 4\n",
      "test_score: 0.8087\n",
      "n_estimators:  199\n",
      "criterion:  gini\n",
      "max_depth:  14\n",
      "min_samples_leaf:  14\n",
      "max_samples:  0.4844513110015654\n",
      "rf --------------------------------------------------\n",
      "# 0\n",
      "test_score: 0.8041\n",
      "n_estimators:  226\n",
      "criterion:  gini\n",
      "max_depth:  17\n",
      "min_samples_leaf:  11\n",
      "max_samples:  0.8264424312343538\n",
      "# 1\n",
      "test_score: 0.8029\n",
      "n_estimators:  249\n",
      "criterion:  gini\n",
      "max_depth:  17\n",
      "min_samples_leaf:  13\n",
      "max_samples:  0.9850373109033966\n",
      "# 2\n",
      "test_score: 0.7918\n",
      "n_estimators:  162\n",
      "criterion:  gini\n",
      "max_depth:  16\n",
      "min_samples_leaf:  16\n",
      "max_samples:  0.8771285770647624\n",
      "# 3\n",
      "test_score: 0.7874\n",
      "n_estimators:  233\n",
      "criterion:  entropy\n",
      "max_depth:  10\n",
      "min_samples_leaf:  11\n",
      "max_samples:  0.897057612174608\n",
      "# 4\n",
      "test_score: 0.7792\n",
      "n_estimators:  161\n",
      "criterion:  gini\n",
      "max_depth:  17\n",
      "min_samples_leaf:  13\n",
      "max_samples:  0.4283796197345893\n"
     ]
    }
   ],
   "source": [
    "bagging_param_distribs = {\n",
    "    'n_estimators': stats.randint(150, 250),\n",
    "    'criterion': ['gini', 'entropy'],\n",
    "    'max_depth': stats.randint(10, 20),\n",
    "    'min_samples_leaf': stats.randint(10, 50),\n",
    "    'max_samples': stats.loguniform(3e-1, 1)\n",
    "}\n",
    "\n",
    "\n",
    "bagging_estimators = {\n",
    "    'xtrees': ExtraTreesClassifier(random_state=123),\n",
    "    'rf': RandomForestClassifier(random_state=123)\n",
    "}\n",
    "\n",
    "search_objs2 = {}\n",
    "\n",
    "for name, estimator in bagging_estimators.items():\n",
    "    rnd_search_cv = RandomizedSearchCV(estimator,\n",
    "                                       param_distributions=bagging_param_distribs,\n",
    "                                       scoring='accuracy', cv=5, n_iter=50, random_state=123,\n",
    "                                       return_train_score=True, verbose=2, n_jobs=-1)\n",
    "    rnd_search_cv.fit(train_X, train_y)\n",
    "    search_objs2[name] = rnd_search_cv\n",
    "    \n",
    "    \n",
    "top_n = 5\n",
    "for name in bagging_estimators:\n",
    "    print(name, '-'*50)\n",
    "    cv_test_scores = search_objs2[name].cv_results_['mean_test_score']\n",
    "    top_results_idx = [*reversed(np.argsort(cv_test_scores))][:top_n]\n",
    "    for i, idx in enumerate(top_results_idx):\n",
    "        print(f'# {i}')\n",
    "        print('test_score: {:.4f}'.format(cv_test_scores[idx]))\n",
    "        for param in bagging_param_distribs:\n",
    "            param_samples = search_objs2[name].cv_results_[f'param_{param}']\n",
    "            print(f'{param}: ', param_samples[idx])"
   ]
  },
  {
   "cell_type": "markdown",
   "id": "89eb8907",
   "metadata": {},
   "source": [
    "Infelizmente, maior otimização desses parâmetros não resultou em melhores resultados de validação."
   ]
  },
  {
   "cell_type": "markdown",
   "id": "4d33b263",
   "metadata": {},
   "source": [
    "### Baseados em Boosting"
   ]
  },
  {
   "cell_type": "code",
   "execution_count": 27,
   "id": "e0a52a25",
   "metadata": {},
   "outputs": [
    {
     "name": "stdout",
     "output_type": "stream",
     "text": [
      "Fitting 5 folds for each of 10 candidates, totalling 50 fits\n",
      "Fitting 5 folds for each of 10 candidates, totalling 50 fits\n"
     ]
    }
   ],
   "source": [
    "boosting_param_distribs = {'ada':{\n",
    "                                    'n_estimators': stats.randint(50, 250),                                    \n",
    "                                    'learning_rate': stats.loguniform(3e-1, 0.5)\n",
    "                                },\n",
    "                           'gb':{\n",
    "                                    'n_estimators': stats.randint(50, 250),\n",
    "                                    'warm_start': [True, False],\n",
    "                                    'max_depth': stats.randint(10, 20),\n",
    "                                    'min_samples_leaf': stats.randint(10, 50),\n",
    "                                    'learning_rate': stats.loguniform(3e-1, 0.5)\n",
    "                                }\n",
    "                          }\n",
    "\n",
    "\n",
    "boosting_estimators = {\n",
    "    'ada': AdaBoostClassifier(random_state=123),\n",
    "    'gb': GradientBoostingClassifier(random_state=123),    \n",
    "}\n",
    "\n",
    "search_objs3 = {}\n",
    "\n",
    "for name, estimator in boosting_estimators.items():\n",
    "    rnd_search_cv = RandomizedSearchCV(estimator,\n",
    "                                       param_distributions=boosting_param_distribs[name],\n",
    "                                       scoring='accuracy', cv=5, n_iter=10, random_state=123,\n",
    "                                       return_train_score=True, verbose=2, n_jobs=-1)\n",
    "    rnd_search_cv.fit(train_X, train_y)\n",
    "    search_objs3[name] = rnd_search_cv      "
   ]
  },
  {
   "cell_type": "code",
   "execution_count": 36,
   "id": "b695aa58",
   "metadata": {},
   "outputs": [
    {
     "name": "stdout",
     "output_type": "stream",
     "text": [
      "ada --------------------------------------------------\n",
      "# 0\n",
      "test_score: 0.8082\n",
      "n_estimators:  214\n",
      "learning_rate:  0.3753340446205486\n",
      "# 1\n",
      "test_score: 0.8080\n",
      "n_estimators:  176\n",
      "learning_rate:  0.42818561472023736\n",
      "# 2\n",
      "test_score: 0.8075\n",
      "n_estimators:  146\n",
      "learning_rate:  0.49511098921104413\n",
      "# 3\n",
      "test_score: 0.8068\n",
      "n_estimators:  224\n",
      "learning_rate:  0.3665321174908864\n",
      "# 4\n",
      "test_score: 0.8058\n",
      "n_estimators:  203\n",
      "learning_rate:  0.4133241191279463\n",
      "gb --------------------------------------------------\n",
      "# 0\n",
      "test_score: 0.8543\n",
      "n_estimators:  155\n",
      "warm_start:  False\n",
      "max_depth:  14\n",
      "min_samples_leaf:  17\n",
      "learning_rate:  0.3935910935564404\n",
      "# 1\n",
      "test_score: 0.8536\n",
      "n_estimators:  196\n",
      "warm_start:  True\n",
      "max_depth:  16\n",
      "min_samples_leaf:  23\n",
      "learning_rate:  0.3278703904714655\n",
      "# 2\n",
      "test_score: 0.8531\n",
      "n_estimators:  125\n",
      "warm_start:  True\n",
      "max_depth:  15\n",
      "min_samples_leaf:  10\n",
      "learning_rate:  0.4436663578697866\n",
      "# 3\n",
      "test_score: 0.8512\n",
      "n_estimators:  126\n",
      "warm_start:  True\n",
      "max_depth:  12\n",
      "min_samples_leaf:  43\n",
      "learning_rate:  0.36089728556841344\n",
      "# 4\n",
      "test_score: 0.8502\n",
      "n_estimators:  52\n",
      "warm_start:  True\n",
      "max_depth:  11\n",
      "min_samples_leaf:  13\n",
      "learning_rate:  0.40632894398697755\n"
     ]
    }
   ],
   "source": [
    "top_n = 5\n",
    "for name in boosting_estimators:\n",
    "    print(name, '-'*50)\n",
    "    cv_test_scores = search_objs3[name].cv_results_['mean_test_score']\n",
    "    top_results_idx = [*reversed(np.argsort(cv_test_scores))][:top_n]\n",
    "    for i, idx in enumerate(top_results_idx):\n",
    "        print(f'# {i}')\n",
    "        print('test_score: {:.4f}'.format(cv_test_scores[idx]))\n",
    "        for param in boosting_param_distribs[name]:\n",
    "            param_samples = search_objs3[name].cv_results_[f'param_{param}']\n",
    "            print(f'{param}: ', param_samples[idx])  "
   ]
  },
  {
   "cell_type": "markdown",
   "id": "1d68e58f-5ee5-4fed-bb7f-938ddc588be8",
   "metadata": {},
   "source": [
    "## Encontrar melhor modelo"
   ]
  },
  {
   "cell_type": "markdown",
   "id": "482e2271-9195-4092-9594-757dca35e32a",
   "metadata": {},
   "source": [
    "Pelos resultados de validação cruzada, o modelo `GradientBoostingClassifier` é o que apresentou melhor performance, com desempenho (acurácia) superior a 0.85."
   ]
  },
  {
   "cell_type": "markdown",
   "id": "85778da7-e84f-48b0-a65e-3160c6420f06",
   "metadata": {},
   "source": [
    "## Salvar os melhores modelos de cada tipo"
   ]
  },
  {
   "cell_type": "code",
   "execution_count": 41,
   "id": "9ed5b584-9824-4c19-92a7-cba1b06aa68b",
   "metadata": {},
   "outputs": [],
   "source": [
    "import joblib"
   ]
  },
  {
   "cell_type": "code",
   "execution_count": 43,
   "id": "0bbe8f24-4116-4d34-a693-7c90dd56de4c",
   "metadata": {},
   "outputs": [
    {
     "data": {
      "text/plain": [
       "['/home/gabriel/Documents/2021_1sem/datasci4heatlh/models/model_xtrees.joblib']"
      ]
     },
     "execution_count": 43,
     "metadata": {},
     "output_type": "execute_result"
    }
   ],
   "source": [
    "best_xtrees_model = search_objs['xtrees'].best_estimator_\n",
    "best_xtrees_model_path = ROOT / 'models' / 'model_xtrees.joblib'\n",
    "joblib.dump(best_xtrees_model, best_xtrees_model_path)"
   ]
  },
  {
   "cell_type": "code",
   "execution_count": 44,
   "id": "4d64bfcf-cb2c-4fe0-abdd-e4bb7af232fa",
   "metadata": {},
   "outputs": [
    {
     "data": {
      "text/plain": [
       "['/home/gabriel/Documents/2021_1sem/datasci4heatlh/models/model_rf.joblib']"
      ]
     },
     "execution_count": 44,
     "metadata": {},
     "output_type": "execute_result"
    }
   ],
   "source": [
    "best_rf_model = search_objs['rf'].best_estimator_\n",
    "best_rf_model_path = ROOT / 'models' / 'model_rf.joblib'\n",
    "joblib.dump(best_rf_model, best_rf_model_path)"
   ]
  },
  {
   "cell_type": "code",
   "execution_count": 45,
   "id": "35a888c1",
   "metadata": {},
   "outputs": [
    {
     "data": {
      "text/plain": [
       "['/home/gabriel/Documents/2021_1sem/datasci4heatlh/models/model_gb.joblib']"
      ]
     },
     "execution_count": 45,
     "metadata": {},
     "output_type": "execute_result"
    }
   ],
   "source": [
    "best_gb_model = search_objs3['gb'].best_estimator_\n",
    "best_gb_model_path = ROOT / 'models' / 'model_gb.joblib'\n",
    "joblib.dump(best_gb_model, best_gb_model_path)"
   ]
  },
  {
   "cell_type": "markdown",
   "id": "8ba76ba3-c98c-420f-a7dd-9b1e53cd7170",
   "metadata": {},
   "source": [
    "## Anáise de performance em conjunto de teste"
   ]
  },
  {
   "cell_type": "code",
   "execution_count": 16,
   "id": "50549f3d-b69a-425f-b678-5582117f9aba",
   "metadata": {},
   "outputs": [],
   "source": [
    "from sklearn.metrics import (\n",
    "    accuracy_score,\n",
    "    confusion_matrix,\n",
    "    classification_report\n",
    ")\n",
    "import seaborn as sns"
   ]
  },
  {
   "cell_type": "code",
   "execution_count": 10,
   "id": "36db648f-7e63-46c1-91ca-3c79c3ca5adc",
   "metadata": {},
   "outputs": [],
   "source": [
    "# carregar dados de teste\n",
    "test_X = sparse.load_npz(RAW_DATA_DIR / 'test' / f'sparse_test_X.npz').toarray()\n",
    "test_y = sparse.load_npz(RAW_DATA_DIR / 'test' / f'sparse_test_y.npz').toarray().squeeze()"
   ]
  },
  {
   "cell_type": "code",
   "execution_count": 14,
   "id": "eb4892c0-868a-467b-81bf-5f47ad155a79",
   "metadata": {},
   "outputs": [
    {
     "data": {
      "text/plain": [
       "GradientBoostingClassifier(learning_rate=0.3935910935564404, max_depth=14,\n",
       "                           min_samples_leaf=17, n_estimators=155,\n",
       "                           random_state=123)"
      ]
     },
     "execution_count": 14,
     "metadata": {},
     "output_type": "execute_result"
    }
   ],
   "source": [
    "best_model_path = ROOT / 'models' / 'model_gb.joblib'\n",
    "best_model = joblib.load(best_model_path)\n",
    "best_model"
   ]
  },
  {
   "cell_type": "code",
   "execution_count": 15,
   "id": "03548d1d-0c6f-4c16-8dd2-ad221c5d44fb",
   "metadata": {},
   "outputs": [
    {
     "name": "stdout",
     "output_type": "stream",
     "text": [
      "Accuracy on test set: 0.8406\n",
      "              precision    recall  f1-score   support\n",
      "\n",
      "           0       0.76      0.72      0.74       324\n",
      "           1       0.88      0.90      0.89       711\n",
      "\n",
      "    accuracy                           0.84      1035\n",
      "   macro avg       0.82      0.81      0.81      1035\n",
      "weighted avg       0.84      0.84      0.84      1035\n",
      "\n"
     ]
    }
   ],
   "source": [
    "test_pred = best_model.predict(test_X)\n",
    "print('Accuracy on test set: {:.4f}'.format(accuracy_score(test_y, test_pred)))\n",
    "print(classification_report(test_y, test_pred))"
   ]
  },
  {
   "cell_type": "markdown",
   "id": "d3e68fe9-fd5e-4b70-98e2-ffc0c7c0e1b1",
   "metadata": {},
   "source": [
    "Pelos resultados no conjunto de teste, apesar do resultado ligeiramente inferior ao descrito na validação cruzada, ainda está bastante próximo, dando mais segurança de que _overfitting_ não é um problema."
   ]
  },
  {
   "cell_type": "code",
   "execution_count": 18,
   "id": "6e493f06-2ae9-44cf-bd50-e1f49273cce6",
   "metadata": {},
   "outputs": [
    {
     "data": {
      "image/png": "[encoded data removed]",
      "text/plain": [
       "<Figure size 432x288 with 2 Axes>"
      ]
     },
     "metadata": {
      "needs_background": "light"
     },
     "output_type": "display_data"
    }
   ],
   "source": [
    "conf_mat = confusion_matrix(test_y, test_pred)\n",
    "sns.heatmap(conf_mat, cmap='Blues', annot=True, fmt='d');"
   ]
  },
  {
   "cell_type": "code",
   "execution_count": 19,
   "id": "9985a4ca-e934-4499-a49f-05ef42fe446c",
   "metadata": {},
   "outputs": [
    {
     "name": "stdout",
     "output_type": "stream",
     "text": [
      "Sensibilidade: 0.8959\n",
      "Especifidade: 0.7191\n"
     ]
    }
   ],
   "source": [
    "tn, fp, fn, tp = conf_mat.ravel()\n",
    "print('Sensibilidade: {:.4f}'.format(tp / (tp + fn)))\n",
    "print('Especifidade: {:.4f}'.format(tn / (tn + fp)))"
   ]
  },
  {
   "cell_type": "markdown",
   "id": "c48b948b",
   "metadata": {},
   "source": [
    "## Análise de efeito de Seleção de Variáveis a priori na modelagem"
   ]
  },
  {
   "cell_type": "markdown",
   "id": "252ae831",
   "metadata": {},
   "source": [
    "### Seleção de variáveis baseada no contagem de bits ativados\n",
    "\n",
    "Selecionamos os bits ativados em pelo menos 10% das moléculas (observações), tanto em inibidores quanto não-inibidores, usando o conjunto de treino como referência.\n",
    "\n",
    "De acordo com a Análise Exploratória de Dados, podemos supor que esses bits sejam mais úteis na separação entre inibidores e não-inibidores."
   ]
  },
  {
   "cell_type": "code",
   "execution_count": 38,
   "id": "b4ec2d6f",
   "metadata": {},
   "outputs": [],
   "source": [
    "from scripts.preprocessing import selection_by_threshold\n",
    "\n",
    "_, dropped_indeces_inhibitors = selection_by_threshold('incidence', train_X[train_y == 1], 0.1)\n",
    "_, dropped_indeces_non_inhibitors = selection_by_threshold('incidence', train_X[train_y == 0], 0.1)"
   ]
  },
  {
   "cell_type": "code",
   "execution_count": 39,
   "id": "e633bbe5",
   "metadata": {},
   "outputs": [
    {
     "name": "stdout",
     "output_type": "stream",
     "text": [
      "1931\n"
     ]
    }
   ],
   "source": [
    "indices_to_drop = set(dropped_indeces_inhibitors).intersection(set(dropped_indeces_non_inhibitors))\n",
    "print(len(indices_to_drop))"
   ]
  },
  {
   "cell_type": "code",
   "execution_count": 40,
   "id": "eacdeda6",
   "metadata": {},
   "outputs": [
    {
     "data": {
      "text/plain": [
       "(4140, 117)"
      ]
     },
     "execution_count": 40,
     "metadata": {},
     "output_type": "execute_result"
    }
   ],
   "source": [
    "clean_train_X = np.delete(train_X, np.array(list(indices_to_drop)), 1)\n",
    "clean_train_X.shape"
   ]
  },
  {
   "cell_type": "code",
   "execution_count": 53,
   "id": "7e44c4d1",
   "metadata": {},
   "outputs": [
    {
     "name": "stdout",
     "output_type": "stream",
     "text": [
      "Fitting 5 folds for each of 50 candidates, totalling 250 fits\n",
      "Fitting 5 folds for each of 50 candidates, totalling 250 fits\n",
      "xtrees --------------------------------------------------\n",
      "# 0\n",
      "test_score: 0.8273\n",
      "n_estimators:  189\n",
      "criterion:  gini\n",
      "max_depth:  18\n",
      "min_samples_leaf:  8\n",
      "max_samples:  0.6879025773510774\n",
      "# 1\n",
      "test_score: 0.8215\n",
      "n_estimators:  155\n",
      "criterion:  gini\n",
      "max_depth:  16\n",
      "min_samples_leaf:  12\n",
      "max_samples:  0.6439261050375636\n",
      "# 2\n",
      "test_score: 0.8208\n",
      "n_estimators:  159\n",
      "criterion:  entropy\n",
      "max_depth:  13\n",
      "min_samples_leaf:  11\n",
      "max_samples:  0.9349802999603081\n",
      "rf --------------------------------------------------\n",
      "# 0\n",
      "test_score: 0.8162\n",
      "n_estimators:  189\n",
      "criterion:  gini\n",
      "max_depth:  18\n",
      "min_samples_leaf:  8\n",
      "max_samples:  0.6879025773510774\n",
      "# 1\n",
      "test_score: 0.8157\n",
      "n_estimators:  73\n",
      "criterion:  gini\n",
      "max_depth:  11\n",
      "min_samples_leaf:  8\n",
      "max_samples:  0.824031404652013\n",
      "# 2\n",
      "test_score: 0.8140\n",
      "n_estimators:  159\n",
      "criterion:  entropy\n",
      "max_depth:  13\n",
      "min_samples_leaf:  11\n",
      "max_samples:  0.9349802999603081\n"
     ]
    }
   ],
   "source": [
    "bagging_param_distribs = {\n",
    "    'n_estimators': stats.randint(50, 250),\n",
    "    'criterion': ['gini', 'entropy'],\n",
    "    'max_depth': stats.randint(1, 20),\n",
    "    'min_samples_leaf': stats.randint(5, 50),\n",
    "    'max_samples': stats.loguniform(3e-1, 1)\n",
    "}\n",
    "\n",
    "\n",
    "\n",
    "bagging_estimators = {\n",
    "    'xtrees': ExtraTreesClassifier(random_state=123),\n",
    "    'rf': RandomForestClassifier(random_state=123)\n",
    "}\n",
    "\n",
    "search_objs_clean = {}\n",
    "\n",
    "for name, estimator in bagging_estimators.items():\n",
    "    rnd_search_cv = RandomizedSearchCV(estimator,\n",
    "                                       param_distributions=bagging_param_distribs,\n",
    "                                       scoring='accuracy', cv=5, n_iter=50, random_state=123,\n",
    "                                       return_train_score=True, verbose=2, n_jobs=-1)\n",
    "    rnd_search_cv.fit(clean_train_X, train_y)\n",
    "    search_objs_clean[name] = rnd_search_cv\n",
    "    \n",
    "    \n",
    "top_n = 3\n",
    "for name in bagging_estimators:\n",
    "    print(name, '-'*50)\n",
    "    cv_test_scores = search_objs_clean[name].cv_results_['mean_test_score']\n",
    "    top_results_idx = [*reversed(np.argsort(cv_test_scores))][:top_n]\n",
    "    for i, idx in enumerate(top_results_idx):\n",
    "        print(f'# {i}')\n",
    "        print('test_score: {:.4f}'.format(cv_test_scores[idx]))\n",
    "        for param in bagging_param_distribs:\n",
    "            param_samples = search_objs_clean[name].cv_results_[f'param_{param}']\n",
    "            print(f'{param}: ', param_samples[idx])"
   ]
  },
  {
   "cell_type": "code",
   "execution_count": 54,
   "id": "b601d3b2",
   "metadata": {},
   "outputs": [
    {
     "name": "stdout",
     "output_type": "stream",
     "text": [
      "Fitting 5 folds for each of 10 candidates, totalling 50 fits\n",
      "gb --------------------------------------------------\n",
      "# 0\n",
      "test_score: 0.8408\n",
      "n_estimators:  125\n",
      "warm_start:  True\n",
      "max_depth:  15\n",
      "min_samples_leaf:  10\n",
      "learning_rate:  0.4436663578697866\n",
      "# 1\n",
      "test_score: 0.8403\n",
      "n_estimators:  52\n",
      "warm_start:  True\n",
      "max_depth:  11\n",
      "min_samples_leaf:  13\n",
      "learning_rate:  0.40632894398697755\n",
      "# 2\n",
      "test_score: 0.8391\n",
      "n_estimators:  126\n",
      "warm_start:  True\n",
      "max_depth:  12\n",
      "min_samples_leaf:  43\n",
      "learning_rate:  0.36089728556841344\n"
     ]
    }
   ],
   "source": [
    "boosting_param_distribs = {\n",
    "                            'n_estimators': stats.randint(50, 250),\n",
    "                            'warm_start': [True, False],\n",
    "                            'max_depth': stats.randint(10, 20),\n",
    "                            'min_samples_leaf': stats.randint(10, 50),\n",
    "                            'learning_rate': stats.loguniform(3e-1, 0.5)\n",
    "                           }\n",
    "                          \n",
    "\n",
    "\n",
    "boosting_estimators = {\n",
    "    'gb': GradientBoostingClassifier(random_state=123),    \n",
    "}\n",
    "\n",
    "search_objs3 = {}\n",
    "\n",
    "for name, estimator in boosting_estimators.items():\n",
    "    rnd_search_cv = RandomizedSearchCV(estimator,\n",
    "                                       param_distributions=boosting_param_distribs,\n",
    "                                       scoring='accuracy', cv=5, n_iter=10, random_state=123,\n",
    "                                       return_train_score=True, verbose=2, n_jobs=-1)\n",
    "    rnd_search_cv.fit(clean_train_X, train_y)\n",
    "    search_objs3[name] = rnd_search_cv\n",
    "    \n",
    "    \n",
    "top_n = 3\n",
    "for name in boosting_estimators:\n",
    "    print(name, '-'*50)\n",
    "    cv_test_scores = search_objs3[name].cv_results_['mean_test_score']\n",
    "    top_results_idx = [*reversed(np.argsort(cv_test_scores))][:top_n]\n",
    "    for i, idx in enumerate(top_results_idx):\n",
    "        print(f'# {i}')\n",
    "        print('test_score: {:.4f}'.format(cv_test_scores[idx]))\n",
    "        for param in boosting_param_distribs:\n",
    "            param_samples = search_objs3[name].cv_results_[f'param_{param}']\n",
    "            print(f'{param}: ', param_samples[idx])  "
   ]
  },
  {
   "cell_type": "code",
   "execution_count": 44,
   "id": "88f0e541",
   "metadata": {},
   "outputs": [
    {
     "name": "stdout",
     "output_type": "stream",
     "text": [
      "{78: 0.06405921959324626, 82: 0.06265117100712955, 20: 0.06015278196260052, 34: 0.031775923439015925, 12: 0.031612966050894704, 74: 0.03146280478559542, 105: 0.026430652645852853, 47: 0.024914156466542516, 21: 0.02046136257660471, 64: 0.016111835435263264}\n"
     ]
    },
    {
     "data": {
      "image/png": "[encoded data removed]",
      "text/plain": [
       "<Figure size 1008x576 with 1 Axes>"
      ]
     },
     "metadata": {
      "needs_background": "light"
     },
     "output_type": "display_data"
    }
   ],
   "source": [
    "plt.figure(figsize=(14,8))\n",
    "plt.bar(range(117), search_objs_clean['xtrees'].best_estimator_.feature_importances_)\n",
    "plt.title('Feature importances: Best ExtraTreesClassifier');\n",
    "\n",
    "feature_importances = search_objs_clean['xtrees'].best_estimator_.feature_importances_\n",
    "indeces = [*reversed(np.argsort(feature_importances))][:10]\n",
    "print({index: feature_importances[index] for index in indeces})"
   ]
  },
  {
   "cell_type": "code",
   "execution_count": 46,
   "id": "8857e196",
   "metadata": {},
   "outputs": [
    {
     "name": "stdout",
     "output_type": "stream",
     "text": [
      "{78: 0.08400207064594693, 82: 0.06327116901279269, 20: 0.042356712749492834, 34: 0.03731075272437247, 12: 0.03255432437731213, 74: 0.031716773682852285, 105: 0.03051570169902398, 21: 0.023214603960308042, 47: 0.019521197835718727, 64: 0.01564164105636929}\n"
     ]
    },
    {
     "data": {
      "image/png": "[encoded data removed]",
      "text/plain": [
       "<Figure size 1008x576 with 1 Axes>"
      ]
     },
     "metadata": {
      "needs_background": "light"
     },
     "output_type": "display_data"
    }
   ],
   "source": [
    "plt.figure(figsize=(14,8))\n",
    "plt.bar(range(117), search_objs_clean['rf'].best_estimator_.feature_importances_)\n",
    "plt.title('Feature importances: Best RandomForestClassifier');\n",
    "\n",
    "feature_importances = search_objs_clean['rf'].best_estimator_.feature_importances_\n",
    "indeces = [*reversed(np.argsort(feature_importances))][:10]\n",
    "print({index: feature_importances[index] for index in indeces})"
   ]
  },
  {
   "cell_type": "code",
   "execution_count": 51,
   "id": "4869535b",
   "metadata": {},
   "outputs": [
    {
     "name": "stdout",
     "output_type": "stream",
     "text": [
      "{78: 0.19862932326481625, 85: 0.03302012274701906, 1: 0.023005461140150948, 108: 0.021550821023659524, 82: 0.021002959240950168, 93: 0.016981181959735164, 64: 0.01687540364149359, 55: 0.015515046324454242, 72: 0.015458850187837282, 58: 0.01437539275925133}\n"
     ]
    },
    {
     "data": {
      "image/png": "[encoded data removed]",
      "text/plain": [
       "<Figure size 1008x576 with 1 Axes>"
      ]
     },
     "metadata": {
      "needs_background": "light"
     },
     "output_type": "display_data"
    }
   ],
   "source": [
    "plt.figure(figsize=(14,8))\n",
    "plt.bar(range(117), search_objs3['gb'].best_estimator_.feature_importances_)\n",
    "plt.title('Feature importances: Best GradientBoostingClassifier');\n",
    "\n",
    "feature_importances = search_objs3['gb'].best_estimator_.feature_importances_\n",
    "indeces = [*reversed(np.argsort(feature_importances))][:10]\n",
    "print({index: feature_importances[index] for index in indeces})"
   ]
  },
  {
   "cell_type": "code",
   "execution_count": null,
   "id": "7fc4d7e9",
   "metadata": {},
   "outputs": [],
   "source": []
  }
 ],
 "metadata": {
  "kernelspec": {
   "display_name": "Python 3",
   "language": "python",
   "name": "python3"
  },
  "language_info": {
   "codemirror_mode": {
    "name": "ipython",
    "version": 3
   },
   "file_extension": ".py",
   "mimetype": "text/x-python",
   "name": "python",
   "nbconvert_exporter": "python",
   "pygments_lexer": "ipython3",
   "version": "3.9.2"
  }
 },
 "nbformat": 4,
 "nbformat_minor": 5
}
